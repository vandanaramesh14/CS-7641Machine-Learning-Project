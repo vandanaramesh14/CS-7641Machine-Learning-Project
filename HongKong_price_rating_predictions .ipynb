{
 "cells": [
  {
   "cell_type": "code",
   "execution_count": 36,
   "metadata": {},
   "outputs": [
    {
     "data": {
      "text/html": [
       "        <script type=\"text/javascript\">\n",
       "        window.PlotlyConfig = {MathJaxConfig: 'local'};\n",
       "        if (window.MathJax) {MathJax.Hub.Config({SVG: {font: \"STIX-Web\"}});}\n",
       "        if (typeof require !== 'undefined') {\n",
       "        require.undef(\"plotly\");\n",
       "        requirejs.config({\n",
       "            paths: {\n",
       "                'plotly': ['https://cdn.plot.ly/plotly-latest.min']\n",
       "            }\n",
       "        });\n",
       "        require(['plotly'], function(Plotly) {\n",
       "            window._Plotly = Plotly;\n",
       "        });\n",
       "        }\n",
       "        </script>\n",
       "        "
      ]
     },
     "metadata": {},
     "output_type": "display_data"
    }
   ],
   "source": [
    "import numpy as np # linear algebra\n",
    "import pandas as pd\n",
    "from pathlib import Path\n",
    "import matplotlib.pyplot as plt\n",
    "from sklearn import preprocessing\n",
    "import plotly as plotly\n",
    "import seaborn as sns\n",
    "%matplotlib inline\n",
    "from plotly import __version__\n",
    "import plotly.offline as py \n",
    "from plotly.offline import init_notebook_mode, plot\n",
    "init_notebook_mode(connected=True)\n",
    "from plotly import tools\n",
    "import plotly.graph_objs as go\n",
    "import plotly.express as px\n",
    "from sklearn.preprocessing import LabelEncoder,OneHotEncoder"
   ]
  },
  {
   "cell_type": "code",
   "execution_count": 37,
   "metadata": {},
   "outputs": [
    {
     "data": {
      "text/plain": [
       "7119"
      ]
     },
     "execution_count": 37,
     "metadata": {},
     "output_type": "execute_result"
    }
   ],
   "source": [
    "listings_df = pd.read_csv('./data/listings_cleaned_hongkong.csv')\n",
    "len(listings_df)"
   ]
  },
  {
   "cell_type": "code",
   "execution_count": 38,
   "metadata": {},
   "outputs": [
    {
     "data": {
      "text/plain": [
       "3509"
      ]
     },
     "execution_count": 38,
     "metadata": {},
     "output_type": "execute_result"
    }
   ],
   "source": [
    "sentfeatures_df = pd.read_csv('./data/hk_sentiment_features.csv')\n",
    "len(sentfeatures_df)"
   ]
  },
  {
   "cell_type": "code",
   "execution_count": 39,
   "metadata": {},
   "outputs": [
    {
     "data": {
      "text/html": [
       "<div>\n",
       "<style scoped>\n",
       "    .dataframe tbody tr th:only-of-type {\n",
       "        vertical-align: middle;\n",
       "    }\n",
       "\n",
       "    .dataframe tbody tr th {\n",
       "        vertical-align: top;\n",
       "    }\n",
       "\n",
       "    .dataframe thead th {\n",
       "        text-align: right;\n",
       "    }\n",
       "</style>\n",
       "<table border=\"1\" class=\"dataframe\">\n",
       "  <thead>\n",
       "    <tr style=\"text-align: right;\">\n",
       "      <th></th>\n",
       "      <th>listing_id</th>\n",
       "      <th>avg_sentiment_score</th>\n",
       "      <th>proportion_positive</th>\n",
       "      <th>id</th>\n",
       "      <th>name</th>\n",
       "      <th>description</th>\n",
       "      <th>neighborhood_overview</th>\n",
       "      <th>host_since</th>\n",
       "      <th>host_about</th>\n",
       "      <th>host_response_time</th>\n",
       "      <th>...</th>\n",
       "      <th>review_scores_cleanliness</th>\n",
       "      <th>review_scores_checkin</th>\n",
       "      <th>review_scores_communication</th>\n",
       "      <th>review_scores_location</th>\n",
       "      <th>review_scores_value</th>\n",
       "      <th>calculated_host_listings_count</th>\n",
       "      <th>calculated_host_listings_count_entire_homes</th>\n",
       "      <th>calculated_host_listings_count_private_rooms</th>\n",
       "      <th>calculated_host_listings_count_shared_rooms</th>\n",
       "      <th>reviews_per_month</th>\n",
       "    </tr>\n",
       "  </thead>\n",
       "  <tbody>\n",
       "    <tr>\n",
       "      <th>0</th>\n",
       "      <td>69074</td>\n",
       "      <td>0.907480</td>\n",
       "      <td>0.991870</td>\n",
       "      <td>69074</td>\n",
       "      <td>1140</td>\n",
       "      <td>768</td>\n",
       "      <td>2</td>\n",
       "      <td>3</td>\n",
       "      <td>610</td>\n",
       "      <td>3</td>\n",
       "      <td>...</td>\n",
       "      <td>9.0</td>\n",
       "      <td>10.0</td>\n",
       "      <td>10.0</td>\n",
       "      <td>10.0</td>\n",
       "      <td>9.0</td>\n",
       "      <td>1</td>\n",
       "      <td>1</td>\n",
       "      <td>0</td>\n",
       "      <td>0</td>\n",
       "      <td>1.13</td>\n",
       "    </tr>\n",
       "    <tr>\n",
       "      <th>1</th>\n",
       "      <td>75083</td>\n",
       "      <td>0.849066</td>\n",
       "      <td>0.967742</td>\n",
       "      <td>75083</td>\n",
       "      <td>4570</td>\n",
       "      <td>1938</td>\n",
       "      <td>0</td>\n",
       "      <td>6</td>\n",
       "      <td>571</td>\n",
       "      <td>3</td>\n",
       "      <td>...</td>\n",
       "      <td>9.0</td>\n",
       "      <td>9.0</td>\n",
       "      <td>9.0</td>\n",
       "      <td>10.0</td>\n",
       "      <td>9.0</td>\n",
       "      <td>13</td>\n",
       "      <td>9</td>\n",
       "      <td>4</td>\n",
       "      <td>0</td>\n",
       "      <td>1.95</td>\n",
       "    </tr>\n",
       "    <tr>\n",
       "      <th>2</th>\n",
       "      <td>103760</td>\n",
       "      <td>0.782564</td>\n",
       "      <td>0.944000</td>\n",
       "      <td>103760</td>\n",
       "      <td>1520</td>\n",
       "      <td>1935</td>\n",
       "      <td>0</td>\n",
       "      <td>6</td>\n",
       "      <td>571</td>\n",
       "      <td>3</td>\n",
       "      <td>...</td>\n",
       "      <td>9.0</td>\n",
       "      <td>10.0</td>\n",
       "      <td>10.0</td>\n",
       "      <td>10.0</td>\n",
       "      <td>9.0</td>\n",
       "      <td>13</td>\n",
       "      <td>9</td>\n",
       "      <td>4</td>\n",
       "      <td>0</td>\n",
       "      <td>2.39</td>\n",
       "    </tr>\n",
       "    <tr>\n",
       "      <th>3</th>\n",
       "      <td>104626</td>\n",
       "      <td>0.925592</td>\n",
       "      <td>1.000000</td>\n",
       "      <td>104626</td>\n",
       "      <td>2362</td>\n",
       "      <td>507</td>\n",
       "      <td>0</td>\n",
       "      <td>13</td>\n",
       "      <td>876</td>\n",
       "      <td>0</td>\n",
       "      <td>...</td>\n",
       "      <td>10.0</td>\n",
       "      <td>10.0</td>\n",
       "      <td>10.0</td>\n",
       "      <td>10.0</td>\n",
       "      <td>9.0</td>\n",
       "      <td>1</td>\n",
       "      <td>1</td>\n",
       "      <td>0</td>\n",
       "      <td>0</td>\n",
       "      <td>0.12</td>\n",
       "    </tr>\n",
       "    <tr>\n",
       "      <th>4</th>\n",
       "      <td>132773</td>\n",
       "      <td>0.841314</td>\n",
       "      <td>0.978378</td>\n",
       "      <td>132773</td>\n",
       "      <td>2420</td>\n",
       "      <td>2413</td>\n",
       "      <td>2</td>\n",
       "      <td>6</td>\n",
       "      <td>571</td>\n",
       "      <td>3</td>\n",
       "      <td>...</td>\n",
       "      <td>10.0</td>\n",
       "      <td>10.0</td>\n",
       "      <td>10.0</td>\n",
       "      <td>10.0</td>\n",
       "      <td>10.0</td>\n",
       "      <td>13</td>\n",
       "      <td>9</td>\n",
       "      <td>4</td>\n",
       "      <td>0</td>\n",
       "      <td>3.14</td>\n",
       "    </tr>\n",
       "    <tr>\n",
       "      <th>...</th>\n",
       "      <td>...</td>\n",
       "      <td>...</td>\n",
       "      <td>...</td>\n",
       "      <td>...</td>\n",
       "      <td>...</td>\n",
       "      <td>...</td>\n",
       "      <td>...</td>\n",
       "      <td>...</td>\n",
       "      <td>...</td>\n",
       "      <td>...</td>\n",
       "      <td>...</td>\n",
       "      <td>...</td>\n",
       "      <td>...</td>\n",
       "      <td>...</td>\n",
       "      <td>...</td>\n",
       "      <td>...</td>\n",
       "      <td>...</td>\n",
       "      <td>...</td>\n",
       "      <td>...</td>\n",
       "      <td>...</td>\n",
       "      <td>...</td>\n",
       "    </tr>\n",
       "    <tr>\n",
       "      <th>3454</th>\n",
       "      <td>45611813</td>\n",
       "      <td>0.726900</td>\n",
       "      <td>1.000000</td>\n",
       "      <td>45611813</td>\n",
       "      <td>4040</td>\n",
       "      <td>2594</td>\n",
       "      <td>0</td>\n",
       "      <td>1448</td>\n",
       "      <td>331</td>\n",
       "      <td>4</td>\n",
       "      <td>...</td>\n",
       "      <td>8.0</td>\n",
       "      <td>8.0</td>\n",
       "      <td>8.0</td>\n",
       "      <td>6.0</td>\n",
       "      <td>8.0</td>\n",
       "      <td>1</td>\n",
       "      <td>0</td>\n",
       "      <td>1</td>\n",
       "      <td>0</td>\n",
       "      <td>1.00</td>\n",
       "    </tr>\n",
       "    <tr>\n",
       "      <th>3455</th>\n",
       "      <td>45708252</td>\n",
       "      <td>0.641900</td>\n",
       "      <td>1.000000</td>\n",
       "      <td>45708252</td>\n",
       "      <td>3854</td>\n",
       "      <td>613</td>\n",
       "      <td>0</td>\n",
       "      <td>1449</td>\n",
       "      <td>890</td>\n",
       "      <td>4</td>\n",
       "      <td>...</td>\n",
       "      <td>5.0</td>\n",
       "      <td>9.0</td>\n",
       "      <td>9.0</td>\n",
       "      <td>9.0</td>\n",
       "      <td>6.0</td>\n",
       "      <td>1</td>\n",
       "      <td>1</td>\n",
       "      <td>0</td>\n",
       "      <td>0</td>\n",
       "      <td>3.00</td>\n",
       "    </tr>\n",
       "    <tr>\n",
       "      <th>3456</th>\n",
       "      <td>45833468</td>\n",
       "      <td>0.917533</td>\n",
       "      <td>1.000000</td>\n",
       "      <td>45833468</td>\n",
       "      <td>4073</td>\n",
       "      <td>2602</td>\n",
       "      <td>1</td>\n",
       "      <td>1452</td>\n",
       "      <td>890</td>\n",
       "      <td>4</td>\n",
       "      <td>...</td>\n",
       "      <td>9.0</td>\n",
       "      <td>10.0</td>\n",
       "      <td>10.0</td>\n",
       "      <td>10.0</td>\n",
       "      <td>9.0</td>\n",
       "      <td>1</td>\n",
       "      <td>1</td>\n",
       "      <td>0</td>\n",
       "      <td>0</td>\n",
       "      <td>3.00</td>\n",
       "    </tr>\n",
       "    <tr>\n",
       "      <th>3457</th>\n",
       "      <td>45839165</td>\n",
       "      <td>0.930700</td>\n",
       "      <td>1.000000</td>\n",
       "      <td>45839165</td>\n",
       "      <td>4815</td>\n",
       "      <td>3550</td>\n",
       "      <td>0</td>\n",
       "      <td>561</td>\n",
       "      <td>340</td>\n",
       "      <td>4</td>\n",
       "      <td>...</td>\n",
       "      <td>10.0</td>\n",
       "      <td>10.0</td>\n",
       "      <td>10.0</td>\n",
       "      <td>9.0</td>\n",
       "      <td>9.0</td>\n",
       "      <td>1</td>\n",
       "      <td>1</td>\n",
       "      <td>0</td>\n",
       "      <td>0</td>\n",
       "      <td>6.00</td>\n",
       "    </tr>\n",
       "    <tr>\n",
       "      <th>3458</th>\n",
       "      <td>45942492</td>\n",
       "      <td>0.771700</td>\n",
       "      <td>1.000000</td>\n",
       "      <td>45942492</td>\n",
       "      <td>544</td>\n",
       "      <td>1731</td>\n",
       "      <td>0</td>\n",
       "      <td>914</td>\n",
       "      <td>746</td>\n",
       "      <td>4</td>\n",
       "      <td>...</td>\n",
       "      <td>10.0</td>\n",
       "      <td>10.0</td>\n",
       "      <td>10.0</td>\n",
       "      <td>10.0</td>\n",
       "      <td>10.0</td>\n",
       "      <td>1</td>\n",
       "      <td>1</td>\n",
       "      <td>0</td>\n",
       "      <td>0</td>\n",
       "      <td>1.00</td>\n",
       "    </tr>\n",
       "  </tbody>\n",
       "</table>\n",
       "<p>3459 rows × 50 columns</p>\n",
       "</div>"
      ],
      "text/plain": [
       "      listing_id  avg_sentiment_score  proportion_positive        id  name  \\\n",
       "0          69074             0.907480             0.991870     69074  1140   \n",
       "1          75083             0.849066             0.967742     75083  4570   \n",
       "2         103760             0.782564             0.944000    103760  1520   \n",
       "3         104626             0.925592             1.000000    104626  2362   \n",
       "4         132773             0.841314             0.978378    132773  2420   \n",
       "...          ...                  ...                  ...       ...   ...   \n",
       "3454    45611813             0.726900             1.000000  45611813  4040   \n",
       "3455    45708252             0.641900             1.000000  45708252  3854   \n",
       "3456    45833468             0.917533             1.000000  45833468  4073   \n",
       "3457    45839165             0.930700             1.000000  45839165  4815   \n",
       "3458    45942492             0.771700             1.000000  45942492   544   \n",
       "\n",
       "      description  neighborhood_overview  host_since  host_about  \\\n",
       "0             768                      2           3         610   \n",
       "1            1938                      0           6         571   \n",
       "2            1935                      0           6         571   \n",
       "3             507                      0          13         876   \n",
       "4            2413                      2           6         571   \n",
       "...           ...                    ...         ...         ...   \n",
       "3454         2594                      0        1448         331   \n",
       "3455          613                      0        1449         890   \n",
       "3456         2602                      1        1452         890   \n",
       "3457         3550                      0         561         340   \n",
       "3458         1731                      0         914         746   \n",
       "\n",
       "      host_response_time  ...  review_scores_cleanliness  \\\n",
       "0                      3  ...                        9.0   \n",
       "1                      3  ...                        9.0   \n",
       "2                      3  ...                        9.0   \n",
       "3                      0  ...                       10.0   \n",
       "4                      3  ...                       10.0   \n",
       "...                  ...  ...                        ...   \n",
       "3454                   4  ...                        8.0   \n",
       "3455                   4  ...                        5.0   \n",
       "3456                   4  ...                        9.0   \n",
       "3457                   4  ...                       10.0   \n",
       "3458                   4  ...                       10.0   \n",
       "\n",
       "      review_scores_checkin  review_scores_communication  \\\n",
       "0                      10.0                         10.0   \n",
       "1                       9.0                          9.0   \n",
       "2                      10.0                         10.0   \n",
       "3                      10.0                         10.0   \n",
       "4                      10.0                         10.0   \n",
       "...                     ...                          ...   \n",
       "3454                    8.0                          8.0   \n",
       "3455                    9.0                          9.0   \n",
       "3456                   10.0                         10.0   \n",
       "3457                   10.0                         10.0   \n",
       "3458                   10.0                         10.0   \n",
       "\n",
       "      review_scores_location  review_scores_value  \\\n",
       "0                       10.0                  9.0   \n",
       "1                       10.0                  9.0   \n",
       "2                       10.0                  9.0   \n",
       "3                       10.0                  9.0   \n",
       "4                       10.0                 10.0   \n",
       "...                      ...                  ...   \n",
       "3454                     6.0                  8.0   \n",
       "3455                     9.0                  6.0   \n",
       "3456                    10.0                  9.0   \n",
       "3457                     9.0                  9.0   \n",
       "3458                    10.0                 10.0   \n",
       "\n",
       "      calculated_host_listings_count  \\\n",
       "0                                  1   \n",
       "1                                 13   \n",
       "2                                 13   \n",
       "3                                  1   \n",
       "4                                 13   \n",
       "...                              ...   \n",
       "3454                               1   \n",
       "3455                               1   \n",
       "3456                               1   \n",
       "3457                               1   \n",
       "3458                               1   \n",
       "\n",
       "      calculated_host_listings_count_entire_homes  \\\n",
       "0                                               1   \n",
       "1                                               9   \n",
       "2                                               9   \n",
       "3                                               1   \n",
       "4                                               9   \n",
       "...                                           ...   \n",
       "3454                                            0   \n",
       "3455                                            1   \n",
       "3456                                            1   \n",
       "3457                                            1   \n",
       "3458                                            1   \n",
       "\n",
       "      calculated_host_listings_count_private_rooms  \\\n",
       "0                                                0   \n",
       "1                                                4   \n",
       "2                                                4   \n",
       "3                                                0   \n",
       "4                                                4   \n",
       "...                                            ...   \n",
       "3454                                             1   \n",
       "3455                                             0   \n",
       "3456                                             0   \n",
       "3457                                             0   \n",
       "3458                                             0   \n",
       "\n",
       "      calculated_host_listings_count_shared_rooms  reviews_per_month  \n",
       "0                                               0               1.13  \n",
       "1                                               0               1.95  \n",
       "2                                               0               2.39  \n",
       "3                                               0               0.12  \n",
       "4                                               0               3.14  \n",
       "...                                           ...                ...  \n",
       "3454                                            0               1.00  \n",
       "3455                                            0               3.00  \n",
       "3456                                            0               3.00  \n",
       "3457                                            0               6.00  \n",
       "3458                                            0               1.00  \n",
       "\n",
       "[3459 rows x 50 columns]"
      ]
     },
     "execution_count": 39,
     "metadata": {},
     "output_type": "execute_result"
    }
   ],
   "source": [
    "result = sentfeatures_df.merge(listings_df, how=\"inner\", left_on=['listing_id'],right_on=['id'])\n",
    "result"
   ]
  },
  {
   "cell_type": "code",
   "execution_count": 40,
   "metadata": {},
   "outputs": [
    {
     "data": {
      "text/plain": [
       "listing_id                                        int64\n",
       "avg_sentiment_score                             float64\n",
       "proportion_positive                             float64\n",
       "id                                                int64\n",
       "name                                              int64\n",
       "description                                       int64\n",
       "neighborhood_overview                             int64\n",
       "host_since                                        int64\n",
       "host_about                                        int64\n",
       "host_response_time                                int64\n",
       "host_response_rate                                int64\n",
       "host_acceptance_rate                              int64\n",
       "host_neighbourhood                                int64\n",
       "host_listings_count                             float64\n",
       "host_total_listings_count                       float64\n",
       "host_identity_verified                            int64\n",
       "neighborhood                                      int64\n",
       "neighborhood_group                                int64\n",
       "latitude                                        float64\n",
       "longitude                                       float64\n",
       "property_type                                     int64\n",
       "room_type                                         int64\n",
       "accommodates                                      int64\n",
       "bathrooms_text                                  float64\n",
       "bedrooms                                        float64\n",
       "beds                                            float64\n",
       "amenities                                         int64\n",
       "price                                           float64\n",
       "minimum_nights                                    int64\n",
       "maximum_nights                                    int64\n",
       "has_availability                                  int64\n",
       "availability_30                                   int64\n",
       "availability_60                                   int64\n",
       "availability_90                                   int64\n",
       "availability_365                                  int64\n",
       "number_of_reviews                                 int64\n",
       "number_of_reviews_ltm                             int64\n",
       "number_of_reviews_l30d                            int64\n",
       "review_scores_rating                            float64\n",
       "review_scores_accuracy                          float64\n",
       "review_scores_cleanliness                       float64\n",
       "review_scores_checkin                           float64\n",
       "review_scores_communication                     float64\n",
       "review_scores_location                          float64\n",
       "review_scores_value                             float64\n",
       "calculated_host_listings_count                    int64\n",
       "calculated_host_listings_count_entire_homes       int64\n",
       "calculated_host_listings_count_private_rooms      int64\n",
       "calculated_host_listings_count_shared_rooms       int64\n",
       "reviews_per_month                               float64\n",
       "dtype: object"
      ]
     },
     "execution_count": 40,
     "metadata": {},
     "output_type": "execute_result"
    }
   ],
   "source": [
    "result.dtypes"
   ]
  },
  {
   "cell_type": "code",
   "execution_count": 41,
   "metadata": {},
   "outputs": [],
   "source": [
    "result=result.dropna()"
   ]
  },
  {
   "cell_type": "code",
   "execution_count": null,
   "metadata": {},
   "outputs": [],
   "source": []
  },
  {
   "cell_type": "code",
   "execution_count": 42,
   "metadata": {},
   "outputs": [],
   "source": [
    "X = result.drop(['price'],axis = 1)\n",
    "y = result['price']"
   ]
  },
  {
   "cell_type": "code",
   "execution_count": 43,
   "metadata": {},
   "outputs": [],
   "source": [
    "from sklearn.model_selection import train_test_split\n",
    "X_train, X_test, y_train, y_test = train_test_split(X, y, test_size=0.2, random_state=101)"
   ]
  },
  {
   "cell_type": "code",
   "execution_count": 44,
   "metadata": {},
   "outputs": [],
   "source": [
    "#gradient boost for predicting score\n",
    "from sklearn.ensemble import GradientBoostingRegressor\n",
    "GBoost = GradientBoostingRegressor(n_estimators=3000, learning_rate=0.01)\n",
    "GBoost.fit(X_train,y_train)\n",
    "predictions = GBoost.predict(X_test)\n"
   ]
  },
  {
   "cell_type": "code",
   "execution_count": 45,
   "metadata": {
    "scrolled": true
   },
   "outputs": [
    {
     "name": "stdout",
     "output_type": "stream",
     "text": [
      "MAE: 195.54671561635178\n",
      "MSE: 144416.37543533466\n",
      "RMSE: 380.0215460146104\n"
     ]
    }
   ],
   "source": [
    "from sklearn import metrics\n",
    "from sklearn.metrics import r2_score\n",
    "from sklearn.metrics import mean_absolute_error\n",
    "print('MAE:', metrics.mean_absolute_error(y_test, predictions))\n",
    "print('MSE:', metrics.mean_squared_error(y_test, predictions))\n",
    "print('RMSE:', np.sqrt(metrics.mean_squared_error(y_test, predictions)))"
   ]
  },
  {
   "cell_type": "code",
   "execution_count": 46,
   "metadata": {},
   "outputs": [
    {
     "data": {
      "text/html": [
       "<div>\n",
       "<style scoped>\n",
       "    .dataframe tbody tr th:only-of-type {\n",
       "        vertical-align: middle;\n",
       "    }\n",
       "\n",
       "    .dataframe tbody tr th {\n",
       "        vertical-align: top;\n",
       "    }\n",
       "\n",
       "    .dataframe thead th {\n",
       "        text-align: right;\n",
       "    }\n",
       "</style>\n",
       "<table border=\"1\" class=\"dataframe\">\n",
       "  <thead>\n",
       "    <tr style=\"text-align: right;\">\n",
       "      <th></th>\n",
       "      <th>Actual Values</th>\n",
       "      <th>Predicted Values</th>\n",
       "    </tr>\n",
       "  </thead>\n",
       "  <tbody>\n",
       "    <tr>\n",
       "      <th>0</th>\n",
       "      <td>125.0</td>\n",
       "      <td>231.558213</td>\n",
       "    </tr>\n",
       "    <tr>\n",
       "      <th>1</th>\n",
       "      <td>350.0</td>\n",
       "      <td>382.834823</td>\n",
       "    </tr>\n",
       "    <tr>\n",
       "      <th>2</th>\n",
       "      <td>1379.0</td>\n",
       "      <td>1167.788466</td>\n",
       "    </tr>\n",
       "    <tr>\n",
       "      <th>3</th>\n",
       "      <td>250.0</td>\n",
       "      <td>572.824999</td>\n",
       "    </tr>\n",
       "    <tr>\n",
       "      <th>4</th>\n",
       "      <td>500.0</td>\n",
       "      <td>795.154755</td>\n",
       "    </tr>\n",
       "    <tr>\n",
       "      <th>5</th>\n",
       "      <td>400.0</td>\n",
       "      <td>431.876287</td>\n",
       "    </tr>\n",
       "    <tr>\n",
       "      <th>6</th>\n",
       "      <td>160.0</td>\n",
       "      <td>140.244685</td>\n",
       "    </tr>\n",
       "    <tr>\n",
       "      <th>7</th>\n",
       "      <td>200.0</td>\n",
       "      <td>703.545717</td>\n",
       "    </tr>\n",
       "    <tr>\n",
       "      <th>8</th>\n",
       "      <td>294.0</td>\n",
       "      <td>285.795162</td>\n",
       "    </tr>\n",
       "    <tr>\n",
       "      <th>9</th>\n",
       "      <td>438.0</td>\n",
       "      <td>415.936386</td>\n",
       "    </tr>\n",
       "    <tr>\n",
       "      <th>10</th>\n",
       "      <td>679.0</td>\n",
       "      <td>430.202668</td>\n",
       "    </tr>\n",
       "    <tr>\n",
       "      <th>11</th>\n",
       "      <td>228.0</td>\n",
       "      <td>181.452800</td>\n",
       "    </tr>\n",
       "    <tr>\n",
       "      <th>12</th>\n",
       "      <td>899.0</td>\n",
       "      <td>529.480703</td>\n",
       "    </tr>\n",
       "    <tr>\n",
       "      <th>13</th>\n",
       "      <td>600.0</td>\n",
       "      <td>402.979588</td>\n",
       "    </tr>\n",
       "    <tr>\n",
       "      <th>14</th>\n",
       "      <td>250.0</td>\n",
       "      <td>435.946997</td>\n",
       "    </tr>\n",
       "    <tr>\n",
       "      <th>15</th>\n",
       "      <td>930.0</td>\n",
       "      <td>1044.017441</td>\n",
       "    </tr>\n",
       "    <tr>\n",
       "      <th>16</th>\n",
       "      <td>686.0</td>\n",
       "      <td>1044.441137</td>\n",
       "    </tr>\n",
       "    <tr>\n",
       "      <th>17</th>\n",
       "      <td>333.0</td>\n",
       "      <td>399.800671</td>\n",
       "    </tr>\n",
       "    <tr>\n",
       "      <th>18</th>\n",
       "      <td>997.0</td>\n",
       "      <td>754.623053</td>\n",
       "    </tr>\n",
       "    <tr>\n",
       "      <th>19</th>\n",
       "      <td>3000.0</td>\n",
       "      <td>727.683709</td>\n",
       "    </tr>\n",
       "  </tbody>\n",
       "</table>\n",
       "</div>"
      ],
      "text/plain": [
       "    Actual Values  Predicted Values\n",
       "0           125.0        231.558213\n",
       "1           350.0        382.834823\n",
       "2          1379.0       1167.788466\n",
       "3           250.0        572.824999\n",
       "4           500.0        795.154755\n",
       "5           400.0        431.876287\n",
       "6           160.0        140.244685\n",
       "7           200.0        703.545717\n",
       "8           294.0        285.795162\n",
       "9           438.0        415.936386\n",
       "10          679.0        430.202668\n",
       "11          228.0        181.452800\n",
       "12          899.0        529.480703\n",
       "13          600.0        402.979588\n",
       "14          250.0        435.946997\n",
       "15          930.0       1044.017441\n",
       "16          686.0       1044.441137\n",
       "17          333.0        399.800671\n",
       "18          997.0        754.623053\n",
       "19         3000.0        727.683709"
      ]
     },
     "execution_count": 46,
     "metadata": {},
     "output_type": "execute_result"
    }
   ],
   "source": [
    "error_diff = pd.DataFrame({'Actual Values': np.array(y_test).flatten(), 'Predicted Values': predictions.flatten()})\n",
    "error_diff1 = error_diff.head(20)\n",
    "error_diff1"
   ]
  },
  {
   "cell_type": "code",
   "execution_count": 47,
   "metadata": {
    "scrolled": false
   },
   "outputs": [
    {
     "data": {
      "application/vnd.plotly.v1+json": {
       "config": {
        "plotlyServerURL": "https://plot.ly"
       },
       "data": [
        {
         "name": "Predicted",
         "type": "bar",
         "x": [
          0,
          1,
          2,
          3,
          4,
          5,
          6,
          7,
          8,
          9,
          10,
          11,
          12,
          13,
          14,
          15,
          16,
          17,
          18,
          19
         ],
         "y": [
          231.55821262284027,
          382.83482264496166,
          1167.7884656457954,
          572.8249990712612,
          795.1547551681944,
          431.8762873128725,
          140.24468497976633,
          703.5457169609831,
          285.79516223658953,
          415.93638575013983,
          430.20266823427846,
          181.45279973602123,
          529.480702828969,
          402.9795875450982,
          435.9469969798511,
          1044.0174413827508,
          1044.4411365135056,
          399.8006708725284,
          754.6230533688773,
          727.6837091872269,
          222.12078171502725,
          466.6896359702633,
          129.55326002782687,
          503.38522584765184,
          740.5263455134464,
          312.1142683643005,
          589.7972166295604,
          805.4660159540524,
          523.5461272754875,
          81.2815331875559,
          389.94298383166216,
          505.1440558441388,
          180.38033458065982,
          962.2178707892181,
          301.2514099558678,
          422.6524762177752,
          1807.4661732956852,
          138.35318399029862,
          475.21890779767574,
          494.2785469901224,
          879.7802901846284,
          261.9439468116783,
          180.27013303372874,
          398.6156406833076,
          577.3647192569838,
          890.3745568109879,
          535.3479690983537,
          761.0944323796759,
          387.42811221728107,
          615.1799393586232,
          311.47993850167603,
          1064.7336805548707,
          307.0887272089191,
          282.161732266824,
          801.2040226501647,
          912.9261489172299,
          260.08764333561925,
          887.6269006275015,
          1582.412781289399,
          408.1185837907627,
          1273.3395634600802,
          275.84600063398057,
          615.4349917299996,
          389.8089655125377,
          1866.1115152246323,
          585.9261163215343,
          1472.3240618639516,
          1232.8551745153673,
          808.8674555747349,
          387.6038983610016,
          599.4773509717817,
          270.95995797616297,
          1087.929250895262,
          351.2009266207978,
          1595.0483125408825,
          1045.505827461065,
          393.10829442398,
          335.6326225660946,
          1349.9894835229954,
          377.7502332050069,
          257.69338762671816,
          1443.3401442736922,
          1330.7073105527481,
          976.0627372108888,
          2422.602490279513,
          617.4406501316349,
          976.8577010344718,
          520.0597662145364,
          766.2249274548582,
          335.88830149644514,
          1503.8150359885735,
          545.6428042195625,
          996.1898694620255,
          505.1852391437221,
          79.10806379414221,
          481.17971571502926,
          783.1536507851813,
          1541.8988680374805,
          987.8716491521261,
          692.5876231096414,
          104.35165933272633,
          803.6659257969773,
          661.2888016894852,
          1314.8343892697367,
          503.29398950557106,
          336.04209468842976,
          302.344507622323,
          294.34019556235245,
          311.6481991987291,
          811.1802635959226,
          1025.5514607283826,
          426.82656614326044,
          538.5726363486125,
          238.1996233747931,
          698.1608188592649,
          487.51197130426027,
          565.7955943913748,
          2718.358389601114,
          290.53146592449235,
          1314.6360585859709,
          865.0669265182551,
          320.0947237043993,
          518.2333936660597,
          278.7431331328306,
          257.7333619681798,
          1502.7550712662644,
          1544.6294118194874,
          305.41557906755406,
          1099.4434140248088,
          1108.4335671678837,
          1291.7292160443985,
          574.3209571623953,
          792.003396013692,
          477.29369400299026,
          312.0535517182131,
          313.6003899314561,
          339.36057238556157,
          304.2744303012423,
          272.54532155645677,
          1309.465401752524,
          850.1124151090321,
          486.3596564025055,
          556.8164912803392,
          486.623793404813,
          870.2697437976595,
          1303.5043647342468,
          227.85317065468482,
          288.1780719959056,
          1368.6270085970057,
          123.30854278101998,
          287.57098974892193,
          654.3898708899732,
          458.91634775241494,
          421.9143016185992,
          710.9005282937112,
          382.20330720817316,
          161.89590986091875,
          470.02223529298846,
          1033.3689163884394,
          716.0366122976,
          449.8128759063793,
          1180.8186803473682,
          352.93952466965385,
          903.2341999132889,
          1169.1111188207476,
          223.66365131436692,
          451.7298767424483,
          730.3319517141529,
          223.36097433217952,
          868.9653799849721,
          354.5902902886806,
          1773.5759557997276,
          595.4173120021534,
          356.47716922911707,
          243.47534074824117,
          625.3032658495225,
          837.0494196134067,
          182.7886366512112,
          484.60991496278524,
          630.5408717923707,
          579.956712397539,
          105.3064949567706,
          866.2851046623518,
          373.9405023814878,
          394.3173377889973,
          1121.2359589003986,
          1072.4907107980805,
          388.1045013039603,
          378.6369837946497,
          247.9119162155364,
          444.2053179971614,
          407.87116117165897,
          220.15040361633018,
          1361.129646192228,
          419.240701749302,
          156.19156026320684,
          314.4889269908885,
          206.9186418602318,
          600.5770635204311,
          756.7456862541934,
          1021.5059326598326,
          774.5752860941463,
          53.40280540036037,
          137.8251929922716,
          314.7825624254248,
          261.89078402844393,
          184.13106159211844,
          193.47894033770874,
          3167.2977791768317,
          1236.636094344215,
          422.9044839098906,
          414.6928278389133,
          1488.8502096099276,
          1659.0686394553563,
          353.51346893101265,
          90.57509722130932,
          565.6585708973189,
          456.6291203240698,
          387.4583761913015,
          456.5375717984606,
          638.7907906839166,
          255.46359994744307,
          438.28756559549527,
          240.88223647320618,
          582.0768750501577,
          454.64220740480135,
          1422.25525607015,
          482.70707266059304,
          191.4076360240621,
          414.7939306364766,
          462.4636832661156,
          516.4466173839946,
          1076.3003329306543,
          1535.533816878083,
          174.16345921754117,
          333.1446805744925,
          851.5424075644564,
          173.21507481140827,
          613.4109531278787,
          790.1099897419258,
          272.54861219385174,
          1302.5817920351883,
          373.21878131877,
          708.464788077789,
          1061.3223356566607,
          1028.5971427815484,
          409.98209005669486,
          1181.2294554369155,
          352.2395443657144,
          300.96173267149385,
          1969.0934736946433,
          199.97675116229647,
          1550.4476643443031,
          3477.050585068387,
          396.3202226964442,
          231.45975679794026,
          445.96617174399313,
          600.1420904470675,
          990.8307077220377,
          1828.9828656837017,
          580.901914310934,
          380.7946312998006,
          958.6529101796152,
          380.376841114363,
          441.8679554869611,
          444.2404519076497,
          507.02430819905095,
          221.49669560804554,
          806.4647319442311,
          498.0233654088754,
          259.84038110521254,
          689.1772460221245,
          309.58640637623887,
          498.5894149578451,
          509.8752544800279,
          518.9319992499009,
          1242.0446175029624,
          1424.8541171326708,
          360.59728943446896,
          392.48653265329955,
          484.15203332619006,
          849.3834430076507,
          376.39190323291695,
          1222.33143300118,
          1371.7097589667264,
          281.66668270079447,
          647.1952173395329,
          713.5766113539121,
          105.67539949921336,
          1377.1932347489412,
          974.5671649590691,
          543.1133757502612,
          1169.4732328147313,
          306.3118761848355,
          330.83414215269175,
          205.2052110834412,
          411.9030204164492,
          791.9216292845845,
          671.859419752382,
          505.72858781191167,
          394.72294705906074,
          432.6253866166961,
          263.04473099657315,
          659.5781393460165,
          343.60763219125073,
          324.6137264485241,
          346.6555025842117,
          547.4372147160609,
          336.6084959416963,
          345.62675775047444,
          108.02472090094436,
          273.98648195196625,
          488.9625752063559,
          456.98444656017074,
          1569.0091342319006,
          414.6898045910195,
          306.27474088001105,
          426.148080790463,
          406.3600516289202,
          335.3338394655271,
          466.6301515228377,
          244.27644732244727,
          440.57734106357753,
          473.90736045671525,
          382.04473187951623,
          685.4028281766343,
          696.8298549584105,
          531.5947898107689,
          171.1640943006681,
          563.0973184651696,
          213.20766425189734,
          433.87796995003623,
          215.93737689141238,
          591.3777325289794,
          213.729079507675,
          247.358147681523,
          363.7756862388006,
          264.81668125732114,
          515.0771956740971,
          934.2167141901492,
          283.0278673223862,
          376.6513986383224,
          171.42746461624986,
          163.51579788288134,
          119.0030692256748,
          337.0892333531164,
          281.49793762548757,
          480.0230409740861,
          377.3388582629216,
          571.1714048373753,
          358.60862831375454,
          530.9744863132614,
          660.7471719619025,
          612.0140023311142,
          172.3925870103381,
          266.1314276457822,
          222.53046502478085,
          1128.812375016067,
          447.6398132946761,
          262.3837258521174,
          1252.2032793534597,
          265.52529750650575,
          336.65228734792777,
          723.4910984035301,
          389.2683621396044,
          303.65642298229193,
          277.5340884808085,
          279.46020449270304,
          236.04881750098266,
          563.7514712640102,
          369.6561850682824,
          537.3162901712137,
          399.489014695774,
          900.1535051349047,
          258.83169992253545,
          335.84046033038254,
          731.0254625191616,
          540.0373029746772,
          364.53842269393664,
          385.57003207279575,
          719.7381311321024,
          69.85812348140347,
          477.6396169965468,
          734.3746946903375,
          265.29575698373094,
          108.59934082500465,
          270.26005541726727,
          826.6260845928629,
          244.70079546912717,
          420.27081469619856,
          1493.0595476904357,
          2250.9650397556366,
          316.7549201655857,
          286.2910740895597,
          442.43972066818753,
          293.9913064424324,
          1333.6057522474564,
          923.8012001244915,
          95.22788161228102,
          313.14338368925405,
          871.7230878659076,
          468.79320068232795,
          609.6825558800164,
          155.80046044659824,
          821.4241232422401,
          414.5441078541346,
          369.2578863838938,
          310.3490336069654,
          295.5526618283889,
          462.7199605335181,
          475.8271336701573,
          879.9808937569568,
          940.3675877524793,
          367.01602933322016,
          412.8390399124411,
          386.5179169254277,
          369.6388190028634,
          1155.3264966857087,
          467.56104876762095,
          423.7097942770154,
          466.95791466164326,
          391.84147821697036,
          191.12425386236586,
          232.10042635049243,
          516.9222278441387,
          854.8872902004861,
          1044.5220511854257,
          1614.1888072333538,
          247.6293731736557,
          336.3596164276398,
          1349.8857867537554,
          736.1120110952926,
          559.4206568842837,
          203.04998803562913,
          517.7005051670037,
          294.98163109171475,
          356.39452684068544,
          710.6560530631197,
          1224.0804403300417,
          885.4813852381201,
          433.9578903723316,
          281.9308576764075,
          539.1248105224053,
          289.3081177700911,
          1150.688515013278,
          601.189431220454,
          380.6748030400247,
          749.4426425106025,
          1308.1377901240521,
          1682.3358579496162,
          202.34973021607502,
          3000.7083705691953,
          666.4128571022458,
          606.0832414255511,
          329.79851310879104,
          213.54950393215975,
          498.01023013727576,
          515.6753013328104,
          1267.1374737447509,
          570.7121467995212,
          684.5217091150632,
          474.3701682733486,
          575.1035728942234,
          777.2044545097357,
          785.9504184524204,
          364.55599324428965,
          504.0286237739722,
          492.71922114645906,
          341.45667861409675,
          460.4909761483595,
          326.7777982709826,
          454.6077455663236,
          780.9314553371365,
          1051.1808929308104,
          433.22554888179684,
          628.2826436769794,
          1002.8657286020539,
          937.716432914935,
          930.9131533236684,
          479.4139869385349,
          1255.1576813928332,
          347.0122907133992,
          271.89515147575383,
          419.17958108551244,
          342.4235556803655,
          796.0839942781299,
          436.3545393561467,
          439.41906142525096,
          640.4170065011708,
          214.08150773978366,
          391.09307728311046,
          199.4195314698634,
          441.8203959243758,
          257.08809100249977,
          1594.4846301503067,
          466.89304471906433,
          313.27998804904985,
          291.3718038606953,
          213.76903876013884,
          1050.3294318705023,
          225.8606205037907,
          436.38227006973676,
          629.196940806954,
          757.6714714808812,
          176.58545122427228,
          22.2612157698253,
          256.02422732147,
          223.84304045350288,
          482.4991729677936,
          1612.9713035968223,
          927.3284905995829,
          1624.5812161919887,
          571.6276482331987,
          496.72022454766903,
          310.30378126138106,
          109.3022092859576,
          666.1151817643498,
          339.8871426138318,
          1388.268827435861,
          282.9545869424,
          140.3199637054268,
          1423.2050043822742,
          1171.2621590322997,
          470.8913061771696,
          576.3683401135642,
          369.7674049155082,
          525.7736635659397,
          1988.1185557495392,
          1172.067179806748,
          567.5570366381261,
          1184.5423025600976,
          517.6335131079466,
          1317.7273917970197,
          1914.3356141407235,
          463.0484339106594,
          341.03760288064416,
          513.0609840348332,
          2266.9536253346237,
          810.2431606660758,
          1145.0942585134137,
          2353.7481640039214,
          308.25362342143177,
          511.06646846531595,
          790.6804447951121,
          305.35486935563574,
          523.3838318709165,
          562.2113158411537,
          562.3126796554268,
          532.31562441556,
          314.6554932058353,
          467.4859391801516,
          490.4650572007064,
          1460.3491231222222,
          78.94597798179984,
          705.5050457055286,
          462.5090435519472,
          370.1113241650173
         ]
        },
        {
         "name": "Actual",
         "type": "bar",
         "x": [
          0,
          1,
          2,
          3,
          4,
          5,
          6,
          7,
          8,
          9,
          10,
          11,
          12,
          13,
          14,
          15,
          16,
          17,
          18,
          19
         ],
         "y": [
          125,
          350,
          1379,
          250,
          500,
          400,
          160,
          200,
          294,
          438,
          679,
          228,
          899,
          600,
          250,
          930,
          686,
          333,
          997,
          3000,
          180,
          464,
          104,
          564,
          830,
          219,
          280,
          600,
          450,
          230,
          450,
          150,
          115,
          1157,
          328,
          344,
          2800,
          198,
          609,
          800,
          800,
          159,
          115,
          300,
          514,
          1500,
          529,
          1600,
          252,
          680,
          300,
          688,
          171,
          349,
          690,
          1008,
          177,
          1450,
          1195,
          480,
          1000,
          310,
          331,
          298,
          2857,
          1900,
          1367,
          700,
          679,
          350,
          680,
          205,
          1447,
          289,
          1487,
          707,
          272,
          234,
          1800,
          218,
          115,
          1000,
          620,
          922,
          4320,
          989,
          500,
          258,
          455,
          228,
          1657,
          825,
          800,
          985,
          115,
          1420,
          651,
          1200,
          1136,
          450,
          110,
          214,
          493,
          1000,
          747,
          300,
          359,
          396,
          290,
          484,
          800,
          322,
          850,
          359,
          550,
          433,
          400,
          650,
          298,
          1323,
          422,
          270,
          450,
          371,
          466,
          2000,
          952,
          167,
          808,
          800,
          3000,
          280,
          778,
          466,
          250,
          156,
          271,
          145,
          400,
          1470,
          1000,
          500,
          450,
          300,
          581,
          1486,
          171,
          171,
          793,
          156,
          287,
          690,
          500,
          400,
          620,
          270,
          202,
          290,
          800,
          500,
          364,
          900,
          498,
          590,
          988,
          198,
          350,
          705,
          220,
          779,
          440,
          605,
          1100,
          280,
          198,
          127,
          499,
          150,
          200,
          542,
          713,
          186,
          755,
          330,
          528,
          1314,
          1158,
          200,
          550,
          231,
          429,
          446,
          224,
          745,
          472,
          175,
          380,
          371,
          557,
          1772,
          800,
          1439,
          108,
          129,
          225,
          547,
          150,
          177,
          1600,
          1700,
          288,
          400,
          1500,
          1814,
          181,
          170,
          428,
          400,
          179,
          460,
          464,
          236,
          590,
          236,
          250,
          500,
          1400,
          490,
          280,
          400,
          1500,
          603,
          534,
          1131,
          130,
          350,
          850,
          96,
          1071,
          680,
          269,
          1100,
          321,
          640,
          950,
          921,
          359,
          1423,
          331,
          414,
          1500,
          220,
          2800,
          2500,
          336,
          160,
          235,
          650,
          1057,
          1199,
          657,
          289,
          5440,
          299,
          359,
          300,
          550,
          216,
          969,
          388,
          195,
          365,
          170,
          488,
          273,
          380,
          972,
          1100,
          300,
          400,
          334,
          600,
          370,
          860,
          87,
          205,
          570,
          700,
          120,
          786,
          866,
          321,
          1000,
          210,
          354,
          134,
          300,
          529,
          321,
          309,
          635,
          443,
          185,
          277,
          200,
          414,
          480,
          380,
          261,
          230,
          121,
          300,
          554,
          1999,
          1471,
          400,
          196,
          350,
          300,
          350,
          329,
          213,
          441,
          500,
          415,
          664,
          315,
          328,
          175,
          390,
          220,
          462,
          158,
          523,
          227,
          221,
          567,
          380,
          162,
          840,
          371,
          340,
          221,
          199,
          220,
          421,
          280,
          546,
          370,
          331,
          279,
          480,
          886,
          468,
          194,
          250,
          181,
          911,
          282,
          360,
          1424,
          321,
          420,
          250,
          280,
          350,
          230,
          180,
          240,
          483,
          277,
          320,
          316,
          654,
          337,
          307,
          598,
          367,
          420,
          250,
          764,
          150,
          354,
          400,
          350,
          98,
          180,
          610,
          380,
          130,
          1033,
          2244,
          200,
          304,
          421,
          200,
          1500,
          780,
          300,
          272,
          890,
          566,
          695,
          150,
          683,
          329,
          276,
          272,
          147,
          1007,
          500,
          624,
          950,
          400,
          329,
          420,
          350,
          837,
          191,
          373,
          379,
          500,
          120,
          220,
          404,
          932,
          760,
          1800,
          350,
          762,
          1150,
          1057,
          450,
          415,
          459,
          180,
          250,
          1080,
          1195,
          1157,
          259,
          230,
          430,
          480,
          1000,
          529,
          328,
          669,
          1189,
          612,
          150,
          2500,
          650,
          219,
          400,
          240,
          400,
          380,
          1314,
          650,
          707,
          527,
          572,
          554,
          732,
          400,
          550,
          500,
          448,
          530,
          400,
          432,
          850,
          1000,
          500,
          350,
          900,
          1043,
          561,
          330,
          1560,
          264,
          216,
          300,
          220,
          643,
          250,
          423,
          540,
          180,
          314,
          190,
          250,
          319,
          1800,
          450,
          299,
          371,
          131,
          1588,
          180,
          299,
          750,
          790,
          200,
          138,
          307,
          202,
          459,
          1147,
          1157,
          2000,
          1086,
          600,
          229,
          142,
          570,
          500,
          1180,
          170,
          127,
          1300,
          1100,
          526,
          420,
          300,
          450,
          280,
          988,
          356,
          407,
          400,
          793,
          2800,
          340,
          414,
          400,
          2171,
          650,
          886,
          2186,
          221,
          275,
          328,
          230,
          871,
          270,
          680,
          285,
          302,
          507,
          350,
          1100,
          210,
          450,
          327,
          426
         ]
        }
       ],
       "layout": {
        "barmode": "group",
        "template": {
         "data": {
          "bar": [
           {
            "error_x": {
             "color": "#2a3f5f"
            },
            "error_y": {
             "color": "#2a3f5f"
            },
            "marker": {
             "line": {
              "color": "#E5ECF6",
              "width": 0.5
             }
            },
            "type": "bar"
           }
          ],
          "barpolar": [
           {
            "marker": {
             "line": {
              "color": "#E5ECF6",
              "width": 0.5
             }
            },
            "type": "barpolar"
           }
          ],
          "carpet": [
           {
            "aaxis": {
             "endlinecolor": "#2a3f5f",
             "gridcolor": "white",
             "linecolor": "white",
             "minorgridcolor": "white",
             "startlinecolor": "#2a3f5f"
            },
            "baxis": {
             "endlinecolor": "#2a3f5f",
             "gridcolor": "white",
             "linecolor": "white",
             "minorgridcolor": "white",
             "startlinecolor": "#2a3f5f"
            },
            "type": "carpet"
           }
          ],
          "choropleth": [
           {
            "colorbar": {
             "outlinewidth": 0,
             "ticks": ""
            },
            "type": "choropleth"
           }
          ],
          "contour": [
           {
            "colorbar": {
             "outlinewidth": 0,
             "ticks": ""
            },
            "colorscale": [
             [
              0,
              "#0d0887"
             ],
             [
              0.1111111111111111,
              "#46039f"
             ],
             [
              0.2222222222222222,
              "#7201a8"
             ],
             [
              0.3333333333333333,
              "#9c179e"
             ],
             [
              0.4444444444444444,
              "#bd3786"
             ],
             [
              0.5555555555555556,
              "#d8576b"
             ],
             [
              0.6666666666666666,
              "#ed7953"
             ],
             [
              0.7777777777777778,
              "#fb9f3a"
             ],
             [
              0.8888888888888888,
              "#fdca26"
             ],
             [
              1,
              "#f0f921"
             ]
            ],
            "type": "contour"
           }
          ],
          "contourcarpet": [
           {
            "colorbar": {
             "outlinewidth": 0,
             "ticks": ""
            },
            "type": "contourcarpet"
           }
          ],
          "heatmap": [
           {
            "colorbar": {
             "outlinewidth": 0,
             "ticks": ""
            },
            "colorscale": [
             [
              0,
              "#0d0887"
             ],
             [
              0.1111111111111111,
              "#46039f"
             ],
             [
              0.2222222222222222,
              "#7201a8"
             ],
             [
              0.3333333333333333,
              "#9c179e"
             ],
             [
              0.4444444444444444,
              "#bd3786"
             ],
             [
              0.5555555555555556,
              "#d8576b"
             ],
             [
              0.6666666666666666,
              "#ed7953"
             ],
             [
              0.7777777777777778,
              "#fb9f3a"
             ],
             [
              0.8888888888888888,
              "#fdca26"
             ],
             [
              1,
              "#f0f921"
             ]
            ],
            "type": "heatmap"
           }
          ],
          "heatmapgl": [
           {
            "colorbar": {
             "outlinewidth": 0,
             "ticks": ""
            },
            "colorscale": [
             [
              0,
              "#0d0887"
             ],
             [
              0.1111111111111111,
              "#46039f"
             ],
             [
              0.2222222222222222,
              "#7201a8"
             ],
             [
              0.3333333333333333,
              "#9c179e"
             ],
             [
              0.4444444444444444,
              "#bd3786"
             ],
             [
              0.5555555555555556,
              "#d8576b"
             ],
             [
              0.6666666666666666,
              "#ed7953"
             ],
             [
              0.7777777777777778,
              "#fb9f3a"
             ],
             [
              0.8888888888888888,
              "#fdca26"
             ],
             [
              1,
              "#f0f921"
             ]
            ],
            "type": "heatmapgl"
           }
          ],
          "histogram": [
           {
            "marker": {
             "colorbar": {
              "outlinewidth": 0,
              "ticks": ""
             }
            },
            "type": "histogram"
           }
          ],
          "histogram2d": [
           {
            "colorbar": {
             "outlinewidth": 0,
             "ticks": ""
            },
            "colorscale": [
             [
              0,
              "#0d0887"
             ],
             [
              0.1111111111111111,
              "#46039f"
             ],
             [
              0.2222222222222222,
              "#7201a8"
             ],
             [
              0.3333333333333333,
              "#9c179e"
             ],
             [
              0.4444444444444444,
              "#bd3786"
             ],
             [
              0.5555555555555556,
              "#d8576b"
             ],
             [
              0.6666666666666666,
              "#ed7953"
             ],
             [
              0.7777777777777778,
              "#fb9f3a"
             ],
             [
              0.8888888888888888,
              "#fdca26"
             ],
             [
              1,
              "#f0f921"
             ]
            ],
            "type": "histogram2d"
           }
          ],
          "histogram2dcontour": [
           {
            "colorbar": {
             "outlinewidth": 0,
             "ticks": ""
            },
            "colorscale": [
             [
              0,
              "#0d0887"
             ],
             [
              0.1111111111111111,
              "#46039f"
             ],
             [
              0.2222222222222222,
              "#7201a8"
             ],
             [
              0.3333333333333333,
              "#9c179e"
             ],
             [
              0.4444444444444444,
              "#bd3786"
             ],
             [
              0.5555555555555556,
              "#d8576b"
             ],
             [
              0.6666666666666666,
              "#ed7953"
             ],
             [
              0.7777777777777778,
              "#fb9f3a"
             ],
             [
              0.8888888888888888,
              "#fdca26"
             ],
             [
              1,
              "#f0f921"
             ]
            ],
            "type": "histogram2dcontour"
           }
          ],
          "mesh3d": [
           {
            "colorbar": {
             "outlinewidth": 0,
             "ticks": ""
            },
            "type": "mesh3d"
           }
          ],
          "parcoords": [
           {
            "line": {
             "colorbar": {
              "outlinewidth": 0,
              "ticks": ""
             }
            },
            "type": "parcoords"
           }
          ],
          "pie": [
           {
            "automargin": true,
            "type": "pie"
           }
          ],
          "scatter": [
           {
            "marker": {
             "colorbar": {
              "outlinewidth": 0,
              "ticks": ""
             }
            },
            "type": "scatter"
           }
          ],
          "scatter3d": [
           {
            "line": {
             "colorbar": {
              "outlinewidth": 0,
              "ticks": ""
             }
            },
            "marker": {
             "colorbar": {
              "outlinewidth": 0,
              "ticks": ""
             }
            },
            "type": "scatter3d"
           }
          ],
          "scattercarpet": [
           {
            "marker": {
             "colorbar": {
              "outlinewidth": 0,
              "ticks": ""
             }
            },
            "type": "scattercarpet"
           }
          ],
          "scattergeo": [
           {
            "marker": {
             "colorbar": {
              "outlinewidth": 0,
              "ticks": ""
             }
            },
            "type": "scattergeo"
           }
          ],
          "scattergl": [
           {
            "marker": {
             "colorbar": {
              "outlinewidth": 0,
              "ticks": ""
             }
            },
            "type": "scattergl"
           }
          ],
          "scattermapbox": [
           {
            "marker": {
             "colorbar": {
              "outlinewidth": 0,
              "ticks": ""
             }
            },
            "type": "scattermapbox"
           }
          ],
          "scatterpolar": [
           {
            "marker": {
             "colorbar": {
              "outlinewidth": 0,
              "ticks": ""
             }
            },
            "type": "scatterpolar"
           }
          ],
          "scatterpolargl": [
           {
            "marker": {
             "colorbar": {
              "outlinewidth": 0,
              "ticks": ""
             }
            },
            "type": "scatterpolargl"
           }
          ],
          "scatterternary": [
           {
            "marker": {
             "colorbar": {
              "outlinewidth": 0,
              "ticks": ""
             }
            },
            "type": "scatterternary"
           }
          ],
          "surface": [
           {
            "colorbar": {
             "outlinewidth": 0,
             "ticks": ""
            },
            "colorscale": [
             [
              0,
              "#0d0887"
             ],
             [
              0.1111111111111111,
              "#46039f"
             ],
             [
              0.2222222222222222,
              "#7201a8"
             ],
             [
              0.3333333333333333,
              "#9c179e"
             ],
             [
              0.4444444444444444,
              "#bd3786"
             ],
             [
              0.5555555555555556,
              "#d8576b"
             ],
             [
              0.6666666666666666,
              "#ed7953"
             ],
             [
              0.7777777777777778,
              "#fb9f3a"
             ],
             [
              0.8888888888888888,
              "#fdca26"
             ],
             [
              1,
              "#f0f921"
             ]
            ],
            "type": "surface"
           }
          ],
          "table": [
           {
            "cells": {
             "fill": {
              "color": "#EBF0F8"
             },
             "line": {
              "color": "white"
             }
            },
            "header": {
             "fill": {
              "color": "#C8D4E3"
             },
             "line": {
              "color": "white"
             }
            },
            "type": "table"
           }
          ]
         },
         "layout": {
          "annotationdefaults": {
           "arrowcolor": "#2a3f5f",
           "arrowhead": 0,
           "arrowwidth": 1
          },
          "coloraxis": {
           "colorbar": {
            "outlinewidth": 0,
            "ticks": ""
           }
          },
          "colorscale": {
           "diverging": [
            [
             0,
             "#8e0152"
            ],
            [
             0.1,
             "#c51b7d"
            ],
            [
             0.2,
             "#de77ae"
            ],
            [
             0.3,
             "#f1b6da"
            ],
            [
             0.4,
             "#fde0ef"
            ],
            [
             0.5,
             "#f7f7f7"
            ],
            [
             0.6,
             "#e6f5d0"
            ],
            [
             0.7,
             "#b8e186"
            ],
            [
             0.8,
             "#7fbc41"
            ],
            [
             0.9,
             "#4d9221"
            ],
            [
             1,
             "#276419"
            ]
           ],
           "sequential": [
            [
             0,
             "#0d0887"
            ],
            [
             0.1111111111111111,
             "#46039f"
            ],
            [
             0.2222222222222222,
             "#7201a8"
            ],
            [
             0.3333333333333333,
             "#9c179e"
            ],
            [
             0.4444444444444444,
             "#bd3786"
            ],
            [
             0.5555555555555556,
             "#d8576b"
            ],
            [
             0.6666666666666666,
             "#ed7953"
            ],
            [
             0.7777777777777778,
             "#fb9f3a"
            ],
            [
             0.8888888888888888,
             "#fdca26"
            ],
            [
             1,
             "#f0f921"
            ]
           ],
           "sequentialminus": [
            [
             0,
             "#0d0887"
            ],
            [
             0.1111111111111111,
             "#46039f"
            ],
            [
             0.2222222222222222,
             "#7201a8"
            ],
            [
             0.3333333333333333,
             "#9c179e"
            ],
            [
             0.4444444444444444,
             "#bd3786"
            ],
            [
             0.5555555555555556,
             "#d8576b"
            ],
            [
             0.6666666666666666,
             "#ed7953"
            ],
            [
             0.7777777777777778,
             "#fb9f3a"
            ],
            [
             0.8888888888888888,
             "#fdca26"
            ],
            [
             1,
             "#f0f921"
            ]
           ]
          },
          "colorway": [
           "#636efa",
           "#EF553B",
           "#00cc96",
           "#ab63fa",
           "#FFA15A",
           "#19d3f3",
           "#FF6692",
           "#B6E880",
           "#FF97FF",
           "#FECB52"
          ],
          "font": {
           "color": "#2a3f5f"
          },
          "geo": {
           "bgcolor": "white",
           "lakecolor": "white",
           "landcolor": "#E5ECF6",
           "showlakes": true,
           "showland": true,
           "subunitcolor": "white"
          },
          "hoverlabel": {
           "align": "left"
          },
          "hovermode": "closest",
          "mapbox": {
           "style": "light"
          },
          "paper_bgcolor": "white",
          "plot_bgcolor": "#E5ECF6",
          "polar": {
           "angularaxis": {
            "gridcolor": "white",
            "linecolor": "white",
            "ticks": ""
           },
           "bgcolor": "#E5ECF6",
           "radialaxis": {
            "gridcolor": "white",
            "linecolor": "white",
            "ticks": ""
           }
          },
          "scene": {
           "xaxis": {
            "backgroundcolor": "#E5ECF6",
            "gridcolor": "white",
            "gridwidth": 2,
            "linecolor": "white",
            "showbackground": true,
            "ticks": "",
            "zerolinecolor": "white"
           },
           "yaxis": {
            "backgroundcolor": "#E5ECF6",
            "gridcolor": "white",
            "gridwidth": 2,
            "linecolor": "white",
            "showbackground": true,
            "ticks": "",
            "zerolinecolor": "white"
           },
           "zaxis": {
            "backgroundcolor": "#E5ECF6",
            "gridcolor": "white",
            "gridwidth": 2,
            "linecolor": "white",
            "showbackground": true,
            "ticks": "",
            "zerolinecolor": "white"
           }
          },
          "shapedefaults": {
           "line": {
            "color": "#2a3f5f"
           }
          },
          "ternary": {
           "aaxis": {
            "gridcolor": "white",
            "linecolor": "white",
            "ticks": ""
           },
           "baxis": {
            "gridcolor": "white",
            "linecolor": "white",
            "ticks": ""
           },
           "bgcolor": "#E5ECF6",
           "caxis": {
            "gridcolor": "white",
            "linecolor": "white",
            "ticks": ""
           }
          },
          "title": {
           "x": 0.05
          },
          "xaxis": {
           "automargin": true,
           "gridcolor": "white",
           "linecolor": "white",
           "ticks": "",
           "title": {
            "standoff": 15
           },
           "zerolinecolor": "white",
           "zerolinewidth": 2
          },
          "yaxis": {
           "automargin": true,
           "gridcolor": "white",
           "linecolor": "white",
           "ticks": "",
           "title": {
            "standoff": 15
           },
           "zerolinecolor": "white",
           "zerolinewidth": 2
          }
         }
        },
        "title": {
         "text": "Hong Kong - Gradient boosting price predictions"
        },
        "xaxis": {
         "title": {
          "text": "Index"
         }
        },
        "yaxis": {
         "title": {
          "text": "Price"
         }
        }
       }
      },
      "text/html": [
       "<div>                            <div id=\"775d7fbe-784d-45d7-95af-7622c1a30623\" class=\"plotly-graph-div\" style=\"height:525px; width:100%;\"></div>            <script type=\"text/javascript\">                require([\"plotly\"], function(Plotly) {                    window.PLOTLYENV=window.PLOTLYENV || {};                                    if (document.getElementById(\"775d7fbe-784d-45d7-95af-7622c1a30623\")) {                    Plotly.newPlot(                        \"775d7fbe-784d-45d7-95af-7622c1a30623\",                        [{\"name\": \"Predicted\", \"type\": \"bar\", \"x\": [0, 1, 2, 3, 4, 5, 6, 7, 8, 9, 10, 11, 12, 13, 14, 15, 16, 17, 18, 19], \"y\": [231.55821262284027, 382.83482264496166, 1167.7884656457954, 572.8249990712612, 795.1547551681944, 431.8762873128725, 140.24468497976633, 703.5457169609831, 285.79516223658953, 415.93638575013983, 430.20266823427846, 181.45279973602123, 529.480702828969, 402.9795875450982, 435.9469969798511, 1044.0174413827508, 1044.4411365135056, 399.8006708725284, 754.6230533688773, 727.6837091872269, 222.12078171502725, 466.6896359702633, 129.55326002782687, 503.38522584765184, 740.5263455134464, 312.1142683643005, 589.7972166295604, 805.4660159540524, 523.5461272754875, 81.2815331875559, 389.94298383166216, 505.1440558441388, 180.38033458065982, 962.2178707892181, 301.2514099558678, 422.6524762177752, 1807.4661732956852, 138.35318399029862, 475.21890779767574, 494.2785469901224, 879.7802901846284, 261.9439468116783, 180.27013303372874, 398.6156406833076, 577.3647192569838, 890.3745568109879, 535.3479690983537, 761.0944323796759, 387.42811221728107, 615.1799393586232, 311.47993850167603, 1064.7336805548707, 307.0887272089191, 282.161732266824, 801.2040226501647, 912.9261489172299, 260.08764333561925, 887.6269006275015, 1582.412781289399, 408.1185837907627, 1273.3395634600802, 275.84600063398057, 615.4349917299996, 389.8089655125377, 1866.1115152246323, 585.9261163215343, 1472.3240618639516, 1232.8551745153673, 808.8674555747349, 387.6038983610016, 599.4773509717817, 270.95995797616297, 1087.929250895262, 351.2009266207978, 1595.0483125408825, 1045.505827461065, 393.10829442398, 335.6326225660946, 1349.9894835229954, 377.7502332050069, 257.69338762671816, 1443.3401442736922, 1330.7073105527481, 976.0627372108888, 2422.602490279513, 617.4406501316349, 976.8577010344718, 520.0597662145364, 766.2249274548582, 335.88830149644514, 1503.8150359885735, 545.6428042195625, 996.1898694620255, 505.1852391437221, 79.10806379414221, 481.17971571502926, 783.1536507851813, 1541.8988680374805, 987.8716491521261, 692.5876231096414, 104.35165933272633, 803.6659257969773, 661.2888016894852, 1314.8343892697367, 503.29398950557106, 336.04209468842976, 302.344507622323, 294.34019556235245, 311.6481991987291, 811.1802635959226, 1025.5514607283826, 426.82656614326044, 538.5726363486125, 238.1996233747931, 698.1608188592649, 487.51197130426027, 565.7955943913748, 2718.358389601114, 290.53146592449235, 1314.6360585859709, 865.0669265182551, 320.0947237043993, 518.2333936660597, 278.7431331328306, 257.7333619681798, 1502.7550712662644, 1544.6294118194874, 305.41557906755406, 1099.4434140248088, 1108.4335671678837, 1291.7292160443985, 574.3209571623953, 792.003396013692, 477.29369400299026, 312.0535517182131, 313.6003899314561, 339.36057238556157, 304.2744303012423, 272.54532155645677, 1309.465401752524, 850.1124151090321, 486.3596564025055, 556.8164912803392, 486.623793404813, 870.2697437976595, 1303.5043647342468, 227.85317065468482, 288.1780719959056, 1368.6270085970057, 123.30854278101998, 287.57098974892193, 654.3898708899732, 458.91634775241494, 421.9143016185992, 710.9005282937112, 382.20330720817316, 161.89590986091875, 470.02223529298846, 1033.3689163884394, 716.0366122976, 449.8128759063793, 1180.8186803473682, 352.93952466965385, 903.2341999132889, 1169.1111188207476, 223.66365131436692, 451.7298767424483, 730.3319517141529, 223.36097433217952, 868.9653799849721, 354.5902902886806, 1773.5759557997276, 595.4173120021534, 356.47716922911707, 243.47534074824117, 625.3032658495225, 837.0494196134067, 182.7886366512112, 484.60991496278524, 630.5408717923707, 579.956712397539, 105.3064949567706, 866.2851046623518, 373.9405023814878, 394.3173377889973, 1121.2359589003986, 1072.4907107980805, 388.1045013039603, 378.6369837946497, 247.9119162155364, 444.2053179971614, 407.87116117165897, 220.15040361633018, 1361.129646192228, 419.240701749302, 156.19156026320684, 314.4889269908885, 206.9186418602318, 600.5770635204311, 756.7456862541934, 1021.5059326598326, 774.5752860941463, 53.40280540036037, 137.8251929922716, 314.7825624254248, 261.89078402844393, 184.13106159211844, 193.47894033770874, 3167.2977791768317, 1236.636094344215, 422.9044839098906, 414.6928278389133, 1488.8502096099276, 1659.0686394553563, 353.51346893101265, 90.57509722130932, 565.6585708973189, 456.6291203240698, 387.4583761913015, 456.5375717984606, 638.7907906839166, 255.46359994744307, 438.28756559549527, 240.88223647320618, 582.0768750501577, 454.64220740480135, 1422.25525607015, 482.70707266059304, 191.4076360240621, 414.7939306364766, 462.4636832661156, 516.4466173839946, 1076.3003329306543, 1535.533816878083, 174.16345921754117, 333.1446805744925, 851.5424075644564, 173.21507481140827, 613.4109531278787, 790.1099897419258, 272.54861219385174, 1302.5817920351883, 373.21878131877, 708.464788077789, 1061.3223356566607, 1028.5971427815484, 409.98209005669486, 1181.2294554369155, 352.2395443657144, 300.96173267149385, 1969.0934736946433, 199.97675116229647, 1550.4476643443031, 3477.050585068387, 396.3202226964442, 231.45975679794026, 445.96617174399313, 600.1420904470675, 990.8307077220377, 1828.9828656837017, 580.901914310934, 380.7946312998006, 958.6529101796152, 380.376841114363, 441.8679554869611, 444.2404519076497, 507.02430819905095, 221.49669560804554, 806.4647319442311, 498.0233654088754, 259.84038110521254, 689.1772460221245, 309.58640637623887, 498.5894149578451, 509.8752544800279, 518.9319992499009, 1242.0446175029624, 1424.8541171326708, 360.59728943446896, 392.48653265329955, 484.15203332619006, 849.3834430076507, 376.39190323291695, 1222.33143300118, 1371.7097589667264, 281.66668270079447, 647.1952173395329, 713.5766113539121, 105.67539949921336, 1377.1932347489412, 974.5671649590691, 543.1133757502612, 1169.4732328147313, 306.3118761848355, 330.83414215269175, 205.2052110834412, 411.9030204164492, 791.9216292845845, 671.859419752382, 505.72858781191167, 394.72294705906074, 432.6253866166961, 263.04473099657315, 659.5781393460165, 343.60763219125073, 324.6137264485241, 346.6555025842117, 547.4372147160609, 336.6084959416963, 345.62675775047444, 108.02472090094436, 273.98648195196625, 488.9625752063559, 456.98444656017074, 1569.0091342319006, 414.6898045910195, 306.27474088001105, 426.148080790463, 406.3600516289202, 335.3338394655271, 466.6301515228377, 244.27644732244727, 440.57734106357753, 473.90736045671525, 382.04473187951623, 685.4028281766343, 696.8298549584105, 531.5947898107689, 171.1640943006681, 563.0973184651696, 213.20766425189734, 433.87796995003623, 215.93737689141238, 591.3777325289794, 213.729079507675, 247.358147681523, 363.7756862388006, 264.81668125732114, 515.0771956740971, 934.2167141901492, 283.0278673223862, 376.6513986383224, 171.42746461624986, 163.51579788288134, 119.0030692256748, 337.0892333531164, 281.49793762548757, 480.0230409740861, 377.3388582629216, 571.1714048373753, 358.60862831375454, 530.9744863132614, 660.7471719619025, 612.0140023311142, 172.3925870103381, 266.1314276457822, 222.53046502478085, 1128.812375016067, 447.6398132946761, 262.3837258521174, 1252.2032793534597, 265.52529750650575, 336.65228734792777, 723.4910984035301, 389.2683621396044, 303.65642298229193, 277.5340884808085, 279.46020449270304, 236.04881750098266, 563.7514712640102, 369.6561850682824, 537.3162901712137, 399.489014695774, 900.1535051349047, 258.83169992253545, 335.84046033038254, 731.0254625191616, 540.0373029746772, 364.53842269393664, 385.57003207279575, 719.7381311321024, 69.85812348140347, 477.6396169965468, 734.3746946903375, 265.29575698373094, 108.59934082500465, 270.26005541726727, 826.6260845928629, 244.70079546912717, 420.27081469619856, 1493.0595476904357, 2250.9650397556366, 316.7549201655857, 286.2910740895597, 442.43972066818753, 293.9913064424324, 1333.6057522474564, 923.8012001244915, 95.22788161228102, 313.14338368925405, 871.7230878659076, 468.79320068232795, 609.6825558800164, 155.80046044659824, 821.4241232422401, 414.5441078541346, 369.2578863838938, 310.3490336069654, 295.5526618283889, 462.7199605335181, 475.8271336701573, 879.9808937569568, 940.3675877524793, 367.01602933322016, 412.8390399124411, 386.5179169254277, 369.6388190028634, 1155.3264966857087, 467.56104876762095, 423.7097942770154, 466.95791466164326, 391.84147821697036, 191.12425386236586, 232.10042635049243, 516.9222278441387, 854.8872902004861, 1044.5220511854257, 1614.1888072333538, 247.6293731736557, 336.3596164276398, 1349.8857867537554, 736.1120110952926, 559.4206568842837, 203.04998803562913, 517.7005051670037, 294.98163109171475, 356.39452684068544, 710.6560530631197, 1224.0804403300417, 885.4813852381201, 433.9578903723316, 281.9308576764075, 539.1248105224053, 289.3081177700911, 1150.688515013278, 601.189431220454, 380.6748030400247, 749.4426425106025, 1308.1377901240521, 1682.3358579496162, 202.34973021607502, 3000.7083705691953, 666.4128571022458, 606.0832414255511, 329.79851310879104, 213.54950393215975, 498.01023013727576, 515.6753013328104, 1267.1374737447509, 570.7121467995212, 684.5217091150632, 474.3701682733486, 575.1035728942234, 777.2044545097357, 785.9504184524204, 364.55599324428965, 504.0286237739722, 492.71922114645906, 341.45667861409675, 460.4909761483595, 326.7777982709826, 454.6077455663236, 780.9314553371365, 1051.1808929308104, 433.22554888179684, 628.2826436769794, 1002.8657286020539, 937.716432914935, 930.9131533236684, 479.4139869385349, 1255.1576813928332, 347.0122907133992, 271.89515147575383, 419.17958108551244, 342.4235556803655, 796.0839942781299, 436.3545393561467, 439.41906142525096, 640.4170065011708, 214.08150773978366, 391.09307728311046, 199.4195314698634, 441.8203959243758, 257.08809100249977, 1594.4846301503067, 466.89304471906433, 313.27998804904985, 291.3718038606953, 213.76903876013884, 1050.3294318705023, 225.8606205037907, 436.38227006973676, 629.196940806954, 757.6714714808812, 176.58545122427228, 22.2612157698253, 256.02422732147, 223.84304045350288, 482.4991729677936, 1612.9713035968223, 927.3284905995829, 1624.5812161919887, 571.6276482331987, 496.72022454766903, 310.30378126138106, 109.3022092859576, 666.1151817643498, 339.8871426138318, 1388.268827435861, 282.9545869424, 140.3199637054268, 1423.2050043822742, 1171.2621590322997, 470.8913061771696, 576.3683401135642, 369.7674049155082, 525.7736635659397, 1988.1185557495392, 1172.067179806748, 567.5570366381261, 1184.5423025600976, 517.6335131079466, 1317.7273917970197, 1914.3356141407235, 463.0484339106594, 341.03760288064416, 513.0609840348332, 2266.9536253346237, 810.2431606660758, 1145.0942585134137, 2353.7481640039214, 308.25362342143177, 511.06646846531595, 790.6804447951121, 305.35486935563574, 523.3838318709165, 562.2113158411537, 562.3126796554268, 532.31562441556, 314.6554932058353, 467.4859391801516, 490.4650572007064, 1460.3491231222222, 78.94597798179984, 705.5050457055286, 462.5090435519472, 370.1113241650173]}, {\"name\": \"Actual\", \"type\": \"bar\", \"x\": [0, 1, 2, 3, 4, 5, 6, 7, 8, 9, 10, 11, 12, 13, 14, 15, 16, 17, 18, 19], \"y\": [125.0, 350.0, 1379.0, 250.0, 500.0, 400.0, 160.0, 200.0, 294.0, 438.0, 679.0, 228.0, 899.0, 600.0, 250.0, 930.0, 686.0, 333.0, 997.0, 3000.0, 180.0, 464.0, 104.0, 564.0, 830.0, 219.0, 280.0, 600.0, 450.0, 230.0, 450.0, 150.0, 115.0, 1157.0, 328.0, 344.0, 2800.0, 198.0, 609.0, 800.0, 800.0, 159.0, 115.0, 300.0, 514.0, 1500.0, 529.0, 1600.0, 252.0, 680.0, 300.0, 688.0, 171.0, 349.0, 690.0, 1008.0, 177.0, 1450.0, 1195.0, 480.0, 1000.0, 310.0, 331.0, 298.0, 2857.0, 1900.0, 1367.0, 700.0, 679.0, 350.0, 680.0, 205.0, 1447.0, 289.0, 1487.0, 707.0, 272.0, 234.0, 1800.0, 218.0, 115.0, 1000.0, 620.0, 922.0, 4320.0, 989.0, 500.0, 258.0, 455.0, 228.0, 1657.0, 825.0, 800.0, 985.0, 115.0, 1420.0, 651.0, 1200.0, 1136.0, 450.0, 110.0, 214.0, 493.0, 1000.0, 747.0, 300.0, 359.0, 396.0, 290.0, 484.0, 800.0, 322.0, 850.0, 359.0, 550.0, 433.0, 400.0, 650.0, 298.0, 1323.0, 422.0, 270.0, 450.0, 371.0, 466.0, 2000.0, 952.0, 167.0, 808.0, 800.0, 3000.0, 280.0, 778.0, 466.0, 250.0, 156.0, 271.0, 145.0, 400.0, 1470.0, 1000.0, 500.0, 450.0, 300.0, 581.0, 1486.0, 171.0, 171.0, 793.0, 156.0, 287.0, 690.0, 500.0, 400.0, 620.0, 270.0, 202.0, 290.0, 800.0, 500.0, 364.0, 900.0, 498.0, 590.0, 988.0, 198.0, 350.0, 705.0, 220.0, 779.0, 440.0, 605.0, 1100.0, 280.0, 198.0, 127.0, 499.0, 150.0, 200.0, 542.0, 713.0, 186.0, 755.0, 330.0, 528.0, 1314.0, 1158.0, 200.0, 550.0, 231.0, 429.0, 446.0, 224.0, 745.0, 472.0, 175.0, 380.0, 371.0, 557.0, 1772.0, 800.0, 1439.0, 108.0, 129.0, 225.0, 547.0, 150.0, 177.0, 1600.0, 1700.0, 288.0, 400.0, 1500.0, 1814.0, 181.0, 170.0, 428.0, 400.0, 179.0, 460.0, 464.0, 236.0, 590.0, 236.0, 250.0, 500.0, 1400.0, 490.0, 280.0, 400.0, 1500.0, 603.0, 534.0, 1131.0, 130.0, 350.0, 850.0, 96.0, 1071.0, 680.0, 269.0, 1100.0, 321.0, 640.0, 950.0, 921.0, 359.0, 1423.0, 331.0, 414.0, 1500.0, 220.0, 2800.0, 2500.0, 336.0, 160.0, 235.0, 650.0, 1057.0, 1199.0, 657.0, 289.0, 5440.0, 299.0, 359.0, 300.0, 550.0, 216.0, 969.0, 388.0, 195.0, 365.0, 170.0, 488.0, 273.0, 380.0, 972.0, 1100.0, 300.0, 400.0, 334.0, 600.0, 370.0, 860.0, 87.0, 205.0, 570.0, 700.0, 120.0, 786.0, 866.0, 321.0, 1000.0, 210.0, 354.0, 134.0, 300.0, 529.0, 321.0, 309.0, 635.0, 443.0, 185.0, 277.0, 200.0, 414.0, 480.0, 380.0, 261.0, 230.0, 121.0, 300.0, 554.0, 1999.0, 1471.0, 400.0, 196.0, 350.0, 300.0, 350.0, 329.0, 213.0, 441.0, 500.0, 415.0, 664.0, 315.0, 328.0, 175.0, 390.0, 220.0, 462.0, 158.0, 523.0, 227.0, 221.0, 567.0, 380.0, 162.0, 840.0, 371.0, 340.0, 221.0, 199.0, 220.0, 421.0, 280.0, 546.0, 370.0, 331.0, 279.0, 480.0, 886.0, 468.0, 194.0, 250.0, 181.0, 911.0, 282.0, 360.0, 1424.0, 321.0, 420.0, 250.0, 280.0, 350.0, 230.0, 180.0, 240.0, 483.0, 277.0, 320.0, 316.0, 654.0, 337.0, 307.0, 598.0, 367.0, 420.0, 250.0, 764.0, 150.0, 354.0, 400.0, 350.0, 98.0, 180.0, 610.0, 380.0, 130.0, 1033.0, 2244.0, 200.0, 304.0, 421.0, 200.0, 1500.0, 780.0, 300.0, 272.0, 890.0, 566.0, 695.0, 150.0, 683.0, 329.0, 276.0, 272.0, 147.0, 1007.0, 500.0, 624.0, 950.0, 400.0, 329.0, 420.0, 350.0, 837.0, 191.0, 373.0, 379.0, 500.0, 120.0, 220.0, 404.0, 932.0, 760.0, 1800.0, 350.0, 762.0, 1150.0, 1057.0, 450.0, 415.0, 459.0, 180.0, 250.0, 1080.0, 1195.0, 1157.0, 259.0, 230.0, 430.0, 480.0, 1000.0, 529.0, 328.0, 669.0, 1189.0, 612.0, 150.0, 2500.0, 650.0, 219.0, 400.0, 240.0, 400.0, 380.0, 1314.0, 650.0, 707.0, 527.0, 572.0, 554.0, 732.0, 400.0, 550.0, 500.0, 448.0, 530.0, 400.0, 432.0, 850.0, 1000.0, 500.0, 350.0, 900.0, 1043.0, 561.0, 330.0, 1560.0, 264.0, 216.0, 300.0, 220.0, 643.0, 250.0, 423.0, 540.0, 180.0, 314.0, 190.0, 250.0, 319.0, 1800.0, 450.0, 299.0, 371.0, 131.0, 1588.0, 180.0, 299.0, 750.0, 790.0, 200.0, 138.0, 307.0, 202.0, 459.0, 1147.0, 1157.0, 2000.0, 1086.0, 600.0, 229.0, 142.0, 570.0, 500.0, 1180.0, 170.0, 127.0, 1300.0, 1100.0, 526.0, 420.0, 300.0, 450.0, 280.0, 988.0, 356.0, 407.0, 400.0, 793.0, 2800.0, 340.0, 414.0, 400.0, 2171.0, 650.0, 886.0, 2186.0, 221.0, 275.0, 328.0, 230.0, 871.0, 270.0, 680.0, 285.0, 302.0, 507.0, 350.0, 1100.0, 210.0, 450.0, 327.0, 426.0]}],                        {\"barmode\": \"group\", \"template\": {\"data\": {\"bar\": [{\"error_x\": {\"color\": \"#2a3f5f\"}, \"error_y\": {\"color\": \"#2a3f5f\"}, \"marker\": {\"line\": {\"color\": \"#E5ECF6\", \"width\": 0.5}}, \"type\": \"bar\"}], \"barpolar\": [{\"marker\": {\"line\": {\"color\": \"#E5ECF6\", \"width\": 0.5}}, \"type\": \"barpolar\"}], \"carpet\": [{\"aaxis\": {\"endlinecolor\": \"#2a3f5f\", \"gridcolor\": \"white\", \"linecolor\": \"white\", \"minorgridcolor\": \"white\", \"startlinecolor\": \"#2a3f5f\"}, \"baxis\": {\"endlinecolor\": \"#2a3f5f\", \"gridcolor\": \"white\", \"linecolor\": \"white\", \"minorgridcolor\": \"white\", \"startlinecolor\": \"#2a3f5f\"}, \"type\": \"carpet\"}], \"choropleth\": [{\"colorbar\": {\"outlinewidth\": 0, \"ticks\": \"\"}, \"type\": \"choropleth\"}], \"contour\": [{\"colorbar\": {\"outlinewidth\": 0, \"ticks\": \"\"}, \"colorscale\": [[0.0, \"#0d0887\"], [0.1111111111111111, \"#46039f\"], [0.2222222222222222, \"#7201a8\"], [0.3333333333333333, \"#9c179e\"], [0.4444444444444444, \"#bd3786\"], [0.5555555555555556, \"#d8576b\"], [0.6666666666666666, \"#ed7953\"], [0.7777777777777778, \"#fb9f3a\"], [0.8888888888888888, \"#fdca26\"], [1.0, \"#f0f921\"]], \"type\": \"contour\"}], \"contourcarpet\": [{\"colorbar\": {\"outlinewidth\": 0, \"ticks\": \"\"}, \"type\": \"contourcarpet\"}], \"heatmap\": [{\"colorbar\": {\"outlinewidth\": 0, \"ticks\": \"\"}, \"colorscale\": [[0.0, \"#0d0887\"], [0.1111111111111111, \"#46039f\"], [0.2222222222222222, \"#7201a8\"], [0.3333333333333333, \"#9c179e\"], [0.4444444444444444, \"#bd3786\"], [0.5555555555555556, \"#d8576b\"], [0.6666666666666666, \"#ed7953\"], [0.7777777777777778, \"#fb9f3a\"], [0.8888888888888888, \"#fdca26\"], [1.0, \"#f0f921\"]], \"type\": \"heatmap\"}], \"heatmapgl\": [{\"colorbar\": {\"outlinewidth\": 0, \"ticks\": \"\"}, \"colorscale\": [[0.0, \"#0d0887\"], [0.1111111111111111, \"#46039f\"], [0.2222222222222222, \"#7201a8\"], [0.3333333333333333, \"#9c179e\"], [0.4444444444444444, \"#bd3786\"], [0.5555555555555556, \"#d8576b\"], [0.6666666666666666, \"#ed7953\"], [0.7777777777777778, \"#fb9f3a\"], [0.8888888888888888, \"#fdca26\"], [1.0, \"#f0f921\"]], \"type\": \"heatmapgl\"}], \"histogram\": [{\"marker\": {\"colorbar\": {\"outlinewidth\": 0, \"ticks\": \"\"}}, \"type\": \"histogram\"}], \"histogram2d\": [{\"colorbar\": {\"outlinewidth\": 0, \"ticks\": \"\"}, \"colorscale\": [[0.0, \"#0d0887\"], [0.1111111111111111, \"#46039f\"], [0.2222222222222222, \"#7201a8\"], [0.3333333333333333, \"#9c179e\"], [0.4444444444444444, \"#bd3786\"], [0.5555555555555556, \"#d8576b\"], [0.6666666666666666, \"#ed7953\"], [0.7777777777777778, \"#fb9f3a\"], [0.8888888888888888, \"#fdca26\"], [1.0, \"#f0f921\"]], \"type\": \"histogram2d\"}], \"histogram2dcontour\": [{\"colorbar\": {\"outlinewidth\": 0, \"ticks\": \"\"}, \"colorscale\": [[0.0, \"#0d0887\"], [0.1111111111111111, \"#46039f\"], [0.2222222222222222, \"#7201a8\"], [0.3333333333333333, \"#9c179e\"], [0.4444444444444444, \"#bd3786\"], [0.5555555555555556, \"#d8576b\"], [0.6666666666666666, \"#ed7953\"], [0.7777777777777778, \"#fb9f3a\"], [0.8888888888888888, \"#fdca26\"], [1.0, \"#f0f921\"]], \"type\": \"histogram2dcontour\"}], \"mesh3d\": [{\"colorbar\": {\"outlinewidth\": 0, \"ticks\": \"\"}, \"type\": \"mesh3d\"}], \"parcoords\": [{\"line\": {\"colorbar\": {\"outlinewidth\": 0, \"ticks\": \"\"}}, \"type\": \"parcoords\"}], \"pie\": [{\"automargin\": true, \"type\": \"pie\"}], \"scatter\": [{\"marker\": {\"colorbar\": {\"outlinewidth\": 0, \"ticks\": \"\"}}, \"type\": \"scatter\"}], \"scatter3d\": [{\"line\": {\"colorbar\": {\"outlinewidth\": 0, \"ticks\": \"\"}}, \"marker\": {\"colorbar\": {\"outlinewidth\": 0, \"ticks\": \"\"}}, \"type\": \"scatter3d\"}], \"scattercarpet\": [{\"marker\": {\"colorbar\": {\"outlinewidth\": 0, \"ticks\": \"\"}}, \"type\": \"scattercarpet\"}], \"scattergeo\": [{\"marker\": {\"colorbar\": {\"outlinewidth\": 0, \"ticks\": \"\"}}, \"type\": \"scattergeo\"}], \"scattergl\": [{\"marker\": {\"colorbar\": {\"outlinewidth\": 0, \"ticks\": \"\"}}, \"type\": \"scattergl\"}], \"scattermapbox\": [{\"marker\": {\"colorbar\": {\"outlinewidth\": 0, \"ticks\": \"\"}}, \"type\": \"scattermapbox\"}], \"scatterpolar\": [{\"marker\": {\"colorbar\": {\"outlinewidth\": 0, \"ticks\": \"\"}}, \"type\": \"scatterpolar\"}], \"scatterpolargl\": [{\"marker\": {\"colorbar\": {\"outlinewidth\": 0, \"ticks\": \"\"}}, \"type\": \"scatterpolargl\"}], \"scatterternary\": [{\"marker\": {\"colorbar\": {\"outlinewidth\": 0, \"ticks\": \"\"}}, \"type\": \"scatterternary\"}], \"surface\": [{\"colorbar\": {\"outlinewidth\": 0, \"ticks\": \"\"}, \"colorscale\": [[0.0, \"#0d0887\"], [0.1111111111111111, \"#46039f\"], [0.2222222222222222, \"#7201a8\"], [0.3333333333333333, \"#9c179e\"], [0.4444444444444444, \"#bd3786\"], [0.5555555555555556, \"#d8576b\"], [0.6666666666666666, \"#ed7953\"], [0.7777777777777778, \"#fb9f3a\"], [0.8888888888888888, \"#fdca26\"], [1.0, \"#f0f921\"]], \"type\": \"surface\"}], \"table\": [{\"cells\": {\"fill\": {\"color\": \"#EBF0F8\"}, \"line\": {\"color\": \"white\"}}, \"header\": {\"fill\": {\"color\": \"#C8D4E3\"}, \"line\": {\"color\": \"white\"}}, \"type\": \"table\"}]}, \"layout\": {\"annotationdefaults\": {\"arrowcolor\": \"#2a3f5f\", \"arrowhead\": 0, \"arrowwidth\": 1}, \"coloraxis\": {\"colorbar\": {\"outlinewidth\": 0, \"ticks\": \"\"}}, \"colorscale\": {\"diverging\": [[0, \"#8e0152\"], [0.1, \"#c51b7d\"], [0.2, \"#de77ae\"], [0.3, \"#f1b6da\"], [0.4, \"#fde0ef\"], [0.5, \"#f7f7f7\"], [0.6, \"#e6f5d0\"], [0.7, \"#b8e186\"], [0.8, \"#7fbc41\"], [0.9, \"#4d9221\"], [1, \"#276419\"]], \"sequential\": [[0.0, \"#0d0887\"], [0.1111111111111111, \"#46039f\"], [0.2222222222222222, \"#7201a8\"], [0.3333333333333333, \"#9c179e\"], [0.4444444444444444, \"#bd3786\"], [0.5555555555555556, \"#d8576b\"], [0.6666666666666666, \"#ed7953\"], [0.7777777777777778, \"#fb9f3a\"], [0.8888888888888888, \"#fdca26\"], [1.0, \"#f0f921\"]], \"sequentialminus\": [[0.0, \"#0d0887\"], [0.1111111111111111, \"#46039f\"], [0.2222222222222222, \"#7201a8\"], [0.3333333333333333, \"#9c179e\"], [0.4444444444444444, \"#bd3786\"], [0.5555555555555556, \"#d8576b\"], [0.6666666666666666, \"#ed7953\"], [0.7777777777777778, \"#fb9f3a\"], [0.8888888888888888, \"#fdca26\"], [1.0, \"#f0f921\"]]}, \"colorway\": [\"#636efa\", \"#EF553B\", \"#00cc96\", \"#ab63fa\", \"#FFA15A\", \"#19d3f3\", \"#FF6692\", \"#B6E880\", \"#FF97FF\", \"#FECB52\"], \"font\": {\"color\": \"#2a3f5f\"}, \"geo\": {\"bgcolor\": \"white\", \"lakecolor\": \"white\", \"landcolor\": \"#E5ECF6\", \"showlakes\": true, \"showland\": true, \"subunitcolor\": \"white\"}, \"hoverlabel\": {\"align\": \"left\"}, \"hovermode\": \"closest\", \"mapbox\": {\"style\": \"light\"}, \"paper_bgcolor\": \"white\", \"plot_bgcolor\": \"#E5ECF6\", \"polar\": {\"angularaxis\": {\"gridcolor\": \"white\", \"linecolor\": \"white\", \"ticks\": \"\"}, \"bgcolor\": \"#E5ECF6\", \"radialaxis\": {\"gridcolor\": \"white\", \"linecolor\": \"white\", \"ticks\": \"\"}}, \"scene\": {\"xaxis\": {\"backgroundcolor\": \"#E5ECF6\", \"gridcolor\": \"white\", \"gridwidth\": 2, \"linecolor\": \"white\", \"showbackground\": true, \"ticks\": \"\", \"zerolinecolor\": \"white\"}, \"yaxis\": {\"backgroundcolor\": \"#E5ECF6\", \"gridcolor\": \"white\", \"gridwidth\": 2, \"linecolor\": \"white\", \"showbackground\": true, \"ticks\": \"\", \"zerolinecolor\": \"white\"}, \"zaxis\": {\"backgroundcolor\": \"#E5ECF6\", \"gridcolor\": \"white\", \"gridwidth\": 2, \"linecolor\": \"white\", \"showbackground\": true, \"ticks\": \"\", \"zerolinecolor\": \"white\"}}, \"shapedefaults\": {\"line\": {\"color\": \"#2a3f5f\"}}, \"ternary\": {\"aaxis\": {\"gridcolor\": \"white\", \"linecolor\": \"white\", \"ticks\": \"\"}, \"baxis\": {\"gridcolor\": \"white\", \"linecolor\": \"white\", \"ticks\": \"\"}, \"bgcolor\": \"#E5ECF6\", \"caxis\": {\"gridcolor\": \"white\", \"linecolor\": \"white\", \"ticks\": \"\"}}, \"title\": {\"x\": 0.05}, \"xaxis\": {\"automargin\": true, \"gridcolor\": \"white\", \"linecolor\": \"white\", \"ticks\": \"\", \"title\": {\"standoff\": 15}, \"zerolinecolor\": \"white\", \"zerolinewidth\": 2}, \"yaxis\": {\"automargin\": true, \"gridcolor\": \"white\", \"linecolor\": \"white\", \"ticks\": \"\", \"title\": {\"standoff\": 15}, \"zerolinecolor\": \"white\", \"zerolinewidth\": 2}}}, \"title\": {\"text\": \"Hong Kong - Gradient boosting price predictions\"}, \"xaxis\": {\"title\": {\"text\": \"Index\"}}, \"yaxis\": {\"title\": {\"text\": \"Price\"}}},                        {\"responsive\": true}                    ).then(function(){\n",
       "                            \n",
       "var gd = document.getElementById('775d7fbe-784d-45d7-95af-7622c1a30623');\n",
       "var x = new MutationObserver(function (mutations, observer) {{\n",
       "        var display = window.getComputedStyle(gd).display;\n",
       "        if (!display || display === 'none') {{\n",
       "            console.log([gd, 'removed!']);\n",
       "            Plotly.purge(gd);\n",
       "            observer.disconnect();\n",
       "        }}\n",
       "}});\n",
       "\n",
       "// Listen for the removal of the full notebook cells\n",
       "var notebookContainer = gd.closest('#notebook-container');\n",
       "if (notebookContainer) {{\n",
       "    x.observe(notebookContainer, {childList: true});\n",
       "}}\n",
       "\n",
       "// Listen for the clearing of the current output cell\n",
       "var outputEl = gd.closest('.output');\n",
       "if (outputEl) {{\n",
       "    x.observe(outputEl, {childList: true});\n",
       "}}\n",
       "\n",
       "                        })                };                });            </script>        </div>"
      ]
     },
     "metadata": {},
     "output_type": "display_data"
    }
   ],
   "source": [
    "import plotly.graph_objs as go\n",
    "import plotly.express as px\n",
    "title=['Pred vs Actual']\n",
    "fig = go.Figure(data=[\n",
    "    go.Bar(name='Predicted', x=error_diff1.index, y=error_diff['Predicted Values']),\n",
    "    go.Bar(name='Actual', x=error_diff1.index, y=error_diff['Actual Values'])\n",
    "])\n",
    "\n",
    "fig.update_layout(barmode='group', title=\"Hong Kong - Gradient boosting price predictions\", yaxis = dict(title =\"Price\"), xaxis =dict(title=\"Index\"))\n",
    "fig.show()"
   ]
  },
  {
   "cell_type": "code",
   "execution_count": 48,
   "metadata": {},
   "outputs": [
    {
     "data": {
      "image/png": "[encoded data removed]",
      "text/plain": [
       "<Figure size 1152x576 with 1 Axes>"
      ]
     },
     "metadata": {
      "needs_background": "light"
     },
     "output_type": "display_data"
    }
   ],
   "source": [
    "plt.figure(figsize=(16,8))\n",
    "sns.regplot(predictions,y_test)\n",
    "plt.xlabel('Predictions')\n",
    "plt.ylabel('Actual')\n",
    "plt.title(\"Hong Kong - Gradient Boosting price predictions\")\n",
    "plt.show()"
   ]
  },
  {
   "cell_type": "code",
   "execution_count": 49,
   "metadata": {},
   "outputs": [],
   "source": [
    "# xgboost price predictions for hk\n",
    "import xgboost\n",
    "import warnings \n",
    "warnings.simplefilter(action='ignore')"
   ]
  },
  {
   "cell_type": "code",
   "execution_count": 50,
   "metadata": {},
   "outputs": [],
   "source": [
    "xgb = xgboost.XGBRegressor(n_estimators=310,learning_rate=0.1,objective='reg:squarederror')"
   ]
  },
  {
   "cell_type": "code",
   "execution_count": 51,
   "metadata": {},
   "outputs": [
    {
     "name": "stdout",
     "output_type": "stream",
     "text": [
      "MAE: 189.1131359079796\n",
      "MSE: 150159.72209731158\n",
      "RMSE: 387.5044800996649\n"
     ]
    }
   ],
   "source": [
    "xgb = xgboost.XGBRegressor(n_estimators=310,learning_rate=0.1,objective='reg:squarederror')\n",
    "xgb.fit(X_train,y_train)\n",
    "predictions = xgb.predict(X_test)\n",
    "print('MAE:', metrics.mean_absolute_error(y_test, predictions))\n",
    "print('MSE:', metrics.mean_squared_error(y_test, predictions))\n",
    "print('RMSE:', np.sqrt(metrics.mean_squared_error(y_test, predictions)))"
   ]
  },
  {
   "cell_type": "code",
   "execution_count": 52,
   "metadata": {},
   "outputs": [
    {
     "data": {
      "application/vnd.plotly.v1+json": {
       "config": {
        "plotlyServerURL": "https://plot.ly"
       },
       "data": [
        {
         "name": "Predicted",
         "type": "bar",
         "x": [
          0,
          1,
          2,
          3,
          4,
          5,
          6,
          7,
          8,
          9,
          10,
          11,
          12,
          13,
          14,
          15,
          16,
          17,
          18,
          19
         ],
         "y": [
          144.95469665527344,
          473.1920471191406,
          1304.13330078125,
          399.94964599609375,
          833.167236328125,
          367.9723815917969,
          121.84274291992188,
          239.91273498535156,
          238.41041564941406,
          405.9902648925781,
          435.88787841796875,
          241.6414337158203,
          606.7705078125,
          531.5518188476562,
          447.360595703125,
          1106.0009765625,
          971.5806274414062,
          402.7833557128906,
          733.57666015625,
          716.5485229492188,
          280.52764892578125,
          661.2369995117188,
          110.00959014892578,
          505.6296691894531,
          792.1700439453125,
          283.0191955566406,
          500.6402587890625,
          899.8610229492188,
          568.065673828125,
          123.96670532226562,
          422.32550048828125,
          428.86871337890625,
          122.7176513671875,
          1053.6583251953125,
          349.5594787597656,
          348.3916015625,
          1902.6124267578125,
          172.83023071289062,
          713.4955444335938,
          469.2420654296875,
          942.5270385742188,
          127.63481140136719,
          100.61355590820312,
          252.82876586914062,
          647.88232421875,
          849.0396118164062,
          547.7017211914062,
          730.321044921875,
          333.1637878417969,
          781.15185546875,
          326.4346008300781,
          928.58837890625,
          340.2079162597656,
          340.1876220703125,
          1100.0458984375,
          975.6491088867188,
          219.23007202148438,
          1028.7891845703125,
          1468.4591064453125,
          359.403076171875,
          994.7659912109375,
          249.4254608154297,
          413.8446350097656,
          379.5735778808594,
          2513.56201171875,
          430.7285461425781,
          1652.8951416015625,
          929.3018188476562,
          777.1007080078125,
          381.4300231933594,
          677.0725708007812,
          231.34751892089844,
          1069.8602294921875,
          366.28485107421875,
          1895.6295166015625,
          958.302490234375,
          323.6983947753906,
          467.55804443359375,
          1656.2564697265625,
          431.6062316894531,
          118.23193359375,
          1721.3612060546875,
          1078.5921630859375,
          924.913818359375,
          2591.65478515625,
          575.9810180664062,
          641.4752807617188,
          417.64788818359375,
          883.7843627929688,
          390.47894287109375,
          1493.585693359375,
          583.584716796875,
          874.0576782226562,
          621.0933227539062,
          195.58731079101562,
          373.99334716796875,
          612.0400390625,
          1556.548095703125,
          1198.59765625,
          582.6080322265625,
          107.0987548828125,
          394.9277038574219,
          619.1300659179688,
          914.1956176757812,
          849.3939819335938,
          319.7708435058594,
          394.1524658203125,
          293.4649658203125,
          267.3046875,
          1003.261474609375,
          1179.6217041015625,
          302.48699951171875,
          417.864501953125,
          437.8776550292969,
          786.5250244140625,
          575.5150146484375,
          389.5628662109375,
          2317.247314453125,
          260.4790344238281,
          1441.1685791015625,
          637.20458984375,
          260.94232177734375,
          539.5026245117188,
          277.43914794921875,
          317.0162658691406,
          1727.5985107421875,
          1321.3582763671875,
          252.2007293701172,
          956.0426025390625,
          1115.9146728515625,
          686.1935424804688,
          403.1914367675781,
          904.9341430664062,
          565.8078002929688,
          332.28350830078125,
          290.7198181152344,
          266.776123046875,
          215.1573944091797,
          260.0824279785156,
          1220.089599609375,
          869.3732299804688,
          396.58380126953125,
          452.4554138183594,
          432.9579162597656,
          884.2781982421875,
          1261.524658203125,
          206.1297607421875,
          243.34619140625,
          799.3134765625,
          168.7234649658203,
          268.7786560058594,
          622.3306274414062,
          482.18133544921875,
          269.5425109863281,
          608.7421875,
          298.0628967285156,
          220.4036865234375,
          462.96868896484375,
          1153.722412109375,
          651.8444213867188,
          422.3521423339844,
          1615.5489501953125,
          288.8115234375,
          942.69970703125,
          1029.7734375,
          219.10296630859375,
          400.2022705078125,
          634.2506103515625,
          216.390380859375,
          1031.5433349609375,
          343.5772705078125,
          1151.0994873046875,
          543.8807983398438,
          298.8879089355469,
          185.2595977783203,
          337.782470703125,
          486.9741516113281,
          162.65830993652344,
          450.8657531738281,
          564.7236328125,
          678.8592529296875,
          284.2832946777344,
          838.1318359375,
          522.8016357421875,
          419.5638427734375,
          1076.14892578125,
          1065.847412109375,
          274.3636779785156,
          459.1109619140625,
          211.66001892089844,
          549.1233520507812,
          460.1531677246094,
          288.14251708984375,
          1373.6488037109375,
          517.5791015625,
          234.31204223632812,
          326.648193359375,
          312.1802978515625,
          579.6605224609375,
          485.18487548828125,
          1166.372802734375,
          775.0936889648438,
          103.33997344970703,
          180.75755310058594,
          287.0789794921875,
          360.068603515625,
          180.47293090820312,
          161.10020446777344,
          3978.212890625,
          1170.040283203125,
          393.40716552734375,
          392.0281066894531,
          1400.615234375,
          2050.763916015625,
          260.22216796875,
          169.3415985107422,
          427.99017333984375,
          379.2008056640625,
          442.14068603515625,
          478.1949768066406,
          686.3001098632812,
          248.21046447753906,
          403.13763427734375,
          189.6182098388672,
          615.5631713867188,
          438.4610595703125,
          1472.283935546875,
          458.6977233886719,
          179.4861297607422,
          366.9892578125,
          1205.203125,
          737.2797241210938,
          1093.0230712890625,
          1962.352294921875,
          268.1495666503906,
          320.12628173828125,
          1021.8405151367188,
          711.9707641601562,
          821.0938110351562,
          678.4164428710938,
          260.5665588378906,
          1041.262451171875,
          397.6678466796875,
          791.8320922851562,
          942.1416015625,
          1048.27587890625,
          457.8585510253906,
          911.38232421875,
          478.29443359375,
          415.7076416015625,
          2769.37255859375,
          289.1335144042969,
          1574.48046875,
          2893.644775390625,
          375.6269226074219,
          167.66160583496094,
          383.28643798828125,
          671.837158203125,
          1005.9912719726562,
          1717.3857421875,
          709.3365478515625,
          292.2592468261719,
          826.3583374023438,
          554.496337890625,
          388.4053649902344,
          408.43121337890625,
          568.0160522460938,
          258.5443420410156,
          1121.2236328125,
          326.30291748046875,
          416.980224609375,
          713.4791259765625,
          178.10472106933594,
          496.25018310546875,
          672.2169799804688,
          594.0537719726562,
          1202.392578125,
          1453.096923828125,
          307.0140686035156,
          524.8765869140625,
          342.4443664550781,
          782.453369140625,
          359.97686767578125,
          1401.8228759765625,
          1089.0272216796875,
          220.9627227783203,
          541.8849487304688,
          651.254150390625,
          141.3869171142578,
          1584.208251953125,
          1099.104248046875,
          452.4291076660156,
          1258.409912109375,
          242.8194580078125,
          467.9507141113281,
          151.5897216796875,
          316.03546142578125,
          560.9669189453125,
          457.247802734375,
          526.2174072265625,
          360.8818359375,
          498.0988464355469,
          188.0496063232422,
          878.4483032226562,
          271.8098449707031,
          437.99676513671875,
          324.81494140625,
          528.4237060546875,
          353.5213623046875,
          361.3587341308594,
          107.24971771240234,
          241.54690551757812,
          521.1474609375,
          520.2911376953125,
          1272.2242431640625,
          644.1998291015625,
          331.791015625,
          359.8258972167969,
          358.1949768066406,
          366.3634948730469,
          525.4962768554688,
          209.25674438476562,
          375.6430358886719,
          585.26904296875,
          384.7165222167969,
          538.529052734375,
          686.9369506835938,
          420.6801452636719,
          140.69692993164062,
          439.473876953125,
          354.52020263671875,
          515.5379638671875,
          231.99330139160156,
          582.9144897460938,
          222.6809844970703,
          261.5436706542969,
          407.5038146972656,
          169.73190307617188,
          464.9821472167969,
          991.1651611328125,
          299.9831848144531,
          384.6281433105469,
          195.14463806152344,
          259.8493347167969,
          278.9562683105469,
          525.7495727539062,
          262.09332275390625,
          503.80206298828125,
          413.6802062988281,
          503.5047607421875,
          264.843017578125,
          488.0310974121094,
          634.0411987304688,
          611.223876953125,
          295.6080322265625,
          304.4242248535156,
          156.30882263183594,
          1225.0142822265625,
          366.3362121582031,
          339.5245361328125,
          1231.3387451171875,
          270.0439453125,
          419.8749084472656,
          749.9937133789062,
          365.08709716796875,
          312.89630126953125,
          486.2005615234375,
          218.8468780517578,
          274.1186828613281,
          498.0194091796875,
          442.0506591796875,
          822.1612548828125,
          402.18548583984375,
          928.1214599609375,
          241.44656372070312,
          363.80841064453125,
          683.8663940429688,
          481.0730285644531,
          435.38201904296875,
          396.72271728515625,
          846.11669921875,
          339.69927978515625,
          476.066162109375,
          821.235107421875,
          388.2809143066406,
          115.98345184326172,
          186.19171142578125,
          692.9317626953125,
          288.0026550292969,
          163.1473388671875,
          1327.1773681640625,
          1658.8701171875,
          240.87957763671875,
          316.6239013671875,
          515.4092407226562,
          228.29122924804688,
          1217.728515625,
          850.8184814453125,
          116.07322692871094,
          290.8316955566406,
          847.472900390625,
          478.82244873046875,
          583.36328125,
          190.3759765625,
          749.088623046875,
          400.3870849609375,
          427.84075927734375,
          296.63299560546875,
          311.3974304199219,
          607.1287231445312,
          545.8815307617188,
          831.0299682617188,
          1149.916259765625,
          507.1291198730469,
          343.0868225097656,
          292.5728759765625,
          410.19183349609375,
          1079.033203125,
          436.48431396484375,
          343.4572448730469,
          465.3526306152344,
          371.4966125488281,
          237.82420349121094,
          182.16323852539062,
          463.72119140625,
          1036.508056640625,
          1374.2193603515625,
          1771.51171875,
          344.55413818359375,
          546.8969116210938,
          1244.128662109375,
          893.6594848632812,
          573.9728393554688,
          388.4527893066406,
          732.0801391601562,
          161.47410583496094,
          921.4947509765625,
          473.9537048339844,
          1263.0478515625,
          979.6425170898438,
          627.5541381835938,
          368.7241516113281,
          598.3341674804688,
          248.9221649169922,
          1270.8050537109375,
          501.5628662109375,
          472.72918701171875,
          857.9060668945312,
          1756.2451171875,
          1899.5240478515625,
          108.13213348388672,
          3347.480712890625,
          548.1491088867188,
          472.1518859863281,
          366.4683532714844,
          238.12428283691406,
          363.05584716796875,
          499.4709167480469,
          780.37451171875,
          434.0093078613281,
          673.9662475585938,
          627.3729858398438,
          685.4519653320312,
          501.9634704589844,
          731.7283325195312,
          412.1181335449219,
          564.422119140625,
          462.0743713378906,
          393.32977294921875,
          701.4426879882812,
          445.619384765625,
          381.78521728515625,
          844.3736572265625,
          886.9783325195312,
          475.3073425292969,
          430.1045837402344,
          974.063232421875,
          1176.245849609375,
          857.6948852539062,
          317.0592346191406,
          1538.897705078125,
          326.6541442871094,
          212.84219360351562,
          321.08575439453125,
          298.2664794921875,
          819.0833129882812,
          395.8429260253906,
          406.0528869628906,
          1040.712646484375,
          200.50990295410156,
          301.89605712890625,
          205.9711456298828,
          393.5347595214844,
          216.42276000976562,
          1656.399169921875,
          438.0176696777344,
          272.88336181640625,
          295.3953552246094,
          136.99151611328125,
          1077.5421142578125,
          226.11985778808594,
          378.77044677734375,
          733.6649780273438,
          655.0475463867188,
          213.6383819580078,
          167.75692749023438,
          293.4314270019531,
          191.2557830810547,
          593.9495849609375,
          1257.170166015625,
          1284.7625732421875,
          2013.77294921875,
          511.8887634277344,
          417.2114562988281,
          85.00257110595703,
          141.77883911132812,
          801.66552734375,
          318.89801025390625,
          1432.12451171875,
          396.4741516113281,
          214.65614318847656,
          1115.099365234375,
          1390.724609375,
          486.292724609375,
          543.8291015625,
          631.8350830078125,
          463.0254821777344,
          1399.1014404296875,
          1139.478271484375,
          553.8804931640625,
          1183.7852783203125,
          352.01898193359375,
          1708.78076171875,
          2609.2197265625,
          378.3887939453125,
          426.73565673828125,
          464.8067321777344,
          2452.0771484375,
          613.4303588867188,
          957.7233276367188,
          1659.5147705078125,
          298.66436767578125,
          551.9893188476562,
          707.6121215820312,
          292.1615905761719,
          567.2499389648438,
          498.7046813964844,
          653.3486938476562,
          664.5242309570312,
          415.9587097167969,
          530.3079223632812,
          429.1044921875,
          1405.7376708984375,
          122.27782440185547,
          432.7003173828125,
          435.10711669921875,
          416.0911865234375
         ]
        },
        {
         "name": "Actual",
         "type": "bar",
         "x": [
          0,
          1,
          2,
          3,
          4,
          5,
          6,
          7,
          8,
          9,
          10,
          11,
          12,
          13,
          14,
          15,
          16,
          17,
          18,
          19
         ],
         "y": [
          125,
          350,
          1379,
          250,
          500,
          400,
          160,
          200,
          294,
          438,
          679,
          228,
          899,
          600,
          250,
          930,
          686,
          333,
          997,
          3000,
          180,
          464,
          104,
          564,
          830,
          219,
          280,
          600,
          450,
          230,
          450,
          150,
          115,
          1157,
          328,
          344,
          2800,
          198,
          609,
          800,
          800,
          159,
          115,
          300,
          514,
          1500,
          529,
          1600,
          252,
          680,
          300,
          688,
          171,
          349,
          690,
          1008,
          177,
          1450,
          1195,
          480,
          1000,
          310,
          331,
          298,
          2857,
          1900,
          1367,
          700,
          679,
          350,
          680,
          205,
          1447,
          289,
          1487,
          707,
          272,
          234,
          1800,
          218,
          115,
          1000,
          620,
          922,
          4320,
          989,
          500,
          258,
          455,
          228,
          1657,
          825,
          800,
          985,
          115,
          1420,
          651,
          1200,
          1136,
          450,
          110,
          214,
          493,
          1000,
          747,
          300,
          359,
          396,
          290,
          484,
          800,
          322,
          850,
          359,
          550,
          433,
          400,
          650,
          298,
          1323,
          422,
          270,
          450,
          371,
          466,
          2000,
          952,
          167,
          808,
          800,
          3000,
          280,
          778,
          466,
          250,
          156,
          271,
          145,
          400,
          1470,
          1000,
          500,
          450,
          300,
          581,
          1486,
          171,
          171,
          793,
          156,
          287,
          690,
          500,
          400,
          620,
          270,
          202,
          290,
          800,
          500,
          364,
          900,
          498,
          590,
          988,
          198,
          350,
          705,
          220,
          779,
          440,
          605,
          1100,
          280,
          198,
          127,
          499,
          150,
          200,
          542,
          713,
          186,
          755,
          330,
          528,
          1314,
          1158,
          200,
          550,
          231,
          429,
          446,
          224,
          745,
          472,
          175,
          380,
          371,
          557,
          1772,
          800,
          1439,
          108,
          129,
          225,
          547,
          150,
          177,
          1600,
          1700,
          288,
          400,
          1500,
          1814,
          181,
          170,
          428,
          400,
          179,
          460,
          464,
          236,
          590,
          236,
          250,
          500,
          1400,
          490,
          280,
          400,
          1500,
          603,
          534,
          1131,
          130,
          350,
          850,
          96,
          1071,
          680,
          269,
          1100,
          321,
          640,
          950,
          921,
          359,
          1423,
          331,
          414,
          1500,
          220,
          2800,
          2500,
          336,
          160,
          235,
          650,
          1057,
          1199,
          657,
          289,
          5440,
          299,
          359,
          300,
          550,
          216,
          969,
          388,
          195,
          365,
          170,
          488,
          273,
          380,
          972,
          1100,
          300,
          400,
          334,
          600,
          370,
          860,
          87,
          205,
          570,
          700,
          120,
          786,
          866,
          321,
          1000,
          210,
          354,
          134,
          300,
          529,
          321,
          309,
          635,
          443,
          185,
          277,
          200,
          414,
          480,
          380,
          261,
          230,
          121,
          300,
          554,
          1999,
          1471,
          400,
          196,
          350,
          300,
          350,
          329,
          213,
          441,
          500,
          415,
          664,
          315,
          328,
          175,
          390,
          220,
          462,
          158,
          523,
          227,
          221,
          567,
          380,
          162,
          840,
          371,
          340,
          221,
          199,
          220,
          421,
          280,
          546,
          370,
          331,
          279,
          480,
          886,
          468,
          194,
          250,
          181,
          911,
          282,
          360,
          1424,
          321,
          420,
          250,
          280,
          350,
          230,
          180,
          240,
          483,
          277,
          320,
          316,
          654,
          337,
          307,
          598,
          367,
          420,
          250,
          764,
          150,
          354,
          400,
          350,
          98,
          180,
          610,
          380,
          130,
          1033,
          2244,
          200,
          304,
          421,
          200,
          1500,
          780,
          300,
          272,
          890,
          566,
          695,
          150,
          683,
          329,
          276,
          272,
          147,
          1007,
          500,
          624,
          950,
          400,
          329,
          420,
          350,
          837,
          191,
          373,
          379,
          500,
          120,
          220,
          404,
          932,
          760,
          1800,
          350,
          762,
          1150,
          1057,
          450,
          415,
          459,
          180,
          250,
          1080,
          1195,
          1157,
          259,
          230,
          430,
          480,
          1000,
          529,
          328,
          669,
          1189,
          612,
          150,
          2500,
          650,
          219,
          400,
          240,
          400,
          380,
          1314,
          650,
          707,
          527,
          572,
          554,
          732,
          400,
          550,
          500,
          448,
          530,
          400,
          432,
          850,
          1000,
          500,
          350,
          900,
          1043,
          561,
          330,
          1560,
          264,
          216,
          300,
          220,
          643,
          250,
          423,
          540,
          180,
          314,
          190,
          250,
          319,
          1800,
          450,
          299,
          371,
          131,
          1588,
          180,
          299,
          750,
          790,
          200,
          138,
          307,
          202,
          459,
          1147,
          1157,
          2000,
          1086,
          600,
          229,
          142,
          570,
          500,
          1180,
          170,
          127,
          1300,
          1100,
          526,
          420,
          300,
          450,
          280,
          988,
          356,
          407,
          400,
          793,
          2800,
          340,
          414,
          400,
          2171,
          650,
          886,
          2186,
          221,
          275,
          328,
          230,
          871,
          270,
          680,
          285,
          302,
          507,
          350,
          1100,
          210,
          450,
          327,
          426
         ]
        }
       ],
       "layout": {
        "barmode": "group",
        "template": {
         "data": {
          "bar": [
           {
            "error_x": {
             "color": "#2a3f5f"
            },
            "error_y": {
             "color": "#2a3f5f"
            },
            "marker": {
             "line": {
              "color": "#E5ECF6",
              "width": 0.5
             }
            },
            "type": "bar"
           }
          ],
          "barpolar": [
           {
            "marker": {
             "line": {
              "color": "#E5ECF6",
              "width": 0.5
             }
            },
            "type": "barpolar"
           }
          ],
          "carpet": [
           {
            "aaxis": {
             "endlinecolor": "#2a3f5f",
             "gridcolor": "white",
             "linecolor": "white",
             "minorgridcolor": "white",
             "startlinecolor": "#2a3f5f"
            },
            "baxis": {
             "endlinecolor": "#2a3f5f",
             "gridcolor": "white",
             "linecolor": "white",
             "minorgridcolor": "white",
             "startlinecolor": "#2a3f5f"
            },
            "type": "carpet"
           }
          ],
          "choropleth": [
           {
            "colorbar": {
             "outlinewidth": 0,
             "ticks": ""
            },
            "type": "choropleth"
           }
          ],
          "contour": [
           {
            "colorbar": {
             "outlinewidth": 0,
             "ticks": ""
            },
            "colorscale": [
             [
              0,
              "#0d0887"
             ],
             [
              0.1111111111111111,
              "#46039f"
             ],
             [
              0.2222222222222222,
              "#7201a8"
             ],
             [
              0.3333333333333333,
              "#9c179e"
             ],
             [
              0.4444444444444444,
              "#bd3786"
             ],
             [
              0.5555555555555556,
              "#d8576b"
             ],
             [
              0.6666666666666666,
              "#ed7953"
             ],
             [
              0.7777777777777778,
              "#fb9f3a"
             ],
             [
              0.8888888888888888,
              "#fdca26"
             ],
             [
              1,
              "#f0f921"
             ]
            ],
            "type": "contour"
           }
          ],
          "contourcarpet": [
           {
            "colorbar": {
             "outlinewidth": 0,
             "ticks": ""
            },
            "type": "contourcarpet"
           }
          ],
          "heatmap": [
           {
            "colorbar": {
             "outlinewidth": 0,
             "ticks": ""
            },
            "colorscale": [
             [
              0,
              "#0d0887"
             ],
             [
              0.1111111111111111,
              "#46039f"
             ],
             [
              0.2222222222222222,
              "#7201a8"
             ],
             [
              0.3333333333333333,
              "#9c179e"
             ],
             [
              0.4444444444444444,
              "#bd3786"
             ],
             [
              0.5555555555555556,
              "#d8576b"
             ],
             [
              0.6666666666666666,
              "#ed7953"
             ],
             [
              0.7777777777777778,
              "#fb9f3a"
             ],
             [
              0.8888888888888888,
              "#fdca26"
             ],
             [
              1,
              "#f0f921"
             ]
            ],
            "type": "heatmap"
           }
          ],
          "heatmapgl": [
           {
            "colorbar": {
             "outlinewidth": 0,
             "ticks": ""
            },
            "colorscale": [
             [
              0,
              "#0d0887"
             ],
             [
              0.1111111111111111,
              "#46039f"
             ],
             [
              0.2222222222222222,
              "#7201a8"
             ],
             [
              0.3333333333333333,
              "#9c179e"
             ],
             [
              0.4444444444444444,
              "#bd3786"
             ],
             [
              0.5555555555555556,
              "#d8576b"
             ],
             [
              0.6666666666666666,
              "#ed7953"
             ],
             [
              0.7777777777777778,
              "#fb9f3a"
             ],
             [
              0.8888888888888888,
              "#fdca26"
             ],
             [
              1,
              "#f0f921"
             ]
            ],
            "type": "heatmapgl"
           }
          ],
          "histogram": [
           {
            "marker": {
             "colorbar": {
              "outlinewidth": 0,
              "ticks": ""
             }
            },
            "type": "histogram"
           }
          ],
          "histogram2d": [
           {
            "colorbar": {
             "outlinewidth": 0,
             "ticks": ""
            },
            "colorscale": [
             [
              0,
              "#0d0887"
             ],
             [
              0.1111111111111111,
              "#46039f"
             ],
             [
              0.2222222222222222,
              "#7201a8"
             ],
             [
              0.3333333333333333,
              "#9c179e"
             ],
             [
              0.4444444444444444,
              "#bd3786"
             ],
             [
              0.5555555555555556,
              "#d8576b"
             ],
             [
              0.6666666666666666,
              "#ed7953"
             ],
             [
              0.7777777777777778,
              "#fb9f3a"
             ],
             [
              0.8888888888888888,
              "#fdca26"
             ],
             [
              1,
              "#f0f921"
             ]
            ],
            "type": "histogram2d"
           }
          ],
          "histogram2dcontour": [
           {
            "colorbar": {
             "outlinewidth": 0,
             "ticks": ""
            },
            "colorscale": [
             [
              0,
              "#0d0887"
             ],
             [
              0.1111111111111111,
              "#46039f"
             ],
             [
              0.2222222222222222,
              "#7201a8"
             ],
             [
              0.3333333333333333,
              "#9c179e"
             ],
             [
              0.4444444444444444,
              "#bd3786"
             ],
             [
              0.5555555555555556,
              "#d8576b"
             ],
             [
              0.6666666666666666,
              "#ed7953"
             ],
             [
              0.7777777777777778,
              "#fb9f3a"
             ],
             [
              0.8888888888888888,
              "#fdca26"
             ],
             [
              1,
              "#f0f921"
             ]
            ],
            "type": "histogram2dcontour"
           }
          ],
          "mesh3d": [
           {
            "colorbar": {
             "outlinewidth": 0,
             "ticks": ""
            },
            "type": "mesh3d"
           }
          ],
          "parcoords": [
           {
            "line": {
             "colorbar": {
              "outlinewidth": 0,
              "ticks": ""
             }
            },
            "type": "parcoords"
           }
          ],
          "pie": [
           {
            "automargin": true,
            "type": "pie"
           }
          ],
          "scatter": [
           {
            "marker": {
             "colorbar": {
              "outlinewidth": 0,
              "ticks": ""
             }
            },
            "type": "scatter"
           }
          ],
          "scatter3d": [
           {
            "line": {
             "colorbar": {
              "outlinewidth": 0,
              "ticks": ""
             }
            },
            "marker": {
             "colorbar": {
              "outlinewidth": 0,
              "ticks": ""
             }
            },
            "type": "scatter3d"
           }
          ],
          "scattercarpet": [
           {
            "marker": {
             "colorbar": {
              "outlinewidth": 0,
              "ticks": ""
             }
            },
            "type": "scattercarpet"
           }
          ],
          "scattergeo": [
           {
            "marker": {
             "colorbar": {
              "outlinewidth": 0,
              "ticks": ""
             }
            },
            "type": "scattergeo"
           }
          ],
          "scattergl": [
           {
            "marker": {
             "colorbar": {
              "outlinewidth": 0,
              "ticks": ""
             }
            },
            "type": "scattergl"
           }
          ],
          "scattermapbox": [
           {
            "marker": {
             "colorbar": {
              "outlinewidth": 0,
              "ticks": ""
             }
            },
            "type": "scattermapbox"
           }
          ],
          "scatterpolar": [
           {
            "marker": {
             "colorbar": {
              "outlinewidth": 0,
              "ticks": ""
             }
            },
            "type": "scatterpolar"
           }
          ],
          "scatterpolargl": [
           {
            "marker": {
             "colorbar": {
              "outlinewidth": 0,
              "ticks": ""
             }
            },
            "type": "scatterpolargl"
           }
          ],
          "scatterternary": [
           {
            "marker": {
             "colorbar": {
              "outlinewidth": 0,
              "ticks": ""
             }
            },
            "type": "scatterternary"
           }
          ],
          "surface": [
           {
            "colorbar": {
             "outlinewidth": 0,
             "ticks": ""
            },
            "colorscale": [
             [
              0,
              "#0d0887"
             ],
             [
              0.1111111111111111,
              "#46039f"
             ],
             [
              0.2222222222222222,
              "#7201a8"
             ],
             [
              0.3333333333333333,
              "#9c179e"
             ],
             [
              0.4444444444444444,
              "#bd3786"
             ],
             [
              0.5555555555555556,
              "#d8576b"
             ],
             [
              0.6666666666666666,
              "#ed7953"
             ],
             [
              0.7777777777777778,
              "#fb9f3a"
             ],
             [
              0.8888888888888888,
              "#fdca26"
             ],
             [
              1,
              "#f0f921"
             ]
            ],
            "type": "surface"
           }
          ],
          "table": [
           {
            "cells": {
             "fill": {
              "color": "#EBF0F8"
             },
             "line": {
              "color": "white"
             }
            },
            "header": {
             "fill": {
              "color": "#C8D4E3"
             },
             "line": {
              "color": "white"
             }
            },
            "type": "table"
           }
          ]
         },
         "layout": {
          "annotationdefaults": {
           "arrowcolor": "#2a3f5f",
           "arrowhead": 0,
           "arrowwidth": 1
          },
          "coloraxis": {
           "colorbar": {
            "outlinewidth": 0,
            "ticks": ""
           }
          },
          "colorscale": {
           "diverging": [
            [
             0,
             "#8e0152"
            ],
            [
             0.1,
             "#c51b7d"
            ],
            [
             0.2,
             "#de77ae"
            ],
            [
             0.3,
             "#f1b6da"
            ],
            [
             0.4,
             "#fde0ef"
            ],
            [
             0.5,
             "#f7f7f7"
            ],
            [
             0.6,
             "#e6f5d0"
            ],
            [
             0.7,
             "#b8e186"
            ],
            [
             0.8,
             "#7fbc41"
            ],
            [
             0.9,
             "#4d9221"
            ],
            [
             1,
             "#276419"
            ]
           ],
           "sequential": [
            [
             0,
             "#0d0887"
            ],
            [
             0.1111111111111111,
             "#46039f"
            ],
            [
             0.2222222222222222,
             "#7201a8"
            ],
            [
             0.3333333333333333,
             "#9c179e"
            ],
            [
             0.4444444444444444,
             "#bd3786"
            ],
            [
             0.5555555555555556,
             "#d8576b"
            ],
            [
             0.6666666666666666,
             "#ed7953"
            ],
            [
             0.7777777777777778,
             "#fb9f3a"
            ],
            [
             0.8888888888888888,
             "#fdca26"
            ],
            [
             1,
             "#f0f921"
            ]
           ],
           "sequentialminus": [
            [
             0,
             "#0d0887"
            ],
            [
             0.1111111111111111,
             "#46039f"
            ],
            [
             0.2222222222222222,
             "#7201a8"
            ],
            [
             0.3333333333333333,
             "#9c179e"
            ],
            [
             0.4444444444444444,
             "#bd3786"
            ],
            [
             0.5555555555555556,
             "#d8576b"
            ],
            [
             0.6666666666666666,
             "#ed7953"
            ],
            [
             0.7777777777777778,
             "#fb9f3a"
            ],
            [
             0.8888888888888888,
             "#fdca26"
            ],
            [
             1,
             "#f0f921"
            ]
           ]
          },
          "colorway": [
           "#636efa",
           "#EF553B",
           "#00cc96",
           "#ab63fa",
           "#FFA15A",
           "#19d3f3",
           "#FF6692",
           "#B6E880",
           "#FF97FF",
           "#FECB52"
          ],
          "font": {
           "color": "#2a3f5f"
          },
          "geo": {
           "bgcolor": "white",
           "lakecolor": "white",
           "landcolor": "#E5ECF6",
           "showlakes": true,
           "showland": true,
           "subunitcolor": "white"
          },
          "hoverlabel": {
           "align": "left"
          },
          "hovermode": "closest",
          "mapbox": {
           "style": "light"
          },
          "paper_bgcolor": "white",
          "plot_bgcolor": "#E5ECF6",
          "polar": {
           "angularaxis": {
            "gridcolor": "white",
            "linecolor": "white",
            "ticks": ""
           },
           "bgcolor": "#E5ECF6",
           "radialaxis": {
            "gridcolor": "white",
            "linecolor": "white",
            "ticks": ""
           }
          },
          "scene": {
           "xaxis": {
            "backgroundcolor": "#E5ECF6",
            "gridcolor": "white",
            "gridwidth": 2,
            "linecolor": "white",
            "showbackground": true,
            "ticks": "",
            "zerolinecolor": "white"
           },
           "yaxis": {
            "backgroundcolor": "#E5ECF6",
            "gridcolor": "white",
            "gridwidth": 2,
            "linecolor": "white",
            "showbackground": true,
            "ticks": "",
            "zerolinecolor": "white"
           },
           "zaxis": {
            "backgroundcolor": "#E5ECF6",
            "gridcolor": "white",
            "gridwidth": 2,
            "linecolor": "white",
            "showbackground": true,
            "ticks": "",
            "zerolinecolor": "white"
           }
          },
          "shapedefaults": {
           "line": {
            "color": "#2a3f5f"
           }
          },
          "ternary": {
           "aaxis": {
            "gridcolor": "white",
            "linecolor": "white",
            "ticks": ""
           },
           "baxis": {
            "gridcolor": "white",
            "linecolor": "white",
            "ticks": ""
           },
           "bgcolor": "#E5ECF6",
           "caxis": {
            "gridcolor": "white",
            "linecolor": "white",
            "ticks": ""
           }
          },
          "title": {
           "x": 0.05
          },
          "xaxis": {
           "automargin": true,
           "gridcolor": "white",
           "linecolor": "white",
           "ticks": "",
           "title": {
            "standoff": 15
           },
           "zerolinecolor": "white",
           "zerolinewidth": 2
          },
          "yaxis": {
           "automargin": true,
           "gridcolor": "white",
           "linecolor": "white",
           "ticks": "",
           "title": {
            "standoff": 15
           },
           "zerolinecolor": "white",
           "zerolinewidth": 2
          }
         }
        },
        "title": {
         "text": "Hong Kong - XGBoost price predictions"
        },
        "xaxis": {
         "title": {
          "text": "Index"
         }
        },
        "yaxis": {
         "title": {
          "text": "Price"
         }
        }
       }
      },
      "text/html": [
       "<div>                            <div id=\"09f85cd1-842a-48b4-8404-384a516abaac\" class=\"plotly-graph-div\" style=\"height:525px; width:100%;\"></div>            <script type=\"text/javascript\">                require([\"plotly\"], function(Plotly) {                    window.PLOTLYENV=window.PLOTLYENV || {};                                    if (document.getElementById(\"09f85cd1-842a-48b4-8404-384a516abaac\")) {                    Plotly.newPlot(                        \"09f85cd1-842a-48b4-8404-384a516abaac\",                        [{\"name\": \"Predicted\", \"type\": \"bar\", \"x\": [0, 1, 2, 3, 4, 5, 6, 7, 8, 9, 10, 11, 12, 13, 14, 15, 16, 17, 18, 19], \"y\": [144.95469665527344, 473.1920471191406, 1304.13330078125, 399.94964599609375, 833.167236328125, 367.9723815917969, 121.84274291992188, 239.91273498535156, 238.41041564941406, 405.9902648925781, 435.88787841796875, 241.6414337158203, 606.7705078125, 531.5518188476562, 447.360595703125, 1106.0009765625, 971.5806274414062, 402.7833557128906, 733.57666015625, 716.5485229492188, 280.52764892578125, 661.2369995117188, 110.00959014892578, 505.6296691894531, 792.1700439453125, 283.0191955566406, 500.6402587890625, 899.8610229492188, 568.065673828125, 123.96670532226562, 422.32550048828125, 428.86871337890625, 122.7176513671875, 1053.6583251953125, 349.5594787597656, 348.3916015625, 1902.6124267578125, 172.83023071289062, 713.4955444335938, 469.2420654296875, 942.5270385742188, 127.63481140136719, 100.61355590820312, 252.82876586914062, 647.88232421875, 849.0396118164062, 547.7017211914062, 730.321044921875, 333.1637878417969, 781.15185546875, 326.4346008300781, 928.58837890625, 340.2079162597656, 340.1876220703125, 1100.0458984375, 975.6491088867188, 219.23007202148438, 1028.7891845703125, 1468.4591064453125, 359.403076171875, 994.7659912109375, 249.4254608154297, 413.8446350097656, 379.5735778808594, 2513.56201171875, 430.7285461425781, 1652.8951416015625, 929.3018188476562, 777.1007080078125, 381.4300231933594, 677.0725708007812, 231.34751892089844, 1069.8602294921875, 366.28485107421875, 1895.6295166015625, 958.302490234375, 323.6983947753906, 467.55804443359375, 1656.2564697265625, 431.6062316894531, 118.23193359375, 1721.3612060546875, 1078.5921630859375, 924.913818359375, 2591.65478515625, 575.9810180664062, 641.4752807617188, 417.64788818359375, 883.7843627929688, 390.47894287109375, 1493.585693359375, 583.584716796875, 874.0576782226562, 621.0933227539062, 195.58731079101562, 373.99334716796875, 612.0400390625, 1556.548095703125, 1198.59765625, 582.6080322265625, 107.0987548828125, 394.9277038574219, 619.1300659179688, 914.1956176757812, 849.3939819335938, 319.7708435058594, 394.1524658203125, 293.4649658203125, 267.3046875, 1003.261474609375, 1179.6217041015625, 302.48699951171875, 417.864501953125, 437.8776550292969, 786.5250244140625, 575.5150146484375, 389.5628662109375, 2317.247314453125, 260.4790344238281, 1441.1685791015625, 637.20458984375, 260.94232177734375, 539.5026245117188, 277.43914794921875, 317.0162658691406, 1727.5985107421875, 1321.3582763671875, 252.2007293701172, 956.0426025390625, 1115.9146728515625, 686.1935424804688, 403.1914367675781, 904.9341430664062, 565.8078002929688, 332.28350830078125, 290.7198181152344, 266.776123046875, 215.1573944091797, 260.0824279785156, 1220.089599609375, 869.3732299804688, 396.58380126953125, 452.4554138183594, 432.9579162597656, 884.2781982421875, 1261.524658203125, 206.1297607421875, 243.34619140625, 799.3134765625, 168.7234649658203, 268.7786560058594, 622.3306274414062, 482.18133544921875, 269.5425109863281, 608.7421875, 298.0628967285156, 220.4036865234375, 462.96868896484375, 1153.722412109375, 651.8444213867188, 422.3521423339844, 1615.5489501953125, 288.8115234375, 942.69970703125, 1029.7734375, 219.10296630859375, 400.2022705078125, 634.2506103515625, 216.390380859375, 1031.5433349609375, 343.5772705078125, 1151.0994873046875, 543.8807983398438, 298.8879089355469, 185.2595977783203, 337.782470703125, 486.9741516113281, 162.65830993652344, 450.8657531738281, 564.7236328125, 678.8592529296875, 284.2832946777344, 838.1318359375, 522.8016357421875, 419.5638427734375, 1076.14892578125, 1065.847412109375, 274.3636779785156, 459.1109619140625, 211.66001892089844, 549.1233520507812, 460.1531677246094, 288.14251708984375, 1373.6488037109375, 517.5791015625, 234.31204223632812, 326.648193359375, 312.1802978515625, 579.6605224609375, 485.18487548828125, 1166.372802734375, 775.0936889648438, 103.33997344970703, 180.75755310058594, 287.0789794921875, 360.068603515625, 180.47293090820312, 161.10020446777344, 3978.212890625, 1170.040283203125, 393.40716552734375, 392.0281066894531, 1400.615234375, 2050.763916015625, 260.22216796875, 169.3415985107422, 427.99017333984375, 379.2008056640625, 442.14068603515625, 478.1949768066406, 686.3001098632812, 248.21046447753906, 403.13763427734375, 189.6182098388672, 615.5631713867188, 438.4610595703125, 1472.283935546875, 458.6977233886719, 179.4861297607422, 366.9892578125, 1205.203125, 737.2797241210938, 1093.0230712890625, 1962.352294921875, 268.1495666503906, 320.12628173828125, 1021.8405151367188, 711.9707641601562, 821.0938110351562, 678.4164428710938, 260.5665588378906, 1041.262451171875, 397.6678466796875, 791.8320922851562, 942.1416015625, 1048.27587890625, 457.8585510253906, 911.38232421875, 478.29443359375, 415.7076416015625, 2769.37255859375, 289.1335144042969, 1574.48046875, 2893.644775390625, 375.6269226074219, 167.66160583496094, 383.28643798828125, 671.837158203125, 1005.9912719726562, 1717.3857421875, 709.3365478515625, 292.2592468261719, 826.3583374023438, 554.496337890625, 388.4053649902344, 408.43121337890625, 568.0160522460938, 258.5443420410156, 1121.2236328125, 326.30291748046875, 416.980224609375, 713.4791259765625, 178.10472106933594, 496.25018310546875, 672.2169799804688, 594.0537719726562, 1202.392578125, 1453.096923828125, 307.0140686035156, 524.8765869140625, 342.4443664550781, 782.453369140625, 359.97686767578125, 1401.8228759765625, 1089.0272216796875, 220.9627227783203, 541.8849487304688, 651.254150390625, 141.3869171142578, 1584.208251953125, 1099.104248046875, 452.4291076660156, 1258.409912109375, 242.8194580078125, 467.9507141113281, 151.5897216796875, 316.03546142578125, 560.9669189453125, 457.247802734375, 526.2174072265625, 360.8818359375, 498.0988464355469, 188.0496063232422, 878.4483032226562, 271.8098449707031, 437.99676513671875, 324.81494140625, 528.4237060546875, 353.5213623046875, 361.3587341308594, 107.24971771240234, 241.54690551757812, 521.1474609375, 520.2911376953125, 1272.2242431640625, 644.1998291015625, 331.791015625, 359.8258972167969, 358.1949768066406, 366.3634948730469, 525.4962768554688, 209.25674438476562, 375.6430358886719, 585.26904296875, 384.7165222167969, 538.529052734375, 686.9369506835938, 420.6801452636719, 140.69692993164062, 439.473876953125, 354.52020263671875, 515.5379638671875, 231.99330139160156, 582.9144897460938, 222.6809844970703, 261.5436706542969, 407.5038146972656, 169.73190307617188, 464.9821472167969, 991.1651611328125, 299.9831848144531, 384.6281433105469, 195.14463806152344, 259.8493347167969, 278.9562683105469, 525.7495727539062, 262.09332275390625, 503.80206298828125, 413.6802062988281, 503.5047607421875, 264.843017578125, 488.0310974121094, 634.0411987304688, 611.223876953125, 295.6080322265625, 304.4242248535156, 156.30882263183594, 1225.0142822265625, 366.3362121582031, 339.5245361328125, 1231.3387451171875, 270.0439453125, 419.8749084472656, 749.9937133789062, 365.08709716796875, 312.89630126953125, 486.2005615234375, 218.8468780517578, 274.1186828613281, 498.0194091796875, 442.0506591796875, 822.1612548828125, 402.18548583984375, 928.1214599609375, 241.44656372070312, 363.80841064453125, 683.8663940429688, 481.0730285644531, 435.38201904296875, 396.72271728515625, 846.11669921875, 339.69927978515625, 476.066162109375, 821.235107421875, 388.2809143066406, 115.98345184326172, 186.19171142578125, 692.9317626953125, 288.0026550292969, 163.1473388671875, 1327.1773681640625, 1658.8701171875, 240.87957763671875, 316.6239013671875, 515.4092407226562, 228.29122924804688, 1217.728515625, 850.8184814453125, 116.07322692871094, 290.8316955566406, 847.472900390625, 478.82244873046875, 583.36328125, 190.3759765625, 749.088623046875, 400.3870849609375, 427.84075927734375, 296.63299560546875, 311.3974304199219, 607.1287231445312, 545.8815307617188, 831.0299682617188, 1149.916259765625, 507.1291198730469, 343.0868225097656, 292.5728759765625, 410.19183349609375, 1079.033203125, 436.48431396484375, 343.4572448730469, 465.3526306152344, 371.4966125488281, 237.82420349121094, 182.16323852539062, 463.72119140625, 1036.508056640625, 1374.2193603515625, 1771.51171875, 344.55413818359375, 546.8969116210938, 1244.128662109375, 893.6594848632812, 573.9728393554688, 388.4527893066406, 732.0801391601562, 161.47410583496094, 921.4947509765625, 473.9537048339844, 1263.0478515625, 979.6425170898438, 627.5541381835938, 368.7241516113281, 598.3341674804688, 248.9221649169922, 1270.8050537109375, 501.5628662109375, 472.72918701171875, 857.9060668945312, 1756.2451171875, 1899.5240478515625, 108.13213348388672, 3347.480712890625, 548.1491088867188, 472.1518859863281, 366.4683532714844, 238.12428283691406, 363.05584716796875, 499.4709167480469, 780.37451171875, 434.0093078613281, 673.9662475585938, 627.3729858398438, 685.4519653320312, 501.9634704589844, 731.7283325195312, 412.1181335449219, 564.422119140625, 462.0743713378906, 393.32977294921875, 701.4426879882812, 445.619384765625, 381.78521728515625, 844.3736572265625, 886.9783325195312, 475.3073425292969, 430.1045837402344, 974.063232421875, 1176.245849609375, 857.6948852539062, 317.0592346191406, 1538.897705078125, 326.6541442871094, 212.84219360351562, 321.08575439453125, 298.2664794921875, 819.0833129882812, 395.8429260253906, 406.0528869628906, 1040.712646484375, 200.50990295410156, 301.89605712890625, 205.9711456298828, 393.5347595214844, 216.42276000976562, 1656.399169921875, 438.0176696777344, 272.88336181640625, 295.3953552246094, 136.99151611328125, 1077.5421142578125, 226.11985778808594, 378.77044677734375, 733.6649780273438, 655.0475463867188, 213.6383819580078, 167.75692749023438, 293.4314270019531, 191.2557830810547, 593.9495849609375, 1257.170166015625, 1284.7625732421875, 2013.77294921875, 511.8887634277344, 417.2114562988281, 85.00257110595703, 141.77883911132812, 801.66552734375, 318.89801025390625, 1432.12451171875, 396.4741516113281, 214.65614318847656, 1115.099365234375, 1390.724609375, 486.292724609375, 543.8291015625, 631.8350830078125, 463.0254821777344, 1399.1014404296875, 1139.478271484375, 553.8804931640625, 1183.7852783203125, 352.01898193359375, 1708.78076171875, 2609.2197265625, 378.3887939453125, 426.73565673828125, 464.8067321777344, 2452.0771484375, 613.4303588867188, 957.7233276367188, 1659.5147705078125, 298.66436767578125, 551.9893188476562, 707.6121215820312, 292.1615905761719, 567.2499389648438, 498.7046813964844, 653.3486938476562, 664.5242309570312, 415.9587097167969, 530.3079223632812, 429.1044921875, 1405.7376708984375, 122.27782440185547, 432.7003173828125, 435.10711669921875, 416.0911865234375]}, {\"name\": \"Actual\", \"type\": \"bar\", \"x\": [0, 1, 2, 3, 4, 5, 6, 7, 8, 9, 10, 11, 12, 13, 14, 15, 16, 17, 18, 19], \"y\": [125.0, 350.0, 1379.0, 250.0, 500.0, 400.0, 160.0, 200.0, 294.0, 438.0, 679.0, 228.0, 899.0, 600.0, 250.0, 930.0, 686.0, 333.0, 997.0, 3000.0, 180.0, 464.0, 104.0, 564.0, 830.0, 219.0, 280.0, 600.0, 450.0, 230.0, 450.0, 150.0, 115.0, 1157.0, 328.0, 344.0, 2800.0, 198.0, 609.0, 800.0, 800.0, 159.0, 115.0, 300.0, 514.0, 1500.0, 529.0, 1600.0, 252.0, 680.0, 300.0, 688.0, 171.0, 349.0, 690.0, 1008.0, 177.0, 1450.0, 1195.0, 480.0, 1000.0, 310.0, 331.0, 298.0, 2857.0, 1900.0, 1367.0, 700.0, 679.0, 350.0, 680.0, 205.0, 1447.0, 289.0, 1487.0, 707.0, 272.0, 234.0, 1800.0, 218.0, 115.0, 1000.0, 620.0, 922.0, 4320.0, 989.0, 500.0, 258.0, 455.0, 228.0, 1657.0, 825.0, 800.0, 985.0, 115.0, 1420.0, 651.0, 1200.0, 1136.0, 450.0, 110.0, 214.0, 493.0, 1000.0, 747.0, 300.0, 359.0, 396.0, 290.0, 484.0, 800.0, 322.0, 850.0, 359.0, 550.0, 433.0, 400.0, 650.0, 298.0, 1323.0, 422.0, 270.0, 450.0, 371.0, 466.0, 2000.0, 952.0, 167.0, 808.0, 800.0, 3000.0, 280.0, 778.0, 466.0, 250.0, 156.0, 271.0, 145.0, 400.0, 1470.0, 1000.0, 500.0, 450.0, 300.0, 581.0, 1486.0, 171.0, 171.0, 793.0, 156.0, 287.0, 690.0, 500.0, 400.0, 620.0, 270.0, 202.0, 290.0, 800.0, 500.0, 364.0, 900.0, 498.0, 590.0, 988.0, 198.0, 350.0, 705.0, 220.0, 779.0, 440.0, 605.0, 1100.0, 280.0, 198.0, 127.0, 499.0, 150.0, 200.0, 542.0, 713.0, 186.0, 755.0, 330.0, 528.0, 1314.0, 1158.0, 200.0, 550.0, 231.0, 429.0, 446.0, 224.0, 745.0, 472.0, 175.0, 380.0, 371.0, 557.0, 1772.0, 800.0, 1439.0, 108.0, 129.0, 225.0, 547.0, 150.0, 177.0, 1600.0, 1700.0, 288.0, 400.0, 1500.0, 1814.0, 181.0, 170.0, 428.0, 400.0, 179.0, 460.0, 464.0, 236.0, 590.0, 236.0, 250.0, 500.0, 1400.0, 490.0, 280.0, 400.0, 1500.0, 603.0, 534.0, 1131.0, 130.0, 350.0, 850.0, 96.0, 1071.0, 680.0, 269.0, 1100.0, 321.0, 640.0, 950.0, 921.0, 359.0, 1423.0, 331.0, 414.0, 1500.0, 220.0, 2800.0, 2500.0, 336.0, 160.0, 235.0, 650.0, 1057.0, 1199.0, 657.0, 289.0, 5440.0, 299.0, 359.0, 300.0, 550.0, 216.0, 969.0, 388.0, 195.0, 365.0, 170.0, 488.0, 273.0, 380.0, 972.0, 1100.0, 300.0, 400.0, 334.0, 600.0, 370.0, 860.0, 87.0, 205.0, 570.0, 700.0, 120.0, 786.0, 866.0, 321.0, 1000.0, 210.0, 354.0, 134.0, 300.0, 529.0, 321.0, 309.0, 635.0, 443.0, 185.0, 277.0, 200.0, 414.0, 480.0, 380.0, 261.0, 230.0, 121.0, 300.0, 554.0, 1999.0, 1471.0, 400.0, 196.0, 350.0, 300.0, 350.0, 329.0, 213.0, 441.0, 500.0, 415.0, 664.0, 315.0, 328.0, 175.0, 390.0, 220.0, 462.0, 158.0, 523.0, 227.0, 221.0, 567.0, 380.0, 162.0, 840.0, 371.0, 340.0, 221.0, 199.0, 220.0, 421.0, 280.0, 546.0, 370.0, 331.0, 279.0, 480.0, 886.0, 468.0, 194.0, 250.0, 181.0, 911.0, 282.0, 360.0, 1424.0, 321.0, 420.0, 250.0, 280.0, 350.0, 230.0, 180.0, 240.0, 483.0, 277.0, 320.0, 316.0, 654.0, 337.0, 307.0, 598.0, 367.0, 420.0, 250.0, 764.0, 150.0, 354.0, 400.0, 350.0, 98.0, 180.0, 610.0, 380.0, 130.0, 1033.0, 2244.0, 200.0, 304.0, 421.0, 200.0, 1500.0, 780.0, 300.0, 272.0, 890.0, 566.0, 695.0, 150.0, 683.0, 329.0, 276.0, 272.0, 147.0, 1007.0, 500.0, 624.0, 950.0, 400.0, 329.0, 420.0, 350.0, 837.0, 191.0, 373.0, 379.0, 500.0, 120.0, 220.0, 404.0, 932.0, 760.0, 1800.0, 350.0, 762.0, 1150.0, 1057.0, 450.0, 415.0, 459.0, 180.0, 250.0, 1080.0, 1195.0, 1157.0, 259.0, 230.0, 430.0, 480.0, 1000.0, 529.0, 328.0, 669.0, 1189.0, 612.0, 150.0, 2500.0, 650.0, 219.0, 400.0, 240.0, 400.0, 380.0, 1314.0, 650.0, 707.0, 527.0, 572.0, 554.0, 732.0, 400.0, 550.0, 500.0, 448.0, 530.0, 400.0, 432.0, 850.0, 1000.0, 500.0, 350.0, 900.0, 1043.0, 561.0, 330.0, 1560.0, 264.0, 216.0, 300.0, 220.0, 643.0, 250.0, 423.0, 540.0, 180.0, 314.0, 190.0, 250.0, 319.0, 1800.0, 450.0, 299.0, 371.0, 131.0, 1588.0, 180.0, 299.0, 750.0, 790.0, 200.0, 138.0, 307.0, 202.0, 459.0, 1147.0, 1157.0, 2000.0, 1086.0, 600.0, 229.0, 142.0, 570.0, 500.0, 1180.0, 170.0, 127.0, 1300.0, 1100.0, 526.0, 420.0, 300.0, 450.0, 280.0, 988.0, 356.0, 407.0, 400.0, 793.0, 2800.0, 340.0, 414.0, 400.0, 2171.0, 650.0, 886.0, 2186.0, 221.0, 275.0, 328.0, 230.0, 871.0, 270.0, 680.0, 285.0, 302.0, 507.0, 350.0, 1100.0, 210.0, 450.0, 327.0, 426.0]}],                        {\"barmode\": \"group\", \"template\": {\"data\": {\"bar\": [{\"error_x\": {\"color\": \"#2a3f5f\"}, \"error_y\": {\"color\": \"#2a3f5f\"}, \"marker\": {\"line\": {\"color\": \"#E5ECF6\", \"width\": 0.5}}, \"type\": \"bar\"}], \"barpolar\": [{\"marker\": {\"line\": {\"color\": \"#E5ECF6\", \"width\": 0.5}}, \"type\": \"barpolar\"}], \"carpet\": [{\"aaxis\": {\"endlinecolor\": \"#2a3f5f\", \"gridcolor\": \"white\", \"linecolor\": \"white\", \"minorgridcolor\": \"white\", \"startlinecolor\": \"#2a3f5f\"}, \"baxis\": {\"endlinecolor\": \"#2a3f5f\", \"gridcolor\": \"white\", \"linecolor\": \"white\", \"minorgridcolor\": \"white\", \"startlinecolor\": \"#2a3f5f\"}, \"type\": \"carpet\"}], \"choropleth\": [{\"colorbar\": {\"outlinewidth\": 0, \"ticks\": \"\"}, \"type\": \"choropleth\"}], \"contour\": [{\"colorbar\": {\"outlinewidth\": 0, \"ticks\": \"\"}, \"colorscale\": [[0.0, \"#0d0887\"], [0.1111111111111111, \"#46039f\"], [0.2222222222222222, \"#7201a8\"], [0.3333333333333333, \"#9c179e\"], [0.4444444444444444, \"#bd3786\"], [0.5555555555555556, \"#d8576b\"], [0.6666666666666666, \"#ed7953\"], [0.7777777777777778, \"#fb9f3a\"], [0.8888888888888888, \"#fdca26\"], [1.0, \"#f0f921\"]], \"type\": \"contour\"}], \"contourcarpet\": [{\"colorbar\": {\"outlinewidth\": 0, \"ticks\": \"\"}, \"type\": \"contourcarpet\"}], \"heatmap\": [{\"colorbar\": {\"outlinewidth\": 0, \"ticks\": \"\"}, \"colorscale\": [[0.0, \"#0d0887\"], [0.1111111111111111, \"#46039f\"], [0.2222222222222222, \"#7201a8\"], [0.3333333333333333, \"#9c179e\"], [0.4444444444444444, \"#bd3786\"], [0.5555555555555556, \"#d8576b\"], [0.6666666666666666, \"#ed7953\"], [0.7777777777777778, \"#fb9f3a\"], [0.8888888888888888, \"#fdca26\"], [1.0, \"#f0f921\"]], \"type\": \"heatmap\"}], \"heatmapgl\": [{\"colorbar\": {\"outlinewidth\": 0, \"ticks\": \"\"}, \"colorscale\": [[0.0, \"#0d0887\"], [0.1111111111111111, \"#46039f\"], [0.2222222222222222, \"#7201a8\"], [0.3333333333333333, \"#9c179e\"], [0.4444444444444444, \"#bd3786\"], [0.5555555555555556, \"#d8576b\"], [0.6666666666666666, \"#ed7953\"], [0.7777777777777778, \"#fb9f3a\"], [0.8888888888888888, \"#fdca26\"], [1.0, \"#f0f921\"]], \"type\": \"heatmapgl\"}], \"histogram\": [{\"marker\": {\"colorbar\": {\"outlinewidth\": 0, \"ticks\": \"\"}}, \"type\": \"histogram\"}], \"histogram2d\": [{\"colorbar\": {\"outlinewidth\": 0, \"ticks\": \"\"}, \"colorscale\": [[0.0, \"#0d0887\"], [0.1111111111111111, \"#46039f\"], [0.2222222222222222, \"#7201a8\"], [0.3333333333333333, \"#9c179e\"], [0.4444444444444444, \"#bd3786\"], [0.5555555555555556, \"#d8576b\"], [0.6666666666666666, \"#ed7953\"], [0.7777777777777778, \"#fb9f3a\"], [0.8888888888888888, \"#fdca26\"], [1.0, \"#f0f921\"]], \"type\": \"histogram2d\"}], \"histogram2dcontour\": [{\"colorbar\": {\"outlinewidth\": 0, \"ticks\": \"\"}, \"colorscale\": [[0.0, \"#0d0887\"], [0.1111111111111111, \"#46039f\"], [0.2222222222222222, \"#7201a8\"], [0.3333333333333333, \"#9c179e\"], [0.4444444444444444, \"#bd3786\"], [0.5555555555555556, \"#d8576b\"], [0.6666666666666666, \"#ed7953\"], [0.7777777777777778, \"#fb9f3a\"], [0.8888888888888888, \"#fdca26\"], [1.0, \"#f0f921\"]], \"type\": \"histogram2dcontour\"}], \"mesh3d\": [{\"colorbar\": {\"outlinewidth\": 0, \"ticks\": \"\"}, \"type\": \"mesh3d\"}], \"parcoords\": [{\"line\": {\"colorbar\": {\"outlinewidth\": 0, \"ticks\": \"\"}}, \"type\": \"parcoords\"}], \"pie\": [{\"automargin\": true, \"type\": \"pie\"}], \"scatter\": [{\"marker\": {\"colorbar\": {\"outlinewidth\": 0, \"ticks\": \"\"}}, \"type\": \"scatter\"}], \"scatter3d\": [{\"line\": {\"colorbar\": {\"outlinewidth\": 0, \"ticks\": \"\"}}, \"marker\": {\"colorbar\": {\"outlinewidth\": 0, \"ticks\": \"\"}}, \"type\": \"scatter3d\"}], \"scattercarpet\": [{\"marker\": {\"colorbar\": {\"outlinewidth\": 0, \"ticks\": \"\"}}, \"type\": \"scattercarpet\"}], \"scattergeo\": [{\"marker\": {\"colorbar\": {\"outlinewidth\": 0, \"ticks\": \"\"}}, \"type\": \"scattergeo\"}], \"scattergl\": [{\"marker\": {\"colorbar\": {\"outlinewidth\": 0, \"ticks\": \"\"}}, \"type\": \"scattergl\"}], \"scattermapbox\": [{\"marker\": {\"colorbar\": {\"outlinewidth\": 0, \"ticks\": \"\"}}, \"type\": \"scattermapbox\"}], \"scatterpolar\": [{\"marker\": {\"colorbar\": {\"outlinewidth\": 0, \"ticks\": \"\"}}, \"type\": \"scatterpolar\"}], \"scatterpolargl\": [{\"marker\": {\"colorbar\": {\"outlinewidth\": 0, \"ticks\": \"\"}}, \"type\": \"scatterpolargl\"}], \"scatterternary\": [{\"marker\": {\"colorbar\": {\"outlinewidth\": 0, \"ticks\": \"\"}}, \"type\": \"scatterternary\"}], \"surface\": [{\"colorbar\": {\"outlinewidth\": 0, \"ticks\": \"\"}, \"colorscale\": [[0.0, \"#0d0887\"], [0.1111111111111111, \"#46039f\"], [0.2222222222222222, \"#7201a8\"], [0.3333333333333333, \"#9c179e\"], [0.4444444444444444, \"#bd3786\"], [0.5555555555555556, \"#d8576b\"], [0.6666666666666666, \"#ed7953\"], [0.7777777777777778, \"#fb9f3a\"], [0.8888888888888888, \"#fdca26\"], [1.0, \"#f0f921\"]], \"type\": \"surface\"}], \"table\": [{\"cells\": {\"fill\": {\"color\": \"#EBF0F8\"}, \"line\": {\"color\": \"white\"}}, \"header\": {\"fill\": {\"color\": \"#C8D4E3\"}, \"line\": {\"color\": \"white\"}}, \"type\": \"table\"}]}, \"layout\": {\"annotationdefaults\": {\"arrowcolor\": \"#2a3f5f\", \"arrowhead\": 0, \"arrowwidth\": 1}, \"coloraxis\": {\"colorbar\": {\"outlinewidth\": 0, \"ticks\": \"\"}}, \"colorscale\": {\"diverging\": [[0, \"#8e0152\"], [0.1, \"#c51b7d\"], [0.2, \"#de77ae\"], [0.3, \"#f1b6da\"], [0.4, \"#fde0ef\"], [0.5, \"#f7f7f7\"], [0.6, \"#e6f5d0\"], [0.7, \"#b8e186\"], [0.8, \"#7fbc41\"], [0.9, \"#4d9221\"], [1, \"#276419\"]], \"sequential\": [[0.0, \"#0d0887\"], [0.1111111111111111, \"#46039f\"], [0.2222222222222222, \"#7201a8\"], [0.3333333333333333, \"#9c179e\"], [0.4444444444444444, \"#bd3786\"], [0.5555555555555556, \"#d8576b\"], [0.6666666666666666, \"#ed7953\"], [0.7777777777777778, \"#fb9f3a\"], [0.8888888888888888, \"#fdca26\"], [1.0, \"#f0f921\"]], \"sequentialminus\": [[0.0, \"#0d0887\"], [0.1111111111111111, \"#46039f\"], [0.2222222222222222, \"#7201a8\"], [0.3333333333333333, \"#9c179e\"], [0.4444444444444444, \"#bd3786\"], [0.5555555555555556, \"#d8576b\"], [0.6666666666666666, \"#ed7953\"], [0.7777777777777778, \"#fb9f3a\"], [0.8888888888888888, \"#fdca26\"], [1.0, \"#f0f921\"]]}, \"colorway\": [\"#636efa\", \"#EF553B\", \"#00cc96\", \"#ab63fa\", \"#FFA15A\", \"#19d3f3\", \"#FF6692\", \"#B6E880\", \"#FF97FF\", \"#FECB52\"], \"font\": {\"color\": \"#2a3f5f\"}, \"geo\": {\"bgcolor\": \"white\", \"lakecolor\": \"white\", \"landcolor\": \"#E5ECF6\", \"showlakes\": true, \"showland\": true, \"subunitcolor\": \"white\"}, \"hoverlabel\": {\"align\": \"left\"}, \"hovermode\": \"closest\", \"mapbox\": {\"style\": \"light\"}, \"paper_bgcolor\": \"white\", \"plot_bgcolor\": \"#E5ECF6\", \"polar\": {\"angularaxis\": {\"gridcolor\": \"white\", \"linecolor\": \"white\", \"ticks\": \"\"}, \"bgcolor\": \"#E5ECF6\", \"radialaxis\": {\"gridcolor\": \"white\", \"linecolor\": \"white\", \"ticks\": \"\"}}, \"scene\": {\"xaxis\": {\"backgroundcolor\": \"#E5ECF6\", \"gridcolor\": \"white\", \"gridwidth\": 2, \"linecolor\": \"white\", \"showbackground\": true, \"ticks\": \"\", \"zerolinecolor\": \"white\"}, \"yaxis\": {\"backgroundcolor\": \"#E5ECF6\", \"gridcolor\": \"white\", \"gridwidth\": 2, \"linecolor\": \"white\", \"showbackground\": true, \"ticks\": \"\", \"zerolinecolor\": \"white\"}, \"zaxis\": {\"backgroundcolor\": \"#E5ECF6\", \"gridcolor\": \"white\", \"gridwidth\": 2, \"linecolor\": \"white\", \"showbackground\": true, \"ticks\": \"\", \"zerolinecolor\": \"white\"}}, \"shapedefaults\": {\"line\": {\"color\": \"#2a3f5f\"}}, \"ternary\": {\"aaxis\": {\"gridcolor\": \"white\", \"linecolor\": \"white\", \"ticks\": \"\"}, \"baxis\": {\"gridcolor\": \"white\", \"linecolor\": \"white\", \"ticks\": \"\"}, \"bgcolor\": \"#E5ECF6\", \"caxis\": {\"gridcolor\": \"white\", \"linecolor\": \"white\", \"ticks\": \"\"}}, \"title\": {\"x\": 0.05}, \"xaxis\": {\"automargin\": true, \"gridcolor\": \"white\", \"linecolor\": \"white\", \"ticks\": \"\", \"title\": {\"standoff\": 15}, \"zerolinecolor\": \"white\", \"zerolinewidth\": 2}, \"yaxis\": {\"automargin\": true, \"gridcolor\": \"white\", \"linecolor\": \"white\", \"ticks\": \"\", \"title\": {\"standoff\": 15}, \"zerolinecolor\": \"white\", \"zerolinewidth\": 2}}}, \"title\": {\"text\": \"Hong Kong - XGBoost price predictions\"}, \"xaxis\": {\"title\": {\"text\": \"Index\"}}, \"yaxis\": {\"title\": {\"text\": \"Price\"}}},                        {\"responsive\": true}                    ).then(function(){\n",
       "                            \n",
       "var gd = document.getElementById('09f85cd1-842a-48b4-8404-384a516abaac');\n",
       "var x = new MutationObserver(function (mutations, observer) {{\n",
       "        var display = window.getComputedStyle(gd).display;\n",
       "        if (!display || display === 'none') {{\n",
       "            console.log([gd, 'removed!']);\n",
       "            Plotly.purge(gd);\n",
       "            observer.disconnect();\n",
       "        }}\n",
       "}});\n",
       "\n",
       "// Listen for the removal of the full notebook cells\n",
       "var notebookContainer = gd.closest('#notebook-container');\n",
       "if (notebookContainer) {{\n",
       "    x.observe(notebookContainer, {childList: true});\n",
       "}}\n",
       "\n",
       "// Listen for the clearing of the current output cell\n",
       "var outputEl = gd.closest('.output');\n",
       "if (outputEl) {{\n",
       "    x.observe(outputEl, {childList: true});\n",
       "}}\n",
       "\n",
       "                        })                };                });            </script>        </div>"
      ]
     },
     "metadata": {},
     "output_type": "display_data"
    }
   ],
   "source": [
    "error_diff = pd.DataFrame({'Actual Values': np.array(y_test).flatten(), 'Predicted Values': predictions.flatten()})\n",
    "error_diff1 = error_diff.head(20)\n",
    "error_diff1\n",
    "title=['Pred vs Actual']\n",
    "fig = go.Figure(data=[\n",
    "    go.Bar(name='Predicted', x=error_diff1.index, y=error_diff['Predicted Values']),\n",
    "    go.Bar(name='Actual', x=error_diff1.index, y=error_diff['Actual Values'])\n",
    "])\n",
    "\n",
    "fig.update_layout(barmode='group', title=\"Hong Kong - XGBoost price predictions\", yaxis = dict(title =\"Price\"), xaxis =dict(title=\"Index\"))\n",
    "fig.show()"
   ]
  },
  {
   "cell_type": "code",
   "execution_count": 53,
   "metadata": {},
   "outputs": [
    {
     "data": {
      "image/png": "[encoded data removed]",
      "text/plain": [
       "<Figure size 1152x576 with 1 Axes>"
      ]
     },
     "metadata": {
      "needs_background": "light"
     },
     "output_type": "display_data"
    }
   ],
   "source": [
    "plt.figure(figsize=(16,8))\n",
    "sns.regplot(predictions,y_test)\n",
    "plt.xlabel('Predictions')\n",
    "plt.ylabel('Actual')\n",
    "plt.title(\"Hong Kong - XGBoost price predictions\")\n",
    "plt.show()"
   ]
  },
  {
   "cell_type": "code",
   "execution_count": null,
   "metadata": {},
   "outputs": [],
   "source": []
  },
  {
   "cell_type": "code",
   "execution_count": 54,
   "metadata": {},
   "outputs": [],
   "source": [
    "#gboost rating predictions\n",
    "X = result.drop(['review_scores_rating'],axis = 1)\n",
    "y = result['review_scores_rating']\n",
    "X_train_r, X_test_r, y_train_r, y_test_r = train_test_split(X, y, test_size=0.2, random_state=101)"
   ]
  },
  {
   "cell_type": "code",
   "execution_count": 55,
   "metadata": {},
   "outputs": [],
   "source": [
    "GBoost = GradientBoostingRegressor(n_estimators=3000, learning_rate=0.01)\n",
    "GBoost.fit(X_train_r,y_train_r)\n",
    "predictions_r = GBoost.predict(X_test_r)"
   ]
  },
  {
   "cell_type": "code",
   "execution_count": 56,
   "metadata": {},
   "outputs": [
    {
     "name": "stdout",
     "output_type": "stream",
     "text": [
      "MAE: 3.0101257842084914\n",
      "MSE: 19.090201901798384\n",
      "RMSE: 4.369233559996351\n"
     ]
    }
   ],
   "source": [
    "print('MAE:', metrics.mean_absolute_error(y_test_r, predictions_r))\n",
    "print('MSE:', metrics.mean_squared_error(y_test_r, predictions_r))\n",
    "print('RMSE:', np.sqrt(metrics.mean_squared_error(y_test_r, predictions_r)))"
   ]
  },
  {
   "cell_type": "code",
   "execution_count": 57,
   "metadata": {},
   "outputs": [
    {
     "data": {
      "text/html": [
       "<div>\n",
       "<style scoped>\n",
       "    .dataframe tbody tr th:only-of-type {\n",
       "        vertical-align: middle;\n",
       "    }\n",
       "\n",
       "    .dataframe tbody tr th {\n",
       "        vertical-align: top;\n",
       "    }\n",
       "\n",
       "    .dataframe thead th {\n",
       "        text-align: right;\n",
       "    }\n",
       "</style>\n",
       "<table border=\"1\" class=\"dataframe\">\n",
       "  <thead>\n",
       "    <tr style=\"text-align: right;\">\n",
       "      <th></th>\n",
       "      <th>Actual Values</th>\n",
       "      <th>Predicted Values</th>\n",
       "    </tr>\n",
       "  </thead>\n",
       "  <tbody>\n",
       "    <tr>\n",
       "      <th>0</th>\n",
       "      <td>94.0</td>\n",
       "      <td>93.807596</td>\n",
       "    </tr>\n",
       "    <tr>\n",
       "      <th>1</th>\n",
       "      <td>100.0</td>\n",
       "      <td>95.634224</td>\n",
       "    </tr>\n",
       "    <tr>\n",
       "      <th>2</th>\n",
       "      <td>91.0</td>\n",
       "      <td>90.423111</td>\n",
       "    </tr>\n",
       "    <tr>\n",
       "      <th>3</th>\n",
       "      <td>87.0</td>\n",
       "      <td>90.012355</td>\n",
       "    </tr>\n",
       "    <tr>\n",
       "      <th>4</th>\n",
       "      <td>80.0</td>\n",
       "      <td>84.428816</td>\n",
       "    </tr>\n",
       "    <tr>\n",
       "      <th>5</th>\n",
       "      <td>96.0</td>\n",
       "      <td>97.316883</td>\n",
       "    </tr>\n",
       "    <tr>\n",
       "      <th>6</th>\n",
       "      <td>89.0</td>\n",
       "      <td>85.850371</td>\n",
       "    </tr>\n",
       "    <tr>\n",
       "      <th>7</th>\n",
       "      <td>93.0</td>\n",
       "      <td>89.872674</td>\n",
       "    </tr>\n",
       "    <tr>\n",
       "      <th>8</th>\n",
       "      <td>80.0</td>\n",
       "      <td>79.933725</td>\n",
       "    </tr>\n",
       "    <tr>\n",
       "      <th>9</th>\n",
       "      <td>98.0</td>\n",
       "      <td>97.763474</td>\n",
       "    </tr>\n",
       "    <tr>\n",
       "      <th>10</th>\n",
       "      <td>92.0</td>\n",
       "      <td>92.889755</td>\n",
       "    </tr>\n",
       "    <tr>\n",
       "      <th>11</th>\n",
       "      <td>80.0</td>\n",
       "      <td>95.507723</td>\n",
       "    </tr>\n",
       "    <tr>\n",
       "      <th>12</th>\n",
       "      <td>92.0</td>\n",
       "      <td>90.529535</td>\n",
       "    </tr>\n",
       "    <tr>\n",
       "      <th>13</th>\n",
       "      <td>93.0</td>\n",
       "      <td>91.167434</td>\n",
       "    </tr>\n",
       "    <tr>\n",
       "      <th>14</th>\n",
       "      <td>90.0</td>\n",
       "      <td>90.596160</td>\n",
       "    </tr>\n",
       "    <tr>\n",
       "      <th>15</th>\n",
       "      <td>99.0</td>\n",
       "      <td>96.581342</td>\n",
       "    </tr>\n",
       "    <tr>\n",
       "      <th>16</th>\n",
       "      <td>96.0</td>\n",
       "      <td>98.216004</td>\n",
       "    </tr>\n",
       "    <tr>\n",
       "      <th>17</th>\n",
       "      <td>83.0</td>\n",
       "      <td>85.376716</td>\n",
       "    </tr>\n",
       "    <tr>\n",
       "      <th>18</th>\n",
       "      <td>96.0</td>\n",
       "      <td>92.151625</td>\n",
       "    </tr>\n",
       "    <tr>\n",
       "      <th>19</th>\n",
       "      <td>89.0</td>\n",
       "      <td>95.682899</td>\n",
       "    </tr>\n",
       "  </tbody>\n",
       "</table>\n",
       "</div>"
      ],
      "text/plain": [
       "    Actual Values  Predicted Values\n",
       "0            94.0         93.807596\n",
       "1           100.0         95.634224\n",
       "2            91.0         90.423111\n",
       "3            87.0         90.012355\n",
       "4            80.0         84.428816\n",
       "5            96.0         97.316883\n",
       "6            89.0         85.850371\n",
       "7            93.0         89.872674\n",
       "8            80.0         79.933725\n",
       "9            98.0         97.763474\n",
       "10           92.0         92.889755\n",
       "11           80.0         95.507723\n",
       "12           92.0         90.529535\n",
       "13           93.0         91.167434\n",
       "14           90.0         90.596160\n",
       "15           99.0         96.581342\n",
       "16           96.0         98.216004\n",
       "17           83.0         85.376716\n",
       "18           96.0         92.151625\n",
       "19           89.0         95.682899"
      ]
     },
     "execution_count": 57,
     "metadata": {},
     "output_type": "execute_result"
    }
   ],
   "source": [
    "error_diff = pd.DataFrame({'Actual Values': np.array(y_test_r).flatten(), 'Predicted Values': predictions_r.flatten()})\n",
    "error_diff1 = error_diff.head(20)\n",
    "error_diff1"
   ]
  },
  {
   "cell_type": "code",
   "execution_count": 69,
   "metadata": {},
   "outputs": [
    {
     "data": {
      "application/vnd.plotly.v1+json": {
       "config": {
        "plotlyServerURL": "https://plot.ly"
       },
       "data": [
        {
         "name": "Predicted",
         "type": "bar",
         "x": [
          0,
          1,
          2,
          3,
          4,
          5,
          6,
          7,
          8,
          9,
          10,
          11,
          12,
          13,
          14,
          15,
          16,
          17,
          18,
          19
         ],
         "y": [
          93.80759617371277,
          95.63422418895887,
          90.42311071385328,
          90.01235530418879,
          84.42881555755086,
          97.31688340507436,
          85.85037114076913,
          89.87267401107586,
          79.93372494662898,
          97.76347429391677,
          92.88975458663049,
          95.50772275607574,
          90.52953460078889,
          91.16743400527236,
          90.59615990818223,
          96.58134165721846,
          98.21600372452141,
          85.3767163839313,
          92.15162538230305,
          95.68289923596667,
          97.49773593063198,
          86.6068142149161,
          96.89955062848922,
          83.33781329058128,
          96.78997960500115,
          87.62559099528323,
          94.83632439653861,
          94.44802257264486,
          92.6250504289062,
          25.68834262032075,
          82.03937675844075,
          93.02774987764808,
          90.89016451837746,
          95.32442936546099,
          87.43647802918889,
          81.2475695290517,
          97.91114529201243,
          97.52326907420401,
          96.9232394929328,
          83.4047116771787,
          94.89019971454852,
          93.42876060895038,
          97.64507709030443,
          78.0219590115281,
          92.20184161190365,
          90.1517330977687,
          75.25484498507903,
          85.5677249129213,
          88.37684201125285,
          95.80801220653117,
          88.00645965629296,
          94.09693764180166,
          96.03131667504965,
          86.20065591515166,
          88.44029786621127,
          97.96745061805555,
          93.83019799921527,
          95.77372939745709,
          60.21412285973244,
          95.82191524105188,
          91.91358074386577,
          93.97261999088651,
          93.83667188235324,
          93.3661100376439,
          89.78333376781957,
          100.43378712223708,
          96.25658200305752,
          95.9135369666965,
          87.04469980042613,
          91.20916837753694,
          94.41616082344736,
          86.30757553133344,
          94.20189988963497,
          91.25179760919384,
          99.48247501399072,
          96.55735143486382,
          82.35836497460498,
          94.20591965585538,
          89.56665035569789,
          97.70343268952041,
          96.73064875362293,
          94.53967372287777,
          90.47172892005496,
          95.29309050751115,
          97.86989090390247,
          91.70549242357167,
          31.10210849372169,
          98.28362236277717,
          93.8878419261321,
          85.97472405320883,
          96.8259100190109,
          84.11837733681578,
          102.14547103501002,
          96.90444609840077,
          91.95429814554214,
          97.52763259016335,
          78.68557161656278,
          91.84837423882574,
          96.73934853055293,
          97.93018663538757,
          90.74368045064914,
          91.37142273531445,
          46.67964401744943,
          96.75473773406702,
          97.21821774850656,
          88.26518602146955,
          88.00140365191317,
          87.07741597928538,
          90.49231567446265,
          91.9326416260233,
          96.99512038369402,
          79.95955597849729,
          52.9089322411069,
          97.80014000639045,
          96.18818449207141,
          91.56545352601734,
          98.61312435014871,
          95.94486932731539,
          95.44446542561438,
          96.17966146462656,
          90.38860842312991,
          88.76901937708043,
          93.2990638028275,
          65.60345037375089,
          96.96317710259704,
          97.5876435821415,
          87.10404570431488,
          92.56602621278354,
          89.24698821987894,
          98.70202878266785,
          83.62936450328978,
          97.07734963433256,
          92.35937764164105,
          86.0091071186536,
          87.02828454833339,
          97.5045910259505,
          87.20595450085868,
          89.77897862037305,
          94.51078887108413,
          87.46140022747926,
          98.15683983362322,
          75.52052511026257,
          89.46842364799053,
          98.92271125811894,
          97.26567919144193,
          92.01348973126169,
          96.63315949607714,
          94.66589008010419,
          96.35053422050417,
          94.44437436582199,
          91.37192360619221,
          94.74571007726765,
          94.10004659091183,
          93.90047106879692,
          96.75974544735512,
          79.83865261515272,
          87.61283725216339,
          87.20930692434153,
          93.61028579771185,
          93.9239000800222,
          95.83003038001563,
          98.09160430207626,
          91.43503708900799,
          94.61052899967908,
          98.57656174986118,
          92.35322629085896,
          81.37753063237422,
          95.79829711350617,
          97.46656522599868,
          94.14078498649738,
          91.29623350670873,
          94.14704632464246,
          78.63850724046348,
          92.22512387253497,
          97.95328446175832,
          105.71994511141386,
          90.95716124864636,
          97.17276385048253,
          91.44673695205977,
          97.18084202242012,
          89.10150154955107,
          93.33455926006096,
          88.19654606295923,
          85.69973107616582,
          91.74385582849358,
          97.54564746548036,
          91.06584337990765,
          87.57395070218159,
          89.39927281136269,
          91.33849751088371,
          97.02075956589488,
          90.07336731056633,
          95.61087728346195,
          96.0062925549663,
          96.55794579479374,
          97.20479442680957,
          92.5344032495544,
          91.36030815365531,
          87.06863975755074,
          92.68914293012641,
          90.45866456569817,
          90.75068797355101,
          84.87910096553024,
          88.39092362640537,
          91.73632224353813,
          93.89102798430073,
          22.40426652153471,
          81.65857975950746,
          98.37064496625142,
          95.53226177508114,
          95.84984892235656,
          93.43580904942908,
          90.35753868649357,
          95.82987909412941,
          95.08910240964272,
          93.88283003893893,
          97.90230664113105,
          94.8664101027159,
          88.8964160359787,
          90.16920339740882,
          88.73952057652117,
          96.69758361341547,
          98.33610237238001,
          94.02388435382521,
          90.77722774250182,
          96.66428248290998,
          94.41847789715122,
          98.11915818153628,
          82.48983976531309,
          95.13569325971574,
          89.96158333127389,
          23.684126551876485,
          97.92180613041802,
          95.57457877605135,
          96.8059829215404,
          65.55295175491004,
          91.20020103449149,
          96.8245087980784,
          95.09862162087111,
          94.41712617813776,
          91.693176139415,
          98.19347789956082,
          87.93694340326152,
          97.69396971603838,
          94.13404993690061,
          95.91699111193803,
          95.01663690611296,
          97.46341107299034,
          88.99653241925932,
          90.41851076644248,
          100.13320604328634,
          82.3949020392714,
          93.88391632653112,
          100.1295464001346,
          84.1067569494167,
          89.27556078400731,
          97.15120738677255,
          98.18939280496217,
          90.39228937352925,
          96.1490233504685,
          84.12325753632835,
          69.77833637538413,
          83.78645908079785,
          87.45340719349909,
          82.47908996645387,
          97.95768224229752,
          83.19798121556515,
          91.58847188365341,
          100.17274378531536,
          94.85872091665115,
          98.8780380374023,
          86.50852950366169,
          89.68331808029004,
          90.64412454922854,
          89.57511700521327,
          97.88759570953579,
          89.85481059263935,
          88.08514752233914,
          87.90547778266006,
          94.91628834351381,
          85.8287132552719,
          100.44258022205523,
          98.28622571111927,
          93.84935717685646,
          98.02384202438763,
          93.49575195990529,
          90.35107304063276,
          97.2413705260773,
          93.7338835322689,
          97.34496161697203,
          92.03827041044326,
          97.03577260227411,
          93.91553091863503,
          93.8155935131667,
          96.82111324539706,
          100.071662976104,
          82.80231910882597,
          93.529940983121,
          95.25184386160704,
          81.51528107053345,
          86.43079479509622,
          90.43941066895857,
          97.17417206878717,
          95.05827315829957,
          98.75443530156379,
          95.16192480063478,
          97.75475986888576,
          95.19307349892183,
          66.77615466806883,
          94.77240949995969,
          93.98736911545569,
          55.62133273042708,
          98.92269869649617,
          98.58282493737039,
          97.82529041583673,
          92.51994489944808,
          99.10952505864503,
          90.73831727580345,
          87.42906538019923,
          98.37972144538432,
          86.36147743419875,
          89.64898223471482,
          97.94443499339219,
          49.495152114119634,
          92.87288512977031,
          95.01774762966437,
          99.82405208730579,
          97.13472186357308,
          97.18158773623976,
          98.29044583554754,
          94.34547463866123,
          88.20287813312792,
          57.50979592398959,
          94.83636882469315,
          91.71314085074786,
          85.56849704335973,
          93.81334768035312,
          73.02816118884786,
          90.00052873611443,
          90.50133326390484,
          94.00270327483537,
          93.04447213459603,
          95.3944084262204,
          79.97573676548747,
          77.82893821923567,
          91.94781088141437,
          57.90765090929754,
          96.26210494439968,
          94.90733968267338,
          97.87844239898602,
          87.60691334213269,
          92.22594136026876,
          98.17119961099696,
          89.60153149903202,
          103.0362426499728,
          91.09766319290507,
          72.03668842704366,
          96.70868230336954,
          76.90938608237771,
          91.5389028274682,
          91.1796304266032,
          84.7358432900988,
          75.87392862036656,
          91.8029283032489,
          93.4716623463815,
          88.14009127034285,
          97.09355832205611,
          86.0805417089827,
          97.69182133451753,
          97.49548892721357,
          89.9029774403522,
          94.61955613451222,
          79.14171578745584,
          94.31108045463996,
          90.85375237166618,
          96.64078311942339,
          87.15583100124243,
          96.03413844044617,
          98.72687505928168,
          96.58377642711794,
          85.85541165320832,
          95.94751376609655,
          86.51873893013892,
          92.95364977915405,
          91.50371402004436,
          84.9326231916235,
          86.1090586599627,
          95.02854502876185,
          94.66903746854149,
          97.69413167688924,
          84.32526150968106,
          102.44796021524198,
          97.40263726901041,
          95.77039495744557,
          57.81731634503543,
          80.33154205462972,
          90.70033298992648,
          95.18114840746992,
          78.4392591145541,
          87.62529441834229,
          94.24702460658256,
          90.98330236614295,
          84.95939538358773,
          97.56621521769026,
          87.55898933627812,
          89.94507862499455,
          96.39238927881689,
          87.34233620103522,
          93.15491356990185,
          97.39498908876635,
          87.00446241853705,
          97.87302608811754,
          91.1631934186317,
          68.63976221520552,
          92.75294517546901,
          98.18308023712274,
          96.45453285501438,
          78.62538027949242,
          91.48729776133915,
          96.81989199373048,
          83.9143330479517,
          97.06413860435023,
          89.66486129775087,
          92.8765317779664,
          74.25579105107161,
          92.903190968316,
          87.42205619265158,
          89.66257958849798,
          89.11486300233882,
          95.50261821686001,
          97.30580280794473,
          75.46510801137934,
          93.40039652006982,
          96.32321359043846,
          96.46081602079609,
          82.44986229093747,
          91.18066260666416,
          99.88998265947698,
          98.20648048886571,
          95.76048430256809,
          99.36429672778931,
          89.31375296212737,
          97.69545546929068,
          96.2498005671687,
          96.56714284274727,
          89.37031609119602,
          83.69858648173894,
          95.29782339307833,
          76.54607536442049,
          89.86769243272515,
          96.62772854503436,
          88.04909854368557,
          93.38129424895612,
          96.07870447723712,
          84.06140857877462,
          96.78752539621432,
          98.07902102329032,
          98.44931655878653,
          92.5876226207069,
          95.6991083086128,
          93.4032153317883,
          88.75083464030881,
          99.79733296073093,
          93.15835327508988,
          96.83925264341266,
          88.1476810574082,
          91.48395426917035,
          97.12672975504543,
          86.14541101701522,
          98.53891786528128,
          87.19800932712486,
          92.57662949989324,
          97.37320960042484,
          98.48204550772002,
          91.67276252569901,
          99.17541648107934,
          96.3974313297461,
          94.04817753804117,
          94.3195905820884,
          90.93816803945482,
          98.68381796670695,
          93.98186579035487,
          90.87869923815121,
          89.95856026700115,
          82.68637826228894,
          87.98284841041418,
          98.70743807124964,
          88.13228616595802,
          98.28949203620762,
          86.09577197806347,
          80.13965424204383,
          94.13322077765012,
          94.06877919611323,
          89.58865828838098,
          90.27075556934211,
          93.62339399178853,
          97.42295578403343,
          76.74692439269353,
          95.15739059013008,
          97.22155423743025,
          88.25287201828527,
          97.77473092589588,
          98.99921998417979,
          98.96545908542728,
          78.41972148851978,
          93.23393278768381,
          97.47157983013109,
          77.19733027472952,
          78.02453232471231,
          90.41992145019739,
          99.1653921302322,
          92.75453608299185,
          99.78276587554335,
          92.30508938708198,
          87.71615138926596,
          83.81820387096558,
          94.41727905750983,
          96.55364839077627,
          86.7880074438868,
          97.74649612548242,
          97.53700804293283,
          99.11832129082747,
          93.22460169374546,
          98.97683678733004,
          93.71345774456452,
          97.53633847497744,
          81.69621422947517,
          89.96291998484057,
          96.67605156906592,
          90.06625740464247,
          95.92821335286061,
          83.63959983238418,
          96.93005213488196,
          87.9521210285217,
          92.46459207827225,
          88.95593495495618,
          93.95225641622724,
          96.43513950021637,
          93.11162337884832,
          75.82475055577653,
          99.30808238191833,
          96.1539058212827,
          83.60898358274265,
          90.14397611406756,
          60.81896947295424,
          95.45371815482201,
          82.50790917970728,
          94.0507390277307,
          96.03422006670884,
          89.15437370848284,
          98.3670178728628,
          93.65509568240691,
          91.85684467341491,
          91.10563876427837,
          97.73967990294221,
          83.28700845276815,
          80.80487605781003
         ]
        },
        {
         "name": "Actual",
         "type": "bar",
         "x": [
          0,
          1,
          2,
          3,
          4,
          5,
          6,
          7,
          8,
          9,
          10,
          11,
          12,
          13,
          14,
          15,
          16,
          17,
          18,
          19
         ],
         "y": [
          94,
          100,
          91,
          87,
          80,
          96,
          89,
          93,
          80,
          98,
          92,
          80,
          92,
          93,
          90,
          99,
          96,
          83,
          96,
          89,
          100,
          87,
          100,
          80,
          100,
          89,
          94,
          94,
          90,
          20,
          80,
          93,
          90,
          95,
          90,
          82,
          97,
          98,
          95,
          80,
          100,
          85,
          100,
          81,
          93,
          93,
          80,
          87,
          89,
          100,
          87,
          100,
          98,
          88,
          86,
          95,
          85,
          100,
          60,
          97,
          87,
          93,
          93,
          100,
          89,
          100,
          94,
          100,
          88,
          90,
          96,
          84,
          90,
          95,
          93,
          97,
          84,
          100,
          93,
          100,
          100,
          94,
          90,
          92,
          93,
          90,
          40,
          100,
          93,
          100,
          96,
          87,
          100,
          97,
          92,
          100,
          81,
          91,
          97,
          95,
          87,
          89,
          47,
          100,
          100,
          87,
          88,
          89,
          97,
          80,
          100,
          80,
          60,
          99,
          94,
          95,
          100,
          94,
          96,
          97,
          93,
          89,
          91,
          80,
          96,
          96,
          97,
          90,
          89,
          100,
          90,
          97,
          80,
          94,
          80,
          100,
          91,
          80,
          94,
          89,
          100,
          71,
          90,
          96,
          98,
          86,
          92,
          94,
          97,
          94,
          96,
          89,
          94,
          94,
          92,
          80,
          86,
          88,
          90,
          100,
          97,
          100,
          89,
          93,
          97,
          94,
          82,
          95,
          96,
          98,
          90,
          95,
          80,
          100,
          94,
          100,
          91,
          97,
          90,
          96,
          94,
          90,
          93,
          84,
          91,
          98,
          91,
          90,
          88,
          87,
          96,
          90,
          97,
          98,
          96,
          98,
          91,
          88,
          90,
          92,
          100,
          80,
          84,
          89,
          93,
          95,
          20,
          87,
          95,
          95,
          96,
          91,
          90,
          96,
          96,
          91,
          99,
          95,
          87,
          90,
          92,
          92,
          98,
          92,
          90,
          94,
          80,
          97,
          67,
          95,
          89,
          20,
          100,
          97,
          100,
          80,
          93,
          98,
          80,
          91,
          100,
          100,
          89,
          98,
          93,
          98,
          99,
          98,
          80,
          87,
          100,
          78,
          96,
          93,
          81,
          77,
          98,
          100,
          92,
          95,
          82,
          60,
          87,
          80,
          85,
          98,
          93,
          100,
          100,
          92,
          99,
          84,
          91,
          90,
          91,
          97,
          93,
          94,
          85,
          96,
          80,
          100,
          100,
          91,
          99,
          91,
          92,
          100,
          90,
          96,
          90,
          97,
          95,
          87,
          95,
          100,
          86,
          96,
          94,
          80,
          84,
          92,
          96,
          94,
          100,
          95,
          98,
          88,
          73,
          95,
          88,
          60,
          100,
          100,
          97,
          80,
          100,
          92,
          85,
          100,
          89,
          90,
          98,
          40,
          90,
          100,
          100,
          95,
          97,
          100,
          94,
          89,
          40,
          95,
          91,
          83,
          95,
          80,
          100,
          92,
          85,
          86,
          100,
          81,
          77,
          89,
          50,
          96,
          95,
          97,
          83,
          94,
          97,
          90,
          100,
          88,
          80,
          94,
          81,
          93,
          88,
          83,
          82,
          92,
          100,
          86,
          100,
          81,
          97,
          98,
          90,
          95,
          80,
          95,
          94,
          97,
          87,
          100,
          80,
          97,
          88,
          96,
          85,
          94,
          100,
          80,
          85,
          91,
          95,
          97,
          88,
          98,
          100,
          96,
          50,
          77,
          89,
          100,
          84,
          89,
          91,
          86,
          80,
          94,
          88,
          89,
          95,
          87,
          87,
          96,
          100,
          93,
          94,
          60,
          91,
          100,
          98,
          78,
          95,
          100,
          80,
          92,
          80,
          91,
          60,
          97,
          100,
          88,
          93,
          98,
          97,
          68,
          95,
          100,
          96,
          70,
          90,
          100,
          96,
          98,
          98,
          94,
          96,
          95,
          95,
          89,
          84,
          92,
          80,
          80,
          95,
          96,
          93,
          95,
          88,
          96,
          95,
          100,
          94,
          98,
          93,
          85,
          98,
          91,
          94,
          92,
          86,
          100,
          87,
          97,
          88,
          95,
          100,
          96,
          96,
          100,
          100,
          90,
          96,
          97,
          100,
          93,
          90,
          87,
          87,
          89,
          100,
          92,
          99,
          82,
          82,
          97,
          100,
          97,
          93,
          100,
          87,
          73,
          91,
          95,
          90,
          97,
          97,
          99,
          80,
          92,
          99,
          82,
          79,
          88,
          100,
          92,
          99,
          97,
          84,
          86,
          98,
          97,
          91,
          95,
          96,
          98,
          95,
          97,
          90,
          100,
          100,
          100,
          97,
          100,
          96,
          83,
          98,
          90,
          94,
          95,
          100,
          100,
          91,
          80,
          98,
          97,
          100,
          80,
          60,
          100,
          83,
          96,
          100,
          90,
          100,
          96,
          89,
          84,
          96,
          86,
          82
         ]
        }
       ],
       "layout": {
        "barmode": "group",
        "template": {
         "data": {
          "bar": [
           {
            "error_x": {
             "color": "#2a3f5f"
            },
            "error_y": {
             "color": "#2a3f5f"
            },
            "marker": {
             "line": {
              "color": "#E5ECF6",
              "width": 0.5
             }
            },
            "type": "bar"
           }
          ],
          "barpolar": [
           {
            "marker": {
             "line": {
              "color": "#E5ECF6",
              "width": 0.5
             }
            },
            "type": "barpolar"
           }
          ],
          "carpet": [
           {
            "aaxis": {
             "endlinecolor": "#2a3f5f",
             "gridcolor": "white",
             "linecolor": "white",
             "minorgridcolor": "white",
             "startlinecolor": "#2a3f5f"
            },
            "baxis": {
             "endlinecolor": "#2a3f5f",
             "gridcolor": "white",
             "linecolor": "white",
             "minorgridcolor": "white",
             "startlinecolor": "#2a3f5f"
            },
            "type": "carpet"
           }
          ],
          "choropleth": [
           {
            "colorbar": {
             "outlinewidth": 0,
             "ticks": ""
            },
            "type": "choropleth"
           }
          ],
          "contour": [
           {
            "colorbar": {
             "outlinewidth": 0,
             "ticks": ""
            },
            "colorscale": [
             [
              0,
              "#0d0887"
             ],
             [
              0.1111111111111111,
              "#46039f"
             ],
             [
              0.2222222222222222,
              "#7201a8"
             ],
             [
              0.3333333333333333,
              "#9c179e"
             ],
             [
              0.4444444444444444,
              "#bd3786"
             ],
             [
              0.5555555555555556,
              "#d8576b"
             ],
             [
              0.6666666666666666,
              "#ed7953"
             ],
             [
              0.7777777777777778,
              "#fb9f3a"
             ],
             [
              0.8888888888888888,
              "#fdca26"
             ],
             [
              1,
              "#f0f921"
             ]
            ],
            "type": "contour"
           }
          ],
          "contourcarpet": [
           {
            "colorbar": {
             "outlinewidth": 0,
             "ticks": ""
            },
            "type": "contourcarpet"
           }
          ],
          "heatmap": [
           {
            "colorbar": {
             "outlinewidth": 0,
             "ticks": ""
            },
            "colorscale": [
             [
              0,
              "#0d0887"
             ],
             [
              0.1111111111111111,
              "#46039f"
             ],
             [
              0.2222222222222222,
              "#7201a8"
             ],
             [
              0.3333333333333333,
              "#9c179e"
             ],
             [
              0.4444444444444444,
              "#bd3786"
             ],
             [
              0.5555555555555556,
              "#d8576b"
             ],
             [
              0.6666666666666666,
              "#ed7953"
             ],
             [
              0.7777777777777778,
              "#fb9f3a"
             ],
             [
              0.8888888888888888,
              "#fdca26"
             ],
             [
              1,
              "#f0f921"
             ]
            ],
            "type": "heatmap"
           }
          ],
          "heatmapgl": [
           {
            "colorbar": {
             "outlinewidth": 0,
             "ticks": ""
            },
            "colorscale": [
             [
              0,
              "#0d0887"
             ],
             [
              0.1111111111111111,
              "#46039f"
             ],
             [
              0.2222222222222222,
              "#7201a8"
             ],
             [
              0.3333333333333333,
              "#9c179e"
             ],
             [
              0.4444444444444444,
              "#bd3786"
             ],
             [
              0.5555555555555556,
              "#d8576b"
             ],
             [
              0.6666666666666666,
              "#ed7953"
             ],
             [
              0.7777777777777778,
              "#fb9f3a"
             ],
             [
              0.8888888888888888,
              "#fdca26"
             ],
             [
              1,
              "#f0f921"
             ]
            ],
            "type": "heatmapgl"
           }
          ],
          "histogram": [
           {
            "marker": {
             "colorbar": {
              "outlinewidth": 0,
              "ticks": ""
             }
            },
            "type": "histogram"
           }
          ],
          "histogram2d": [
           {
            "colorbar": {
             "outlinewidth": 0,
             "ticks": ""
            },
            "colorscale": [
             [
              0,
              "#0d0887"
             ],
             [
              0.1111111111111111,
              "#46039f"
             ],
             [
              0.2222222222222222,
              "#7201a8"
             ],
             [
              0.3333333333333333,
              "#9c179e"
             ],
             [
              0.4444444444444444,
              "#bd3786"
             ],
             [
              0.5555555555555556,
              "#d8576b"
             ],
             [
              0.6666666666666666,
              "#ed7953"
             ],
             [
              0.7777777777777778,
              "#fb9f3a"
             ],
             [
              0.8888888888888888,
              "#fdca26"
             ],
             [
              1,
              "#f0f921"
             ]
            ],
            "type": "histogram2d"
           }
          ],
          "histogram2dcontour": [
           {
            "colorbar": {
             "outlinewidth": 0,
             "ticks": ""
            },
            "colorscale": [
             [
              0,
              "#0d0887"
             ],
             [
              0.1111111111111111,
              "#46039f"
             ],
             [
              0.2222222222222222,
              "#7201a8"
             ],
             [
              0.3333333333333333,
              "#9c179e"
             ],
             [
              0.4444444444444444,
              "#bd3786"
             ],
             [
              0.5555555555555556,
              "#d8576b"
             ],
             [
              0.6666666666666666,
              "#ed7953"
             ],
             [
              0.7777777777777778,
              "#fb9f3a"
             ],
             [
              0.8888888888888888,
              "#fdca26"
             ],
             [
              1,
              "#f0f921"
             ]
            ],
            "type": "histogram2dcontour"
           }
          ],
          "mesh3d": [
           {
            "colorbar": {
             "outlinewidth": 0,
             "ticks": ""
            },
            "type": "mesh3d"
           }
          ],
          "parcoords": [
           {
            "line": {
             "colorbar": {
              "outlinewidth": 0,
              "ticks": ""
             }
            },
            "type": "parcoords"
           }
          ],
          "pie": [
           {
            "automargin": true,
            "type": "pie"
           }
          ],
          "scatter": [
           {
            "marker": {
             "colorbar": {
              "outlinewidth": 0,
              "ticks": ""
             }
            },
            "type": "scatter"
           }
          ],
          "scatter3d": [
           {
            "line": {
             "colorbar": {
              "outlinewidth": 0,
              "ticks": ""
             }
            },
            "marker": {
             "colorbar": {
              "outlinewidth": 0,
              "ticks": ""
             }
            },
            "type": "scatter3d"
           }
          ],
          "scattercarpet": [
           {
            "marker": {
             "colorbar": {
              "outlinewidth": 0,
              "ticks": ""
             }
            },
            "type": "scattercarpet"
           }
          ],
          "scattergeo": [
           {
            "marker": {
             "colorbar": {
              "outlinewidth": 0,
              "ticks": ""
             }
            },
            "type": "scattergeo"
           }
          ],
          "scattergl": [
           {
            "marker": {
             "colorbar": {
              "outlinewidth": 0,
              "ticks": ""
             }
            },
            "type": "scattergl"
           }
          ],
          "scattermapbox": [
           {
            "marker": {
             "colorbar": {
              "outlinewidth": 0,
              "ticks": ""
             }
            },
            "type": "scattermapbox"
           }
          ],
          "scatterpolar": [
           {
            "marker": {
             "colorbar": {
              "outlinewidth": 0,
              "ticks": ""
             }
            },
            "type": "scatterpolar"
           }
          ],
          "scatterpolargl": [
           {
            "marker": {
             "colorbar": {
              "outlinewidth": 0,
              "ticks": ""
             }
            },
            "type": "scatterpolargl"
           }
          ],
          "scatterternary": [
           {
            "marker": {
             "colorbar": {
              "outlinewidth": 0,
              "ticks": ""
             }
            },
            "type": "scatterternary"
           }
          ],
          "surface": [
           {
            "colorbar": {
             "outlinewidth": 0,
             "ticks": ""
            },
            "colorscale": [
             [
              0,
              "#0d0887"
             ],
             [
              0.1111111111111111,
              "#46039f"
             ],
             [
              0.2222222222222222,
              "#7201a8"
             ],
             [
              0.3333333333333333,
              "#9c179e"
             ],
             [
              0.4444444444444444,
              "#bd3786"
             ],
             [
              0.5555555555555556,
              "#d8576b"
             ],
             [
              0.6666666666666666,
              "#ed7953"
             ],
             [
              0.7777777777777778,
              "#fb9f3a"
             ],
             [
              0.8888888888888888,
              "#fdca26"
             ],
             [
              1,
              "#f0f921"
             ]
            ],
            "type": "surface"
           }
          ],
          "table": [
           {
            "cells": {
             "fill": {
              "color": "#EBF0F8"
             },
             "line": {
              "color": "white"
             }
            },
            "header": {
             "fill": {
              "color": "#C8D4E3"
             },
             "line": {
              "color": "white"
             }
            },
            "type": "table"
           }
          ]
         },
         "layout": {
          "annotationdefaults": {
           "arrowcolor": "#2a3f5f",
           "arrowhead": 0,
           "arrowwidth": 1
          },
          "coloraxis": {
           "colorbar": {
            "outlinewidth": 0,
            "ticks": ""
           }
          },
          "colorscale": {
           "diverging": [
            [
             0,
             "#8e0152"
            ],
            [
             0.1,
             "#c51b7d"
            ],
            [
             0.2,
             "#de77ae"
            ],
            [
             0.3,
             "#f1b6da"
            ],
            [
             0.4,
             "#fde0ef"
            ],
            [
             0.5,
             "#f7f7f7"
            ],
            [
             0.6,
             "#e6f5d0"
            ],
            [
             0.7,
             "#b8e186"
            ],
            [
             0.8,
             "#7fbc41"
            ],
            [
             0.9,
             "#4d9221"
            ],
            [
             1,
             "#276419"
            ]
           ],
           "sequential": [
            [
             0,
             "#0d0887"
            ],
            [
             0.1111111111111111,
             "#46039f"
            ],
            [
             0.2222222222222222,
             "#7201a8"
            ],
            [
             0.3333333333333333,
             "#9c179e"
            ],
            [
             0.4444444444444444,
             "#bd3786"
            ],
            [
             0.5555555555555556,
             "#d8576b"
            ],
            [
             0.6666666666666666,
             "#ed7953"
            ],
            [
             0.7777777777777778,
             "#fb9f3a"
            ],
            [
             0.8888888888888888,
             "#fdca26"
            ],
            [
             1,
             "#f0f921"
            ]
           ],
           "sequentialminus": [
            [
             0,
             "#0d0887"
            ],
            [
             0.1111111111111111,
             "#46039f"
            ],
            [
             0.2222222222222222,
             "#7201a8"
            ],
            [
             0.3333333333333333,
             "#9c179e"
            ],
            [
             0.4444444444444444,
             "#bd3786"
            ],
            [
             0.5555555555555556,
             "#d8576b"
            ],
            [
             0.6666666666666666,
             "#ed7953"
            ],
            [
             0.7777777777777778,
             "#fb9f3a"
            ],
            [
             0.8888888888888888,
             "#fdca26"
            ],
            [
             1,
             "#f0f921"
            ]
           ]
          },
          "colorway": [
           "#636efa",
           "#EF553B",
           "#00cc96",
           "#ab63fa",
           "#FFA15A",
           "#19d3f3",
           "#FF6692",
           "#B6E880",
           "#FF97FF",
           "#FECB52"
          ],
          "font": {
           "color": "#2a3f5f"
          },
          "geo": {
           "bgcolor": "white",
           "lakecolor": "white",
           "landcolor": "#E5ECF6",
           "showlakes": true,
           "showland": true,
           "subunitcolor": "white"
          },
          "hoverlabel": {
           "align": "left"
          },
          "hovermode": "closest",
          "mapbox": {
           "style": "light"
          },
          "paper_bgcolor": "white",
          "plot_bgcolor": "#E5ECF6",
          "polar": {
           "angularaxis": {
            "gridcolor": "white",
            "linecolor": "white",
            "ticks": ""
           },
           "bgcolor": "#E5ECF6",
           "radialaxis": {
            "gridcolor": "white",
            "linecolor": "white",
            "ticks": ""
           }
          },
          "scene": {
           "xaxis": {
            "backgroundcolor": "#E5ECF6",
            "gridcolor": "white",
            "gridwidth": 2,
            "linecolor": "white",
            "showbackground": true,
            "ticks": "",
            "zerolinecolor": "white"
           },
           "yaxis": {
            "backgroundcolor": "#E5ECF6",
            "gridcolor": "white",
            "gridwidth": 2,
            "linecolor": "white",
            "showbackground": true,
            "ticks": "",
            "zerolinecolor": "white"
           },
           "zaxis": {
            "backgroundcolor": "#E5ECF6",
            "gridcolor": "white",
            "gridwidth": 2,
            "linecolor": "white",
            "showbackground": true,
            "ticks": "",
            "zerolinecolor": "white"
           }
          },
          "shapedefaults": {
           "line": {
            "color": "#2a3f5f"
           }
          },
          "ternary": {
           "aaxis": {
            "gridcolor": "white",
            "linecolor": "white",
            "ticks": ""
           },
           "baxis": {
            "gridcolor": "white",
            "linecolor": "white",
            "ticks": ""
           },
           "bgcolor": "#E5ECF6",
           "caxis": {
            "gridcolor": "white",
            "linecolor": "white",
            "ticks": ""
           }
          },
          "title": {
           "x": 0.05
          },
          "xaxis": {
           "automargin": true,
           "gridcolor": "white",
           "linecolor": "white",
           "ticks": "",
           "title": {
            "standoff": 15
           },
           "zerolinecolor": "white",
           "zerolinewidth": 2
          },
          "yaxis": {
           "automargin": true,
           "gridcolor": "white",
           "linecolor": "white",
           "ticks": "",
           "title": {
            "standoff": 15
           },
           "zerolinecolor": "white",
           "zerolinewidth": 2
          }
         }
        },
        "title": {
         "text": "Hong Kong - Gradient boosting rating predictions"
        },
        "xaxis": {
         "title": {
          "text": "Index"
         }
        },
        "yaxis": {
         "title": {
          "text": "Rating"
         }
        }
       }
      },
      "text/html": [
       "<div>                            <div id=\"db01254b-ecfd-45f6-afd0-bc45c4aaf2c5\" class=\"plotly-graph-div\" style=\"height:525px; width:100%;\"></div>            <script type=\"text/javascript\">                require([\"plotly\"], function(Plotly) {                    window.PLOTLYENV=window.PLOTLYENV || {};                                    if (document.getElementById(\"db01254b-ecfd-45f6-afd0-bc45c4aaf2c5\")) {                    Plotly.newPlot(                        \"db01254b-ecfd-45f6-afd0-bc45c4aaf2c5\",                        [{\"name\": \"Predicted\", \"type\": \"bar\", \"x\": [0, 1, 2, 3, 4, 5, 6, 7, 8, 9, 10, 11, 12, 13, 14, 15, 16, 17, 18, 19], \"y\": [93.80759617371277, 95.63422418895887, 90.42311071385328, 90.01235530418879, 84.42881555755086, 97.31688340507436, 85.85037114076913, 89.87267401107586, 79.93372494662898, 97.76347429391677, 92.88975458663049, 95.50772275607574, 90.52953460078889, 91.16743400527236, 90.59615990818223, 96.58134165721846, 98.21600372452141, 85.3767163839313, 92.15162538230305, 95.68289923596667, 97.49773593063198, 86.6068142149161, 96.89955062848922, 83.33781329058128, 96.78997960500115, 87.62559099528323, 94.83632439653861, 94.44802257264486, 92.6250504289062, 25.68834262032075, 82.03937675844075, 93.02774987764808, 90.89016451837746, 95.32442936546099, 87.43647802918889, 81.2475695290517, 97.91114529201243, 97.52326907420401, 96.9232394929328, 83.4047116771787, 94.89019971454852, 93.42876060895038, 97.64507709030443, 78.0219590115281, 92.20184161190365, 90.1517330977687, 75.25484498507903, 85.5677249129213, 88.37684201125285, 95.80801220653117, 88.00645965629296, 94.09693764180166, 96.03131667504965, 86.20065591515166, 88.44029786621127, 97.96745061805555, 93.83019799921527, 95.77372939745709, 60.21412285973244, 95.82191524105188, 91.91358074386577, 93.97261999088651, 93.83667188235324, 93.3661100376439, 89.78333376781957, 100.43378712223708, 96.25658200305752, 95.9135369666965, 87.04469980042613, 91.20916837753694, 94.41616082344736, 86.30757553133344, 94.20189988963497, 91.25179760919384, 99.48247501399072, 96.55735143486382, 82.35836497460498, 94.20591965585538, 89.56665035569789, 97.70343268952041, 96.73064875362293, 94.53967372287777, 90.47172892005496, 95.29309050751115, 97.86989090390247, 91.70549242357167, 31.10210849372169, 98.28362236277717, 93.8878419261321, 85.97472405320883, 96.8259100190109, 84.11837733681578, 102.14547103501002, 96.90444609840077, 91.95429814554214, 97.52763259016335, 78.68557161656278, 91.84837423882574, 96.73934853055293, 97.93018663538757, 90.74368045064914, 91.37142273531445, 46.67964401744943, 96.75473773406702, 97.21821774850656, 88.26518602146955, 88.00140365191317, 87.07741597928538, 90.49231567446265, 91.9326416260233, 96.99512038369402, 79.95955597849729, 52.9089322411069, 97.80014000639045, 96.18818449207141, 91.56545352601734, 98.61312435014871, 95.94486932731539, 95.44446542561438, 96.17966146462656, 90.38860842312991, 88.76901937708043, 93.2990638028275, 65.60345037375089, 96.96317710259704, 97.5876435821415, 87.10404570431488, 92.56602621278354, 89.24698821987894, 98.70202878266785, 83.62936450328978, 97.07734963433256, 92.35937764164105, 86.0091071186536, 87.02828454833339, 97.5045910259505, 87.20595450085868, 89.77897862037305, 94.51078887108413, 87.46140022747926, 98.15683983362322, 75.52052511026257, 89.46842364799053, 98.92271125811894, 97.26567919144193, 92.01348973126169, 96.63315949607714, 94.66589008010419, 96.35053422050417, 94.44437436582199, 91.37192360619221, 94.74571007726765, 94.10004659091183, 93.90047106879692, 96.75974544735512, 79.83865261515272, 87.61283725216339, 87.20930692434153, 93.61028579771185, 93.9239000800222, 95.83003038001563, 98.09160430207626, 91.43503708900799, 94.61052899967908, 98.57656174986118, 92.35322629085896, 81.37753063237422, 95.79829711350617, 97.46656522599868, 94.14078498649738, 91.29623350670873, 94.14704632464246, 78.63850724046348, 92.22512387253497, 97.95328446175832, 105.71994511141386, 90.95716124864636, 97.17276385048253, 91.44673695205977, 97.18084202242012, 89.10150154955107, 93.33455926006096, 88.19654606295923, 85.69973107616582, 91.74385582849358, 97.54564746548036, 91.06584337990765, 87.57395070218159, 89.39927281136269, 91.33849751088371, 97.02075956589488, 90.07336731056633, 95.61087728346195, 96.0062925549663, 96.55794579479374, 97.20479442680957, 92.5344032495544, 91.36030815365531, 87.06863975755074, 92.68914293012641, 90.45866456569817, 90.75068797355101, 84.87910096553024, 88.39092362640537, 91.73632224353813, 93.89102798430073, 22.40426652153471, 81.65857975950746, 98.37064496625142, 95.53226177508114, 95.84984892235656, 93.43580904942908, 90.35753868649357, 95.82987909412941, 95.08910240964272, 93.88283003893893, 97.90230664113105, 94.8664101027159, 88.8964160359787, 90.16920339740882, 88.73952057652117, 96.69758361341547, 98.33610237238001, 94.02388435382521, 90.77722774250182, 96.66428248290998, 94.41847789715122, 98.11915818153628, 82.48983976531309, 95.13569325971574, 89.96158333127389, 23.684126551876485, 97.92180613041802, 95.57457877605135, 96.8059829215404, 65.55295175491004, 91.20020103449149, 96.8245087980784, 95.09862162087111, 94.41712617813776, 91.693176139415, 98.19347789956082, 87.93694340326152, 97.69396971603838, 94.13404993690061, 95.91699111193803, 95.01663690611296, 97.46341107299034, 88.99653241925932, 90.41851076644248, 100.13320604328634, 82.3949020392714, 93.88391632653112, 100.1295464001346, 84.1067569494167, 89.27556078400731, 97.15120738677255, 98.18939280496217, 90.39228937352925, 96.1490233504685, 84.12325753632835, 69.77833637538413, 83.78645908079785, 87.45340719349909, 82.47908996645387, 97.95768224229752, 83.19798121556515, 91.58847188365341, 100.17274378531536, 94.85872091665115, 98.8780380374023, 86.50852950366169, 89.68331808029004, 90.64412454922854, 89.57511700521327, 97.88759570953579, 89.85481059263935, 88.08514752233914, 87.90547778266006, 94.91628834351381, 85.8287132552719, 100.44258022205523, 98.28622571111927, 93.84935717685646, 98.02384202438763, 93.49575195990529, 90.35107304063276, 97.2413705260773, 93.7338835322689, 97.34496161697203, 92.03827041044326, 97.03577260227411, 93.91553091863503, 93.8155935131667, 96.82111324539706, 100.071662976104, 82.80231910882597, 93.529940983121, 95.25184386160704, 81.51528107053345, 86.43079479509622, 90.43941066895857, 97.17417206878717, 95.05827315829957, 98.75443530156379, 95.16192480063478, 97.75475986888576, 95.19307349892183, 66.77615466806883, 94.77240949995969, 93.98736911545569, 55.62133273042708, 98.92269869649617, 98.58282493737039, 97.82529041583673, 92.51994489944808, 99.10952505864503, 90.73831727580345, 87.42906538019923, 98.37972144538432, 86.36147743419875, 89.64898223471482, 97.94443499339219, 49.495152114119634, 92.87288512977031, 95.01774762966437, 99.82405208730579, 97.13472186357308, 97.18158773623976, 98.29044583554754, 94.34547463866123, 88.20287813312792, 57.50979592398959, 94.83636882469315, 91.71314085074786, 85.56849704335973, 93.81334768035312, 73.02816118884786, 90.00052873611443, 90.50133326390484, 94.00270327483537, 93.04447213459603, 95.3944084262204, 79.97573676548747, 77.82893821923567, 91.94781088141437, 57.90765090929754, 96.26210494439968, 94.90733968267338, 97.87844239898602, 87.60691334213269, 92.22594136026876, 98.17119961099696, 89.60153149903202, 103.0362426499728, 91.09766319290507, 72.03668842704366, 96.70868230336954, 76.90938608237771, 91.5389028274682, 91.1796304266032, 84.7358432900988, 75.87392862036656, 91.8029283032489, 93.4716623463815, 88.14009127034285, 97.09355832205611, 86.0805417089827, 97.69182133451753, 97.49548892721357, 89.9029774403522, 94.61955613451222, 79.14171578745584, 94.31108045463996, 90.85375237166618, 96.64078311942339, 87.15583100124243, 96.03413844044617, 98.72687505928168, 96.58377642711794, 85.85541165320832, 95.94751376609655, 86.51873893013892, 92.95364977915405, 91.50371402004436, 84.9326231916235, 86.1090586599627, 95.02854502876185, 94.66903746854149, 97.69413167688924, 84.32526150968106, 102.44796021524198, 97.40263726901041, 95.77039495744557, 57.81731634503543, 80.33154205462972, 90.70033298992648, 95.18114840746992, 78.4392591145541, 87.62529441834229, 94.24702460658256, 90.98330236614295, 84.95939538358773, 97.56621521769026, 87.55898933627812, 89.94507862499455, 96.39238927881689, 87.34233620103522, 93.15491356990185, 97.39498908876635, 87.00446241853705, 97.87302608811754, 91.1631934186317, 68.63976221520552, 92.75294517546901, 98.18308023712274, 96.45453285501438, 78.62538027949242, 91.48729776133915, 96.81989199373048, 83.9143330479517, 97.06413860435023, 89.66486129775087, 92.8765317779664, 74.25579105107161, 92.903190968316, 87.42205619265158, 89.66257958849798, 89.11486300233882, 95.50261821686001, 97.30580280794473, 75.46510801137934, 93.40039652006982, 96.32321359043846, 96.46081602079609, 82.44986229093747, 91.18066260666416, 99.88998265947698, 98.20648048886571, 95.76048430256809, 99.36429672778931, 89.31375296212737, 97.69545546929068, 96.2498005671687, 96.56714284274727, 89.37031609119602, 83.69858648173894, 95.29782339307833, 76.54607536442049, 89.86769243272515, 96.62772854503436, 88.04909854368557, 93.38129424895612, 96.07870447723712, 84.06140857877462, 96.78752539621432, 98.07902102329032, 98.44931655878653, 92.5876226207069, 95.6991083086128, 93.4032153317883, 88.75083464030881, 99.79733296073093, 93.15835327508988, 96.83925264341266, 88.1476810574082, 91.48395426917035, 97.12672975504543, 86.14541101701522, 98.53891786528128, 87.19800932712486, 92.57662949989324, 97.37320960042484, 98.48204550772002, 91.67276252569901, 99.17541648107934, 96.3974313297461, 94.04817753804117, 94.3195905820884, 90.93816803945482, 98.68381796670695, 93.98186579035487, 90.87869923815121, 89.95856026700115, 82.68637826228894, 87.98284841041418, 98.70743807124964, 88.13228616595802, 98.28949203620762, 86.09577197806347, 80.13965424204383, 94.13322077765012, 94.06877919611323, 89.58865828838098, 90.27075556934211, 93.62339399178853, 97.42295578403343, 76.74692439269353, 95.15739059013008, 97.22155423743025, 88.25287201828527, 97.77473092589588, 98.99921998417979, 98.96545908542728, 78.41972148851978, 93.23393278768381, 97.47157983013109, 77.19733027472952, 78.02453232471231, 90.41992145019739, 99.1653921302322, 92.75453608299185, 99.78276587554335, 92.30508938708198, 87.71615138926596, 83.81820387096558, 94.41727905750983, 96.55364839077627, 86.7880074438868, 97.74649612548242, 97.53700804293283, 99.11832129082747, 93.22460169374546, 98.97683678733004, 93.71345774456452, 97.53633847497744, 81.69621422947517, 89.96291998484057, 96.67605156906592, 90.06625740464247, 95.92821335286061, 83.63959983238418, 96.93005213488196, 87.9521210285217, 92.46459207827225, 88.95593495495618, 93.95225641622724, 96.43513950021637, 93.11162337884832, 75.82475055577653, 99.30808238191833, 96.1539058212827, 83.60898358274265, 90.14397611406756, 60.81896947295424, 95.45371815482201, 82.50790917970728, 94.0507390277307, 96.03422006670884, 89.15437370848284, 98.3670178728628, 93.65509568240691, 91.85684467341491, 91.10563876427837, 97.73967990294221, 83.28700845276815, 80.80487605781003]}, {\"name\": \"Actual\", \"type\": \"bar\", \"x\": [0, 1, 2, 3, 4, 5, 6, 7, 8, 9, 10, 11, 12, 13, 14, 15, 16, 17, 18, 19], \"y\": [94.0, 100.0, 91.0, 87.0, 80.0, 96.0, 89.0, 93.0, 80.0, 98.0, 92.0, 80.0, 92.0, 93.0, 90.0, 99.0, 96.0, 83.0, 96.0, 89.0, 100.0, 87.0, 100.0, 80.0, 100.0, 89.0, 94.0, 94.0, 90.0, 20.0, 80.0, 93.0, 90.0, 95.0, 90.0, 82.0, 97.0, 98.0, 95.0, 80.0, 100.0, 85.0, 100.0, 81.0, 93.0, 93.0, 80.0, 87.0, 89.0, 100.0, 87.0, 100.0, 98.0, 88.0, 86.0, 95.0, 85.0, 100.0, 60.0, 97.0, 87.0, 93.0, 93.0, 100.0, 89.0, 100.0, 94.0, 100.0, 88.0, 90.0, 96.0, 84.0, 90.0, 95.0, 93.0, 97.0, 84.0, 100.0, 93.0, 100.0, 100.0, 94.0, 90.0, 92.0, 93.0, 90.0, 40.0, 100.0, 93.0, 100.0, 96.0, 87.0, 100.0, 97.0, 92.0, 100.0, 81.0, 91.0, 97.0, 95.0, 87.0, 89.0, 47.0, 100.0, 100.0, 87.0, 88.0, 89.0, 97.0, 80.0, 100.0, 80.0, 60.0, 99.0, 94.0, 95.0, 100.0, 94.0, 96.0, 97.0, 93.0, 89.0, 91.0, 80.0, 96.0, 96.0, 97.0, 90.0, 89.0, 100.0, 90.0, 97.0, 80.0, 94.0, 80.0, 100.0, 91.0, 80.0, 94.0, 89.0, 100.0, 71.0, 90.0, 96.0, 98.0, 86.0, 92.0, 94.0, 97.0, 94.0, 96.0, 89.0, 94.0, 94.0, 92.0, 80.0, 86.0, 88.0, 90.0, 100.0, 97.0, 100.0, 89.0, 93.0, 97.0, 94.0, 82.0, 95.0, 96.0, 98.0, 90.0, 95.0, 80.0, 100.0, 94.0, 100.0, 91.0, 97.0, 90.0, 96.0, 94.0, 90.0, 93.0, 84.0, 91.0, 98.0, 91.0, 90.0, 88.0, 87.0, 96.0, 90.0, 97.0, 98.0, 96.0, 98.0, 91.0, 88.0, 90.0, 92.0, 100.0, 80.0, 84.0, 89.0, 93.0, 95.0, 20.0, 87.0, 95.0, 95.0, 96.0, 91.0, 90.0, 96.0, 96.0, 91.0, 99.0, 95.0, 87.0, 90.0, 92.0, 92.0, 98.0, 92.0, 90.0, 94.0, 80.0, 97.0, 67.0, 95.0, 89.0, 20.0, 100.0, 97.0, 100.0, 80.0, 93.0, 98.0, 80.0, 91.0, 100.0, 100.0, 89.0, 98.0, 93.0, 98.0, 99.0, 98.0, 80.0, 87.0, 100.0, 78.0, 96.0, 93.0, 81.0, 77.0, 98.0, 100.0, 92.0, 95.0, 82.0, 60.0, 87.0, 80.0, 85.0, 98.0, 93.0, 100.0, 100.0, 92.0, 99.0, 84.0, 91.0, 90.0, 91.0, 97.0, 93.0, 94.0, 85.0, 96.0, 80.0, 100.0, 100.0, 91.0, 99.0, 91.0, 92.0, 100.0, 90.0, 96.0, 90.0, 97.0, 95.0, 87.0, 95.0, 100.0, 86.0, 96.0, 94.0, 80.0, 84.0, 92.0, 96.0, 94.0, 100.0, 95.0, 98.0, 88.0, 73.0, 95.0, 88.0, 60.0, 100.0, 100.0, 97.0, 80.0, 100.0, 92.0, 85.0, 100.0, 89.0, 90.0, 98.0, 40.0, 90.0, 100.0, 100.0, 95.0, 97.0, 100.0, 94.0, 89.0, 40.0, 95.0, 91.0, 83.0, 95.0, 80.0, 100.0, 92.0, 85.0, 86.0, 100.0, 81.0, 77.0, 89.0, 50.0, 96.0, 95.0, 97.0, 83.0, 94.0, 97.0, 90.0, 100.0, 88.0, 80.0, 94.0, 81.0, 93.0, 88.0, 83.0, 82.0, 92.0, 100.0, 86.0, 100.0, 81.0, 97.0, 98.0, 90.0, 95.0, 80.0, 95.0, 94.0, 97.0, 87.0, 100.0, 80.0, 97.0, 88.0, 96.0, 85.0, 94.0, 100.0, 80.0, 85.0, 91.0, 95.0, 97.0, 88.0, 98.0, 100.0, 96.0, 50.0, 77.0, 89.0, 100.0, 84.0, 89.0, 91.0, 86.0, 80.0, 94.0, 88.0, 89.0, 95.0, 87.0, 87.0, 96.0, 100.0, 93.0, 94.0, 60.0, 91.0, 100.0, 98.0, 78.0, 95.0, 100.0, 80.0, 92.0, 80.0, 91.0, 60.0, 97.0, 100.0, 88.0, 93.0, 98.0, 97.0, 68.0, 95.0, 100.0, 96.0, 70.0, 90.0, 100.0, 96.0, 98.0, 98.0, 94.0, 96.0, 95.0, 95.0, 89.0, 84.0, 92.0, 80.0, 80.0, 95.0, 96.0, 93.0, 95.0, 88.0, 96.0, 95.0, 100.0, 94.0, 98.0, 93.0, 85.0, 98.0, 91.0, 94.0, 92.0, 86.0, 100.0, 87.0, 97.0, 88.0, 95.0, 100.0, 96.0, 96.0, 100.0, 100.0, 90.0, 96.0, 97.0, 100.0, 93.0, 90.0, 87.0, 87.0, 89.0, 100.0, 92.0, 99.0, 82.0, 82.0, 97.0, 100.0, 97.0, 93.0, 100.0, 87.0, 73.0, 91.0, 95.0, 90.0, 97.0, 97.0, 99.0, 80.0, 92.0, 99.0, 82.0, 79.0, 88.0, 100.0, 92.0, 99.0, 97.0, 84.0, 86.0, 98.0, 97.0, 91.0, 95.0, 96.0, 98.0, 95.0, 97.0, 90.0, 100.0, 100.0, 100.0, 97.0, 100.0, 96.0, 83.0, 98.0, 90.0, 94.0, 95.0, 100.0, 100.0, 91.0, 80.0, 98.0, 97.0, 100.0, 80.0, 60.0, 100.0, 83.0, 96.0, 100.0, 90.0, 100.0, 96.0, 89.0, 84.0, 96.0, 86.0, 82.0]}],                        {\"barmode\": \"group\", \"template\": {\"data\": {\"bar\": [{\"error_x\": {\"color\": \"#2a3f5f\"}, \"error_y\": {\"color\": \"#2a3f5f\"}, \"marker\": {\"line\": {\"color\": \"#E5ECF6\", \"width\": 0.5}}, \"type\": \"bar\"}], \"barpolar\": [{\"marker\": {\"line\": {\"color\": \"#E5ECF6\", \"width\": 0.5}}, \"type\": \"barpolar\"}], \"carpet\": [{\"aaxis\": {\"endlinecolor\": \"#2a3f5f\", \"gridcolor\": \"white\", \"linecolor\": \"white\", \"minorgridcolor\": \"white\", \"startlinecolor\": \"#2a3f5f\"}, \"baxis\": {\"endlinecolor\": \"#2a3f5f\", \"gridcolor\": \"white\", \"linecolor\": \"white\", \"minorgridcolor\": \"white\", \"startlinecolor\": \"#2a3f5f\"}, \"type\": \"carpet\"}], \"choropleth\": [{\"colorbar\": {\"outlinewidth\": 0, \"ticks\": \"\"}, \"type\": \"choropleth\"}], \"contour\": [{\"colorbar\": {\"outlinewidth\": 0, \"ticks\": \"\"}, \"colorscale\": [[0.0, \"#0d0887\"], [0.1111111111111111, \"#46039f\"], [0.2222222222222222, \"#7201a8\"], [0.3333333333333333, \"#9c179e\"], [0.4444444444444444, \"#bd3786\"], [0.5555555555555556, \"#d8576b\"], [0.6666666666666666, \"#ed7953\"], [0.7777777777777778, \"#fb9f3a\"], [0.8888888888888888, \"#fdca26\"], [1.0, \"#f0f921\"]], \"type\": \"contour\"}], \"contourcarpet\": [{\"colorbar\": {\"outlinewidth\": 0, \"ticks\": \"\"}, \"type\": \"contourcarpet\"}], \"heatmap\": [{\"colorbar\": {\"outlinewidth\": 0, \"ticks\": \"\"}, \"colorscale\": [[0.0, \"#0d0887\"], [0.1111111111111111, \"#46039f\"], [0.2222222222222222, \"#7201a8\"], [0.3333333333333333, \"#9c179e\"], [0.4444444444444444, \"#bd3786\"], [0.5555555555555556, \"#d8576b\"], [0.6666666666666666, \"#ed7953\"], [0.7777777777777778, \"#fb9f3a\"], [0.8888888888888888, \"#fdca26\"], [1.0, \"#f0f921\"]], \"type\": \"heatmap\"}], \"heatmapgl\": [{\"colorbar\": {\"outlinewidth\": 0, \"ticks\": \"\"}, \"colorscale\": [[0.0, \"#0d0887\"], [0.1111111111111111, \"#46039f\"], [0.2222222222222222, \"#7201a8\"], [0.3333333333333333, \"#9c179e\"], [0.4444444444444444, \"#bd3786\"], [0.5555555555555556, \"#d8576b\"], [0.6666666666666666, \"#ed7953\"], [0.7777777777777778, \"#fb9f3a\"], [0.8888888888888888, \"#fdca26\"], [1.0, \"#f0f921\"]], \"type\": \"heatmapgl\"}], \"histogram\": [{\"marker\": {\"colorbar\": {\"outlinewidth\": 0, \"ticks\": \"\"}}, \"type\": \"histogram\"}], \"histogram2d\": [{\"colorbar\": {\"outlinewidth\": 0, \"ticks\": \"\"}, \"colorscale\": [[0.0, \"#0d0887\"], [0.1111111111111111, \"#46039f\"], [0.2222222222222222, \"#7201a8\"], [0.3333333333333333, \"#9c179e\"], [0.4444444444444444, \"#bd3786\"], [0.5555555555555556, \"#d8576b\"], [0.6666666666666666, \"#ed7953\"], [0.7777777777777778, \"#fb9f3a\"], [0.8888888888888888, \"#fdca26\"], [1.0, \"#f0f921\"]], \"type\": \"histogram2d\"}], \"histogram2dcontour\": [{\"colorbar\": {\"outlinewidth\": 0, \"ticks\": \"\"}, \"colorscale\": [[0.0, \"#0d0887\"], [0.1111111111111111, \"#46039f\"], [0.2222222222222222, \"#7201a8\"], [0.3333333333333333, \"#9c179e\"], [0.4444444444444444, \"#bd3786\"], [0.5555555555555556, \"#d8576b\"], [0.6666666666666666, \"#ed7953\"], [0.7777777777777778, \"#fb9f3a\"], [0.8888888888888888, \"#fdca26\"], [1.0, \"#f0f921\"]], \"type\": \"histogram2dcontour\"}], \"mesh3d\": [{\"colorbar\": {\"outlinewidth\": 0, \"ticks\": \"\"}, \"type\": \"mesh3d\"}], \"parcoords\": [{\"line\": {\"colorbar\": {\"outlinewidth\": 0, \"ticks\": \"\"}}, \"type\": \"parcoords\"}], \"pie\": [{\"automargin\": true, \"type\": \"pie\"}], \"scatter\": [{\"marker\": {\"colorbar\": {\"outlinewidth\": 0, \"ticks\": \"\"}}, \"type\": \"scatter\"}], \"scatter3d\": [{\"line\": {\"colorbar\": {\"outlinewidth\": 0, \"ticks\": \"\"}}, \"marker\": {\"colorbar\": {\"outlinewidth\": 0, \"ticks\": \"\"}}, \"type\": \"scatter3d\"}], \"scattercarpet\": [{\"marker\": {\"colorbar\": {\"outlinewidth\": 0, \"ticks\": \"\"}}, \"type\": \"scattercarpet\"}], \"scattergeo\": [{\"marker\": {\"colorbar\": {\"outlinewidth\": 0, \"ticks\": \"\"}}, \"type\": \"scattergeo\"}], \"scattergl\": [{\"marker\": {\"colorbar\": {\"outlinewidth\": 0, \"ticks\": \"\"}}, \"type\": \"scattergl\"}], \"scattermapbox\": [{\"marker\": {\"colorbar\": {\"outlinewidth\": 0, \"ticks\": \"\"}}, \"type\": \"scattermapbox\"}], \"scatterpolar\": [{\"marker\": {\"colorbar\": {\"outlinewidth\": 0, \"ticks\": \"\"}}, \"type\": \"scatterpolar\"}], \"scatterpolargl\": [{\"marker\": {\"colorbar\": {\"outlinewidth\": 0, \"ticks\": \"\"}}, \"type\": \"scatterpolargl\"}], \"scatterternary\": [{\"marker\": {\"colorbar\": {\"outlinewidth\": 0, \"ticks\": \"\"}}, \"type\": \"scatterternary\"}], \"surface\": [{\"colorbar\": {\"outlinewidth\": 0, \"ticks\": \"\"}, \"colorscale\": [[0.0, \"#0d0887\"], [0.1111111111111111, \"#46039f\"], [0.2222222222222222, \"#7201a8\"], [0.3333333333333333, \"#9c179e\"], [0.4444444444444444, \"#bd3786\"], [0.5555555555555556, \"#d8576b\"], [0.6666666666666666, \"#ed7953\"], [0.7777777777777778, \"#fb9f3a\"], [0.8888888888888888, \"#fdca26\"], [1.0, \"#f0f921\"]], \"type\": \"surface\"}], \"table\": [{\"cells\": {\"fill\": {\"color\": \"#EBF0F8\"}, \"line\": {\"color\": \"white\"}}, \"header\": {\"fill\": {\"color\": \"#C8D4E3\"}, \"line\": {\"color\": \"white\"}}, \"type\": \"table\"}]}, \"layout\": {\"annotationdefaults\": {\"arrowcolor\": \"#2a3f5f\", \"arrowhead\": 0, \"arrowwidth\": 1}, \"coloraxis\": {\"colorbar\": {\"outlinewidth\": 0, \"ticks\": \"\"}}, \"colorscale\": {\"diverging\": [[0, \"#8e0152\"], [0.1, \"#c51b7d\"], [0.2, \"#de77ae\"], [0.3, \"#f1b6da\"], [0.4, \"#fde0ef\"], [0.5, \"#f7f7f7\"], [0.6, \"#e6f5d0\"], [0.7, \"#b8e186\"], [0.8, \"#7fbc41\"], [0.9, \"#4d9221\"], [1, \"#276419\"]], \"sequential\": [[0.0, \"#0d0887\"], [0.1111111111111111, \"#46039f\"], [0.2222222222222222, \"#7201a8\"], [0.3333333333333333, \"#9c179e\"], [0.4444444444444444, \"#bd3786\"], [0.5555555555555556, \"#d8576b\"], [0.6666666666666666, \"#ed7953\"], [0.7777777777777778, \"#fb9f3a\"], [0.8888888888888888, \"#fdca26\"], [1.0, \"#f0f921\"]], \"sequentialminus\": [[0.0, \"#0d0887\"], [0.1111111111111111, \"#46039f\"], [0.2222222222222222, \"#7201a8\"], [0.3333333333333333, \"#9c179e\"], [0.4444444444444444, \"#bd3786\"], [0.5555555555555556, \"#d8576b\"], [0.6666666666666666, \"#ed7953\"], [0.7777777777777778, \"#fb9f3a\"], [0.8888888888888888, \"#fdca26\"], [1.0, \"#f0f921\"]]}, \"colorway\": [\"#636efa\", \"#EF553B\", \"#00cc96\", \"#ab63fa\", \"#FFA15A\", \"#19d3f3\", \"#FF6692\", \"#B6E880\", \"#FF97FF\", \"#FECB52\"], \"font\": {\"color\": \"#2a3f5f\"}, \"geo\": {\"bgcolor\": \"white\", \"lakecolor\": \"white\", \"landcolor\": \"#E5ECF6\", \"showlakes\": true, \"showland\": true, \"subunitcolor\": \"white\"}, \"hoverlabel\": {\"align\": \"left\"}, \"hovermode\": \"closest\", \"mapbox\": {\"style\": \"light\"}, \"paper_bgcolor\": \"white\", \"plot_bgcolor\": \"#E5ECF6\", \"polar\": {\"angularaxis\": {\"gridcolor\": \"white\", \"linecolor\": \"white\", \"ticks\": \"\"}, \"bgcolor\": \"#E5ECF6\", \"radialaxis\": {\"gridcolor\": \"white\", \"linecolor\": \"white\", \"ticks\": \"\"}}, \"scene\": {\"xaxis\": {\"backgroundcolor\": \"#E5ECF6\", \"gridcolor\": \"white\", \"gridwidth\": 2, \"linecolor\": \"white\", \"showbackground\": true, \"ticks\": \"\", \"zerolinecolor\": \"white\"}, \"yaxis\": {\"backgroundcolor\": \"#E5ECF6\", \"gridcolor\": \"white\", \"gridwidth\": 2, \"linecolor\": \"white\", \"showbackground\": true, \"ticks\": \"\", \"zerolinecolor\": \"white\"}, \"zaxis\": {\"backgroundcolor\": \"#E5ECF6\", \"gridcolor\": \"white\", \"gridwidth\": 2, \"linecolor\": \"white\", \"showbackground\": true, \"ticks\": \"\", \"zerolinecolor\": \"white\"}}, \"shapedefaults\": {\"line\": {\"color\": \"#2a3f5f\"}}, \"ternary\": {\"aaxis\": {\"gridcolor\": \"white\", \"linecolor\": \"white\", \"ticks\": \"\"}, \"baxis\": {\"gridcolor\": \"white\", \"linecolor\": \"white\", \"ticks\": \"\"}, \"bgcolor\": \"#E5ECF6\", \"caxis\": {\"gridcolor\": \"white\", \"linecolor\": \"white\", \"ticks\": \"\"}}, \"title\": {\"x\": 0.05}, \"xaxis\": {\"automargin\": true, \"gridcolor\": \"white\", \"linecolor\": \"white\", \"ticks\": \"\", \"title\": {\"standoff\": 15}, \"zerolinecolor\": \"white\", \"zerolinewidth\": 2}, \"yaxis\": {\"automargin\": true, \"gridcolor\": \"white\", \"linecolor\": \"white\", \"ticks\": \"\", \"title\": {\"standoff\": 15}, \"zerolinecolor\": \"white\", \"zerolinewidth\": 2}}}, \"title\": {\"text\": \"Hong Kong - Gradient boosting rating predictions\"}, \"xaxis\": {\"title\": {\"text\": \"Index\"}}, \"yaxis\": {\"title\": {\"text\": \"Rating\"}}},                        {\"responsive\": true}                    ).then(function(){\n",
       "                            \n",
       "var gd = document.getElementById('db01254b-ecfd-45f6-afd0-bc45c4aaf2c5');\n",
       "var x = new MutationObserver(function (mutations, observer) {{\n",
       "        var display = window.getComputedStyle(gd).display;\n",
       "        if (!display || display === 'none') {{\n",
       "            console.log([gd, 'removed!']);\n",
       "            Plotly.purge(gd);\n",
       "            observer.disconnect();\n",
       "        }}\n",
       "}});\n",
       "\n",
       "// Listen for the removal of the full notebook cells\n",
       "var notebookContainer = gd.closest('#notebook-container');\n",
       "if (notebookContainer) {{\n",
       "    x.observe(notebookContainer, {childList: true});\n",
       "}}\n",
       "\n",
       "// Listen for the clearing of the current output cell\n",
       "var outputEl = gd.closest('.output');\n",
       "if (outputEl) {{\n",
       "    x.observe(outputEl, {childList: true});\n",
       "}}\n",
       "\n",
       "                        })                };                });            </script>        </div>"
      ]
     },
     "metadata": {},
     "output_type": "display_data"
    }
   ],
   "source": [
    "\n",
    "title=['Pred vs Actual']\n",
    "fig = go.Figure(data=[\n",
    "    go.Bar(name='Predicted', x=error_diff1.index, y=error_diff['Predicted Values']),\n",
    "    go.Bar(name='Actual', x=error_diff1.index, y=error_diff['Actual Values'])\n",
    "])\n",
    "\n",
    "fig.update_layout(barmode='group', title=\"Hong Kong - Gradient boosting rating predictions\", yaxis = dict(title =\"Rating\"), xaxis =dict(title=\"Index\"))\n",
    "fig.show()"
   ]
  },
  {
   "cell_type": "code",
   "execution_count": 59,
   "metadata": {},
   "outputs": [
    {
     "data": {
      "image/png": "[encoded data removed]",
      "text/plain": [
       "<Figure size 1152x576 with 1 Axes>"
      ]
     },
     "metadata": {
      "needs_background": "light"
     },
     "output_type": "display_data"
    }
   ],
   "source": [
    "plt.figure(figsize=(16,8))\n",
    "sns.regplot(predictions_r,y_test_r)\n",
    "plt.xlabel('Predictions')\n",
    "plt.ylabel('Actual')\n",
    "plt.title(\"Hong Kong - Gradient Boosting Model Rating Predictions\")\n",
    "plt.show()"
   ]
  },
  {
   "cell_type": "code",
   "execution_count": 60,
   "metadata": {},
   "outputs": [],
   "source": [
    "#xgboost rating predictions\n",
    "xgb = xgboost.XGBRegressor(n_estimators=310,learning_rate=0.1,objective='reg:squarederror')\n",
    "xgb.fit(X_train_r,y_train_r)\n",
    "ypred_r = xgb.predict(X_test_r)"
   ]
  },
  {
   "cell_type": "code",
   "execution_count": null,
   "metadata": {},
   "outputs": [],
   "source": []
  },
  {
   "cell_type": "code",
   "execution_count": 61,
   "metadata": {},
   "outputs": [
    {
     "name": "stdout",
     "output_type": "stream",
     "text": [
      "MAE: 3.06230495391243\n",
      "MSE: 21.24872531465382\n",
      "RMSE: 4.609633967535147\n"
     ]
    }
   ],
   "source": [
    "print('MAE:', metrics.mean_absolute_error(y_test_r, ypred_r))\n",
    "print('MSE:', metrics.mean_squared_error(y_test_r, ypred_r))\n",
    "print('RMSE:', np.sqrt(metrics.mean_squared_error(y_test_r, ypred_r)))"
   ]
  },
  {
   "cell_type": "code",
   "execution_count": 70,
   "metadata": {},
   "outputs": [
    {
     "data": {
      "application/vnd.plotly.v1+json": {
       "config": {
        "plotlyServerURL": "https://plot.ly"
       },
       "data": [
        {
         "name": "Predicted",
         "type": "bar",
         "x": [
          0,
          1,
          2,
          3,
          4,
          5,
          6,
          7,
          8,
          9,
          10,
          11,
          12,
          13,
          14,
          15,
          16,
          17,
          18,
          19
         ],
         "y": [
          93.80759617371277,
          95.63422418895887,
          90.42311071385328,
          90.01235530418879,
          84.42881555755086,
          97.31688340507436,
          85.85037114076913,
          89.87267401107586,
          79.93372494662898,
          97.76347429391677,
          92.88975458663049,
          95.50772275607574,
          90.52953460078889,
          91.16743400527236,
          90.59615990818223,
          96.58134165721846,
          98.21600372452141,
          85.3767163839313,
          92.15162538230305,
          95.68289923596667,
          97.49773593063198,
          86.6068142149161,
          96.89955062848922,
          83.33781329058128,
          96.78997960500115,
          87.62559099528323,
          94.83632439653861,
          94.44802257264486,
          92.6250504289062,
          25.68834262032075,
          82.03937675844075,
          93.02774987764808,
          90.89016451837746,
          95.32442936546099,
          87.43647802918889,
          81.2475695290517,
          97.91114529201243,
          97.52326907420401,
          96.9232394929328,
          83.4047116771787,
          94.89019971454852,
          93.42876060895038,
          97.64507709030443,
          78.0219590115281,
          92.20184161190365,
          90.1517330977687,
          75.25484498507903,
          85.5677249129213,
          88.37684201125285,
          95.80801220653117,
          88.00645965629296,
          94.09693764180166,
          96.03131667504965,
          86.20065591515166,
          88.44029786621127,
          97.96745061805555,
          93.83019799921527,
          95.77372939745709,
          60.21412285973244,
          95.82191524105188,
          91.91358074386577,
          93.97261999088651,
          93.83667188235324,
          93.3661100376439,
          89.78333376781957,
          100.43378712223708,
          96.25658200305752,
          95.9135369666965,
          87.04469980042613,
          91.20916837753694,
          94.41616082344736,
          86.30757553133344,
          94.20189988963497,
          91.25179760919384,
          99.48247501399072,
          96.55735143486382,
          82.35836497460498,
          94.20591965585538,
          89.56665035569789,
          97.70343268952041,
          96.73064875362293,
          94.53967372287777,
          90.47172892005496,
          95.29309050751115,
          97.86989090390247,
          91.70549242357167,
          31.10210849372169,
          98.28362236277717,
          93.8878419261321,
          85.97472405320883,
          96.8259100190109,
          84.11837733681578,
          102.14547103501002,
          96.90444609840077,
          91.95429814554214,
          97.52763259016335,
          78.68557161656278,
          91.84837423882574,
          96.73934853055293,
          97.93018663538757,
          90.74368045064914,
          91.37142273531445,
          46.67964401744943,
          96.75473773406702,
          97.21821774850656,
          88.26518602146955,
          88.00140365191317,
          87.07741597928538,
          90.49231567446265,
          91.9326416260233,
          96.99512038369402,
          79.95955597849729,
          52.9089322411069,
          97.80014000639045,
          96.18818449207141,
          91.56545352601734,
          98.61312435014871,
          95.94486932731539,
          95.44446542561438,
          96.17966146462656,
          90.38860842312991,
          88.76901937708043,
          93.2990638028275,
          65.60345037375089,
          96.96317710259704,
          97.5876435821415,
          87.10404570431488,
          92.56602621278354,
          89.24698821987894,
          98.70202878266785,
          83.62936450328978,
          97.07734963433256,
          92.35937764164105,
          86.0091071186536,
          87.02828454833339,
          97.5045910259505,
          87.20595450085868,
          89.77897862037305,
          94.51078887108413,
          87.46140022747926,
          98.15683983362322,
          75.52052511026257,
          89.46842364799053,
          98.92271125811894,
          97.26567919144193,
          92.01348973126169,
          96.63315949607714,
          94.66589008010419,
          96.35053422050417,
          94.44437436582199,
          91.37192360619221,
          94.74571007726765,
          94.10004659091183,
          93.90047106879692,
          96.75974544735512,
          79.83865261515272,
          87.61283725216339,
          87.20930692434153,
          93.61028579771185,
          93.9239000800222,
          95.83003038001563,
          98.09160430207626,
          91.43503708900799,
          94.61052899967908,
          98.57656174986118,
          92.35322629085896,
          81.37753063237422,
          95.79829711350617,
          97.46656522599868,
          94.14078498649738,
          91.29623350670873,
          94.14704632464246,
          78.63850724046348,
          92.22512387253497,
          97.95328446175832,
          105.71994511141386,
          90.95716124864636,
          97.17276385048253,
          91.44673695205977,
          97.18084202242012,
          89.10150154955107,
          93.33455926006096,
          88.19654606295923,
          85.69973107616582,
          91.74385582849358,
          97.54564746548036,
          91.06584337990765,
          87.57395070218159,
          89.39927281136269,
          91.33849751088371,
          97.02075956589488,
          90.07336731056633,
          95.61087728346195,
          96.0062925549663,
          96.55794579479374,
          97.20479442680957,
          92.5344032495544,
          91.36030815365531,
          87.06863975755074,
          92.68914293012641,
          90.45866456569817,
          90.75068797355101,
          84.87910096553024,
          88.39092362640537,
          91.73632224353813,
          93.89102798430073,
          22.40426652153471,
          81.65857975950746,
          98.37064496625142,
          95.53226177508114,
          95.84984892235656,
          93.43580904942908,
          90.35753868649357,
          95.82987909412941,
          95.08910240964272,
          93.88283003893893,
          97.90230664113105,
          94.8664101027159,
          88.8964160359787,
          90.16920339740882,
          88.73952057652117,
          96.69758361341547,
          98.33610237238001,
          94.02388435382521,
          90.77722774250182,
          96.66428248290998,
          94.41847789715122,
          98.11915818153628,
          82.48983976531309,
          95.13569325971574,
          89.96158333127389,
          23.684126551876485,
          97.92180613041802,
          95.57457877605135,
          96.8059829215404,
          65.55295175491004,
          91.20020103449149,
          96.8245087980784,
          95.09862162087111,
          94.41712617813776,
          91.693176139415,
          98.19347789956082,
          87.93694340326152,
          97.69396971603838,
          94.13404993690061,
          95.91699111193803,
          95.01663690611296,
          97.46341107299034,
          88.99653241925932,
          90.41851076644248,
          100.13320604328634,
          82.3949020392714,
          93.88391632653112,
          100.1295464001346,
          84.1067569494167,
          89.27556078400731,
          97.15120738677255,
          98.18939280496217,
          90.39228937352925,
          96.1490233504685,
          84.12325753632835,
          69.77833637538413,
          83.78645908079785,
          87.45340719349909,
          82.47908996645387,
          97.95768224229752,
          83.19798121556515,
          91.58847188365341,
          100.17274378531536,
          94.85872091665115,
          98.8780380374023,
          86.50852950366169,
          89.68331808029004,
          90.64412454922854,
          89.57511700521327,
          97.88759570953579,
          89.85481059263935,
          88.08514752233914,
          87.90547778266006,
          94.91628834351381,
          85.8287132552719,
          100.44258022205523,
          98.28622571111927,
          93.84935717685646,
          98.02384202438763,
          93.49575195990529,
          90.35107304063276,
          97.2413705260773,
          93.7338835322689,
          97.34496161697203,
          92.03827041044326,
          97.03577260227411,
          93.91553091863503,
          93.8155935131667,
          96.82111324539706,
          100.071662976104,
          82.80231910882597,
          93.529940983121,
          95.25184386160704,
          81.51528107053345,
          86.43079479509622,
          90.43941066895857,
          97.17417206878717,
          95.05827315829957,
          98.75443530156379,
          95.16192480063478,
          97.75475986888576,
          95.19307349892183,
          66.77615466806883,
          94.77240949995969,
          93.98736911545569,
          55.62133273042708,
          98.92269869649617,
          98.58282493737039,
          97.82529041583673,
          92.51994489944808,
          99.10952505864503,
          90.73831727580345,
          87.42906538019923,
          98.37972144538432,
          86.36147743419875,
          89.64898223471482,
          97.94443499339219,
          49.495152114119634,
          92.87288512977031,
          95.01774762966437,
          99.82405208730579,
          97.13472186357308,
          97.18158773623976,
          98.29044583554754,
          94.34547463866123,
          88.20287813312792,
          57.50979592398959,
          94.83636882469315,
          91.71314085074786,
          85.56849704335973,
          93.81334768035312,
          73.02816118884786,
          90.00052873611443,
          90.50133326390484,
          94.00270327483537,
          93.04447213459603,
          95.3944084262204,
          79.97573676548747,
          77.82893821923567,
          91.94781088141437,
          57.90765090929754,
          96.26210494439968,
          94.90733968267338,
          97.87844239898602,
          87.60691334213269,
          92.22594136026876,
          98.17119961099696,
          89.60153149903202,
          103.0362426499728,
          91.09766319290507,
          72.03668842704366,
          96.70868230336954,
          76.90938608237771,
          91.5389028274682,
          91.1796304266032,
          84.7358432900988,
          75.87392862036656,
          91.8029283032489,
          93.4716623463815,
          88.14009127034285,
          97.09355832205611,
          86.0805417089827,
          97.69182133451753,
          97.49548892721357,
          89.9029774403522,
          94.61955613451222,
          79.14171578745584,
          94.31108045463996,
          90.85375237166618,
          96.64078311942339,
          87.15583100124243,
          96.03413844044617,
          98.72687505928168,
          96.58377642711794,
          85.85541165320832,
          95.94751376609655,
          86.51873893013892,
          92.95364977915405,
          91.50371402004436,
          84.9326231916235,
          86.1090586599627,
          95.02854502876185,
          94.66903746854149,
          97.69413167688924,
          84.32526150968106,
          102.44796021524198,
          97.40263726901041,
          95.77039495744557,
          57.81731634503543,
          80.33154205462972,
          90.70033298992648,
          95.18114840746992,
          78.4392591145541,
          87.62529441834229,
          94.24702460658256,
          90.98330236614295,
          84.95939538358773,
          97.56621521769026,
          87.55898933627812,
          89.94507862499455,
          96.39238927881689,
          87.34233620103522,
          93.15491356990185,
          97.39498908876635,
          87.00446241853705,
          97.87302608811754,
          91.1631934186317,
          68.63976221520552,
          92.75294517546901,
          98.18308023712274,
          96.45453285501438,
          78.62538027949242,
          91.48729776133915,
          96.81989199373048,
          83.9143330479517,
          97.06413860435023,
          89.66486129775087,
          92.8765317779664,
          74.25579105107161,
          92.903190968316,
          87.42205619265158,
          89.66257958849798,
          89.11486300233882,
          95.50261821686001,
          97.30580280794473,
          75.46510801137934,
          93.40039652006982,
          96.32321359043846,
          96.46081602079609,
          82.44986229093747,
          91.18066260666416,
          99.88998265947698,
          98.20648048886571,
          95.76048430256809,
          99.36429672778931,
          89.31375296212737,
          97.69545546929068,
          96.2498005671687,
          96.56714284274727,
          89.37031609119602,
          83.69858648173894,
          95.29782339307833,
          76.54607536442049,
          89.86769243272515,
          96.62772854503436,
          88.04909854368557,
          93.38129424895612,
          96.07870447723712,
          84.06140857877462,
          96.78752539621432,
          98.07902102329032,
          98.44931655878653,
          92.5876226207069,
          95.6991083086128,
          93.4032153317883,
          88.75083464030881,
          99.79733296073093,
          93.15835327508988,
          96.83925264341266,
          88.1476810574082,
          91.48395426917035,
          97.12672975504543,
          86.14541101701522,
          98.53891786528128,
          87.19800932712486,
          92.57662949989324,
          97.37320960042484,
          98.48204550772002,
          91.67276252569901,
          99.17541648107934,
          96.3974313297461,
          94.04817753804117,
          94.3195905820884,
          90.93816803945482,
          98.68381796670695,
          93.98186579035487,
          90.87869923815121,
          89.95856026700115,
          82.68637826228894,
          87.98284841041418,
          98.70743807124964,
          88.13228616595802,
          98.28949203620762,
          86.09577197806347,
          80.13965424204383,
          94.13322077765012,
          94.06877919611323,
          89.58865828838098,
          90.27075556934211,
          93.62339399178853,
          97.42295578403343,
          76.74692439269353,
          95.15739059013008,
          97.22155423743025,
          88.25287201828527,
          97.77473092589588,
          98.99921998417979,
          98.96545908542728,
          78.41972148851978,
          93.23393278768381,
          97.47157983013109,
          77.19733027472952,
          78.02453232471231,
          90.41992145019739,
          99.1653921302322,
          92.75453608299185,
          99.78276587554335,
          92.30508938708198,
          87.71615138926596,
          83.81820387096558,
          94.41727905750983,
          96.55364839077627,
          86.7880074438868,
          97.74649612548242,
          97.53700804293283,
          99.11832129082747,
          93.22460169374546,
          98.97683678733004,
          93.71345774456452,
          97.53633847497744,
          81.69621422947517,
          89.96291998484057,
          96.67605156906592,
          90.06625740464247,
          95.92821335286061,
          83.63959983238418,
          96.93005213488196,
          87.9521210285217,
          92.46459207827225,
          88.95593495495618,
          93.95225641622724,
          96.43513950021637,
          93.11162337884832,
          75.82475055577653,
          99.30808238191833,
          96.1539058212827,
          83.60898358274265,
          90.14397611406756,
          60.81896947295424,
          95.45371815482201,
          82.50790917970728,
          94.0507390277307,
          96.03422006670884,
          89.15437370848284,
          98.3670178728628,
          93.65509568240691,
          91.85684467341491,
          91.10563876427837,
          97.73967990294221,
          83.28700845276815,
          80.80487605781003
         ]
        },
        {
         "name": "Actual",
         "type": "bar",
         "x": [
          0,
          1,
          2,
          3,
          4,
          5,
          6,
          7,
          8,
          9,
          10,
          11,
          12,
          13,
          14,
          15,
          16,
          17,
          18,
          19
         ],
         "y": [
          94,
          100,
          91,
          87,
          80,
          96,
          89,
          93,
          80,
          98,
          92,
          80,
          92,
          93,
          90,
          99,
          96,
          83,
          96,
          89,
          100,
          87,
          100,
          80,
          100,
          89,
          94,
          94,
          90,
          20,
          80,
          93,
          90,
          95,
          90,
          82,
          97,
          98,
          95,
          80,
          100,
          85,
          100,
          81,
          93,
          93,
          80,
          87,
          89,
          100,
          87,
          100,
          98,
          88,
          86,
          95,
          85,
          100,
          60,
          97,
          87,
          93,
          93,
          100,
          89,
          100,
          94,
          100,
          88,
          90,
          96,
          84,
          90,
          95,
          93,
          97,
          84,
          100,
          93,
          100,
          100,
          94,
          90,
          92,
          93,
          90,
          40,
          100,
          93,
          100,
          96,
          87,
          100,
          97,
          92,
          100,
          81,
          91,
          97,
          95,
          87,
          89,
          47,
          100,
          100,
          87,
          88,
          89,
          97,
          80,
          100,
          80,
          60,
          99,
          94,
          95,
          100,
          94,
          96,
          97,
          93,
          89,
          91,
          80,
          96,
          96,
          97,
          90,
          89,
          100,
          90,
          97,
          80,
          94,
          80,
          100,
          91,
          80,
          94,
          89,
          100,
          71,
          90,
          96,
          98,
          86,
          92,
          94,
          97,
          94,
          96,
          89,
          94,
          94,
          92,
          80,
          86,
          88,
          90,
          100,
          97,
          100,
          89,
          93,
          97,
          94,
          82,
          95,
          96,
          98,
          90,
          95,
          80,
          100,
          94,
          100,
          91,
          97,
          90,
          96,
          94,
          90,
          93,
          84,
          91,
          98,
          91,
          90,
          88,
          87,
          96,
          90,
          97,
          98,
          96,
          98,
          91,
          88,
          90,
          92,
          100,
          80,
          84,
          89,
          93,
          95,
          20,
          87,
          95,
          95,
          96,
          91,
          90,
          96,
          96,
          91,
          99,
          95,
          87,
          90,
          92,
          92,
          98,
          92,
          90,
          94,
          80,
          97,
          67,
          95,
          89,
          20,
          100,
          97,
          100,
          80,
          93,
          98,
          80,
          91,
          100,
          100,
          89,
          98,
          93,
          98,
          99,
          98,
          80,
          87,
          100,
          78,
          96,
          93,
          81,
          77,
          98,
          100,
          92,
          95,
          82,
          60,
          87,
          80,
          85,
          98,
          93,
          100,
          100,
          92,
          99,
          84,
          91,
          90,
          91,
          97,
          93,
          94,
          85,
          96,
          80,
          100,
          100,
          91,
          99,
          91,
          92,
          100,
          90,
          96,
          90,
          97,
          95,
          87,
          95,
          100,
          86,
          96,
          94,
          80,
          84,
          92,
          96,
          94,
          100,
          95,
          98,
          88,
          73,
          95,
          88,
          60,
          100,
          100,
          97,
          80,
          100,
          92,
          85,
          100,
          89,
          90,
          98,
          40,
          90,
          100,
          100,
          95,
          97,
          100,
          94,
          89,
          40,
          95,
          91,
          83,
          95,
          80,
          100,
          92,
          85,
          86,
          100,
          81,
          77,
          89,
          50,
          96,
          95,
          97,
          83,
          94,
          97,
          90,
          100,
          88,
          80,
          94,
          81,
          93,
          88,
          83,
          82,
          92,
          100,
          86,
          100,
          81,
          97,
          98,
          90,
          95,
          80,
          95,
          94,
          97,
          87,
          100,
          80,
          97,
          88,
          96,
          85,
          94,
          100,
          80,
          85,
          91,
          95,
          97,
          88,
          98,
          100,
          96,
          50,
          77,
          89,
          100,
          84,
          89,
          91,
          86,
          80,
          94,
          88,
          89,
          95,
          87,
          87,
          96,
          100,
          93,
          94,
          60,
          91,
          100,
          98,
          78,
          95,
          100,
          80,
          92,
          80,
          91,
          60,
          97,
          100,
          88,
          93,
          98,
          97,
          68,
          95,
          100,
          96,
          70,
          90,
          100,
          96,
          98,
          98,
          94,
          96,
          95,
          95,
          89,
          84,
          92,
          80,
          80,
          95,
          96,
          93,
          95,
          88,
          96,
          95,
          100,
          94,
          98,
          93,
          85,
          98,
          91,
          94,
          92,
          86,
          100,
          87,
          97,
          88,
          95,
          100,
          96,
          96,
          100,
          100,
          90,
          96,
          97,
          100,
          93,
          90,
          87,
          87,
          89,
          100,
          92,
          99,
          82,
          82,
          97,
          100,
          97,
          93,
          100,
          87,
          73,
          91,
          95,
          90,
          97,
          97,
          99,
          80,
          92,
          99,
          82,
          79,
          88,
          100,
          92,
          99,
          97,
          84,
          86,
          98,
          97,
          91,
          95,
          96,
          98,
          95,
          97,
          90,
          100,
          100,
          100,
          97,
          100,
          96,
          83,
          98,
          90,
          94,
          95,
          100,
          100,
          91,
          80,
          98,
          97,
          100,
          80,
          60,
          100,
          83,
          96,
          100,
          90,
          100,
          96,
          89,
          84,
          96,
          86,
          82
         ]
        }
       ],
       "layout": {
        "barmode": "group",
        "template": {
         "data": {
          "bar": [
           {
            "error_x": {
             "color": "#2a3f5f"
            },
            "error_y": {
             "color": "#2a3f5f"
            },
            "marker": {
             "line": {
              "color": "#E5ECF6",
              "width": 0.5
             }
            },
            "type": "bar"
           }
          ],
          "barpolar": [
           {
            "marker": {
             "line": {
              "color": "#E5ECF6",
              "width": 0.5
             }
            },
            "type": "barpolar"
           }
          ],
          "carpet": [
           {
            "aaxis": {
             "endlinecolor": "#2a3f5f",
             "gridcolor": "white",
             "linecolor": "white",
             "minorgridcolor": "white",
             "startlinecolor": "#2a3f5f"
            },
            "baxis": {
             "endlinecolor": "#2a3f5f",
             "gridcolor": "white",
             "linecolor": "white",
             "minorgridcolor": "white",
             "startlinecolor": "#2a3f5f"
            },
            "type": "carpet"
           }
          ],
          "choropleth": [
           {
            "colorbar": {
             "outlinewidth": 0,
             "ticks": ""
            },
            "type": "choropleth"
           }
          ],
          "contour": [
           {
            "colorbar": {
             "outlinewidth": 0,
             "ticks": ""
            },
            "colorscale": [
             [
              0,
              "#0d0887"
             ],
             [
              0.1111111111111111,
              "#46039f"
             ],
             [
              0.2222222222222222,
              "#7201a8"
             ],
             [
              0.3333333333333333,
              "#9c179e"
             ],
             [
              0.4444444444444444,
              "#bd3786"
             ],
             [
              0.5555555555555556,
              "#d8576b"
             ],
             [
              0.6666666666666666,
              "#ed7953"
             ],
             [
              0.7777777777777778,
              "#fb9f3a"
             ],
             [
              0.8888888888888888,
              "#fdca26"
             ],
             [
              1,
              "#f0f921"
             ]
            ],
            "type": "contour"
           }
          ],
          "contourcarpet": [
           {
            "colorbar": {
             "outlinewidth": 0,
             "ticks": ""
            },
            "type": "contourcarpet"
           }
          ],
          "heatmap": [
           {
            "colorbar": {
             "outlinewidth": 0,
             "ticks": ""
            },
            "colorscale": [
             [
              0,
              "#0d0887"
             ],
             [
              0.1111111111111111,
              "#46039f"
             ],
             [
              0.2222222222222222,
              "#7201a8"
             ],
             [
              0.3333333333333333,
              "#9c179e"
             ],
             [
              0.4444444444444444,
              "#bd3786"
             ],
             [
              0.5555555555555556,
              "#d8576b"
             ],
             [
              0.6666666666666666,
              "#ed7953"
             ],
             [
              0.7777777777777778,
              "#fb9f3a"
             ],
             [
              0.8888888888888888,
              "#fdca26"
             ],
             [
              1,
              "#f0f921"
             ]
            ],
            "type": "heatmap"
           }
          ],
          "heatmapgl": [
           {
            "colorbar": {
             "outlinewidth": 0,
             "ticks": ""
            },
            "colorscale": [
             [
              0,
              "#0d0887"
             ],
             [
              0.1111111111111111,
              "#46039f"
             ],
             [
              0.2222222222222222,
              "#7201a8"
             ],
             [
              0.3333333333333333,
              "#9c179e"
             ],
             [
              0.4444444444444444,
              "#bd3786"
             ],
             [
              0.5555555555555556,
              "#d8576b"
             ],
             [
              0.6666666666666666,
              "#ed7953"
             ],
             [
              0.7777777777777778,
              "#fb9f3a"
             ],
             [
              0.8888888888888888,
              "#fdca26"
             ],
             [
              1,
              "#f0f921"
             ]
            ],
            "type": "heatmapgl"
           }
          ],
          "histogram": [
           {
            "marker": {
             "colorbar": {
              "outlinewidth": 0,
              "ticks": ""
             }
            },
            "type": "histogram"
           }
          ],
          "histogram2d": [
           {
            "colorbar": {
             "outlinewidth": 0,
             "ticks": ""
            },
            "colorscale": [
             [
              0,
              "#0d0887"
             ],
             [
              0.1111111111111111,
              "#46039f"
             ],
             [
              0.2222222222222222,
              "#7201a8"
             ],
             [
              0.3333333333333333,
              "#9c179e"
             ],
             [
              0.4444444444444444,
              "#bd3786"
             ],
             [
              0.5555555555555556,
              "#d8576b"
             ],
             [
              0.6666666666666666,
              "#ed7953"
             ],
             [
              0.7777777777777778,
              "#fb9f3a"
             ],
             [
              0.8888888888888888,
              "#fdca26"
             ],
             [
              1,
              "#f0f921"
             ]
            ],
            "type": "histogram2d"
           }
          ],
          "histogram2dcontour": [
           {
            "colorbar": {
             "outlinewidth": 0,
             "ticks": ""
            },
            "colorscale": [
             [
              0,
              "#0d0887"
             ],
             [
              0.1111111111111111,
              "#46039f"
             ],
             [
              0.2222222222222222,
              "#7201a8"
             ],
             [
              0.3333333333333333,
              "#9c179e"
             ],
             [
              0.4444444444444444,
              "#bd3786"
             ],
             [
              0.5555555555555556,
              "#d8576b"
             ],
             [
              0.6666666666666666,
              "#ed7953"
             ],
             [
              0.7777777777777778,
              "#fb9f3a"
             ],
             [
              0.8888888888888888,
              "#fdca26"
             ],
             [
              1,
              "#f0f921"
             ]
            ],
            "type": "histogram2dcontour"
           }
          ],
          "mesh3d": [
           {
            "colorbar": {
             "outlinewidth": 0,
             "ticks": ""
            },
            "type": "mesh3d"
           }
          ],
          "parcoords": [
           {
            "line": {
             "colorbar": {
              "outlinewidth": 0,
              "ticks": ""
             }
            },
            "type": "parcoords"
           }
          ],
          "pie": [
           {
            "automargin": true,
            "type": "pie"
           }
          ],
          "scatter": [
           {
            "marker": {
             "colorbar": {
              "outlinewidth": 0,
              "ticks": ""
             }
            },
            "type": "scatter"
           }
          ],
          "scatter3d": [
           {
            "line": {
             "colorbar": {
              "outlinewidth": 0,
              "ticks": ""
             }
            },
            "marker": {
             "colorbar": {
              "outlinewidth": 0,
              "ticks": ""
             }
            },
            "type": "scatter3d"
           }
          ],
          "scattercarpet": [
           {
            "marker": {
             "colorbar": {
              "outlinewidth": 0,
              "ticks": ""
             }
            },
            "type": "scattercarpet"
           }
          ],
          "scattergeo": [
           {
            "marker": {
             "colorbar": {
              "outlinewidth": 0,
              "ticks": ""
             }
            },
            "type": "scattergeo"
           }
          ],
          "scattergl": [
           {
            "marker": {
             "colorbar": {
              "outlinewidth": 0,
              "ticks": ""
             }
            },
            "type": "scattergl"
           }
          ],
          "scattermapbox": [
           {
            "marker": {
             "colorbar": {
              "outlinewidth": 0,
              "ticks": ""
             }
            },
            "type": "scattermapbox"
           }
          ],
          "scatterpolar": [
           {
            "marker": {
             "colorbar": {
              "outlinewidth": 0,
              "ticks": ""
             }
            },
            "type": "scatterpolar"
           }
          ],
          "scatterpolargl": [
           {
            "marker": {
             "colorbar": {
              "outlinewidth": 0,
              "ticks": ""
             }
            },
            "type": "scatterpolargl"
           }
          ],
          "scatterternary": [
           {
            "marker": {
             "colorbar": {
              "outlinewidth": 0,
              "ticks": ""
             }
            },
            "type": "scatterternary"
           }
          ],
          "surface": [
           {
            "colorbar": {
             "outlinewidth": 0,
             "ticks": ""
            },
            "colorscale": [
             [
              0,
              "#0d0887"
             ],
             [
              0.1111111111111111,
              "#46039f"
             ],
             [
              0.2222222222222222,
              "#7201a8"
             ],
             [
              0.3333333333333333,
              "#9c179e"
             ],
             [
              0.4444444444444444,
              "#bd3786"
             ],
             [
              0.5555555555555556,
              "#d8576b"
             ],
             [
              0.6666666666666666,
              "#ed7953"
             ],
             [
              0.7777777777777778,
              "#fb9f3a"
             ],
             [
              0.8888888888888888,
              "#fdca26"
             ],
             [
              1,
              "#f0f921"
             ]
            ],
            "type": "surface"
           }
          ],
          "table": [
           {
            "cells": {
             "fill": {
              "color": "#EBF0F8"
             },
             "line": {
              "color": "white"
             }
            },
            "header": {
             "fill": {
              "color": "#C8D4E3"
             },
             "line": {
              "color": "white"
             }
            },
            "type": "table"
           }
          ]
         },
         "layout": {
          "annotationdefaults": {
           "arrowcolor": "#2a3f5f",
           "arrowhead": 0,
           "arrowwidth": 1
          },
          "coloraxis": {
           "colorbar": {
            "outlinewidth": 0,
            "ticks": ""
           }
          },
          "colorscale": {
           "diverging": [
            [
             0,
             "#8e0152"
            ],
            [
             0.1,
             "#c51b7d"
            ],
            [
             0.2,
             "#de77ae"
            ],
            [
             0.3,
             "#f1b6da"
            ],
            [
             0.4,
             "#fde0ef"
            ],
            [
             0.5,
             "#f7f7f7"
            ],
            [
             0.6,
             "#e6f5d0"
            ],
            [
             0.7,
             "#b8e186"
            ],
            [
             0.8,
             "#7fbc41"
            ],
            [
             0.9,
             "#4d9221"
            ],
            [
             1,
             "#276419"
            ]
           ],
           "sequential": [
            [
             0,
             "#0d0887"
            ],
            [
             0.1111111111111111,
             "#46039f"
            ],
            [
             0.2222222222222222,
             "#7201a8"
            ],
            [
             0.3333333333333333,
             "#9c179e"
            ],
            [
             0.4444444444444444,
             "#bd3786"
            ],
            [
             0.5555555555555556,
             "#d8576b"
            ],
            [
             0.6666666666666666,
             "#ed7953"
            ],
            [
             0.7777777777777778,
             "#fb9f3a"
            ],
            [
             0.8888888888888888,
             "#fdca26"
            ],
            [
             1,
             "#f0f921"
            ]
           ],
           "sequentialminus": [
            [
             0,
             "#0d0887"
            ],
            [
             0.1111111111111111,
             "#46039f"
            ],
            [
             0.2222222222222222,
             "#7201a8"
            ],
            [
             0.3333333333333333,
             "#9c179e"
            ],
            [
             0.4444444444444444,
             "#bd3786"
            ],
            [
             0.5555555555555556,
             "#d8576b"
            ],
            [
             0.6666666666666666,
             "#ed7953"
            ],
            [
             0.7777777777777778,
             "#fb9f3a"
            ],
            [
             0.8888888888888888,
             "#fdca26"
            ],
            [
             1,
             "#f0f921"
            ]
           ]
          },
          "colorway": [
           "#636efa",
           "#EF553B",
           "#00cc96",
           "#ab63fa",
           "#FFA15A",
           "#19d3f3",
           "#FF6692",
           "#B6E880",
           "#FF97FF",
           "#FECB52"
          ],
          "font": {
           "color": "#2a3f5f"
          },
          "geo": {
           "bgcolor": "white",
           "lakecolor": "white",
           "landcolor": "#E5ECF6",
           "showlakes": true,
           "showland": true,
           "subunitcolor": "white"
          },
          "hoverlabel": {
           "align": "left"
          },
          "hovermode": "closest",
          "mapbox": {
           "style": "light"
          },
          "paper_bgcolor": "white",
          "plot_bgcolor": "#E5ECF6",
          "polar": {
           "angularaxis": {
            "gridcolor": "white",
            "linecolor": "white",
            "ticks": ""
           },
           "bgcolor": "#E5ECF6",
           "radialaxis": {
            "gridcolor": "white",
            "linecolor": "white",
            "ticks": ""
           }
          },
          "scene": {
           "xaxis": {
            "backgroundcolor": "#E5ECF6",
            "gridcolor": "white",
            "gridwidth": 2,
            "linecolor": "white",
            "showbackground": true,
            "ticks": "",
            "zerolinecolor": "white"
           },
           "yaxis": {
            "backgroundcolor": "#E5ECF6",
            "gridcolor": "white",
            "gridwidth": 2,
            "linecolor": "white",
            "showbackground": true,
            "ticks": "",
            "zerolinecolor": "white"
           },
           "zaxis": {
            "backgroundcolor": "#E5ECF6",
            "gridcolor": "white",
            "gridwidth": 2,
            "linecolor": "white",
            "showbackground": true,
            "ticks": "",
            "zerolinecolor": "white"
           }
          },
          "shapedefaults": {
           "line": {
            "color": "#2a3f5f"
           }
          },
          "ternary": {
           "aaxis": {
            "gridcolor": "white",
            "linecolor": "white",
            "ticks": ""
           },
           "baxis": {
            "gridcolor": "white",
            "linecolor": "white",
            "ticks": ""
           },
           "bgcolor": "#E5ECF6",
           "caxis": {
            "gridcolor": "white",
            "linecolor": "white",
            "ticks": ""
           }
          },
          "title": {
           "x": 0.05
          },
          "xaxis": {
           "automargin": true,
           "gridcolor": "white",
           "linecolor": "white",
           "ticks": "",
           "title": {
            "standoff": 15
           },
           "zerolinecolor": "white",
           "zerolinewidth": 2
          },
          "yaxis": {
           "automargin": true,
           "gridcolor": "white",
           "linecolor": "white",
           "ticks": "",
           "title": {
            "standoff": 15
           },
           "zerolinecolor": "white",
           "zerolinewidth": 2
          }
         }
        },
        "title": {
         "text": "Hong Kong - XGBoost rating predictions"
        },
        "xaxis": {
         "title": {
          "text": "Index"
         }
        },
        "yaxis": {
         "title": {
          "text": "Rating"
         }
        }
       }
      },
      "text/html": [
       "<div>                            <div id=\"ddcf5713-6cba-4abd-8a43-eb6837df8ee8\" class=\"plotly-graph-div\" style=\"height:525px; width:100%;\"></div>            <script type=\"text/javascript\">                require([\"plotly\"], function(Plotly) {                    window.PLOTLYENV=window.PLOTLYENV || {};                                    if (document.getElementById(\"ddcf5713-6cba-4abd-8a43-eb6837df8ee8\")) {                    Plotly.newPlot(                        \"ddcf5713-6cba-4abd-8a43-eb6837df8ee8\",                        [{\"name\": \"Predicted\", \"type\": \"bar\", \"x\": [0, 1, 2, 3, 4, 5, 6, 7, 8, 9, 10, 11, 12, 13, 14, 15, 16, 17, 18, 19], \"y\": [93.80759617371277, 95.63422418895887, 90.42311071385328, 90.01235530418879, 84.42881555755086, 97.31688340507436, 85.85037114076913, 89.87267401107586, 79.93372494662898, 97.76347429391677, 92.88975458663049, 95.50772275607574, 90.52953460078889, 91.16743400527236, 90.59615990818223, 96.58134165721846, 98.21600372452141, 85.3767163839313, 92.15162538230305, 95.68289923596667, 97.49773593063198, 86.6068142149161, 96.89955062848922, 83.33781329058128, 96.78997960500115, 87.62559099528323, 94.83632439653861, 94.44802257264486, 92.6250504289062, 25.68834262032075, 82.03937675844075, 93.02774987764808, 90.89016451837746, 95.32442936546099, 87.43647802918889, 81.2475695290517, 97.91114529201243, 97.52326907420401, 96.9232394929328, 83.4047116771787, 94.89019971454852, 93.42876060895038, 97.64507709030443, 78.0219590115281, 92.20184161190365, 90.1517330977687, 75.25484498507903, 85.5677249129213, 88.37684201125285, 95.80801220653117, 88.00645965629296, 94.09693764180166, 96.03131667504965, 86.20065591515166, 88.44029786621127, 97.96745061805555, 93.83019799921527, 95.77372939745709, 60.21412285973244, 95.82191524105188, 91.91358074386577, 93.97261999088651, 93.83667188235324, 93.3661100376439, 89.78333376781957, 100.43378712223708, 96.25658200305752, 95.9135369666965, 87.04469980042613, 91.20916837753694, 94.41616082344736, 86.30757553133344, 94.20189988963497, 91.25179760919384, 99.48247501399072, 96.55735143486382, 82.35836497460498, 94.20591965585538, 89.56665035569789, 97.70343268952041, 96.73064875362293, 94.53967372287777, 90.47172892005496, 95.29309050751115, 97.86989090390247, 91.70549242357167, 31.10210849372169, 98.28362236277717, 93.8878419261321, 85.97472405320883, 96.8259100190109, 84.11837733681578, 102.14547103501002, 96.90444609840077, 91.95429814554214, 97.52763259016335, 78.68557161656278, 91.84837423882574, 96.73934853055293, 97.93018663538757, 90.74368045064914, 91.37142273531445, 46.67964401744943, 96.75473773406702, 97.21821774850656, 88.26518602146955, 88.00140365191317, 87.07741597928538, 90.49231567446265, 91.9326416260233, 96.99512038369402, 79.95955597849729, 52.9089322411069, 97.80014000639045, 96.18818449207141, 91.56545352601734, 98.61312435014871, 95.94486932731539, 95.44446542561438, 96.17966146462656, 90.38860842312991, 88.76901937708043, 93.2990638028275, 65.60345037375089, 96.96317710259704, 97.5876435821415, 87.10404570431488, 92.56602621278354, 89.24698821987894, 98.70202878266785, 83.62936450328978, 97.07734963433256, 92.35937764164105, 86.0091071186536, 87.02828454833339, 97.5045910259505, 87.20595450085868, 89.77897862037305, 94.51078887108413, 87.46140022747926, 98.15683983362322, 75.52052511026257, 89.46842364799053, 98.92271125811894, 97.26567919144193, 92.01348973126169, 96.63315949607714, 94.66589008010419, 96.35053422050417, 94.44437436582199, 91.37192360619221, 94.74571007726765, 94.10004659091183, 93.90047106879692, 96.75974544735512, 79.83865261515272, 87.61283725216339, 87.20930692434153, 93.61028579771185, 93.9239000800222, 95.83003038001563, 98.09160430207626, 91.43503708900799, 94.61052899967908, 98.57656174986118, 92.35322629085896, 81.37753063237422, 95.79829711350617, 97.46656522599868, 94.14078498649738, 91.29623350670873, 94.14704632464246, 78.63850724046348, 92.22512387253497, 97.95328446175832, 105.71994511141386, 90.95716124864636, 97.17276385048253, 91.44673695205977, 97.18084202242012, 89.10150154955107, 93.33455926006096, 88.19654606295923, 85.69973107616582, 91.74385582849358, 97.54564746548036, 91.06584337990765, 87.57395070218159, 89.39927281136269, 91.33849751088371, 97.02075956589488, 90.07336731056633, 95.61087728346195, 96.0062925549663, 96.55794579479374, 97.20479442680957, 92.5344032495544, 91.36030815365531, 87.06863975755074, 92.68914293012641, 90.45866456569817, 90.75068797355101, 84.87910096553024, 88.39092362640537, 91.73632224353813, 93.89102798430073, 22.40426652153471, 81.65857975950746, 98.37064496625142, 95.53226177508114, 95.84984892235656, 93.43580904942908, 90.35753868649357, 95.82987909412941, 95.08910240964272, 93.88283003893893, 97.90230664113105, 94.8664101027159, 88.8964160359787, 90.16920339740882, 88.73952057652117, 96.69758361341547, 98.33610237238001, 94.02388435382521, 90.77722774250182, 96.66428248290998, 94.41847789715122, 98.11915818153628, 82.48983976531309, 95.13569325971574, 89.96158333127389, 23.684126551876485, 97.92180613041802, 95.57457877605135, 96.8059829215404, 65.55295175491004, 91.20020103449149, 96.8245087980784, 95.09862162087111, 94.41712617813776, 91.693176139415, 98.19347789956082, 87.93694340326152, 97.69396971603838, 94.13404993690061, 95.91699111193803, 95.01663690611296, 97.46341107299034, 88.99653241925932, 90.41851076644248, 100.13320604328634, 82.3949020392714, 93.88391632653112, 100.1295464001346, 84.1067569494167, 89.27556078400731, 97.15120738677255, 98.18939280496217, 90.39228937352925, 96.1490233504685, 84.12325753632835, 69.77833637538413, 83.78645908079785, 87.45340719349909, 82.47908996645387, 97.95768224229752, 83.19798121556515, 91.58847188365341, 100.17274378531536, 94.85872091665115, 98.8780380374023, 86.50852950366169, 89.68331808029004, 90.64412454922854, 89.57511700521327, 97.88759570953579, 89.85481059263935, 88.08514752233914, 87.90547778266006, 94.91628834351381, 85.8287132552719, 100.44258022205523, 98.28622571111927, 93.84935717685646, 98.02384202438763, 93.49575195990529, 90.35107304063276, 97.2413705260773, 93.7338835322689, 97.34496161697203, 92.03827041044326, 97.03577260227411, 93.91553091863503, 93.8155935131667, 96.82111324539706, 100.071662976104, 82.80231910882597, 93.529940983121, 95.25184386160704, 81.51528107053345, 86.43079479509622, 90.43941066895857, 97.17417206878717, 95.05827315829957, 98.75443530156379, 95.16192480063478, 97.75475986888576, 95.19307349892183, 66.77615466806883, 94.77240949995969, 93.98736911545569, 55.62133273042708, 98.92269869649617, 98.58282493737039, 97.82529041583673, 92.51994489944808, 99.10952505864503, 90.73831727580345, 87.42906538019923, 98.37972144538432, 86.36147743419875, 89.64898223471482, 97.94443499339219, 49.495152114119634, 92.87288512977031, 95.01774762966437, 99.82405208730579, 97.13472186357308, 97.18158773623976, 98.29044583554754, 94.34547463866123, 88.20287813312792, 57.50979592398959, 94.83636882469315, 91.71314085074786, 85.56849704335973, 93.81334768035312, 73.02816118884786, 90.00052873611443, 90.50133326390484, 94.00270327483537, 93.04447213459603, 95.3944084262204, 79.97573676548747, 77.82893821923567, 91.94781088141437, 57.90765090929754, 96.26210494439968, 94.90733968267338, 97.87844239898602, 87.60691334213269, 92.22594136026876, 98.17119961099696, 89.60153149903202, 103.0362426499728, 91.09766319290507, 72.03668842704366, 96.70868230336954, 76.90938608237771, 91.5389028274682, 91.1796304266032, 84.7358432900988, 75.87392862036656, 91.8029283032489, 93.4716623463815, 88.14009127034285, 97.09355832205611, 86.0805417089827, 97.69182133451753, 97.49548892721357, 89.9029774403522, 94.61955613451222, 79.14171578745584, 94.31108045463996, 90.85375237166618, 96.64078311942339, 87.15583100124243, 96.03413844044617, 98.72687505928168, 96.58377642711794, 85.85541165320832, 95.94751376609655, 86.51873893013892, 92.95364977915405, 91.50371402004436, 84.9326231916235, 86.1090586599627, 95.02854502876185, 94.66903746854149, 97.69413167688924, 84.32526150968106, 102.44796021524198, 97.40263726901041, 95.77039495744557, 57.81731634503543, 80.33154205462972, 90.70033298992648, 95.18114840746992, 78.4392591145541, 87.62529441834229, 94.24702460658256, 90.98330236614295, 84.95939538358773, 97.56621521769026, 87.55898933627812, 89.94507862499455, 96.39238927881689, 87.34233620103522, 93.15491356990185, 97.39498908876635, 87.00446241853705, 97.87302608811754, 91.1631934186317, 68.63976221520552, 92.75294517546901, 98.18308023712274, 96.45453285501438, 78.62538027949242, 91.48729776133915, 96.81989199373048, 83.9143330479517, 97.06413860435023, 89.66486129775087, 92.8765317779664, 74.25579105107161, 92.903190968316, 87.42205619265158, 89.66257958849798, 89.11486300233882, 95.50261821686001, 97.30580280794473, 75.46510801137934, 93.40039652006982, 96.32321359043846, 96.46081602079609, 82.44986229093747, 91.18066260666416, 99.88998265947698, 98.20648048886571, 95.76048430256809, 99.36429672778931, 89.31375296212737, 97.69545546929068, 96.2498005671687, 96.56714284274727, 89.37031609119602, 83.69858648173894, 95.29782339307833, 76.54607536442049, 89.86769243272515, 96.62772854503436, 88.04909854368557, 93.38129424895612, 96.07870447723712, 84.06140857877462, 96.78752539621432, 98.07902102329032, 98.44931655878653, 92.5876226207069, 95.6991083086128, 93.4032153317883, 88.75083464030881, 99.79733296073093, 93.15835327508988, 96.83925264341266, 88.1476810574082, 91.48395426917035, 97.12672975504543, 86.14541101701522, 98.53891786528128, 87.19800932712486, 92.57662949989324, 97.37320960042484, 98.48204550772002, 91.67276252569901, 99.17541648107934, 96.3974313297461, 94.04817753804117, 94.3195905820884, 90.93816803945482, 98.68381796670695, 93.98186579035487, 90.87869923815121, 89.95856026700115, 82.68637826228894, 87.98284841041418, 98.70743807124964, 88.13228616595802, 98.28949203620762, 86.09577197806347, 80.13965424204383, 94.13322077765012, 94.06877919611323, 89.58865828838098, 90.27075556934211, 93.62339399178853, 97.42295578403343, 76.74692439269353, 95.15739059013008, 97.22155423743025, 88.25287201828527, 97.77473092589588, 98.99921998417979, 98.96545908542728, 78.41972148851978, 93.23393278768381, 97.47157983013109, 77.19733027472952, 78.02453232471231, 90.41992145019739, 99.1653921302322, 92.75453608299185, 99.78276587554335, 92.30508938708198, 87.71615138926596, 83.81820387096558, 94.41727905750983, 96.55364839077627, 86.7880074438868, 97.74649612548242, 97.53700804293283, 99.11832129082747, 93.22460169374546, 98.97683678733004, 93.71345774456452, 97.53633847497744, 81.69621422947517, 89.96291998484057, 96.67605156906592, 90.06625740464247, 95.92821335286061, 83.63959983238418, 96.93005213488196, 87.9521210285217, 92.46459207827225, 88.95593495495618, 93.95225641622724, 96.43513950021637, 93.11162337884832, 75.82475055577653, 99.30808238191833, 96.1539058212827, 83.60898358274265, 90.14397611406756, 60.81896947295424, 95.45371815482201, 82.50790917970728, 94.0507390277307, 96.03422006670884, 89.15437370848284, 98.3670178728628, 93.65509568240691, 91.85684467341491, 91.10563876427837, 97.73967990294221, 83.28700845276815, 80.80487605781003]}, {\"name\": \"Actual\", \"type\": \"bar\", \"x\": [0, 1, 2, 3, 4, 5, 6, 7, 8, 9, 10, 11, 12, 13, 14, 15, 16, 17, 18, 19], \"y\": [94.0, 100.0, 91.0, 87.0, 80.0, 96.0, 89.0, 93.0, 80.0, 98.0, 92.0, 80.0, 92.0, 93.0, 90.0, 99.0, 96.0, 83.0, 96.0, 89.0, 100.0, 87.0, 100.0, 80.0, 100.0, 89.0, 94.0, 94.0, 90.0, 20.0, 80.0, 93.0, 90.0, 95.0, 90.0, 82.0, 97.0, 98.0, 95.0, 80.0, 100.0, 85.0, 100.0, 81.0, 93.0, 93.0, 80.0, 87.0, 89.0, 100.0, 87.0, 100.0, 98.0, 88.0, 86.0, 95.0, 85.0, 100.0, 60.0, 97.0, 87.0, 93.0, 93.0, 100.0, 89.0, 100.0, 94.0, 100.0, 88.0, 90.0, 96.0, 84.0, 90.0, 95.0, 93.0, 97.0, 84.0, 100.0, 93.0, 100.0, 100.0, 94.0, 90.0, 92.0, 93.0, 90.0, 40.0, 100.0, 93.0, 100.0, 96.0, 87.0, 100.0, 97.0, 92.0, 100.0, 81.0, 91.0, 97.0, 95.0, 87.0, 89.0, 47.0, 100.0, 100.0, 87.0, 88.0, 89.0, 97.0, 80.0, 100.0, 80.0, 60.0, 99.0, 94.0, 95.0, 100.0, 94.0, 96.0, 97.0, 93.0, 89.0, 91.0, 80.0, 96.0, 96.0, 97.0, 90.0, 89.0, 100.0, 90.0, 97.0, 80.0, 94.0, 80.0, 100.0, 91.0, 80.0, 94.0, 89.0, 100.0, 71.0, 90.0, 96.0, 98.0, 86.0, 92.0, 94.0, 97.0, 94.0, 96.0, 89.0, 94.0, 94.0, 92.0, 80.0, 86.0, 88.0, 90.0, 100.0, 97.0, 100.0, 89.0, 93.0, 97.0, 94.0, 82.0, 95.0, 96.0, 98.0, 90.0, 95.0, 80.0, 100.0, 94.0, 100.0, 91.0, 97.0, 90.0, 96.0, 94.0, 90.0, 93.0, 84.0, 91.0, 98.0, 91.0, 90.0, 88.0, 87.0, 96.0, 90.0, 97.0, 98.0, 96.0, 98.0, 91.0, 88.0, 90.0, 92.0, 100.0, 80.0, 84.0, 89.0, 93.0, 95.0, 20.0, 87.0, 95.0, 95.0, 96.0, 91.0, 90.0, 96.0, 96.0, 91.0, 99.0, 95.0, 87.0, 90.0, 92.0, 92.0, 98.0, 92.0, 90.0, 94.0, 80.0, 97.0, 67.0, 95.0, 89.0, 20.0, 100.0, 97.0, 100.0, 80.0, 93.0, 98.0, 80.0, 91.0, 100.0, 100.0, 89.0, 98.0, 93.0, 98.0, 99.0, 98.0, 80.0, 87.0, 100.0, 78.0, 96.0, 93.0, 81.0, 77.0, 98.0, 100.0, 92.0, 95.0, 82.0, 60.0, 87.0, 80.0, 85.0, 98.0, 93.0, 100.0, 100.0, 92.0, 99.0, 84.0, 91.0, 90.0, 91.0, 97.0, 93.0, 94.0, 85.0, 96.0, 80.0, 100.0, 100.0, 91.0, 99.0, 91.0, 92.0, 100.0, 90.0, 96.0, 90.0, 97.0, 95.0, 87.0, 95.0, 100.0, 86.0, 96.0, 94.0, 80.0, 84.0, 92.0, 96.0, 94.0, 100.0, 95.0, 98.0, 88.0, 73.0, 95.0, 88.0, 60.0, 100.0, 100.0, 97.0, 80.0, 100.0, 92.0, 85.0, 100.0, 89.0, 90.0, 98.0, 40.0, 90.0, 100.0, 100.0, 95.0, 97.0, 100.0, 94.0, 89.0, 40.0, 95.0, 91.0, 83.0, 95.0, 80.0, 100.0, 92.0, 85.0, 86.0, 100.0, 81.0, 77.0, 89.0, 50.0, 96.0, 95.0, 97.0, 83.0, 94.0, 97.0, 90.0, 100.0, 88.0, 80.0, 94.0, 81.0, 93.0, 88.0, 83.0, 82.0, 92.0, 100.0, 86.0, 100.0, 81.0, 97.0, 98.0, 90.0, 95.0, 80.0, 95.0, 94.0, 97.0, 87.0, 100.0, 80.0, 97.0, 88.0, 96.0, 85.0, 94.0, 100.0, 80.0, 85.0, 91.0, 95.0, 97.0, 88.0, 98.0, 100.0, 96.0, 50.0, 77.0, 89.0, 100.0, 84.0, 89.0, 91.0, 86.0, 80.0, 94.0, 88.0, 89.0, 95.0, 87.0, 87.0, 96.0, 100.0, 93.0, 94.0, 60.0, 91.0, 100.0, 98.0, 78.0, 95.0, 100.0, 80.0, 92.0, 80.0, 91.0, 60.0, 97.0, 100.0, 88.0, 93.0, 98.0, 97.0, 68.0, 95.0, 100.0, 96.0, 70.0, 90.0, 100.0, 96.0, 98.0, 98.0, 94.0, 96.0, 95.0, 95.0, 89.0, 84.0, 92.0, 80.0, 80.0, 95.0, 96.0, 93.0, 95.0, 88.0, 96.0, 95.0, 100.0, 94.0, 98.0, 93.0, 85.0, 98.0, 91.0, 94.0, 92.0, 86.0, 100.0, 87.0, 97.0, 88.0, 95.0, 100.0, 96.0, 96.0, 100.0, 100.0, 90.0, 96.0, 97.0, 100.0, 93.0, 90.0, 87.0, 87.0, 89.0, 100.0, 92.0, 99.0, 82.0, 82.0, 97.0, 100.0, 97.0, 93.0, 100.0, 87.0, 73.0, 91.0, 95.0, 90.0, 97.0, 97.0, 99.0, 80.0, 92.0, 99.0, 82.0, 79.0, 88.0, 100.0, 92.0, 99.0, 97.0, 84.0, 86.0, 98.0, 97.0, 91.0, 95.0, 96.0, 98.0, 95.0, 97.0, 90.0, 100.0, 100.0, 100.0, 97.0, 100.0, 96.0, 83.0, 98.0, 90.0, 94.0, 95.0, 100.0, 100.0, 91.0, 80.0, 98.0, 97.0, 100.0, 80.0, 60.0, 100.0, 83.0, 96.0, 100.0, 90.0, 100.0, 96.0, 89.0, 84.0, 96.0, 86.0, 82.0]}],                        {\"barmode\": \"group\", \"template\": {\"data\": {\"bar\": [{\"error_x\": {\"color\": \"#2a3f5f\"}, \"error_y\": {\"color\": \"#2a3f5f\"}, \"marker\": {\"line\": {\"color\": \"#E5ECF6\", \"width\": 0.5}}, \"type\": \"bar\"}], \"barpolar\": [{\"marker\": {\"line\": {\"color\": \"#E5ECF6\", \"width\": 0.5}}, \"type\": \"barpolar\"}], \"carpet\": [{\"aaxis\": {\"endlinecolor\": \"#2a3f5f\", \"gridcolor\": \"white\", \"linecolor\": \"white\", \"minorgridcolor\": \"white\", \"startlinecolor\": \"#2a3f5f\"}, \"baxis\": {\"endlinecolor\": \"#2a3f5f\", \"gridcolor\": \"white\", \"linecolor\": \"white\", \"minorgridcolor\": \"white\", \"startlinecolor\": \"#2a3f5f\"}, \"type\": \"carpet\"}], \"choropleth\": [{\"colorbar\": {\"outlinewidth\": 0, \"ticks\": \"\"}, \"type\": \"choropleth\"}], \"contour\": [{\"colorbar\": {\"outlinewidth\": 0, \"ticks\": \"\"}, \"colorscale\": [[0.0, \"#0d0887\"], [0.1111111111111111, \"#46039f\"], [0.2222222222222222, \"#7201a8\"], [0.3333333333333333, \"#9c179e\"], [0.4444444444444444, \"#bd3786\"], [0.5555555555555556, \"#d8576b\"], [0.6666666666666666, \"#ed7953\"], [0.7777777777777778, \"#fb9f3a\"], [0.8888888888888888, \"#fdca26\"], [1.0, \"#f0f921\"]], \"type\": \"contour\"}], \"contourcarpet\": [{\"colorbar\": {\"outlinewidth\": 0, \"ticks\": \"\"}, \"type\": \"contourcarpet\"}], \"heatmap\": [{\"colorbar\": {\"outlinewidth\": 0, \"ticks\": \"\"}, \"colorscale\": [[0.0, \"#0d0887\"], [0.1111111111111111, \"#46039f\"], [0.2222222222222222, \"#7201a8\"], [0.3333333333333333, \"#9c179e\"], [0.4444444444444444, \"#bd3786\"], [0.5555555555555556, \"#d8576b\"], [0.6666666666666666, \"#ed7953\"], [0.7777777777777778, \"#fb9f3a\"], [0.8888888888888888, \"#fdca26\"], [1.0, \"#f0f921\"]], \"type\": \"heatmap\"}], \"heatmapgl\": [{\"colorbar\": {\"outlinewidth\": 0, \"ticks\": \"\"}, \"colorscale\": [[0.0, \"#0d0887\"], [0.1111111111111111, \"#46039f\"], [0.2222222222222222, \"#7201a8\"], [0.3333333333333333, \"#9c179e\"], [0.4444444444444444, \"#bd3786\"], [0.5555555555555556, \"#d8576b\"], [0.6666666666666666, \"#ed7953\"], [0.7777777777777778, \"#fb9f3a\"], [0.8888888888888888, \"#fdca26\"], [1.0, \"#f0f921\"]], \"type\": \"heatmapgl\"}], \"histogram\": [{\"marker\": {\"colorbar\": {\"outlinewidth\": 0, \"ticks\": \"\"}}, \"type\": \"histogram\"}], \"histogram2d\": [{\"colorbar\": {\"outlinewidth\": 0, \"ticks\": \"\"}, \"colorscale\": [[0.0, \"#0d0887\"], [0.1111111111111111, \"#46039f\"], [0.2222222222222222, \"#7201a8\"], [0.3333333333333333, \"#9c179e\"], [0.4444444444444444, \"#bd3786\"], [0.5555555555555556, \"#d8576b\"], [0.6666666666666666, \"#ed7953\"], [0.7777777777777778, \"#fb9f3a\"], [0.8888888888888888, \"#fdca26\"], [1.0, \"#f0f921\"]], \"type\": \"histogram2d\"}], \"histogram2dcontour\": [{\"colorbar\": {\"outlinewidth\": 0, \"ticks\": \"\"}, \"colorscale\": [[0.0, \"#0d0887\"], [0.1111111111111111, \"#46039f\"], [0.2222222222222222, \"#7201a8\"], [0.3333333333333333, \"#9c179e\"], [0.4444444444444444, \"#bd3786\"], [0.5555555555555556, \"#d8576b\"], [0.6666666666666666, \"#ed7953\"], [0.7777777777777778, \"#fb9f3a\"], [0.8888888888888888, \"#fdca26\"], [1.0, \"#f0f921\"]], \"type\": \"histogram2dcontour\"}], \"mesh3d\": [{\"colorbar\": {\"outlinewidth\": 0, \"ticks\": \"\"}, \"type\": \"mesh3d\"}], \"parcoords\": [{\"line\": {\"colorbar\": {\"outlinewidth\": 0, \"ticks\": \"\"}}, \"type\": \"parcoords\"}], \"pie\": [{\"automargin\": true, \"type\": \"pie\"}], \"scatter\": [{\"marker\": {\"colorbar\": {\"outlinewidth\": 0, \"ticks\": \"\"}}, \"type\": \"scatter\"}], \"scatter3d\": [{\"line\": {\"colorbar\": {\"outlinewidth\": 0, \"ticks\": \"\"}}, \"marker\": {\"colorbar\": {\"outlinewidth\": 0, \"ticks\": \"\"}}, \"type\": \"scatter3d\"}], \"scattercarpet\": [{\"marker\": {\"colorbar\": {\"outlinewidth\": 0, \"ticks\": \"\"}}, \"type\": \"scattercarpet\"}], \"scattergeo\": [{\"marker\": {\"colorbar\": {\"outlinewidth\": 0, \"ticks\": \"\"}}, \"type\": \"scattergeo\"}], \"scattergl\": [{\"marker\": {\"colorbar\": {\"outlinewidth\": 0, \"ticks\": \"\"}}, \"type\": \"scattergl\"}], \"scattermapbox\": [{\"marker\": {\"colorbar\": {\"outlinewidth\": 0, \"ticks\": \"\"}}, \"type\": \"scattermapbox\"}], \"scatterpolar\": [{\"marker\": {\"colorbar\": {\"outlinewidth\": 0, \"ticks\": \"\"}}, \"type\": \"scatterpolar\"}], \"scatterpolargl\": [{\"marker\": {\"colorbar\": {\"outlinewidth\": 0, \"ticks\": \"\"}}, \"type\": \"scatterpolargl\"}], \"scatterternary\": [{\"marker\": {\"colorbar\": {\"outlinewidth\": 0, \"ticks\": \"\"}}, \"type\": \"scatterternary\"}], \"surface\": [{\"colorbar\": {\"outlinewidth\": 0, \"ticks\": \"\"}, \"colorscale\": [[0.0, \"#0d0887\"], [0.1111111111111111, \"#46039f\"], [0.2222222222222222, \"#7201a8\"], [0.3333333333333333, \"#9c179e\"], [0.4444444444444444, \"#bd3786\"], [0.5555555555555556, \"#d8576b\"], [0.6666666666666666, \"#ed7953\"], [0.7777777777777778, \"#fb9f3a\"], [0.8888888888888888, \"#fdca26\"], [1.0, \"#f0f921\"]], \"type\": \"surface\"}], \"table\": [{\"cells\": {\"fill\": {\"color\": \"#EBF0F8\"}, \"line\": {\"color\": \"white\"}}, \"header\": {\"fill\": {\"color\": \"#C8D4E3\"}, \"line\": {\"color\": \"white\"}}, \"type\": \"table\"}]}, \"layout\": {\"annotationdefaults\": {\"arrowcolor\": \"#2a3f5f\", \"arrowhead\": 0, \"arrowwidth\": 1}, \"coloraxis\": {\"colorbar\": {\"outlinewidth\": 0, \"ticks\": \"\"}}, \"colorscale\": {\"diverging\": [[0, \"#8e0152\"], [0.1, \"#c51b7d\"], [0.2, \"#de77ae\"], [0.3, \"#f1b6da\"], [0.4, \"#fde0ef\"], [0.5, \"#f7f7f7\"], [0.6, \"#e6f5d0\"], [0.7, \"#b8e186\"], [0.8, \"#7fbc41\"], [0.9, \"#4d9221\"], [1, \"#276419\"]], \"sequential\": [[0.0, \"#0d0887\"], [0.1111111111111111, \"#46039f\"], [0.2222222222222222, \"#7201a8\"], [0.3333333333333333, \"#9c179e\"], [0.4444444444444444, \"#bd3786\"], [0.5555555555555556, \"#d8576b\"], [0.6666666666666666, \"#ed7953\"], [0.7777777777777778, \"#fb9f3a\"], [0.8888888888888888, \"#fdca26\"], [1.0, \"#f0f921\"]], \"sequentialminus\": [[0.0, \"#0d0887\"], [0.1111111111111111, \"#46039f\"], [0.2222222222222222, \"#7201a8\"], [0.3333333333333333, \"#9c179e\"], [0.4444444444444444, \"#bd3786\"], [0.5555555555555556, \"#d8576b\"], [0.6666666666666666, \"#ed7953\"], [0.7777777777777778, \"#fb9f3a\"], [0.8888888888888888, \"#fdca26\"], [1.0, \"#f0f921\"]]}, \"colorway\": [\"#636efa\", \"#EF553B\", \"#00cc96\", \"#ab63fa\", \"#FFA15A\", \"#19d3f3\", \"#FF6692\", \"#B6E880\", \"#FF97FF\", \"#FECB52\"], \"font\": {\"color\": \"#2a3f5f\"}, \"geo\": {\"bgcolor\": \"white\", \"lakecolor\": \"white\", \"landcolor\": \"#E5ECF6\", \"showlakes\": true, \"showland\": true, \"subunitcolor\": \"white\"}, \"hoverlabel\": {\"align\": \"left\"}, \"hovermode\": \"closest\", \"mapbox\": {\"style\": \"light\"}, \"paper_bgcolor\": \"white\", \"plot_bgcolor\": \"#E5ECF6\", \"polar\": {\"angularaxis\": {\"gridcolor\": \"white\", \"linecolor\": \"white\", \"ticks\": \"\"}, \"bgcolor\": \"#E5ECF6\", \"radialaxis\": {\"gridcolor\": \"white\", \"linecolor\": \"white\", \"ticks\": \"\"}}, \"scene\": {\"xaxis\": {\"backgroundcolor\": \"#E5ECF6\", \"gridcolor\": \"white\", \"gridwidth\": 2, \"linecolor\": \"white\", \"showbackground\": true, \"ticks\": \"\", \"zerolinecolor\": \"white\"}, \"yaxis\": {\"backgroundcolor\": \"#E5ECF6\", \"gridcolor\": \"white\", \"gridwidth\": 2, \"linecolor\": \"white\", \"showbackground\": true, \"ticks\": \"\", \"zerolinecolor\": \"white\"}, \"zaxis\": {\"backgroundcolor\": \"#E5ECF6\", \"gridcolor\": \"white\", \"gridwidth\": 2, \"linecolor\": \"white\", \"showbackground\": true, \"ticks\": \"\", \"zerolinecolor\": \"white\"}}, \"shapedefaults\": {\"line\": {\"color\": \"#2a3f5f\"}}, \"ternary\": {\"aaxis\": {\"gridcolor\": \"white\", \"linecolor\": \"white\", \"ticks\": \"\"}, \"baxis\": {\"gridcolor\": \"white\", \"linecolor\": \"white\", \"ticks\": \"\"}, \"bgcolor\": \"#E5ECF6\", \"caxis\": {\"gridcolor\": \"white\", \"linecolor\": \"white\", \"ticks\": \"\"}}, \"title\": {\"x\": 0.05}, \"xaxis\": {\"automargin\": true, \"gridcolor\": \"white\", \"linecolor\": \"white\", \"ticks\": \"\", \"title\": {\"standoff\": 15}, \"zerolinecolor\": \"white\", \"zerolinewidth\": 2}, \"yaxis\": {\"automargin\": true, \"gridcolor\": \"white\", \"linecolor\": \"white\", \"ticks\": \"\", \"title\": {\"standoff\": 15}, \"zerolinecolor\": \"white\", \"zerolinewidth\": 2}}}, \"title\": {\"text\": \"Hong Kong - XGBoost rating predictions\"}, \"xaxis\": {\"title\": {\"text\": \"Index\"}}, \"yaxis\": {\"title\": {\"text\": \"Rating\"}}},                        {\"responsive\": true}                    ).then(function(){\n",
       "                            \n",
       "var gd = document.getElementById('ddcf5713-6cba-4abd-8a43-eb6837df8ee8');\n",
       "var x = new MutationObserver(function (mutations, observer) {{\n",
       "        var display = window.getComputedStyle(gd).display;\n",
       "        if (!display || display === 'none') {{\n",
       "            console.log([gd, 'removed!']);\n",
       "            Plotly.purge(gd);\n",
       "            observer.disconnect();\n",
       "        }}\n",
       "}});\n",
       "\n",
       "// Listen for the removal of the full notebook cells\n",
       "var notebookContainer = gd.closest('#notebook-container');\n",
       "if (notebookContainer) {{\n",
       "    x.observe(notebookContainer, {childList: true});\n",
       "}}\n",
       "\n",
       "// Listen for the clearing of the current output cell\n",
       "var outputEl = gd.closest('.output');\n",
       "if (outputEl) {{\n",
       "    x.observe(outputEl, {childList: true});\n",
       "}}\n",
       "\n",
       "                        })                };                });            </script>        </div>"
      ]
     },
     "metadata": {},
     "output_type": "display_data"
    }
   ],
   "source": [
    "error_diff = pd.DataFrame({'Actual Values': np.array(y_test_r).flatten(), 'Predicted Values': predictions_r.flatten()})\n",
    "error_diff1 = error_diff.head(20)\n",
    "error_diff1\n",
    "title=['Pred vs Actual']\n",
    "fig = go.Figure(data=[\n",
    "    go.Bar(name='Predicted', x=error_diff1.index, y=error_diff['Predicted Values']),\n",
    "    go.Bar(name='Actual', x=error_diff1.index, y=error_diff['Actual Values'])\n",
    "])\n",
    "\n",
    "fig.update_layout(barmode='group', title=\"Hong Kong - XGBoost rating predictions\", yaxis = dict(title =\"Rating\"), xaxis =dict(title=\"Index\"))\n",
    "fig.show()"
   ]
  },
  {
   "cell_type": "code",
   "execution_count": 63,
   "metadata": {},
   "outputs": [
    {
     "data": {
      "image/png": "[encoded data removed]",
      "text/plain": [
       "<Figure size 1152x576 with 1 Axes>"
      ]
     },
     "metadata": {
      "needs_background": "light"
     },
     "output_type": "display_data"
    }
   ],
   "source": [
    "plt.figure(figsize=(16,8))\n",
    "sns.regplot(ypred_r,y_test_r)\n",
    "plt.xlabel('Predictions')\n",
    "plt.ylabel('Actual')\n",
    "plt.title(\"Hong Kong - XGBoost Rating Predictions\")\n",
    "plt.show()"
   ]
  },
  {
   "cell_type": "code",
   "execution_count": 64,
   "metadata": {},
   "outputs": [
    {
     "data": {
      "image/png": "[encoded data removed]",
      "text/plain": [
       "<Figure size 432x288 with 1 Axes>"
      ]
     },
     "metadata": {
      "needs_background": "light"
     },
     "output_type": "display_data"
    }
   ],
   "source": [
    "# linear regression for price predictions\n",
    "from sklearn.linear_model import LinearRegression,LogisticRegression\n",
    "result = result.drop(result.index[result['price'] >= 6000])\n",
    "sns.boxplot(x=result['price'])\n",
    "X = result.drop(['price'],axis = 1)\n",
    "y = result['price']\n",
    "X_train, X_test, y_train, y_test = train_test_split(X, y, test_size=0.2, random_state=101)"
   ]
  },
  {
   "cell_type": "code",
   "execution_count": 65,
   "metadata": {},
   "outputs": [
    {
     "data": {
      "text/plain": [
       "LinearRegression()"
      ]
     },
     "execution_count": 65,
     "metadata": {},
     "output_type": "execute_result"
    }
   ],
   "source": [
    "lm = LinearRegression()\n",
    "lm.fit(X_train,y_train)"
   ]
  },
  {
   "cell_type": "code",
   "execution_count": 66,
   "metadata": {},
   "outputs": [],
   "source": [
    "predictions = lm.predict(X_test)"
   ]
  },
  {
   "cell_type": "code",
   "execution_count": 67,
   "metadata": {},
   "outputs": [
    {
     "name": "stdout",
     "output_type": "stream",
     "text": [
      "MAE: 264.816185456176\n",
      "MSE: 173479.02831355366\n",
      "RMSE: 416.5081371516692\n"
     ]
    }
   ],
   "source": [
    "print('MAE:', metrics.mean_absolute_error(y_test, predictions))\n",
    "print('MSE:', metrics.mean_squared_error(y_test, predictions))\n",
    "print('RMSE:', np.sqrt(metrics.mean_squared_error(y_test, predictions)))"
   ]
  },
  {
   "cell_type": "code",
   "execution_count": 68,
   "metadata": {},
   "outputs": [
    {
     "name": "stdout",
     "output_type": "stream",
     "text": [
      "504.2652403993804\n"
     ]
    }
   ],
   "source": [
    "from sklearn.ensemble import RandomForestClassifier\n",
    "from sklearn.datasets import make_classification\n",
    "clf = RandomForestClassifier(max_depth=20, random_state=10)\n",
    "clf.fit(X_train, y_train)\n",
    "\n",
    "predictions = clf.predict(X_test)\n",
    "print(np.sqrt(metrics.mean_squared_error(y_test,predictions)))\n"
   ]
  }
 ],
 "metadata": {
  "kernelspec": {
   "display_name": "Python 3",
   "language": "python",
   "name": "python3"
  },
  "language_info": {
   "codemirror_mode": {
    "name": "ipython",
    "version": 3
   },
   "file_extension": ".py",
   "mimetype": "text/x-python",
   "name": "python",
   "nbconvert_exporter": "python",
   "pygments_lexer": "ipython3",
   "version": "3.7.4"
  }
 },
 "nbformat": 4,
 "nbformat_minor": 2
}
