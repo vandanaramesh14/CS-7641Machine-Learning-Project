{
 "cells": [
  {
   "cell_type": "code",
   "execution_count": 44,
   "metadata": {},
   "outputs": [
    {
     "data": {
      "text/html": [
       "        <script type=\"text/javascript\">\n",
       "        window.PlotlyConfig = {MathJaxConfig: 'local'};\n",
       "        if (window.MathJax) {MathJax.Hub.Config({SVG: {font: \"STIX-Web\"}});}\n",
       "        if (typeof require !== 'undefined') {\n",
       "        require.undef(\"plotly\");\n",
       "        requirejs.config({\n",
       "            paths: {\n",
       "                'plotly': ['https://cdn.plot.ly/plotly-latest.min']\n",
       "            }\n",
       "        });\n",
       "        require(['plotly'], function(Plotly) {\n",
       "            window._Plotly = Plotly;\n",
       "        });\n",
       "        }\n",
       "        </script>\n",
       "        "
      ]
     },
     "metadata": {},
     "output_type": "display_data"
    }
   ],
   "source": [
    "import numpy as np # linear algebra\n",
    "import pandas as pd\n",
    "from pathlib import Path\n",
    "import matplotlib.pyplot as plt\n",
    "from sklearn import preprocessing\n",
    "import plotly as plotly\n",
    "import seaborn as sns\n",
    "%matplotlib inline\n",
    "from plotly import __version__\n",
    "import plotly.offline as py \n",
    "from plotly.offline import init_notebook_mode, plot\n",
    "init_notebook_mode(connected=True)\n",
    "from plotly import tools\n",
    "import plotly.graph_objs as go\n",
    "import plotly.express as px\n",
    "from sklearn.preprocessing import LabelEncoder,OneHotEncoder"
   ]
  },
  {
   "cell_type": "code",
   "execution_count": 45,
   "metadata": {},
   "outputs": [
    {
     "data": {
      "text/plain": [
       "1592"
      ]
     },
     "execution_count": 45,
     "metadata": {},
     "output_type": "execute_result"
    }
   ],
   "source": [
    "listings_df = pd.read_csv('./data/listings_cleaned_bristol_id.csv')\n",
    "len(listings_df)"
   ]
  },
  {
   "cell_type": "code",
   "execution_count": 46,
   "metadata": {},
   "outputs": [
    {
     "data": {
      "text/plain": [
       "1341"
      ]
     },
     "execution_count": 46,
     "metadata": {},
     "output_type": "execute_result"
    }
   ],
   "source": [
    "sentfeatures_df = pd.read_csv('./data/bristol_sentiment_features.csv')\n",
    "len(sentfeatures_df)"
   ]
  },
  {
   "cell_type": "code",
   "execution_count": 47,
   "metadata": {},
   "outputs": [
    {
     "data": {
      "text/html": [
       "<div>\n",
       "<style scoped>\n",
       "    .dataframe tbody tr th:only-of-type {\n",
       "        vertical-align: middle;\n",
       "    }\n",
       "\n",
       "    .dataframe tbody tr th {\n",
       "        vertical-align: top;\n",
       "    }\n",
       "\n",
       "    .dataframe thead th {\n",
       "        text-align: right;\n",
       "    }\n",
       "</style>\n",
       "<table border=\"1\" class=\"dataframe\">\n",
       "  <thead>\n",
       "    <tr style=\"text-align: right;\">\n",
       "      <th></th>\n",
       "      <th>listing_id</th>\n",
       "      <th>avg_sentiment_score</th>\n",
       "      <th>proportion_positive</th>\n",
       "      <th>id</th>\n",
       "      <th>name</th>\n",
       "      <th>description</th>\n",
       "      <th>neighborhood_overview</th>\n",
       "      <th>host_since</th>\n",
       "      <th>host_about</th>\n",
       "      <th>host_response_time</th>\n",
       "      <th>...</th>\n",
       "      <th>review_scores_cleanliness</th>\n",
       "      <th>review_scores_checkin</th>\n",
       "      <th>review_scores_communication</th>\n",
       "      <th>review_scores_location</th>\n",
       "      <th>review_scores_value</th>\n",
       "      <th>calculated_host_listings_count</th>\n",
       "      <th>calculated_host_listings_count_entire_homes</th>\n",
       "      <th>calculated_host_listings_count_private_rooms</th>\n",
       "      <th>calculated_host_listings_count_shared_rooms</th>\n",
       "      <th>reviews_per_month</th>\n",
       "    </tr>\n",
       "  </thead>\n",
       "  <tbody>\n",
       "    <tr>\n",
       "      <th>0</th>\n",
       "      <td>70820</td>\n",
       "      <td>0.870781</td>\n",
       "      <td>0.993103</td>\n",
       "      <td>70820</td>\n",
       "      <td>384</td>\n",
       "      <td>141</td>\n",
       "      <td>1</td>\n",
       "      <td>3</td>\n",
       "      <td>237</td>\n",
       "      <td>3</td>\n",
       "      <td>...</td>\n",
       "      <td>9.0</td>\n",
       "      <td>10.0</td>\n",
       "      <td>10.0</td>\n",
       "      <td>10.0</td>\n",
       "      <td>9.0</td>\n",
       "      <td>2</td>\n",
       "      <td>0</td>\n",
       "      <td>2</td>\n",
       "      <td>0</td>\n",
       "      <td>1.80</td>\n",
       "    </tr>\n",
       "    <tr>\n",
       "      <th>1</th>\n",
       "      <td>117122</td>\n",
       "      <td>0.917494</td>\n",
       "      <td>0.992857</td>\n",
       "      <td>117122</td>\n",
       "      <td>381</td>\n",
       "      <td>743</td>\n",
       "      <td>0</td>\n",
       "      <td>5</td>\n",
       "      <td>397</td>\n",
       "      <td>3</td>\n",
       "      <td>...</td>\n",
       "      <td>10.0</td>\n",
       "      <td>10.0</td>\n",
       "      <td>10.0</td>\n",
       "      <td>10.0</td>\n",
       "      <td>10.0</td>\n",
       "      <td>1</td>\n",
       "      <td>0</td>\n",
       "      <td>1</td>\n",
       "      <td>0</td>\n",
       "      <td>1.26</td>\n",
       "    </tr>\n",
       "    <tr>\n",
       "      <th>2</th>\n",
       "      <td>176306</td>\n",
       "      <td>0.822666</td>\n",
       "      <td>0.947368</td>\n",
       "      <td>176306</td>\n",
       "      <td>1427</td>\n",
       "      <td>216</td>\n",
       "      <td>1</td>\n",
       "      <td>8</td>\n",
       "      <td>344</td>\n",
       "      <td>2</td>\n",
       "      <td>...</td>\n",
       "      <td>9.0</td>\n",
       "      <td>10.0</td>\n",
       "      <td>10.0</td>\n",
       "      <td>9.0</td>\n",
       "      <td>9.0</td>\n",
       "      <td>1</td>\n",
       "      <td>0</td>\n",
       "      <td>1</td>\n",
       "      <td>0</td>\n",
       "      <td>0.40</td>\n",
       "    </tr>\n",
       "    <tr>\n",
       "      <th>3</th>\n",
       "      <td>307634</td>\n",
       "      <td>0.871122</td>\n",
       "      <td>0.944444</td>\n",
       "      <td>307634</td>\n",
       "      <td>1035</td>\n",
       "      <td>424</td>\n",
       "      <td>0</td>\n",
       "      <td>17</td>\n",
       "      <td>464</td>\n",
       "      <td>3</td>\n",
       "      <td>...</td>\n",
       "      <td>10.0</td>\n",
       "      <td>10.0</td>\n",
       "      <td>10.0</td>\n",
       "      <td>10.0</td>\n",
       "      <td>9.0</td>\n",
       "      <td>2</td>\n",
       "      <td>0</td>\n",
       "      <td>2</td>\n",
       "      <td>0</td>\n",
       "      <td>0.51</td>\n",
       "    </tr>\n",
       "    <tr>\n",
       "      <th>4</th>\n",
       "      <td>322906</td>\n",
       "      <td>0.909380</td>\n",
       "      <td>0.962025</td>\n",
       "      <td>322906</td>\n",
       "      <td>728</td>\n",
       "      <td>326</td>\n",
       "      <td>0</td>\n",
       "      <td>13</td>\n",
       "      <td>76</td>\n",
       "      <td>3</td>\n",
       "      <td>...</td>\n",
       "      <td>9.0</td>\n",
       "      <td>10.0</td>\n",
       "      <td>10.0</td>\n",
       "      <td>9.0</td>\n",
       "      <td>9.0</td>\n",
       "      <td>2</td>\n",
       "      <td>0</td>\n",
       "      <td>2</td>\n",
       "      <td>0</td>\n",
       "      <td>0.90</td>\n",
       "    </tr>\n",
       "    <tr>\n",
       "      <th>...</th>\n",
       "      <td>...</td>\n",
       "      <td>...</td>\n",
       "      <td>...</td>\n",
       "      <td>...</td>\n",
       "      <td>...</td>\n",
       "      <td>...</td>\n",
       "      <td>...</td>\n",
       "      <td>...</td>\n",
       "      <td>...</td>\n",
       "      <td>...</td>\n",
       "      <td>...</td>\n",
       "      <td>...</td>\n",
       "      <td>...</td>\n",
       "      <td>...</td>\n",
       "      <td>...</td>\n",
       "      <td>...</td>\n",
       "      <td>...</td>\n",
       "      <td>...</td>\n",
       "      <td>...</td>\n",
       "      <td>...</td>\n",
       "      <td>...</td>\n",
       "    </tr>\n",
       "    <tr>\n",
       "      <th>1336</th>\n",
       "      <td>45558834</td>\n",
       "      <td>0.916600</td>\n",
       "      <td>1.000000</td>\n",
       "      <td>45558834</td>\n",
       "      <td>1328</td>\n",
       "      <td>1092</td>\n",
       "      <td>1</td>\n",
       "      <td>206</td>\n",
       "      <td>64</td>\n",
       "      <td>4</td>\n",
       "      <td>...</td>\n",
       "      <td>10.0</td>\n",
       "      <td>10.0</td>\n",
       "      <td>10.0</td>\n",
       "      <td>10.0</td>\n",
       "      <td>10.0</td>\n",
       "      <td>1</td>\n",
       "      <td>0</td>\n",
       "      <td>1</td>\n",
       "      <td>0</td>\n",
       "      <td>1.00</td>\n",
       "    </tr>\n",
       "    <tr>\n",
       "      <th>1337</th>\n",
       "      <td>45763185</td>\n",
       "      <td>0.834050</td>\n",
       "      <td>1.000000</td>\n",
       "      <td>45763185</td>\n",
       "      <td>1279</td>\n",
       "      <td>230</td>\n",
       "      <td>0</td>\n",
       "      <td>410</td>\n",
       "      <td>478</td>\n",
       "      <td>4</td>\n",
       "      <td>...</td>\n",
       "      <td>9.0</td>\n",
       "      <td>9.0</td>\n",
       "      <td>10.0</td>\n",
       "      <td>10.0</td>\n",
       "      <td>9.0</td>\n",
       "      <td>3</td>\n",
       "      <td>3</td>\n",
       "      <td>0</td>\n",
       "      <td>0</td>\n",
       "      <td>2.00</td>\n",
       "    </tr>\n",
       "    <tr>\n",
       "      <th>1338</th>\n",
       "      <td>45810069</td>\n",
       "      <td>0.943900</td>\n",
       "      <td>1.000000</td>\n",
       "      <td>45810069</td>\n",
       "      <td>1253</td>\n",
       "      <td>888</td>\n",
       "      <td>0</td>\n",
       "      <td>674</td>\n",
       "      <td>482</td>\n",
       "      <td>4</td>\n",
       "      <td>...</td>\n",
       "      <td>10.0</td>\n",
       "      <td>10.0</td>\n",
       "      <td>10.0</td>\n",
       "      <td>10.0</td>\n",
       "      <td>10.0</td>\n",
       "      <td>1</td>\n",
       "      <td>0</td>\n",
       "      <td>1</td>\n",
       "      <td>0</td>\n",
       "      <td>1.00</td>\n",
       "    </tr>\n",
       "    <tr>\n",
       "      <th>1339</th>\n",
       "      <td>45820078</td>\n",
       "      <td>0.877000</td>\n",
       "      <td>1.000000</td>\n",
       "      <td>45820078</td>\n",
       "      <td>544</td>\n",
       "      <td>457</td>\n",
       "      <td>0</td>\n",
       "      <td>470</td>\n",
       "      <td>547</td>\n",
       "      <td>4</td>\n",
       "      <td>...</td>\n",
       "      <td>8.0</td>\n",
       "      <td>10.0</td>\n",
       "      <td>10.0</td>\n",
       "      <td>10.0</td>\n",
       "      <td>9.0</td>\n",
       "      <td>1</td>\n",
       "      <td>1</td>\n",
       "      <td>0</td>\n",
       "      <td>0</td>\n",
       "      <td>2.00</td>\n",
       "    </tr>\n",
       "    <tr>\n",
       "      <th>1340</th>\n",
       "      <td>45935280</td>\n",
       "      <td>0.956800</td>\n",
       "      <td>1.000000</td>\n",
       "      <td>45935280</td>\n",
       "      <td>78</td>\n",
       "      <td>6</td>\n",
       "      <td>1</td>\n",
       "      <td>756</td>\n",
       "      <td>150</td>\n",
       "      <td>4</td>\n",
       "      <td>...</td>\n",
       "      <td>10.0</td>\n",
       "      <td>10.0</td>\n",
       "      <td>10.0</td>\n",
       "      <td>10.0</td>\n",
       "      <td>10.0</td>\n",
       "      <td>2</td>\n",
       "      <td>0</td>\n",
       "      <td>1</td>\n",
       "      <td>1</td>\n",
       "      <td>1.00</td>\n",
       "    </tr>\n",
       "  </tbody>\n",
       "</table>\n",
       "<p>1341 rows × 50 columns</p>\n",
       "</div>"
      ],
      "text/plain": [
       "      listing_id  avg_sentiment_score  proportion_positive        id  name  \\\n",
       "0          70820             0.870781             0.993103     70820   384   \n",
       "1         117122             0.917494             0.992857    117122   381   \n",
       "2         176306             0.822666             0.947368    176306  1427   \n",
       "3         307634             0.871122             0.944444    307634  1035   \n",
       "4         322906             0.909380             0.962025    322906   728   \n",
       "...          ...                  ...                  ...       ...   ...   \n",
       "1336    45558834             0.916600             1.000000  45558834  1328   \n",
       "1337    45763185             0.834050             1.000000  45763185  1279   \n",
       "1338    45810069             0.943900             1.000000  45810069  1253   \n",
       "1339    45820078             0.877000             1.000000  45820078   544   \n",
       "1340    45935280             0.956800             1.000000  45935280    78   \n",
       "\n",
       "      description  neighborhood_overview  host_since  host_about  \\\n",
       "0             141                      1           3         237   \n",
       "1             743                      0           5         397   \n",
       "2             216                      1           8         344   \n",
       "3             424                      0          17         464   \n",
       "4             326                      0          13          76   \n",
       "...           ...                    ...         ...         ...   \n",
       "1336         1092                      1         206          64   \n",
       "1337          230                      0         410         478   \n",
       "1338          888                      0         674         482   \n",
       "1339          457                      0         470         547   \n",
       "1340            6                      1         756         150   \n",
       "\n",
       "      host_response_time  ...  review_scores_cleanliness  \\\n",
       "0                      3  ...                        9.0   \n",
       "1                      3  ...                       10.0   \n",
       "2                      2  ...                        9.0   \n",
       "3                      3  ...                       10.0   \n",
       "4                      3  ...                        9.0   \n",
       "...                  ...  ...                        ...   \n",
       "1336                   4  ...                       10.0   \n",
       "1337                   4  ...                        9.0   \n",
       "1338                   4  ...                       10.0   \n",
       "1339                   4  ...                        8.0   \n",
       "1340                   4  ...                       10.0   \n",
       "\n",
       "      review_scores_checkin  review_scores_communication  \\\n",
       "0                      10.0                         10.0   \n",
       "1                      10.0                         10.0   \n",
       "2                      10.0                         10.0   \n",
       "3                      10.0                         10.0   \n",
       "4                      10.0                         10.0   \n",
       "...                     ...                          ...   \n",
       "1336                   10.0                         10.0   \n",
       "1337                    9.0                         10.0   \n",
       "1338                   10.0                         10.0   \n",
       "1339                   10.0                         10.0   \n",
       "1340                   10.0                         10.0   \n",
       "\n",
       "      review_scores_location  review_scores_value  \\\n",
       "0                       10.0                  9.0   \n",
       "1                       10.0                 10.0   \n",
       "2                        9.0                  9.0   \n",
       "3                       10.0                  9.0   \n",
       "4                        9.0                  9.0   \n",
       "...                      ...                  ...   \n",
       "1336                    10.0                 10.0   \n",
       "1337                    10.0                  9.0   \n",
       "1338                    10.0                 10.0   \n",
       "1339                    10.0                  9.0   \n",
       "1340                    10.0                 10.0   \n",
       "\n",
       "      calculated_host_listings_count  \\\n",
       "0                                  2   \n",
       "1                                  1   \n",
       "2                                  1   \n",
       "3                                  2   \n",
       "4                                  2   \n",
       "...                              ...   \n",
       "1336                               1   \n",
       "1337                               3   \n",
       "1338                               1   \n",
       "1339                               1   \n",
       "1340                               2   \n",
       "\n",
       "      calculated_host_listings_count_entire_homes  \\\n",
       "0                                               0   \n",
       "1                                               0   \n",
       "2                                               0   \n",
       "3                                               0   \n",
       "4                                               0   \n",
       "...                                           ...   \n",
       "1336                                            0   \n",
       "1337                                            3   \n",
       "1338                                            0   \n",
       "1339                                            1   \n",
       "1340                                            0   \n",
       "\n",
       "      calculated_host_listings_count_private_rooms  \\\n",
       "0                                                2   \n",
       "1                                                1   \n",
       "2                                                1   \n",
       "3                                                2   \n",
       "4                                                2   \n",
       "...                                            ...   \n",
       "1336                                             1   \n",
       "1337                                             0   \n",
       "1338                                             1   \n",
       "1339                                             0   \n",
       "1340                                             1   \n",
       "\n",
       "      calculated_host_listings_count_shared_rooms  reviews_per_month  \n",
       "0                                               0               1.80  \n",
       "1                                               0               1.26  \n",
       "2                                               0               0.40  \n",
       "3                                               0               0.51  \n",
       "4                                               0               0.90  \n",
       "...                                           ...                ...  \n",
       "1336                                            0               1.00  \n",
       "1337                                            0               2.00  \n",
       "1338                                            0               1.00  \n",
       "1339                                            0               2.00  \n",
       "1340                                            1               1.00  \n",
       "\n",
       "[1341 rows x 50 columns]"
      ]
     },
     "execution_count": 47,
     "metadata": {},
     "output_type": "execute_result"
    }
   ],
   "source": [
    "result = sentfeatures_df.merge(listings_df, how=\"inner\", left_on=['listing_id'],right_on=['id'])\n",
    "result"
   ]
  },
  {
   "cell_type": "code",
   "execution_count": 48,
   "metadata": {},
   "outputs": [
    {
     "data": {
      "text/plain": [
       "listing_id                                        int64\n",
       "avg_sentiment_score                             float64\n",
       "proportion_positive                             float64\n",
       "id                                                int64\n",
       "name                                              int64\n",
       "description                                       int64\n",
       "neighborhood_overview                             int64\n",
       "host_since                                        int64\n",
       "host_about                                        int64\n",
       "host_response_time                                int64\n",
       "host_response_rate                                int64\n",
       "host_acceptance_rate                              int64\n",
       "host_neighbourhood                                int64\n",
       "host_listings_count                               int64\n",
       "host_total_listings_count                         int64\n",
       "host_identity_verified                            int64\n",
       "neighborhood                                      int64\n",
       "neighborhood_group                                int64\n",
       "latitude                                        float64\n",
       "longitude                                       float64\n",
       "property_type                                     int64\n",
       "room_type                                         int64\n",
       "accommodates                                      int64\n",
       "bathrooms_text                                  float64\n",
       "bedrooms                                        float64\n",
       "beds                                            float64\n",
       "amenities                                         int64\n",
       "price                                           float64\n",
       "minimum_nights                                    int64\n",
       "maximum_nights                                    int64\n",
       "has_availability                                  int64\n",
       "availability_30                                   int64\n",
       "availability_60                                   int64\n",
       "availability_90                                   int64\n",
       "availability_365                                  int64\n",
       "number_of_reviews                                 int64\n",
       "number_of_reviews_ltm                             int64\n",
       "number_of_reviews_l30d                            int64\n",
       "review_scores_rating                            float64\n",
       "review_scores_accuracy                          float64\n",
       "review_scores_cleanliness                       float64\n",
       "review_scores_checkin                           float64\n",
       "review_scores_communication                     float64\n",
       "review_scores_location                          float64\n",
       "review_scores_value                             float64\n",
       "calculated_host_listings_count                    int64\n",
       "calculated_host_listings_count_entire_homes       int64\n",
       "calculated_host_listings_count_private_rooms      int64\n",
       "calculated_host_listings_count_shared_rooms       int64\n",
       "reviews_per_month                               float64\n",
       "dtype: object"
      ]
     },
     "execution_count": 48,
     "metadata": {},
     "output_type": "execute_result"
    }
   ],
   "source": [
    "result.dtypes"
   ]
  },
  {
   "cell_type": "code",
   "execution_count": 49,
   "metadata": {},
   "outputs": [],
   "source": [
    "result=result.dropna()"
   ]
  },
  {
   "cell_type": "code",
   "execution_count": null,
   "metadata": {},
   "outputs": [],
   "source": []
  },
  {
   "cell_type": "code",
   "execution_count": 50,
   "metadata": {},
   "outputs": [],
   "source": [
    "X = result.drop(['price'],axis = 1)\n",
    "y = result['price']"
   ]
  },
  {
   "cell_type": "code",
   "execution_count": 51,
   "metadata": {},
   "outputs": [],
   "source": [
    "from sklearn.model_selection import train_test_split\n",
    "X_train, X_test, y_train, y_test = train_test_split(X, y, test_size=0.2, random_state=101)"
   ]
  },
  {
   "cell_type": "code",
   "execution_count": 52,
   "metadata": {},
   "outputs": [],
   "source": [
    "#gradient boost for predicting score\n",
    "from sklearn.ensemble import GradientBoostingRegressor\n",
    "\n"
   ]
  },
  {
   "cell_type": "code",
   "execution_count": 53,
   "metadata": {},
   "outputs": [],
   "source": [
    "GBoost = GradientBoostingRegressor(n_estimators=3000, learning_rate=0.01)\n",
    "GBoost.fit(X_train,y_train)\n",
    "predictions = GBoost.predict(X_test)"
   ]
  },
  {
   "cell_type": "code",
   "execution_count": 54,
   "metadata": {},
   "outputs": [
    {
     "name": "stdout",
     "output_type": "stream",
     "text": [
      "MAE: 20.56038117014332\n",
      "MSE: 1937.6092571557074\n",
      "RMSE: 44.018283214542876\n"
     ]
    }
   ],
   "source": [
    "from sklearn import metrics\n",
    "from sklearn.metrics import r2_score\n",
    "from sklearn.metrics import mean_absolute_error\n",
    "print('MAE:', metrics.mean_absolute_error(y_test, predictions))\n",
    "print('MSE:', metrics.mean_squared_error(y_test, predictions))\n",
    "print('RMSE:', np.sqrt(metrics.mean_squared_error(y_test, predictions)))"
   ]
  },
  {
   "cell_type": "code",
   "execution_count": 55,
   "metadata": {},
   "outputs": [
    {
     "data": {
      "text/html": [
       "<div>\n",
       "<style scoped>\n",
       "    .dataframe tbody tr th:only-of-type {\n",
       "        vertical-align: middle;\n",
       "    }\n",
       "\n",
       "    .dataframe tbody tr th {\n",
       "        vertical-align: top;\n",
       "    }\n",
       "\n",
       "    .dataframe thead th {\n",
       "        text-align: right;\n",
       "    }\n",
       "</style>\n",
       "<table border=\"1\" class=\"dataframe\">\n",
       "  <thead>\n",
       "    <tr style=\"text-align: right;\">\n",
       "      <th></th>\n",
       "      <th>Actual Values</th>\n",
       "      <th>Predicted Values</th>\n",
       "    </tr>\n",
       "  </thead>\n",
       "  <tbody>\n",
       "    <tr>\n",
       "      <th>0</th>\n",
       "      <td>36.0</td>\n",
       "      <td>36.786833</td>\n",
       "    </tr>\n",
       "    <tr>\n",
       "      <th>1</th>\n",
       "      <td>29.0</td>\n",
       "      <td>33.682365</td>\n",
       "    </tr>\n",
       "    <tr>\n",
       "      <th>2</th>\n",
       "      <td>35.0</td>\n",
       "      <td>37.581067</td>\n",
       "    </tr>\n",
       "    <tr>\n",
       "      <th>3</th>\n",
       "      <td>29.0</td>\n",
       "      <td>18.826293</td>\n",
       "    </tr>\n",
       "    <tr>\n",
       "      <th>4</th>\n",
       "      <td>35.0</td>\n",
       "      <td>84.198047</td>\n",
       "    </tr>\n",
       "    <tr>\n",
       "      <th>5</th>\n",
       "      <td>66.0</td>\n",
       "      <td>94.630341</td>\n",
       "    </tr>\n",
       "    <tr>\n",
       "      <th>6</th>\n",
       "      <td>27.0</td>\n",
       "      <td>32.545318</td>\n",
       "    </tr>\n",
       "    <tr>\n",
       "      <th>7</th>\n",
       "      <td>112.0</td>\n",
       "      <td>121.699154</td>\n",
       "    </tr>\n",
       "    <tr>\n",
       "      <th>8</th>\n",
       "      <td>120.0</td>\n",
       "      <td>368.119785</td>\n",
       "    </tr>\n",
       "    <tr>\n",
       "      <th>9</th>\n",
       "      <td>28.0</td>\n",
       "      <td>40.014989</td>\n",
       "    </tr>\n",
       "    <tr>\n",
       "      <th>10</th>\n",
       "      <td>26.0</td>\n",
       "      <td>25.822195</td>\n",
       "    </tr>\n",
       "    <tr>\n",
       "      <th>11</th>\n",
       "      <td>28.0</td>\n",
       "      <td>45.616086</td>\n",
       "    </tr>\n",
       "    <tr>\n",
       "      <th>12</th>\n",
       "      <td>28.0</td>\n",
       "      <td>32.541995</td>\n",
       "    </tr>\n",
       "    <tr>\n",
       "      <th>13</th>\n",
       "      <td>114.0</td>\n",
       "      <td>97.950950</td>\n",
       "    </tr>\n",
       "    <tr>\n",
       "      <th>14</th>\n",
       "      <td>65.0</td>\n",
       "      <td>68.223538</td>\n",
       "    </tr>\n",
       "    <tr>\n",
       "      <th>15</th>\n",
       "      <td>52.0</td>\n",
       "      <td>37.607935</td>\n",
       "    </tr>\n",
       "    <tr>\n",
       "      <th>16</th>\n",
       "      <td>25.0</td>\n",
       "      <td>33.219919</td>\n",
       "    </tr>\n",
       "    <tr>\n",
       "      <th>17</th>\n",
       "      <td>28.0</td>\n",
       "      <td>-2.847427</td>\n",
       "    </tr>\n",
       "    <tr>\n",
       "      <th>18</th>\n",
       "      <td>100.0</td>\n",
       "      <td>66.143975</td>\n",
       "    </tr>\n",
       "    <tr>\n",
       "      <th>19</th>\n",
       "      <td>40.0</td>\n",
       "      <td>40.537557</td>\n",
       "    </tr>\n",
       "  </tbody>\n",
       "</table>\n",
       "</div>"
      ],
      "text/plain": [
       "    Actual Values  Predicted Values\n",
       "0            36.0         36.786833\n",
       "1            29.0         33.682365\n",
       "2            35.0         37.581067\n",
       "3            29.0         18.826293\n",
       "4            35.0         84.198047\n",
       "5            66.0         94.630341\n",
       "6            27.0         32.545318\n",
       "7           112.0        121.699154\n",
       "8           120.0        368.119785\n",
       "9            28.0         40.014989\n",
       "10           26.0         25.822195\n",
       "11           28.0         45.616086\n",
       "12           28.0         32.541995\n",
       "13          114.0         97.950950\n",
       "14           65.0         68.223538\n",
       "15           52.0         37.607935\n",
       "16           25.0         33.219919\n",
       "17           28.0         -2.847427\n",
       "18          100.0         66.143975\n",
       "19           40.0         40.537557"
      ]
     },
     "execution_count": 55,
     "metadata": {},
     "output_type": "execute_result"
    }
   ],
   "source": [
    "error_diff = pd.DataFrame({'Actual Values': np.array(y_test).flatten(), 'Predicted Values': predictions.flatten()})\n",
    "error_diff1 = error_diff.head(20)\n",
    "error_diff1"
   ]
  },
  {
   "cell_type": "code",
   "execution_count": 56,
   "metadata": {
    "scrolled": false
   },
   "outputs": [
    {
     "data": {
      "application/vnd.plotly.v1+json": {
       "config": {
        "plotlyServerURL": "https://plot.ly"
       },
       "data": [
        {
         "name": "Predicted",
         "type": "bar",
         "x": [
          0,
          1,
          2,
          3,
          4,
          5,
          6,
          7,
          8,
          9,
          10,
          11,
          12,
          13,
          14,
          15,
          16,
          17,
          18,
          19
         ],
         "y": [
          36.78683253726593,
          33.68236514597692,
          37.58106654117533,
          18.826292916418094,
          84.19804720089978,
          94.6303413332148,
          32.54531764797179,
          121.6991535798305,
          368.1197848421806,
          40.014988602394055,
          25.822195246031953,
          45.61608631436427,
          32.5419946863341,
          97.95095004758798,
          68.22353834886646,
          37.60793491132664,
          33.219918505714546,
          -2.8474268434102568,
          66.14397464704709,
          40.5375573658799,
          80.62580012513482,
          107.90084765785545,
          84.61735097653603,
          113.61041038885661,
          127.82738158319428,
          22.438126302653806,
          74.60668077498504,
          26.4068149526119,
          89.05045208176945,
          108.29115849026935,
          22.222642475104614,
          47.46295012228011,
          226.47970229402733,
          47.14196237623743,
          48.14594065456066,
          35.23647616557553,
          102.92576404311262,
          71.22400337582066,
          77.4922036660396,
          47.288697967936535,
          67.46876598679972,
          45.489497402343325,
          23.07360735143164,
          71.38468132016838,
          49.650146920111176,
          23.669190586455688,
          78.8445886613375,
          64.58932477814436,
          20.42858678442443,
          64.73886283311288,
          58.79285586389343,
          41.01010520863879,
          1013.9826875564739,
          27.782299609308218,
          32.97615848633536,
          93.32594153215771,
          147.669795234232,
          140.3983729172999,
          70.73679050090071,
          19.814209227565854,
          153.88901013743452,
          29.715865215126975,
          114.69046152403259,
          75.89109778381858,
          239.99779918378636,
          33.39427906970837,
          39.46621628328182,
          125.8030059968358,
          160.52047982338667,
          104.91275981309764,
          90.94893809221023,
          38.05701372162003,
          90.61913342842949,
          93.88607799894451,
          45.909052829132754,
          32.14444577697917,
          40.77875988118138,
          51.36320600946638,
          153.21504883646867,
          36.053397447059034,
          129.47531941609998,
          151.92429240452043,
          108.71674780018802,
          26.243688867083385,
          101.59450993614277,
          38.09017064615497,
          144.1556496088241,
          102.40997211267165,
          99.51792122976971,
          71.76684861146333,
          30.375342839282617,
          37.24872749179717,
          74.28612459804604,
          30.373946519983658,
          122.95433824650779,
          55.88489750588365,
          165.62473023916087,
          30.553507675963562,
          50.11319842241177,
          119.48736851514536,
          160.64797959844498,
          78.95748864721048,
          73.02200442666694,
          136.06028102589616,
          46.184783058723085,
          56.00276830824677,
          56.995185499590676,
          25.81412193001635,
          43.204884608608815,
          78.09264840165376,
          64.88981071166695,
          44.281617102425194,
          157.88177125242703,
          156.85208090945218,
          88.89629403923077,
          28.8250138459324,
          68.3353426462506,
          174.65368381405716,
          38.822329704338244,
          78.0299439138596,
          48.90281277030536,
          22.982267839536973,
          27.85611482837501,
          54.05484039623127,
          140.31617847992004,
          37.21962696039521,
          54.768913933247134,
          60.615513413716755,
          28.815353396203314,
          85.80338359822476,
          70.15802540195831,
          76.198489944832,
          92.35829883819338,
          45.55465771981984,
          61.01780188009862,
          61.3877986478869,
          51.631817394037576,
          128.63235128703076,
          35.649585346159235,
          72.43786980574393,
          68.85285902985386,
          112.67987634332296,
          42.4744685926684,
          701.0216399900245,
          61.93457241867867,
          30.303481856018124,
          185.73112967345233,
          156.8698970145111,
          30.286733136447182,
          21.817591116039612,
          104.34277755669619,
          25.0731168472965,
          27.54407343700022,
          64.78016580002861,
          166.16683274961875,
          74.8420096109802,
          41.81183141430039,
          78.99525844956122,
          207.18398826748626,
          73.79172806735988,
          60.905025520476464,
          47.37770097591741,
          88.66167779264663,
          30.9127310563958,
          81.27754840114329,
          137.43357010366302,
          17.017912731005527,
          70.11702568211147,
          24.858742668851118,
          190.34307327044408,
          46.72583125155359,
          60.879154773871356,
          26.519544047730438,
          26.97114113065114,
          32.51094507717673,
          71.69626218340781,
          31.383096983840716,
          46.43287846635118,
          86.43322097432929,
          36.21961947689592,
          120.23627097008433,
          52.106080528526505,
          183.68374861955536,
          121.14689785926406,
          35.84741181686307,
          19.16363792730027,
          109.77029703661893,
          64.75944895197992,
          71.19832913998339,
          29.598700961817354,
          32.48077380222536,
          46.458771925473286,
          45.666121521734134,
          434.70897917786806,
          37.62542094739754,
          156.61685084371888,
          94.18623194605779,
          71.86035301437434,
          109.79250056108287,
          93.34427788744306,
          105.0714486323689,
          142.85735856060066,
          21.93597591746012,
          47.610656863025305,
          93.01268899704209,
          78.50068752570357,
          41.53999305630356,
          129.9604425719631,
          37.875902055307265,
          91.2922929873537,
          70.87239450433661,
          41.263215664524544,
          49.8300474924552,
          36.02071049497756,
          74.97542200822491,
          50.40403999036264,
          71.83278811987395,
          86.54498183155773,
          197.71843350094701,
          69.69224200998511,
          107.1228679855701,
          78.50005749219125,
          276.8727605685265,
          31.659460917977192,
          164.54765359487524,
          100.65284924348462,
          44.265034126655294,
          102.13008126241532,
          20.214508437183763,
          14.93827649304396,
          25.00227130860625,
          91.6302369903079,
          48.85881836640255,
          42.71129017943549,
          61.60868198339331,
          119.44329682206062,
          123.91029555727556,
          267.67237153403397,
          68.67513640313685,
          78.04259198660044,
          35.87587513469772,
          97.5511248405452,
          99.4693440632356,
          85.23686300006413,
          102.88842976450941,
          81.37691330883831,
          42.66344784680745,
          45.740297989349465
         ]
        },
        {
         "name": "Actual",
         "type": "bar",
         "x": [
          0,
          1,
          2,
          3,
          4,
          5,
          6,
          7,
          8,
          9,
          10,
          11,
          12,
          13,
          14,
          15,
          16,
          17,
          18,
          19
         ],
         "y": [
          36,
          29,
          35,
          29,
          35,
          66,
          27,
          112,
          120,
          28,
          26,
          28,
          28,
          114,
          65,
          52,
          25,
          28,
          100,
          40,
          79,
          90,
          68,
          270,
          140,
          20,
          88,
          42,
          90,
          120,
          20,
          30,
          193,
          40,
          35,
          36,
          83,
          63,
          85,
          51,
          93,
          46,
          22,
          48,
          60,
          38,
          74,
          42,
          22,
          50,
          75,
          39,
          1037,
          38,
          29,
          100,
          118,
          110,
          45,
          19,
          108,
          28,
          206,
          75,
          334,
          30,
          31,
          157,
          90,
          99,
          97,
          30,
          58,
          117,
          102,
          35,
          38,
          35,
          250,
          35,
          90,
          93,
          96,
          42,
          90,
          32,
          167,
          90,
          109,
          40,
          30,
          37,
          80,
          27,
          110,
          56,
          192,
          23,
          32,
          134,
          167,
          78,
          81,
          179,
          35,
          68,
          79,
          22,
          53,
          65,
          56,
          69,
          201,
          75,
          86,
          30,
          55,
          207,
          36,
          35,
          36,
          30,
          25,
          56,
          142,
          46,
          32,
          65,
          38,
          72,
          55,
          83,
          65,
          69,
          48,
          80,
          43,
          152,
          30,
          71,
          92,
          140,
          55,
          300,
          50,
          32,
          173,
          169,
          61,
          28,
          140,
          31,
          35,
          68,
          167,
          45,
          40,
          72,
          191,
          62,
          50,
          45,
          64,
          36,
          74,
          38,
          24,
          67,
          20,
          183,
          45,
          50,
          28,
          31,
          40,
          68,
          27,
          40,
          75,
          31,
          97,
          37,
          100,
          166,
          25,
          23,
          65,
          67,
          75,
          27,
          25,
          54,
          45,
          197,
          32,
          192,
          66,
          66,
          96,
          160,
          93,
          163,
          31,
          58,
          93,
          71,
          48,
          100,
          51,
          55,
          21,
          24,
          32,
          40,
          66,
          51,
          94,
          86,
          244,
          75,
          89,
          95,
          87,
          46,
          154,
          114,
          30,
          104,
          30,
          22,
          32,
          78,
          25,
          35,
          63,
          93,
          126,
          300,
          67,
          85,
          32,
          96,
          175,
          125,
          128,
          82,
          50,
          69
         ]
        }
       ],
       "layout": {
        "barmode": "group",
        "template": {
         "data": {
          "bar": [
           {
            "error_x": {
             "color": "#2a3f5f"
            },
            "error_y": {
             "color": "#2a3f5f"
            },
            "marker": {
             "line": {
              "color": "#E5ECF6",
              "width": 0.5
             }
            },
            "type": "bar"
           }
          ],
          "barpolar": [
           {
            "marker": {
             "line": {
              "color": "#E5ECF6",
              "width": 0.5
             }
            },
            "type": "barpolar"
           }
          ],
          "carpet": [
           {
            "aaxis": {
             "endlinecolor": "#2a3f5f",
             "gridcolor": "white",
             "linecolor": "white",
             "minorgridcolor": "white",
             "startlinecolor": "#2a3f5f"
            },
            "baxis": {
             "endlinecolor": "#2a3f5f",
             "gridcolor": "white",
             "linecolor": "white",
             "minorgridcolor": "white",
             "startlinecolor": "#2a3f5f"
            },
            "type": "carpet"
           }
          ],
          "choropleth": [
           {
            "colorbar": {
             "outlinewidth": 0,
             "ticks": ""
            },
            "type": "choropleth"
           }
          ],
          "contour": [
           {
            "colorbar": {
             "outlinewidth": 0,
             "ticks": ""
            },
            "colorscale": [
             [
              0,
              "#0d0887"
             ],
             [
              0.1111111111111111,
              "#46039f"
             ],
             [
              0.2222222222222222,
              "#7201a8"
             ],
             [
              0.3333333333333333,
              "#9c179e"
             ],
             [
              0.4444444444444444,
              "#bd3786"
             ],
             [
              0.5555555555555556,
              "#d8576b"
             ],
             [
              0.6666666666666666,
              "#ed7953"
             ],
             [
              0.7777777777777778,
              "#fb9f3a"
             ],
             [
              0.8888888888888888,
              "#fdca26"
             ],
             [
              1,
              "#f0f921"
             ]
            ],
            "type": "contour"
           }
          ],
          "contourcarpet": [
           {
            "colorbar": {
             "outlinewidth": 0,
             "ticks": ""
            },
            "type": "contourcarpet"
           }
          ],
          "heatmap": [
           {
            "colorbar": {
             "outlinewidth": 0,
             "ticks": ""
            },
            "colorscale": [
             [
              0,
              "#0d0887"
             ],
             [
              0.1111111111111111,
              "#46039f"
             ],
             [
              0.2222222222222222,
              "#7201a8"
             ],
             [
              0.3333333333333333,
              "#9c179e"
             ],
             [
              0.4444444444444444,
              "#bd3786"
             ],
             [
              0.5555555555555556,
              "#d8576b"
             ],
             [
              0.6666666666666666,
              "#ed7953"
             ],
             [
              0.7777777777777778,
              "#fb9f3a"
             ],
             [
              0.8888888888888888,
              "#fdca26"
             ],
             [
              1,
              "#f0f921"
             ]
            ],
            "type": "heatmap"
           }
          ],
          "heatmapgl": [
           {
            "colorbar": {
             "outlinewidth": 0,
             "ticks": ""
            },
            "colorscale": [
             [
              0,
              "#0d0887"
             ],
             [
              0.1111111111111111,
              "#46039f"
             ],
             [
              0.2222222222222222,
              "#7201a8"
             ],
             [
              0.3333333333333333,
              "#9c179e"
             ],
             [
              0.4444444444444444,
              "#bd3786"
             ],
             [
              0.5555555555555556,
              "#d8576b"
             ],
             [
              0.6666666666666666,
              "#ed7953"
             ],
             [
              0.7777777777777778,
              "#fb9f3a"
             ],
             [
              0.8888888888888888,
              "#fdca26"
             ],
             [
              1,
              "#f0f921"
             ]
            ],
            "type": "heatmapgl"
           }
          ],
          "histogram": [
           {
            "marker": {
             "colorbar": {
              "outlinewidth": 0,
              "ticks": ""
             }
            },
            "type": "histogram"
           }
          ],
          "histogram2d": [
           {
            "colorbar": {
             "outlinewidth": 0,
             "ticks": ""
            },
            "colorscale": [
             [
              0,
              "#0d0887"
             ],
             [
              0.1111111111111111,
              "#46039f"
             ],
             [
              0.2222222222222222,
              "#7201a8"
             ],
             [
              0.3333333333333333,
              "#9c179e"
             ],
             [
              0.4444444444444444,
              "#bd3786"
             ],
             [
              0.5555555555555556,
              "#d8576b"
             ],
             [
              0.6666666666666666,
              "#ed7953"
             ],
             [
              0.7777777777777778,
              "#fb9f3a"
             ],
             [
              0.8888888888888888,
              "#fdca26"
             ],
             [
              1,
              "#f0f921"
             ]
            ],
            "type": "histogram2d"
           }
          ],
          "histogram2dcontour": [
           {
            "colorbar": {
             "outlinewidth": 0,
             "ticks": ""
            },
            "colorscale": [
             [
              0,
              "#0d0887"
             ],
             [
              0.1111111111111111,
              "#46039f"
             ],
             [
              0.2222222222222222,
              "#7201a8"
             ],
             [
              0.3333333333333333,
              "#9c179e"
             ],
             [
              0.4444444444444444,
              "#bd3786"
             ],
             [
              0.5555555555555556,
              "#d8576b"
             ],
             [
              0.6666666666666666,
              "#ed7953"
             ],
             [
              0.7777777777777778,
              "#fb9f3a"
             ],
             [
              0.8888888888888888,
              "#fdca26"
             ],
             [
              1,
              "#f0f921"
             ]
            ],
            "type": "histogram2dcontour"
           }
          ],
          "mesh3d": [
           {
            "colorbar": {
             "outlinewidth": 0,
             "ticks": ""
            },
            "type": "mesh3d"
           }
          ],
          "parcoords": [
           {
            "line": {
             "colorbar": {
              "outlinewidth": 0,
              "ticks": ""
             }
            },
            "type": "parcoords"
           }
          ],
          "pie": [
           {
            "automargin": true,
            "type": "pie"
           }
          ],
          "scatter": [
           {
            "marker": {
             "colorbar": {
              "outlinewidth": 0,
              "ticks": ""
             }
            },
            "type": "scatter"
           }
          ],
          "scatter3d": [
           {
            "line": {
             "colorbar": {
              "outlinewidth": 0,
              "ticks": ""
             }
            },
            "marker": {
             "colorbar": {
              "outlinewidth": 0,
              "ticks": ""
             }
            },
            "type": "scatter3d"
           }
          ],
          "scattercarpet": [
           {
            "marker": {
             "colorbar": {
              "outlinewidth": 0,
              "ticks": ""
             }
            },
            "type": "scattercarpet"
           }
          ],
          "scattergeo": [
           {
            "marker": {
             "colorbar": {
              "outlinewidth": 0,
              "ticks": ""
             }
            },
            "type": "scattergeo"
           }
          ],
          "scattergl": [
           {
            "marker": {
             "colorbar": {
              "outlinewidth": 0,
              "ticks": ""
             }
            },
            "type": "scattergl"
           }
          ],
          "scattermapbox": [
           {
            "marker": {
             "colorbar": {
              "outlinewidth": 0,
              "ticks": ""
             }
            },
            "type": "scattermapbox"
           }
          ],
          "scatterpolar": [
           {
            "marker": {
             "colorbar": {
              "outlinewidth": 0,
              "ticks": ""
             }
            },
            "type": "scatterpolar"
           }
          ],
          "scatterpolargl": [
           {
            "marker": {
             "colorbar": {
              "outlinewidth": 0,
              "ticks": ""
             }
            },
            "type": "scatterpolargl"
           }
          ],
          "scatterternary": [
           {
            "marker": {
             "colorbar": {
              "outlinewidth": 0,
              "ticks": ""
             }
            },
            "type": "scatterternary"
           }
          ],
          "surface": [
           {
            "colorbar": {
             "outlinewidth": 0,
             "ticks": ""
            },
            "colorscale": [
             [
              0,
              "#0d0887"
             ],
             [
              0.1111111111111111,
              "#46039f"
             ],
             [
              0.2222222222222222,
              "#7201a8"
             ],
             [
              0.3333333333333333,
              "#9c179e"
             ],
             [
              0.4444444444444444,
              "#bd3786"
             ],
             [
              0.5555555555555556,
              "#d8576b"
             ],
             [
              0.6666666666666666,
              "#ed7953"
             ],
             [
              0.7777777777777778,
              "#fb9f3a"
             ],
             [
              0.8888888888888888,
              "#fdca26"
             ],
             [
              1,
              "#f0f921"
             ]
            ],
            "type": "surface"
           }
          ],
          "table": [
           {
            "cells": {
             "fill": {
              "color": "#EBF0F8"
             },
             "line": {
              "color": "white"
             }
            },
            "header": {
             "fill": {
              "color": "#C8D4E3"
             },
             "line": {
              "color": "white"
             }
            },
            "type": "table"
           }
          ]
         },
         "layout": {
          "annotationdefaults": {
           "arrowcolor": "#2a3f5f",
           "arrowhead": 0,
           "arrowwidth": 1
          },
          "coloraxis": {
           "colorbar": {
            "outlinewidth": 0,
            "ticks": ""
           }
          },
          "colorscale": {
           "diverging": [
            [
             0,
             "#8e0152"
            ],
            [
             0.1,
             "#c51b7d"
            ],
            [
             0.2,
             "#de77ae"
            ],
            [
             0.3,
             "#f1b6da"
            ],
            [
             0.4,
             "#fde0ef"
            ],
            [
             0.5,
             "#f7f7f7"
            ],
            [
             0.6,
             "#e6f5d0"
            ],
            [
             0.7,
             "#b8e186"
            ],
            [
             0.8,
             "#7fbc41"
            ],
            [
             0.9,
             "#4d9221"
            ],
            [
             1,
             "#276419"
            ]
           ],
           "sequential": [
            [
             0,
             "#0d0887"
            ],
            [
             0.1111111111111111,
             "#46039f"
            ],
            [
             0.2222222222222222,
             "#7201a8"
            ],
            [
             0.3333333333333333,
             "#9c179e"
            ],
            [
             0.4444444444444444,
             "#bd3786"
            ],
            [
             0.5555555555555556,
             "#d8576b"
            ],
            [
             0.6666666666666666,
             "#ed7953"
            ],
            [
             0.7777777777777778,
             "#fb9f3a"
            ],
            [
             0.8888888888888888,
             "#fdca26"
            ],
            [
             1,
             "#f0f921"
            ]
           ],
           "sequentialminus": [
            [
             0,
             "#0d0887"
            ],
            [
             0.1111111111111111,
             "#46039f"
            ],
            [
             0.2222222222222222,
             "#7201a8"
            ],
            [
             0.3333333333333333,
             "#9c179e"
            ],
            [
             0.4444444444444444,
             "#bd3786"
            ],
            [
             0.5555555555555556,
             "#d8576b"
            ],
            [
             0.6666666666666666,
             "#ed7953"
            ],
            [
             0.7777777777777778,
             "#fb9f3a"
            ],
            [
             0.8888888888888888,
             "#fdca26"
            ],
            [
             1,
             "#f0f921"
            ]
           ]
          },
          "colorway": [
           "#636efa",
           "#EF553B",
           "#00cc96",
           "#ab63fa",
           "#FFA15A",
           "#19d3f3",
           "#FF6692",
           "#B6E880",
           "#FF97FF",
           "#FECB52"
          ],
          "font": {
           "color": "#2a3f5f"
          },
          "geo": {
           "bgcolor": "white",
           "lakecolor": "white",
           "landcolor": "#E5ECF6",
           "showlakes": true,
           "showland": true,
           "subunitcolor": "white"
          },
          "hoverlabel": {
           "align": "left"
          },
          "hovermode": "closest",
          "mapbox": {
           "style": "light"
          },
          "paper_bgcolor": "white",
          "plot_bgcolor": "#E5ECF6",
          "polar": {
           "angularaxis": {
            "gridcolor": "white",
            "linecolor": "white",
            "ticks": ""
           },
           "bgcolor": "#E5ECF6",
           "radialaxis": {
            "gridcolor": "white",
            "linecolor": "white",
            "ticks": ""
           }
          },
          "scene": {
           "xaxis": {
            "backgroundcolor": "#E5ECF6",
            "gridcolor": "white",
            "gridwidth": 2,
            "linecolor": "white",
            "showbackground": true,
            "ticks": "",
            "zerolinecolor": "white"
           },
           "yaxis": {
            "backgroundcolor": "#E5ECF6",
            "gridcolor": "white",
            "gridwidth": 2,
            "linecolor": "white",
            "showbackground": true,
            "ticks": "",
            "zerolinecolor": "white"
           },
           "zaxis": {
            "backgroundcolor": "#E5ECF6",
            "gridcolor": "white",
            "gridwidth": 2,
            "linecolor": "white",
            "showbackground": true,
            "ticks": "",
            "zerolinecolor": "white"
           }
          },
          "shapedefaults": {
           "line": {
            "color": "#2a3f5f"
           }
          },
          "ternary": {
           "aaxis": {
            "gridcolor": "white",
            "linecolor": "white",
            "ticks": ""
           },
           "baxis": {
            "gridcolor": "white",
            "linecolor": "white",
            "ticks": ""
           },
           "bgcolor": "#E5ECF6",
           "caxis": {
            "gridcolor": "white",
            "linecolor": "white",
            "ticks": ""
           }
          },
          "title": {
           "x": 0.05
          },
          "xaxis": {
           "automargin": true,
           "gridcolor": "white",
           "linecolor": "white",
           "ticks": "",
           "title": {
            "standoff": 15
           },
           "zerolinecolor": "white",
           "zerolinewidth": 2
          },
          "yaxis": {
           "automargin": true,
           "gridcolor": "white",
           "linecolor": "white",
           "ticks": "",
           "title": {
            "standoff": 15
           },
           "zerolinecolor": "white",
           "zerolinewidth": 2
          }
         }
        },
        "title": {
         "text": "Bristol - Gradient boosting price predictions"
        },
        "xaxis": {
         "title": {
          "text": "Index"
         }
        },
        "yaxis": {
         "title": {
          "text": "Price"
         }
        }
       }
      },
      "text/html": [
       "<div>                            <div id=\"80897043-8eb2-46dd-8be3-6e73be41f731\" class=\"plotly-graph-div\" style=\"height:525px; width:100%;\"></div>            <script type=\"text/javascript\">                require([\"plotly\"], function(Plotly) {                    window.PLOTLYENV=window.PLOTLYENV || {};                                    if (document.getElementById(\"80897043-8eb2-46dd-8be3-6e73be41f731\")) {                    Plotly.newPlot(                        \"80897043-8eb2-46dd-8be3-6e73be41f731\",                        [{\"name\": \"Predicted\", \"type\": \"bar\", \"x\": [0, 1, 2, 3, 4, 5, 6, 7, 8, 9, 10, 11, 12, 13, 14, 15, 16, 17, 18, 19], \"y\": [36.78683253726593, 33.68236514597692, 37.58106654117533, 18.826292916418094, 84.19804720089978, 94.6303413332148, 32.54531764797179, 121.6991535798305, 368.1197848421806, 40.014988602394055, 25.822195246031953, 45.61608631436427, 32.5419946863341, 97.95095004758798, 68.22353834886646, 37.60793491132664, 33.219918505714546, -2.8474268434102568, 66.14397464704709, 40.5375573658799, 80.62580012513482, 107.90084765785545, 84.61735097653603, 113.61041038885661, 127.82738158319428, 22.438126302653806, 74.60668077498504, 26.4068149526119, 89.05045208176945, 108.29115849026935, 22.222642475104614, 47.46295012228011, 226.47970229402733, 47.14196237623743, 48.14594065456066, 35.23647616557553, 102.92576404311262, 71.22400337582066, 77.4922036660396, 47.288697967936535, 67.46876598679972, 45.489497402343325, 23.07360735143164, 71.38468132016838, 49.650146920111176, 23.669190586455688, 78.8445886613375, 64.58932477814436, 20.42858678442443, 64.73886283311288, 58.79285586389343, 41.01010520863879, 1013.9826875564739, 27.782299609308218, 32.97615848633536, 93.32594153215771, 147.669795234232, 140.3983729172999, 70.73679050090071, 19.814209227565854, 153.88901013743452, 29.715865215126975, 114.69046152403259, 75.89109778381858, 239.99779918378636, 33.39427906970837, 39.46621628328182, 125.8030059968358, 160.52047982338667, 104.91275981309764, 90.94893809221023, 38.05701372162003, 90.61913342842949, 93.88607799894451, 45.909052829132754, 32.14444577697917, 40.77875988118138, 51.36320600946638, 153.21504883646867, 36.053397447059034, 129.47531941609998, 151.92429240452043, 108.71674780018802, 26.243688867083385, 101.59450993614277, 38.09017064615497, 144.1556496088241, 102.40997211267165, 99.51792122976971, 71.76684861146333, 30.375342839282617, 37.24872749179717, 74.28612459804604, 30.373946519983658, 122.95433824650779, 55.88489750588365, 165.62473023916087, 30.553507675963562, 50.11319842241177, 119.48736851514536, 160.64797959844498, 78.95748864721048, 73.02200442666694, 136.06028102589616, 46.184783058723085, 56.00276830824677, 56.995185499590676, 25.81412193001635, 43.204884608608815, 78.09264840165376, 64.88981071166695, 44.281617102425194, 157.88177125242703, 156.85208090945218, 88.89629403923077, 28.8250138459324, 68.3353426462506, 174.65368381405716, 38.822329704338244, 78.0299439138596, 48.90281277030536, 22.982267839536973, 27.85611482837501, 54.05484039623127, 140.31617847992004, 37.21962696039521, 54.768913933247134, 60.615513413716755, 28.815353396203314, 85.80338359822476, 70.15802540195831, 76.198489944832, 92.35829883819338, 45.55465771981984, 61.01780188009862, 61.3877986478869, 51.631817394037576, 128.63235128703076, 35.649585346159235, 72.43786980574393, 68.85285902985386, 112.67987634332296, 42.4744685926684, 701.0216399900245, 61.93457241867867, 30.303481856018124, 185.73112967345233, 156.8698970145111, 30.286733136447182, 21.817591116039612, 104.34277755669619, 25.0731168472965, 27.54407343700022, 64.78016580002861, 166.16683274961875, 74.8420096109802, 41.81183141430039, 78.99525844956122, 207.18398826748626, 73.79172806735988, 60.905025520476464, 47.37770097591741, 88.66167779264663, 30.9127310563958, 81.27754840114329, 137.43357010366302, 17.017912731005527, 70.11702568211147, 24.858742668851118, 190.34307327044408, 46.72583125155359, 60.879154773871356, 26.519544047730438, 26.97114113065114, 32.51094507717673, 71.69626218340781, 31.383096983840716, 46.43287846635118, 86.43322097432929, 36.21961947689592, 120.23627097008433, 52.106080528526505, 183.68374861955536, 121.14689785926406, 35.84741181686307, 19.16363792730027, 109.77029703661893, 64.75944895197992, 71.19832913998339, 29.598700961817354, 32.48077380222536, 46.458771925473286, 45.666121521734134, 434.70897917786806, 37.62542094739754, 156.61685084371888, 94.18623194605779, 71.86035301437434, 109.79250056108287, 93.34427788744306, 105.0714486323689, 142.85735856060066, 21.93597591746012, 47.610656863025305, 93.01268899704209, 78.50068752570357, 41.53999305630356, 129.9604425719631, 37.875902055307265, 91.2922929873537, 70.87239450433661, 41.263215664524544, 49.8300474924552, 36.02071049497756, 74.97542200822491, 50.40403999036264, 71.83278811987395, 86.54498183155773, 197.71843350094701, 69.69224200998511, 107.1228679855701, 78.50005749219125, 276.8727605685265, 31.659460917977192, 164.54765359487524, 100.65284924348462, 44.265034126655294, 102.13008126241532, 20.214508437183763, 14.93827649304396, 25.00227130860625, 91.6302369903079, 48.85881836640255, 42.71129017943549, 61.60868198339331, 119.44329682206062, 123.91029555727556, 267.67237153403397, 68.67513640313685, 78.04259198660044, 35.87587513469772, 97.5511248405452, 99.4693440632356, 85.23686300006413, 102.88842976450941, 81.37691330883831, 42.66344784680745, 45.740297989349465]}, {\"name\": \"Actual\", \"type\": \"bar\", \"x\": [0, 1, 2, 3, 4, 5, 6, 7, 8, 9, 10, 11, 12, 13, 14, 15, 16, 17, 18, 19], \"y\": [36.0, 29.0, 35.0, 29.0, 35.0, 66.0, 27.0, 112.0, 120.0, 28.0, 26.0, 28.0, 28.0, 114.0, 65.0, 52.0, 25.0, 28.0, 100.0, 40.0, 79.0, 90.0, 68.0, 270.0, 140.0, 20.0, 88.0, 42.0, 90.0, 120.0, 20.0, 30.0, 193.0, 40.0, 35.0, 36.0, 83.0, 63.0, 85.0, 51.0, 93.0, 46.0, 22.0, 48.0, 60.0, 38.0, 74.0, 42.0, 22.0, 50.0, 75.0, 39.0, 1037.0, 38.0, 29.0, 100.0, 118.0, 110.0, 45.0, 19.0, 108.0, 28.0, 206.0, 75.0, 334.0, 30.0, 31.0, 157.0, 90.0, 99.0, 97.0, 30.0, 58.0, 117.0, 102.0, 35.0, 38.0, 35.0, 250.0, 35.0, 90.0, 93.0, 96.0, 42.0, 90.0, 32.0, 167.0, 90.0, 109.0, 40.0, 30.0, 37.0, 80.0, 27.0, 110.0, 56.0, 192.0, 23.0, 32.0, 134.0, 167.0, 78.0, 81.0, 179.0, 35.0, 68.0, 79.0, 22.0, 53.0, 65.0, 56.0, 69.0, 201.0, 75.0, 86.0, 30.0, 55.0, 207.0, 36.0, 35.0, 36.0, 30.0, 25.0, 56.0, 142.0, 46.0, 32.0, 65.0, 38.0, 72.0, 55.0, 83.0, 65.0, 69.0, 48.0, 80.0, 43.0, 152.0, 30.0, 71.0, 92.0, 140.0, 55.0, 300.0, 50.0, 32.0, 173.0, 169.0, 61.0, 28.0, 140.0, 31.0, 35.0, 68.0, 167.0, 45.0, 40.0, 72.0, 191.0, 62.0, 50.0, 45.0, 64.0, 36.0, 74.0, 38.0, 24.0, 67.0, 20.0, 183.0, 45.0, 50.0, 28.0, 31.0, 40.0, 68.0, 27.0, 40.0, 75.0, 31.0, 97.0, 37.0, 100.0, 166.0, 25.0, 23.0, 65.0, 67.0, 75.0, 27.0, 25.0, 54.0, 45.0, 197.0, 32.0, 192.0, 66.0, 66.0, 96.0, 160.0, 93.0, 163.0, 31.0, 58.0, 93.0, 71.0, 48.0, 100.0, 51.0, 55.0, 21.0, 24.0, 32.0, 40.0, 66.0, 51.0, 94.0, 86.0, 244.0, 75.0, 89.0, 95.0, 87.0, 46.0, 154.0, 114.0, 30.0, 104.0, 30.0, 22.0, 32.0, 78.0, 25.0, 35.0, 63.0, 93.0, 126.0, 300.0, 67.0, 85.0, 32.0, 96.0, 175.0, 125.0, 128.0, 82.0, 50.0, 69.0]}],                        {\"barmode\": \"group\", \"template\": {\"data\": {\"bar\": [{\"error_x\": {\"color\": \"#2a3f5f\"}, \"error_y\": {\"color\": \"#2a3f5f\"}, \"marker\": {\"line\": {\"color\": \"#E5ECF6\", \"width\": 0.5}}, \"type\": \"bar\"}], \"barpolar\": [{\"marker\": {\"line\": {\"color\": \"#E5ECF6\", \"width\": 0.5}}, \"type\": \"barpolar\"}], \"carpet\": [{\"aaxis\": {\"endlinecolor\": \"#2a3f5f\", \"gridcolor\": \"white\", \"linecolor\": \"white\", \"minorgridcolor\": \"white\", \"startlinecolor\": \"#2a3f5f\"}, \"baxis\": {\"endlinecolor\": \"#2a3f5f\", \"gridcolor\": \"white\", \"linecolor\": \"white\", \"minorgridcolor\": \"white\", \"startlinecolor\": \"#2a3f5f\"}, \"type\": \"carpet\"}], \"choropleth\": [{\"colorbar\": {\"outlinewidth\": 0, \"ticks\": \"\"}, \"type\": \"choropleth\"}], \"contour\": [{\"colorbar\": {\"outlinewidth\": 0, \"ticks\": \"\"}, \"colorscale\": [[0.0, \"#0d0887\"], [0.1111111111111111, \"#46039f\"], [0.2222222222222222, \"#7201a8\"], [0.3333333333333333, \"#9c179e\"], [0.4444444444444444, \"#bd3786\"], [0.5555555555555556, \"#d8576b\"], [0.6666666666666666, \"#ed7953\"], [0.7777777777777778, \"#fb9f3a\"], [0.8888888888888888, \"#fdca26\"], [1.0, \"#f0f921\"]], \"type\": \"contour\"}], \"contourcarpet\": [{\"colorbar\": {\"outlinewidth\": 0, \"ticks\": \"\"}, \"type\": \"contourcarpet\"}], \"heatmap\": [{\"colorbar\": {\"outlinewidth\": 0, \"ticks\": \"\"}, \"colorscale\": [[0.0, \"#0d0887\"], [0.1111111111111111, \"#46039f\"], [0.2222222222222222, \"#7201a8\"], [0.3333333333333333, \"#9c179e\"], [0.4444444444444444, \"#bd3786\"], [0.5555555555555556, \"#d8576b\"], [0.6666666666666666, \"#ed7953\"], [0.7777777777777778, \"#fb9f3a\"], [0.8888888888888888, \"#fdca26\"], [1.0, \"#f0f921\"]], \"type\": \"heatmap\"}], \"heatmapgl\": [{\"colorbar\": {\"outlinewidth\": 0, \"ticks\": \"\"}, \"colorscale\": [[0.0, \"#0d0887\"], [0.1111111111111111, \"#46039f\"], [0.2222222222222222, \"#7201a8\"], [0.3333333333333333, \"#9c179e\"], [0.4444444444444444, \"#bd3786\"], [0.5555555555555556, \"#d8576b\"], [0.6666666666666666, \"#ed7953\"], [0.7777777777777778, \"#fb9f3a\"], [0.8888888888888888, \"#fdca26\"], [1.0, \"#f0f921\"]], \"type\": \"heatmapgl\"}], \"histogram\": [{\"marker\": {\"colorbar\": {\"outlinewidth\": 0, \"ticks\": \"\"}}, \"type\": \"histogram\"}], \"histogram2d\": [{\"colorbar\": {\"outlinewidth\": 0, \"ticks\": \"\"}, \"colorscale\": [[0.0, \"#0d0887\"], [0.1111111111111111, \"#46039f\"], [0.2222222222222222, \"#7201a8\"], [0.3333333333333333, \"#9c179e\"], [0.4444444444444444, \"#bd3786\"], [0.5555555555555556, \"#d8576b\"], [0.6666666666666666, \"#ed7953\"], [0.7777777777777778, \"#fb9f3a\"], [0.8888888888888888, \"#fdca26\"], [1.0, \"#f0f921\"]], \"type\": \"histogram2d\"}], \"histogram2dcontour\": [{\"colorbar\": {\"outlinewidth\": 0, \"ticks\": \"\"}, \"colorscale\": [[0.0, \"#0d0887\"], [0.1111111111111111, \"#46039f\"], [0.2222222222222222, \"#7201a8\"], [0.3333333333333333, \"#9c179e\"], [0.4444444444444444, \"#bd3786\"], [0.5555555555555556, \"#d8576b\"], [0.6666666666666666, \"#ed7953\"], [0.7777777777777778, \"#fb9f3a\"], [0.8888888888888888, \"#fdca26\"], [1.0, \"#f0f921\"]], \"type\": \"histogram2dcontour\"}], \"mesh3d\": [{\"colorbar\": {\"outlinewidth\": 0, \"ticks\": \"\"}, \"type\": \"mesh3d\"}], \"parcoords\": [{\"line\": {\"colorbar\": {\"outlinewidth\": 0, \"ticks\": \"\"}}, \"type\": \"parcoords\"}], \"pie\": [{\"automargin\": true, \"type\": \"pie\"}], \"scatter\": [{\"marker\": {\"colorbar\": {\"outlinewidth\": 0, \"ticks\": \"\"}}, \"type\": \"scatter\"}], \"scatter3d\": [{\"line\": {\"colorbar\": {\"outlinewidth\": 0, \"ticks\": \"\"}}, \"marker\": {\"colorbar\": {\"outlinewidth\": 0, \"ticks\": \"\"}}, \"type\": \"scatter3d\"}], \"scattercarpet\": [{\"marker\": {\"colorbar\": {\"outlinewidth\": 0, \"ticks\": \"\"}}, \"type\": \"scattercarpet\"}], \"scattergeo\": [{\"marker\": {\"colorbar\": {\"outlinewidth\": 0, \"ticks\": \"\"}}, \"type\": \"scattergeo\"}], \"scattergl\": [{\"marker\": {\"colorbar\": {\"outlinewidth\": 0, \"ticks\": \"\"}}, \"type\": \"scattergl\"}], \"scattermapbox\": [{\"marker\": {\"colorbar\": {\"outlinewidth\": 0, \"ticks\": \"\"}}, \"type\": \"scattermapbox\"}], \"scatterpolar\": [{\"marker\": {\"colorbar\": {\"outlinewidth\": 0, \"ticks\": \"\"}}, \"type\": \"scatterpolar\"}], \"scatterpolargl\": [{\"marker\": {\"colorbar\": {\"outlinewidth\": 0, \"ticks\": \"\"}}, \"type\": \"scatterpolargl\"}], \"scatterternary\": [{\"marker\": {\"colorbar\": {\"outlinewidth\": 0, \"ticks\": \"\"}}, \"type\": \"scatterternary\"}], \"surface\": [{\"colorbar\": {\"outlinewidth\": 0, \"ticks\": \"\"}, \"colorscale\": [[0.0, \"#0d0887\"], [0.1111111111111111, \"#46039f\"], [0.2222222222222222, \"#7201a8\"], [0.3333333333333333, \"#9c179e\"], [0.4444444444444444, \"#bd3786\"], [0.5555555555555556, \"#d8576b\"], [0.6666666666666666, \"#ed7953\"], [0.7777777777777778, \"#fb9f3a\"], [0.8888888888888888, \"#fdca26\"], [1.0, \"#f0f921\"]], \"type\": \"surface\"}], \"table\": [{\"cells\": {\"fill\": {\"color\": \"#EBF0F8\"}, \"line\": {\"color\": \"white\"}}, \"header\": {\"fill\": {\"color\": \"#C8D4E3\"}, \"line\": {\"color\": \"white\"}}, \"type\": \"table\"}]}, \"layout\": {\"annotationdefaults\": {\"arrowcolor\": \"#2a3f5f\", \"arrowhead\": 0, \"arrowwidth\": 1}, \"coloraxis\": {\"colorbar\": {\"outlinewidth\": 0, \"ticks\": \"\"}}, \"colorscale\": {\"diverging\": [[0, \"#8e0152\"], [0.1, \"#c51b7d\"], [0.2, \"#de77ae\"], [0.3, \"#f1b6da\"], [0.4, \"#fde0ef\"], [0.5, \"#f7f7f7\"], [0.6, \"#e6f5d0\"], [0.7, \"#b8e186\"], [0.8, \"#7fbc41\"], [0.9, \"#4d9221\"], [1, \"#276419\"]], \"sequential\": [[0.0, \"#0d0887\"], [0.1111111111111111, \"#46039f\"], [0.2222222222222222, \"#7201a8\"], [0.3333333333333333, \"#9c179e\"], [0.4444444444444444, \"#bd3786\"], [0.5555555555555556, \"#d8576b\"], [0.6666666666666666, \"#ed7953\"], [0.7777777777777778, \"#fb9f3a\"], [0.8888888888888888, \"#fdca26\"], [1.0, \"#f0f921\"]], \"sequentialminus\": [[0.0, \"#0d0887\"], [0.1111111111111111, \"#46039f\"], [0.2222222222222222, \"#7201a8\"], [0.3333333333333333, \"#9c179e\"], [0.4444444444444444, \"#bd3786\"], [0.5555555555555556, \"#d8576b\"], [0.6666666666666666, \"#ed7953\"], [0.7777777777777778, \"#fb9f3a\"], [0.8888888888888888, \"#fdca26\"], [1.0, \"#f0f921\"]]}, \"colorway\": [\"#636efa\", \"#EF553B\", \"#00cc96\", \"#ab63fa\", \"#FFA15A\", \"#19d3f3\", \"#FF6692\", \"#B6E880\", \"#FF97FF\", \"#FECB52\"], \"font\": {\"color\": \"#2a3f5f\"}, \"geo\": {\"bgcolor\": \"white\", \"lakecolor\": \"white\", \"landcolor\": \"#E5ECF6\", \"showlakes\": true, \"showland\": true, \"subunitcolor\": \"white\"}, \"hoverlabel\": {\"align\": \"left\"}, \"hovermode\": \"closest\", \"mapbox\": {\"style\": \"light\"}, \"paper_bgcolor\": \"white\", \"plot_bgcolor\": \"#E5ECF6\", \"polar\": {\"angularaxis\": {\"gridcolor\": \"white\", \"linecolor\": \"white\", \"ticks\": \"\"}, \"bgcolor\": \"#E5ECF6\", \"radialaxis\": {\"gridcolor\": \"white\", \"linecolor\": \"white\", \"ticks\": \"\"}}, \"scene\": {\"xaxis\": {\"backgroundcolor\": \"#E5ECF6\", \"gridcolor\": \"white\", \"gridwidth\": 2, \"linecolor\": \"white\", \"showbackground\": true, \"ticks\": \"\", \"zerolinecolor\": \"white\"}, \"yaxis\": {\"backgroundcolor\": \"#E5ECF6\", \"gridcolor\": \"white\", \"gridwidth\": 2, \"linecolor\": \"white\", \"showbackground\": true, \"ticks\": \"\", \"zerolinecolor\": \"white\"}, \"zaxis\": {\"backgroundcolor\": \"#E5ECF6\", \"gridcolor\": \"white\", \"gridwidth\": 2, \"linecolor\": \"white\", \"showbackground\": true, \"ticks\": \"\", \"zerolinecolor\": \"white\"}}, \"shapedefaults\": {\"line\": {\"color\": \"#2a3f5f\"}}, \"ternary\": {\"aaxis\": {\"gridcolor\": \"white\", \"linecolor\": \"white\", \"ticks\": \"\"}, \"baxis\": {\"gridcolor\": \"white\", \"linecolor\": \"white\", \"ticks\": \"\"}, \"bgcolor\": \"#E5ECF6\", \"caxis\": {\"gridcolor\": \"white\", \"linecolor\": \"white\", \"ticks\": \"\"}}, \"title\": {\"x\": 0.05}, \"xaxis\": {\"automargin\": true, \"gridcolor\": \"white\", \"linecolor\": \"white\", \"ticks\": \"\", \"title\": {\"standoff\": 15}, \"zerolinecolor\": \"white\", \"zerolinewidth\": 2}, \"yaxis\": {\"automargin\": true, \"gridcolor\": \"white\", \"linecolor\": \"white\", \"ticks\": \"\", \"title\": {\"standoff\": 15}, \"zerolinecolor\": \"white\", \"zerolinewidth\": 2}}}, \"title\": {\"text\": \"Bristol - Gradient boosting price predictions\"}, \"xaxis\": {\"title\": {\"text\": \"Index\"}}, \"yaxis\": {\"title\": {\"text\": \"Price\"}}},                        {\"responsive\": true}                    ).then(function(){\n",
       "                            \n",
       "var gd = document.getElementById('80897043-8eb2-46dd-8be3-6e73be41f731');\n",
       "var x = new MutationObserver(function (mutations, observer) {{\n",
       "        var display = window.getComputedStyle(gd).display;\n",
       "        if (!display || display === 'none') {{\n",
       "            console.log([gd, 'removed!']);\n",
       "            Plotly.purge(gd);\n",
       "            observer.disconnect();\n",
       "        }}\n",
       "}});\n",
       "\n",
       "// Listen for the removal of the full notebook cells\n",
       "var notebookContainer = gd.closest('#notebook-container');\n",
       "if (notebookContainer) {{\n",
       "    x.observe(notebookContainer, {childList: true});\n",
       "}}\n",
       "\n",
       "// Listen for the clearing of the current output cell\n",
       "var outputEl = gd.closest('.output');\n",
       "if (outputEl) {{\n",
       "    x.observe(outputEl, {childList: true});\n",
       "}}\n",
       "\n",
       "                        })                };                });            </script>        </div>"
      ]
     },
     "metadata": {},
     "output_type": "display_data"
    }
   ],
   "source": [
    "import plotly.graph_objs as go\n",
    "import plotly.express as px\n",
    "title=['Pred vs Actual']\n",
    "fig = go.Figure(data=[\n",
    "    go.Bar(name='Predicted', x=error_diff1.index, y=error_diff['Predicted Values']),\n",
    "    go.Bar(name='Actual', x=error_diff1.index, y=error_diff['Actual Values'])\n",
    "])\n",
    "\n",
    "fig.update_layout(barmode='group', title=\"Bristol - Gradient boosting price predictions\", yaxis = dict(title =\"Price\"), xaxis =dict(title=\"Index\"))\n",
    "fig.show()"
   ]
  },
  {
   "cell_type": "code",
   "execution_count": 57,
   "metadata": {},
   "outputs": [
    {
     "data": {
      "image/png": "[encoded data removed]",
      "text/plain": [
       "<Figure size 1152x576 with 1 Axes>"
      ]
     },
     "metadata": {
      "needs_background": "light"
     },
     "output_type": "display_data"
    }
   ],
   "source": [
    "plt.figure(figsize=(16,8))\n",
    "sns.regplot(predictions,y_test)\n",
    "plt.xlabel('Predictions')\n",
    "plt.ylabel('Actual')\n",
    "plt.title(\"Bristol - Gradient Boosting price predictions\")\n",
    "plt.show()"
   ]
  },
  {
   "cell_type": "code",
   "execution_count": 58,
   "metadata": {},
   "outputs": [],
   "source": [
    "# xgboost price predictions for amsterdam\n",
    "import xgboost\n",
    "import warnings \n",
    "warnings.simplefilter(action='ignore')"
   ]
  },
  {
   "cell_type": "code",
   "execution_count": 59,
   "metadata": {},
   "outputs": [],
   "source": [
    "xgb = xgboost.XGBRegressor(n_estimators=310,learning_rate=0.1,objective='reg:squarederror')"
   ]
  },
  {
   "cell_type": "code",
   "execution_count": 60,
   "metadata": {},
   "outputs": [
    {
     "name": "stdout",
     "output_type": "stream",
     "text": [
      "MAE: 17.071890527202235\n",
      "MSE: 791.4988210413096\n",
      "RMSE: 28.1335888404112\n"
     ]
    }
   ],
   "source": [
    "xgb = xgboost.XGBRegressor(n_estimators=310,learning_rate=0.1,objective='reg:squarederror')\n",
    "xgb.fit(X_train,y_train)\n",
    "predictions = xgb.predict(X_test)\n",
    "print('MAE:', metrics.mean_absolute_error(y_test, predictions))\n",
    "print('MSE:', metrics.mean_squared_error(y_test, predictions))\n",
    "print('RMSE:', np.sqrt(metrics.mean_squared_error(y_test, predictions)))"
   ]
  },
  {
   "cell_type": "code",
   "execution_count": 61,
   "metadata": {},
   "outputs": [
    {
     "data": {
      "application/vnd.plotly.v1+json": {
       "config": {
        "plotlyServerURL": "https://plot.ly"
       },
       "data": [
        {
         "name": "Predicted",
         "type": "bar",
         "x": [
          0,
          1,
          2,
          3,
          4,
          5,
          6,
          7,
          8,
          9,
          10,
          11,
          12,
          13,
          14,
          15,
          16,
          17,
          18,
          19
         ],
         "y": [
          27.942556381225586,
          31.576906204223633,
          43.077842712402344,
          25.2288761138916,
          134.04881286621094,
          91.12763214111328,
          29.01407814025879,
          116.87506103515625,
          123.56179809570312,
          33.485897064208984,
          23.809768676757812,
          39.43589401245117,
          32.925537109375,
          127.58737182617188,
          70.17062377929688,
          34.94559097290039,
          34.518089294433594,
          18.722557067871094,
          69.0870590209961,
          36.1409912109375,
          72.61231231689453,
          120.97899627685547,
          88.14456939697266,
          103.6198501586914,
          144.4993133544922,
          30.867910385131836,
          68.05679321289062,
          37.70263671875,
          95.19579315185547,
          110.46041870117188,
          15.990967750549316,
          36.70951461791992,
          245.7617950439453,
          37.972084045410156,
          59.415428161621094,
          43.13324737548828,
          92.87907409667969,
          71.45217895507812,
          73.59374237060547,
          45.643455505371094,
          64.56180572509766,
          43.949676513671875,
          27.80900764465332,
          68.17704010009766,
          49.408935546875,
          36.744873046875,
          84.2392807006836,
          65.87379455566406,
          22.769271850585938,
          61.45001983642578,
          56.146812438964844,
          38.56315994262695,
          948.308349609375,
          39.56392288208008,
          31.182388305664062,
          85.31229400634766,
          142.51522827148438,
          137.271484375,
          56.34344482421875,
          15.784992218017578,
          134.16734313964844,
          27.455055236816406,
          116.84451293945312,
          73.9119873046875,
          227.98162841796875,
          33.2004280090332,
          39.40468978881836,
          139.49893188476562,
          160.76394653320312,
          117.29816436767578,
          87.88126373291016,
          35.328651428222656,
          86.4826889038086,
          88.34845733642578,
          46.010284423828125,
          33.126407623291016,
          35.796180725097656,
          42.120880126953125,
          185.86756896972656,
          32.08218765258789,
          97.17781066894531,
          185.93028259277344,
          117.81147766113281,
          38.03714370727539,
          101.20987701416016,
          43.82556915283203,
          158.6458282470703,
          108.5208740234375,
          101.49237060546875,
          72.63447570800781,
          31.98732566833496,
          36.407325744628906,
          69.2923812866211,
          25.26013946533203,
          129.0316925048828,
          56.275390625,
          215.3807830810547,
          39.053443908691406,
          39.71925735473633,
          129.13609313964844,
          160.62420654296875,
          77.79239654541016,
          70.7410659790039,
          131.77066040039062,
          46.755767822265625,
          50.00961685180664,
          41.128875732421875,
          22.90337562561035,
          42.677711486816406,
          77.80046081542969,
          56.93212127685547,
          37.71367263793945,
          209.26451110839844,
          141.1304931640625,
          89.24191284179688,
          31.325843811035156,
          69.65751647949219,
          174.43368530273438,
          40.88591384887695,
          120.24751281738281,
          47.05556106567383,
          35.55073547363281,
          26.650712966918945,
          55.53837203979492,
          155.5106964111328,
          30.328121185302734,
          33.80153274536133,
          47.51311492919922,
          32.32099151611328,
          83.67488861083984,
          81.11786651611328,
          69.84929656982422,
          85.16627502441406,
          48.65342330932617,
          61.97880935668945,
          64.71905517578125,
          49.55438995361328,
          143.40162658691406,
          35.45932388305664,
          61.87589645385742,
          70.775390625,
          112.14093780517578,
          36.21700668334961,
          326.93060302734375,
          56.88169860839844,
          28.924633026123047,
          179.85018920898438,
          157.4676055908203,
          34.53096389770508,
          24.43270492553711,
          104.50531768798828,
          28.94193458557129,
          38.1431770324707,
          68.49481201171875,
          138.9219970703125,
          75.0466537475586,
          34.34123229980469,
          80.68783569335938,
          191.46688842773438,
          77.05774688720703,
          57.853607177734375,
          40.12516403198242,
          75.37348937988281,
          36.2204475402832,
          86.95321655273438,
          99.79685974121094,
          21.811418533325195,
          55.813411712646484,
          22.644014358520508,
          170.30453491210938,
          47.756797790527344,
          63.73959732055664,
          30.47859001159668,
          30.87735939025879,
          29.501922607421875,
          69.97179412841797,
          23.771312713623047,
          45.53179931640625,
          101.76502227783203,
          33.557804107666016,
          161.36563110351562,
          56.5958251953125,
          202.1936492919922,
          116.82467651367188,
          30.99180030822754,
          15.135856628417969,
          113.50444793701172,
          72.2600326538086,
          72.6530532836914,
          28.141706466674805,
          40.54343795776367,
          51.429832458496094,
          61.10350036621094,
          290.66656494140625,
          41.19491195678711,
          229.6384735107422,
          92.73500061035156,
          74.95033264160156,
          110.25074768066406,
          101.96571350097656,
          91.89857482910156,
          158.18614196777344,
          21.924053192138672,
          50.78567886352539,
          78.1971206665039,
          75.7199935913086,
          45.201866149902344,
          88.85719299316406,
          42.08966064453125,
          88.69461059570312,
          64.16944885253906,
          43.69293975830078,
          41.25930404663086,
          36.82707214355469,
          61.10419845581055,
          40.69430923461914,
          62.87471008300781,
          85.37263488769531,
          192.3206024169922,
          68.00875854492188,
          107.67459106445312,
          81.30412292480469,
          138.8201446533203,
          40.02806854248047,
          180.34707641601562,
          96.85572052001953,
          53.542808532714844,
          101.88451385498047,
          34.66194534301758,
          16.767932891845703,
          29.985139846801758,
          94.05059814453125,
          33.1271858215332,
          43.044837951660156,
          61.33655548095703,
          109.39152526855469,
          124.80069732666016,
          286.7326965332031,
          67.36265563964844,
          70.65642547607422,
          34.48884963989258,
          88.6878433227539,
          96.21080017089844,
          90.38967895507812,
          109.55607604980469,
          81.8272705078125,
          37.91020202636719,
          53.01949691772461
         ]
        },
        {
         "name": "Actual",
         "type": "bar",
         "x": [
          0,
          1,
          2,
          3,
          4,
          5,
          6,
          7,
          8,
          9,
          10,
          11,
          12,
          13,
          14,
          15,
          16,
          17,
          18,
          19
         ],
         "y": [
          36,
          29,
          35,
          29,
          35,
          66,
          27,
          112,
          120,
          28,
          26,
          28,
          28,
          114,
          65,
          52,
          25,
          28,
          100,
          40,
          79,
          90,
          68,
          270,
          140,
          20,
          88,
          42,
          90,
          120,
          20,
          30,
          193,
          40,
          35,
          36,
          83,
          63,
          85,
          51,
          93,
          46,
          22,
          48,
          60,
          38,
          74,
          42,
          22,
          50,
          75,
          39,
          1037,
          38,
          29,
          100,
          118,
          110,
          45,
          19,
          108,
          28,
          206,
          75,
          334,
          30,
          31,
          157,
          90,
          99,
          97,
          30,
          58,
          117,
          102,
          35,
          38,
          35,
          250,
          35,
          90,
          93,
          96,
          42,
          90,
          32,
          167,
          90,
          109,
          40,
          30,
          37,
          80,
          27,
          110,
          56,
          192,
          23,
          32,
          134,
          167,
          78,
          81,
          179,
          35,
          68,
          79,
          22,
          53,
          65,
          56,
          69,
          201,
          75,
          86,
          30,
          55,
          207,
          36,
          35,
          36,
          30,
          25,
          56,
          142,
          46,
          32,
          65,
          38,
          72,
          55,
          83,
          65,
          69,
          48,
          80,
          43,
          152,
          30,
          71,
          92,
          140,
          55,
          300,
          50,
          32,
          173,
          169,
          61,
          28,
          140,
          31,
          35,
          68,
          167,
          45,
          40,
          72,
          191,
          62,
          50,
          45,
          64,
          36,
          74,
          38,
          24,
          67,
          20,
          183,
          45,
          50,
          28,
          31,
          40,
          68,
          27,
          40,
          75,
          31,
          97,
          37,
          100,
          166,
          25,
          23,
          65,
          67,
          75,
          27,
          25,
          54,
          45,
          197,
          32,
          192,
          66,
          66,
          96,
          160,
          93,
          163,
          31,
          58,
          93,
          71,
          48,
          100,
          51,
          55,
          21,
          24,
          32,
          40,
          66,
          51,
          94,
          86,
          244,
          75,
          89,
          95,
          87,
          46,
          154,
          114,
          30,
          104,
          30,
          22,
          32,
          78,
          25,
          35,
          63,
          93,
          126,
          300,
          67,
          85,
          32,
          96,
          175,
          125,
          128,
          82,
          50,
          69
         ]
        }
       ],
       "layout": {
        "barmode": "group",
        "template": {
         "data": {
          "bar": [
           {
            "error_x": {
             "color": "#2a3f5f"
            },
            "error_y": {
             "color": "#2a3f5f"
            },
            "marker": {
             "line": {
              "color": "#E5ECF6",
              "width": 0.5
             }
            },
            "type": "bar"
           }
          ],
          "barpolar": [
           {
            "marker": {
             "line": {
              "color": "#E5ECF6",
              "width": 0.5
             }
            },
            "type": "barpolar"
           }
          ],
          "carpet": [
           {
            "aaxis": {
             "endlinecolor": "#2a3f5f",
             "gridcolor": "white",
             "linecolor": "white",
             "minorgridcolor": "white",
             "startlinecolor": "#2a3f5f"
            },
            "baxis": {
             "endlinecolor": "#2a3f5f",
             "gridcolor": "white",
             "linecolor": "white",
             "minorgridcolor": "white",
             "startlinecolor": "#2a3f5f"
            },
            "type": "carpet"
           }
          ],
          "choropleth": [
           {
            "colorbar": {
             "outlinewidth": 0,
             "ticks": ""
            },
            "type": "choropleth"
           }
          ],
          "contour": [
           {
            "colorbar": {
             "outlinewidth": 0,
             "ticks": ""
            },
            "colorscale": [
             [
              0,
              "#0d0887"
             ],
             [
              0.1111111111111111,
              "#46039f"
             ],
             [
              0.2222222222222222,
              "#7201a8"
             ],
             [
              0.3333333333333333,
              "#9c179e"
             ],
             [
              0.4444444444444444,
              "#bd3786"
             ],
             [
              0.5555555555555556,
              "#d8576b"
             ],
             [
              0.6666666666666666,
              "#ed7953"
             ],
             [
              0.7777777777777778,
              "#fb9f3a"
             ],
             [
              0.8888888888888888,
              "#fdca26"
             ],
             [
              1,
              "#f0f921"
             ]
            ],
            "type": "contour"
           }
          ],
          "contourcarpet": [
           {
            "colorbar": {
             "outlinewidth": 0,
             "ticks": ""
            },
            "type": "contourcarpet"
           }
          ],
          "heatmap": [
           {
            "colorbar": {
             "outlinewidth": 0,
             "ticks": ""
            },
            "colorscale": [
             [
              0,
              "#0d0887"
             ],
             [
              0.1111111111111111,
              "#46039f"
             ],
             [
              0.2222222222222222,
              "#7201a8"
             ],
             [
              0.3333333333333333,
              "#9c179e"
             ],
             [
              0.4444444444444444,
              "#bd3786"
             ],
             [
              0.5555555555555556,
              "#d8576b"
             ],
             [
              0.6666666666666666,
              "#ed7953"
             ],
             [
              0.7777777777777778,
              "#fb9f3a"
             ],
             [
              0.8888888888888888,
              "#fdca26"
             ],
             [
              1,
              "#f0f921"
             ]
            ],
            "type": "heatmap"
           }
          ],
          "heatmapgl": [
           {
            "colorbar": {
             "outlinewidth": 0,
             "ticks": ""
            },
            "colorscale": [
             [
              0,
              "#0d0887"
             ],
             [
              0.1111111111111111,
              "#46039f"
             ],
             [
              0.2222222222222222,
              "#7201a8"
             ],
             [
              0.3333333333333333,
              "#9c179e"
             ],
             [
              0.4444444444444444,
              "#bd3786"
             ],
             [
              0.5555555555555556,
              "#d8576b"
             ],
             [
              0.6666666666666666,
              "#ed7953"
             ],
             [
              0.7777777777777778,
              "#fb9f3a"
             ],
             [
              0.8888888888888888,
              "#fdca26"
             ],
             [
              1,
              "#f0f921"
             ]
            ],
            "type": "heatmapgl"
           }
          ],
          "histogram": [
           {
            "marker": {
             "colorbar": {
              "outlinewidth": 0,
              "ticks": ""
             }
            },
            "type": "histogram"
           }
          ],
          "histogram2d": [
           {
            "colorbar": {
             "outlinewidth": 0,
             "ticks": ""
            },
            "colorscale": [
             [
              0,
              "#0d0887"
             ],
             [
              0.1111111111111111,
              "#46039f"
             ],
             [
              0.2222222222222222,
              "#7201a8"
             ],
             [
              0.3333333333333333,
              "#9c179e"
             ],
             [
              0.4444444444444444,
              "#bd3786"
             ],
             [
              0.5555555555555556,
              "#d8576b"
             ],
             [
              0.6666666666666666,
              "#ed7953"
             ],
             [
              0.7777777777777778,
              "#fb9f3a"
             ],
             [
              0.8888888888888888,
              "#fdca26"
             ],
             [
              1,
              "#f0f921"
             ]
            ],
            "type": "histogram2d"
           }
          ],
          "histogram2dcontour": [
           {
            "colorbar": {
             "outlinewidth": 0,
             "ticks": ""
            },
            "colorscale": [
             [
              0,
              "#0d0887"
             ],
             [
              0.1111111111111111,
              "#46039f"
             ],
             [
              0.2222222222222222,
              "#7201a8"
             ],
             [
              0.3333333333333333,
              "#9c179e"
             ],
             [
              0.4444444444444444,
              "#bd3786"
             ],
             [
              0.5555555555555556,
              "#d8576b"
             ],
             [
              0.6666666666666666,
              "#ed7953"
             ],
             [
              0.7777777777777778,
              "#fb9f3a"
             ],
             [
              0.8888888888888888,
              "#fdca26"
             ],
             [
              1,
              "#f0f921"
             ]
            ],
            "type": "histogram2dcontour"
           }
          ],
          "mesh3d": [
           {
            "colorbar": {
             "outlinewidth": 0,
             "ticks": ""
            },
            "type": "mesh3d"
           }
          ],
          "parcoords": [
           {
            "line": {
             "colorbar": {
              "outlinewidth": 0,
              "ticks": ""
             }
            },
            "type": "parcoords"
           }
          ],
          "pie": [
           {
            "automargin": true,
            "type": "pie"
           }
          ],
          "scatter": [
           {
            "marker": {
             "colorbar": {
              "outlinewidth": 0,
              "ticks": ""
             }
            },
            "type": "scatter"
           }
          ],
          "scatter3d": [
           {
            "line": {
             "colorbar": {
              "outlinewidth": 0,
              "ticks": ""
             }
            },
            "marker": {
             "colorbar": {
              "outlinewidth": 0,
              "ticks": ""
             }
            },
            "type": "scatter3d"
           }
          ],
          "scattercarpet": [
           {
            "marker": {
             "colorbar": {
              "outlinewidth": 0,
              "ticks": ""
             }
            },
            "type": "scattercarpet"
           }
          ],
          "scattergeo": [
           {
            "marker": {
             "colorbar": {
              "outlinewidth": 0,
              "ticks": ""
             }
            },
            "type": "scattergeo"
           }
          ],
          "scattergl": [
           {
            "marker": {
             "colorbar": {
              "outlinewidth": 0,
              "ticks": ""
             }
            },
            "type": "scattergl"
           }
          ],
          "scattermapbox": [
           {
            "marker": {
             "colorbar": {
              "outlinewidth": 0,
              "ticks": ""
             }
            },
            "type": "scattermapbox"
           }
          ],
          "scatterpolar": [
           {
            "marker": {
             "colorbar": {
              "outlinewidth": 0,
              "ticks": ""
             }
            },
            "type": "scatterpolar"
           }
          ],
          "scatterpolargl": [
           {
            "marker": {
             "colorbar": {
              "outlinewidth": 0,
              "ticks": ""
             }
            },
            "type": "scatterpolargl"
           }
          ],
          "scatterternary": [
           {
            "marker": {
             "colorbar": {
              "outlinewidth": 0,
              "ticks": ""
             }
            },
            "type": "scatterternary"
           }
          ],
          "surface": [
           {
            "colorbar": {
             "outlinewidth": 0,
             "ticks": ""
            },
            "colorscale": [
             [
              0,
              "#0d0887"
             ],
             [
              0.1111111111111111,
              "#46039f"
             ],
             [
              0.2222222222222222,
              "#7201a8"
             ],
             [
              0.3333333333333333,
              "#9c179e"
             ],
             [
              0.4444444444444444,
              "#bd3786"
             ],
             [
              0.5555555555555556,
              "#d8576b"
             ],
             [
              0.6666666666666666,
              "#ed7953"
             ],
             [
              0.7777777777777778,
              "#fb9f3a"
             ],
             [
              0.8888888888888888,
              "#fdca26"
             ],
             [
              1,
              "#f0f921"
             ]
            ],
            "type": "surface"
           }
          ],
          "table": [
           {
            "cells": {
             "fill": {
              "color": "#EBF0F8"
             },
             "line": {
              "color": "white"
             }
            },
            "header": {
             "fill": {
              "color": "#C8D4E3"
             },
             "line": {
              "color": "white"
             }
            },
            "type": "table"
           }
          ]
         },
         "layout": {
          "annotationdefaults": {
           "arrowcolor": "#2a3f5f",
           "arrowhead": 0,
           "arrowwidth": 1
          },
          "coloraxis": {
           "colorbar": {
            "outlinewidth": 0,
            "ticks": ""
           }
          },
          "colorscale": {
           "diverging": [
            [
             0,
             "#8e0152"
            ],
            [
             0.1,
             "#c51b7d"
            ],
            [
             0.2,
             "#de77ae"
            ],
            [
             0.3,
             "#f1b6da"
            ],
            [
             0.4,
             "#fde0ef"
            ],
            [
             0.5,
             "#f7f7f7"
            ],
            [
             0.6,
             "#e6f5d0"
            ],
            [
             0.7,
             "#b8e186"
            ],
            [
             0.8,
             "#7fbc41"
            ],
            [
             0.9,
             "#4d9221"
            ],
            [
             1,
             "#276419"
            ]
           ],
           "sequential": [
            [
             0,
             "#0d0887"
            ],
            [
             0.1111111111111111,
             "#46039f"
            ],
            [
             0.2222222222222222,
             "#7201a8"
            ],
            [
             0.3333333333333333,
             "#9c179e"
            ],
            [
             0.4444444444444444,
             "#bd3786"
            ],
            [
             0.5555555555555556,
             "#d8576b"
            ],
            [
             0.6666666666666666,
             "#ed7953"
            ],
            [
             0.7777777777777778,
             "#fb9f3a"
            ],
            [
             0.8888888888888888,
             "#fdca26"
            ],
            [
             1,
             "#f0f921"
            ]
           ],
           "sequentialminus": [
            [
             0,
             "#0d0887"
            ],
            [
             0.1111111111111111,
             "#46039f"
            ],
            [
             0.2222222222222222,
             "#7201a8"
            ],
            [
             0.3333333333333333,
             "#9c179e"
            ],
            [
             0.4444444444444444,
             "#bd3786"
            ],
            [
             0.5555555555555556,
             "#d8576b"
            ],
            [
             0.6666666666666666,
             "#ed7953"
            ],
            [
             0.7777777777777778,
             "#fb9f3a"
            ],
            [
             0.8888888888888888,
             "#fdca26"
            ],
            [
             1,
             "#f0f921"
            ]
           ]
          },
          "colorway": [
           "#636efa",
           "#EF553B",
           "#00cc96",
           "#ab63fa",
           "#FFA15A",
           "#19d3f3",
           "#FF6692",
           "#B6E880",
           "#FF97FF",
           "#FECB52"
          ],
          "font": {
           "color": "#2a3f5f"
          },
          "geo": {
           "bgcolor": "white",
           "lakecolor": "white",
           "landcolor": "#E5ECF6",
           "showlakes": true,
           "showland": true,
           "subunitcolor": "white"
          },
          "hoverlabel": {
           "align": "left"
          },
          "hovermode": "closest",
          "mapbox": {
           "style": "light"
          },
          "paper_bgcolor": "white",
          "plot_bgcolor": "#E5ECF6",
          "polar": {
           "angularaxis": {
            "gridcolor": "white",
            "linecolor": "white",
            "ticks": ""
           },
           "bgcolor": "#E5ECF6",
           "radialaxis": {
            "gridcolor": "white",
            "linecolor": "white",
            "ticks": ""
           }
          },
          "scene": {
           "xaxis": {
            "backgroundcolor": "#E5ECF6",
            "gridcolor": "white",
            "gridwidth": 2,
            "linecolor": "white",
            "showbackground": true,
            "ticks": "",
            "zerolinecolor": "white"
           },
           "yaxis": {
            "backgroundcolor": "#E5ECF6",
            "gridcolor": "white",
            "gridwidth": 2,
            "linecolor": "white",
            "showbackground": true,
            "ticks": "",
            "zerolinecolor": "white"
           },
           "zaxis": {
            "backgroundcolor": "#E5ECF6",
            "gridcolor": "white",
            "gridwidth": 2,
            "linecolor": "white",
            "showbackground": true,
            "ticks": "",
            "zerolinecolor": "white"
           }
          },
          "shapedefaults": {
           "line": {
            "color": "#2a3f5f"
           }
          },
          "ternary": {
           "aaxis": {
            "gridcolor": "white",
            "linecolor": "white",
            "ticks": ""
           },
           "baxis": {
            "gridcolor": "white",
            "linecolor": "white",
            "ticks": ""
           },
           "bgcolor": "#E5ECF6",
           "caxis": {
            "gridcolor": "white",
            "linecolor": "white",
            "ticks": ""
           }
          },
          "title": {
           "x": 0.05
          },
          "xaxis": {
           "automargin": true,
           "gridcolor": "white",
           "linecolor": "white",
           "ticks": "",
           "title": {
            "standoff": 15
           },
           "zerolinecolor": "white",
           "zerolinewidth": 2
          },
          "yaxis": {
           "automargin": true,
           "gridcolor": "white",
           "linecolor": "white",
           "ticks": "",
           "title": {
            "standoff": 15
           },
           "zerolinecolor": "white",
           "zerolinewidth": 2
          }
         }
        },
        "title": {
         "text": "Bristol - XGBoost price predictions"
        },
        "xaxis": {
         "title": {
          "text": "Index"
         }
        },
        "yaxis": {
         "title": {
          "text": "Price"
         }
        }
       }
      },
      "text/html": [
       "<div>                            <div id=\"1c78dbaf-50f6-40d0-be31-20360a6e9767\" class=\"plotly-graph-div\" style=\"height:525px; width:100%;\"></div>            <script type=\"text/javascript\">                require([\"plotly\"], function(Plotly) {                    window.PLOTLYENV=window.PLOTLYENV || {};                                    if (document.getElementById(\"1c78dbaf-50f6-40d0-be31-20360a6e9767\")) {                    Plotly.newPlot(                        \"1c78dbaf-50f6-40d0-be31-20360a6e9767\",                        [{\"name\": \"Predicted\", \"type\": \"bar\", \"x\": [0, 1, 2, 3, 4, 5, 6, 7, 8, 9, 10, 11, 12, 13, 14, 15, 16, 17, 18, 19], \"y\": [27.942556381225586, 31.576906204223633, 43.077842712402344, 25.2288761138916, 134.04881286621094, 91.12763214111328, 29.01407814025879, 116.87506103515625, 123.56179809570312, 33.485897064208984, 23.809768676757812, 39.43589401245117, 32.925537109375, 127.58737182617188, 70.17062377929688, 34.94559097290039, 34.518089294433594, 18.722557067871094, 69.0870590209961, 36.1409912109375, 72.61231231689453, 120.97899627685547, 88.14456939697266, 103.6198501586914, 144.4993133544922, 30.867910385131836, 68.05679321289062, 37.70263671875, 95.19579315185547, 110.46041870117188, 15.990967750549316, 36.70951461791992, 245.7617950439453, 37.972084045410156, 59.415428161621094, 43.13324737548828, 92.87907409667969, 71.45217895507812, 73.59374237060547, 45.643455505371094, 64.56180572509766, 43.949676513671875, 27.80900764465332, 68.17704010009766, 49.408935546875, 36.744873046875, 84.2392807006836, 65.87379455566406, 22.769271850585938, 61.45001983642578, 56.146812438964844, 38.56315994262695, 948.308349609375, 39.56392288208008, 31.182388305664062, 85.31229400634766, 142.51522827148438, 137.271484375, 56.34344482421875, 15.784992218017578, 134.16734313964844, 27.455055236816406, 116.84451293945312, 73.9119873046875, 227.98162841796875, 33.2004280090332, 39.40468978881836, 139.49893188476562, 160.76394653320312, 117.29816436767578, 87.88126373291016, 35.328651428222656, 86.4826889038086, 88.34845733642578, 46.010284423828125, 33.126407623291016, 35.796180725097656, 42.120880126953125, 185.86756896972656, 32.08218765258789, 97.17781066894531, 185.93028259277344, 117.81147766113281, 38.03714370727539, 101.20987701416016, 43.82556915283203, 158.6458282470703, 108.5208740234375, 101.49237060546875, 72.63447570800781, 31.98732566833496, 36.407325744628906, 69.2923812866211, 25.26013946533203, 129.0316925048828, 56.275390625, 215.3807830810547, 39.053443908691406, 39.71925735473633, 129.13609313964844, 160.62420654296875, 77.79239654541016, 70.7410659790039, 131.77066040039062, 46.755767822265625, 50.00961685180664, 41.128875732421875, 22.90337562561035, 42.677711486816406, 77.80046081542969, 56.93212127685547, 37.71367263793945, 209.26451110839844, 141.1304931640625, 89.24191284179688, 31.325843811035156, 69.65751647949219, 174.43368530273438, 40.88591384887695, 120.24751281738281, 47.05556106567383, 35.55073547363281, 26.650712966918945, 55.53837203979492, 155.5106964111328, 30.328121185302734, 33.80153274536133, 47.51311492919922, 32.32099151611328, 83.67488861083984, 81.11786651611328, 69.84929656982422, 85.16627502441406, 48.65342330932617, 61.97880935668945, 64.71905517578125, 49.55438995361328, 143.40162658691406, 35.45932388305664, 61.87589645385742, 70.775390625, 112.14093780517578, 36.21700668334961, 326.93060302734375, 56.88169860839844, 28.924633026123047, 179.85018920898438, 157.4676055908203, 34.53096389770508, 24.43270492553711, 104.50531768798828, 28.94193458557129, 38.1431770324707, 68.49481201171875, 138.9219970703125, 75.0466537475586, 34.34123229980469, 80.68783569335938, 191.46688842773438, 77.05774688720703, 57.853607177734375, 40.12516403198242, 75.37348937988281, 36.2204475402832, 86.95321655273438, 99.79685974121094, 21.811418533325195, 55.813411712646484, 22.644014358520508, 170.30453491210938, 47.756797790527344, 63.73959732055664, 30.47859001159668, 30.87735939025879, 29.501922607421875, 69.97179412841797, 23.771312713623047, 45.53179931640625, 101.76502227783203, 33.557804107666016, 161.36563110351562, 56.5958251953125, 202.1936492919922, 116.82467651367188, 30.99180030822754, 15.135856628417969, 113.50444793701172, 72.2600326538086, 72.6530532836914, 28.141706466674805, 40.54343795776367, 51.429832458496094, 61.10350036621094, 290.66656494140625, 41.19491195678711, 229.6384735107422, 92.73500061035156, 74.95033264160156, 110.25074768066406, 101.96571350097656, 91.89857482910156, 158.18614196777344, 21.924053192138672, 50.78567886352539, 78.1971206665039, 75.7199935913086, 45.201866149902344, 88.85719299316406, 42.08966064453125, 88.69461059570312, 64.16944885253906, 43.69293975830078, 41.25930404663086, 36.82707214355469, 61.10419845581055, 40.69430923461914, 62.87471008300781, 85.37263488769531, 192.3206024169922, 68.00875854492188, 107.67459106445312, 81.30412292480469, 138.8201446533203, 40.02806854248047, 180.34707641601562, 96.85572052001953, 53.542808532714844, 101.88451385498047, 34.66194534301758, 16.767932891845703, 29.985139846801758, 94.05059814453125, 33.1271858215332, 43.044837951660156, 61.33655548095703, 109.39152526855469, 124.80069732666016, 286.7326965332031, 67.36265563964844, 70.65642547607422, 34.48884963989258, 88.6878433227539, 96.21080017089844, 90.38967895507812, 109.55607604980469, 81.8272705078125, 37.91020202636719, 53.01949691772461]}, {\"name\": \"Actual\", \"type\": \"bar\", \"x\": [0, 1, 2, 3, 4, 5, 6, 7, 8, 9, 10, 11, 12, 13, 14, 15, 16, 17, 18, 19], \"y\": [36.0, 29.0, 35.0, 29.0, 35.0, 66.0, 27.0, 112.0, 120.0, 28.0, 26.0, 28.0, 28.0, 114.0, 65.0, 52.0, 25.0, 28.0, 100.0, 40.0, 79.0, 90.0, 68.0, 270.0, 140.0, 20.0, 88.0, 42.0, 90.0, 120.0, 20.0, 30.0, 193.0, 40.0, 35.0, 36.0, 83.0, 63.0, 85.0, 51.0, 93.0, 46.0, 22.0, 48.0, 60.0, 38.0, 74.0, 42.0, 22.0, 50.0, 75.0, 39.0, 1037.0, 38.0, 29.0, 100.0, 118.0, 110.0, 45.0, 19.0, 108.0, 28.0, 206.0, 75.0, 334.0, 30.0, 31.0, 157.0, 90.0, 99.0, 97.0, 30.0, 58.0, 117.0, 102.0, 35.0, 38.0, 35.0, 250.0, 35.0, 90.0, 93.0, 96.0, 42.0, 90.0, 32.0, 167.0, 90.0, 109.0, 40.0, 30.0, 37.0, 80.0, 27.0, 110.0, 56.0, 192.0, 23.0, 32.0, 134.0, 167.0, 78.0, 81.0, 179.0, 35.0, 68.0, 79.0, 22.0, 53.0, 65.0, 56.0, 69.0, 201.0, 75.0, 86.0, 30.0, 55.0, 207.0, 36.0, 35.0, 36.0, 30.0, 25.0, 56.0, 142.0, 46.0, 32.0, 65.0, 38.0, 72.0, 55.0, 83.0, 65.0, 69.0, 48.0, 80.0, 43.0, 152.0, 30.0, 71.0, 92.0, 140.0, 55.0, 300.0, 50.0, 32.0, 173.0, 169.0, 61.0, 28.0, 140.0, 31.0, 35.0, 68.0, 167.0, 45.0, 40.0, 72.0, 191.0, 62.0, 50.0, 45.0, 64.0, 36.0, 74.0, 38.0, 24.0, 67.0, 20.0, 183.0, 45.0, 50.0, 28.0, 31.0, 40.0, 68.0, 27.0, 40.0, 75.0, 31.0, 97.0, 37.0, 100.0, 166.0, 25.0, 23.0, 65.0, 67.0, 75.0, 27.0, 25.0, 54.0, 45.0, 197.0, 32.0, 192.0, 66.0, 66.0, 96.0, 160.0, 93.0, 163.0, 31.0, 58.0, 93.0, 71.0, 48.0, 100.0, 51.0, 55.0, 21.0, 24.0, 32.0, 40.0, 66.0, 51.0, 94.0, 86.0, 244.0, 75.0, 89.0, 95.0, 87.0, 46.0, 154.0, 114.0, 30.0, 104.0, 30.0, 22.0, 32.0, 78.0, 25.0, 35.0, 63.0, 93.0, 126.0, 300.0, 67.0, 85.0, 32.0, 96.0, 175.0, 125.0, 128.0, 82.0, 50.0, 69.0]}],                        {\"barmode\": \"group\", \"template\": {\"data\": {\"bar\": [{\"error_x\": {\"color\": \"#2a3f5f\"}, \"error_y\": {\"color\": \"#2a3f5f\"}, \"marker\": {\"line\": {\"color\": \"#E5ECF6\", \"width\": 0.5}}, \"type\": \"bar\"}], \"barpolar\": [{\"marker\": {\"line\": {\"color\": \"#E5ECF6\", \"width\": 0.5}}, \"type\": \"barpolar\"}], \"carpet\": [{\"aaxis\": {\"endlinecolor\": \"#2a3f5f\", \"gridcolor\": \"white\", \"linecolor\": \"white\", \"minorgridcolor\": \"white\", \"startlinecolor\": \"#2a3f5f\"}, \"baxis\": {\"endlinecolor\": \"#2a3f5f\", \"gridcolor\": \"white\", \"linecolor\": \"white\", \"minorgridcolor\": \"white\", \"startlinecolor\": \"#2a3f5f\"}, \"type\": \"carpet\"}], \"choropleth\": [{\"colorbar\": {\"outlinewidth\": 0, \"ticks\": \"\"}, \"type\": \"choropleth\"}], \"contour\": [{\"colorbar\": {\"outlinewidth\": 0, \"ticks\": \"\"}, \"colorscale\": [[0.0, \"#0d0887\"], [0.1111111111111111, \"#46039f\"], [0.2222222222222222, \"#7201a8\"], [0.3333333333333333, \"#9c179e\"], [0.4444444444444444, \"#bd3786\"], [0.5555555555555556, \"#d8576b\"], [0.6666666666666666, \"#ed7953\"], [0.7777777777777778, \"#fb9f3a\"], [0.8888888888888888, \"#fdca26\"], [1.0, \"#f0f921\"]], \"type\": \"contour\"}], \"contourcarpet\": [{\"colorbar\": {\"outlinewidth\": 0, \"ticks\": \"\"}, \"type\": \"contourcarpet\"}], \"heatmap\": [{\"colorbar\": {\"outlinewidth\": 0, \"ticks\": \"\"}, \"colorscale\": [[0.0, \"#0d0887\"], [0.1111111111111111, \"#46039f\"], [0.2222222222222222, \"#7201a8\"], [0.3333333333333333, \"#9c179e\"], [0.4444444444444444, \"#bd3786\"], [0.5555555555555556, \"#d8576b\"], [0.6666666666666666, \"#ed7953\"], [0.7777777777777778, \"#fb9f3a\"], [0.8888888888888888, \"#fdca26\"], [1.0, \"#f0f921\"]], \"type\": \"heatmap\"}], \"heatmapgl\": [{\"colorbar\": {\"outlinewidth\": 0, \"ticks\": \"\"}, \"colorscale\": [[0.0, \"#0d0887\"], [0.1111111111111111, \"#46039f\"], [0.2222222222222222, \"#7201a8\"], [0.3333333333333333, \"#9c179e\"], [0.4444444444444444, \"#bd3786\"], [0.5555555555555556, \"#d8576b\"], [0.6666666666666666, \"#ed7953\"], [0.7777777777777778, \"#fb9f3a\"], [0.8888888888888888, \"#fdca26\"], [1.0, \"#f0f921\"]], \"type\": \"heatmapgl\"}], \"histogram\": [{\"marker\": {\"colorbar\": {\"outlinewidth\": 0, \"ticks\": \"\"}}, \"type\": \"histogram\"}], \"histogram2d\": [{\"colorbar\": {\"outlinewidth\": 0, \"ticks\": \"\"}, \"colorscale\": [[0.0, \"#0d0887\"], [0.1111111111111111, \"#46039f\"], [0.2222222222222222, \"#7201a8\"], [0.3333333333333333, \"#9c179e\"], [0.4444444444444444, \"#bd3786\"], [0.5555555555555556, \"#d8576b\"], [0.6666666666666666, \"#ed7953\"], [0.7777777777777778, \"#fb9f3a\"], [0.8888888888888888, \"#fdca26\"], [1.0, \"#f0f921\"]], \"type\": \"histogram2d\"}], \"histogram2dcontour\": [{\"colorbar\": {\"outlinewidth\": 0, \"ticks\": \"\"}, \"colorscale\": [[0.0, \"#0d0887\"], [0.1111111111111111, \"#46039f\"], [0.2222222222222222, \"#7201a8\"], [0.3333333333333333, \"#9c179e\"], [0.4444444444444444, \"#bd3786\"], [0.5555555555555556, \"#d8576b\"], [0.6666666666666666, \"#ed7953\"], [0.7777777777777778, \"#fb9f3a\"], [0.8888888888888888, \"#fdca26\"], [1.0, \"#f0f921\"]], \"type\": \"histogram2dcontour\"}], \"mesh3d\": [{\"colorbar\": {\"outlinewidth\": 0, \"ticks\": \"\"}, \"type\": \"mesh3d\"}], \"parcoords\": [{\"line\": {\"colorbar\": {\"outlinewidth\": 0, \"ticks\": \"\"}}, \"type\": \"parcoords\"}], \"pie\": [{\"automargin\": true, \"type\": \"pie\"}], \"scatter\": [{\"marker\": {\"colorbar\": {\"outlinewidth\": 0, \"ticks\": \"\"}}, \"type\": \"scatter\"}], \"scatter3d\": [{\"line\": {\"colorbar\": {\"outlinewidth\": 0, \"ticks\": \"\"}}, \"marker\": {\"colorbar\": {\"outlinewidth\": 0, \"ticks\": \"\"}}, \"type\": \"scatter3d\"}], \"scattercarpet\": [{\"marker\": {\"colorbar\": {\"outlinewidth\": 0, \"ticks\": \"\"}}, \"type\": \"scattercarpet\"}], \"scattergeo\": [{\"marker\": {\"colorbar\": {\"outlinewidth\": 0, \"ticks\": \"\"}}, \"type\": \"scattergeo\"}], \"scattergl\": [{\"marker\": {\"colorbar\": {\"outlinewidth\": 0, \"ticks\": \"\"}}, \"type\": \"scattergl\"}], \"scattermapbox\": [{\"marker\": {\"colorbar\": {\"outlinewidth\": 0, \"ticks\": \"\"}}, \"type\": \"scattermapbox\"}], \"scatterpolar\": [{\"marker\": {\"colorbar\": {\"outlinewidth\": 0, \"ticks\": \"\"}}, \"type\": \"scatterpolar\"}], \"scatterpolargl\": [{\"marker\": {\"colorbar\": {\"outlinewidth\": 0, \"ticks\": \"\"}}, \"type\": \"scatterpolargl\"}], \"scatterternary\": [{\"marker\": {\"colorbar\": {\"outlinewidth\": 0, \"ticks\": \"\"}}, \"type\": \"scatterternary\"}], \"surface\": [{\"colorbar\": {\"outlinewidth\": 0, \"ticks\": \"\"}, \"colorscale\": [[0.0, \"#0d0887\"], [0.1111111111111111, \"#46039f\"], [0.2222222222222222, \"#7201a8\"], [0.3333333333333333, \"#9c179e\"], [0.4444444444444444, \"#bd3786\"], [0.5555555555555556, \"#d8576b\"], [0.6666666666666666, \"#ed7953\"], [0.7777777777777778, \"#fb9f3a\"], [0.8888888888888888, \"#fdca26\"], [1.0, \"#f0f921\"]], \"type\": \"surface\"}], \"table\": [{\"cells\": {\"fill\": {\"color\": \"#EBF0F8\"}, \"line\": {\"color\": \"white\"}}, \"header\": {\"fill\": {\"color\": \"#C8D4E3\"}, \"line\": {\"color\": \"white\"}}, \"type\": \"table\"}]}, \"layout\": {\"annotationdefaults\": {\"arrowcolor\": \"#2a3f5f\", \"arrowhead\": 0, \"arrowwidth\": 1}, \"coloraxis\": {\"colorbar\": {\"outlinewidth\": 0, \"ticks\": \"\"}}, \"colorscale\": {\"diverging\": [[0, \"#8e0152\"], [0.1, \"#c51b7d\"], [0.2, \"#de77ae\"], [0.3, \"#f1b6da\"], [0.4, \"#fde0ef\"], [0.5, \"#f7f7f7\"], [0.6, \"#e6f5d0\"], [0.7, \"#b8e186\"], [0.8, \"#7fbc41\"], [0.9, \"#4d9221\"], [1, \"#276419\"]], \"sequential\": [[0.0, \"#0d0887\"], [0.1111111111111111, \"#46039f\"], [0.2222222222222222, \"#7201a8\"], [0.3333333333333333, \"#9c179e\"], [0.4444444444444444, \"#bd3786\"], [0.5555555555555556, \"#d8576b\"], [0.6666666666666666, \"#ed7953\"], [0.7777777777777778, \"#fb9f3a\"], [0.8888888888888888, \"#fdca26\"], [1.0, \"#f0f921\"]], \"sequentialminus\": [[0.0, \"#0d0887\"], [0.1111111111111111, \"#46039f\"], [0.2222222222222222, \"#7201a8\"], [0.3333333333333333, \"#9c179e\"], [0.4444444444444444, \"#bd3786\"], [0.5555555555555556, \"#d8576b\"], [0.6666666666666666, \"#ed7953\"], [0.7777777777777778, \"#fb9f3a\"], [0.8888888888888888, \"#fdca26\"], [1.0, \"#f0f921\"]]}, \"colorway\": [\"#636efa\", \"#EF553B\", \"#00cc96\", \"#ab63fa\", \"#FFA15A\", \"#19d3f3\", \"#FF6692\", \"#B6E880\", \"#FF97FF\", \"#FECB52\"], \"font\": {\"color\": \"#2a3f5f\"}, \"geo\": {\"bgcolor\": \"white\", \"lakecolor\": \"white\", \"landcolor\": \"#E5ECF6\", \"showlakes\": true, \"showland\": true, \"subunitcolor\": \"white\"}, \"hoverlabel\": {\"align\": \"left\"}, \"hovermode\": \"closest\", \"mapbox\": {\"style\": \"light\"}, \"paper_bgcolor\": \"white\", \"plot_bgcolor\": \"#E5ECF6\", \"polar\": {\"angularaxis\": {\"gridcolor\": \"white\", \"linecolor\": \"white\", \"ticks\": \"\"}, \"bgcolor\": \"#E5ECF6\", \"radialaxis\": {\"gridcolor\": \"white\", \"linecolor\": \"white\", \"ticks\": \"\"}}, \"scene\": {\"xaxis\": {\"backgroundcolor\": \"#E5ECF6\", \"gridcolor\": \"white\", \"gridwidth\": 2, \"linecolor\": \"white\", \"showbackground\": true, \"ticks\": \"\", \"zerolinecolor\": \"white\"}, \"yaxis\": {\"backgroundcolor\": \"#E5ECF6\", \"gridcolor\": \"white\", \"gridwidth\": 2, \"linecolor\": \"white\", \"showbackground\": true, \"ticks\": \"\", \"zerolinecolor\": \"white\"}, \"zaxis\": {\"backgroundcolor\": \"#E5ECF6\", \"gridcolor\": \"white\", \"gridwidth\": 2, \"linecolor\": \"white\", \"showbackground\": true, \"ticks\": \"\", \"zerolinecolor\": \"white\"}}, \"shapedefaults\": {\"line\": {\"color\": \"#2a3f5f\"}}, \"ternary\": {\"aaxis\": {\"gridcolor\": \"white\", \"linecolor\": \"white\", \"ticks\": \"\"}, \"baxis\": {\"gridcolor\": \"white\", \"linecolor\": \"white\", \"ticks\": \"\"}, \"bgcolor\": \"#E5ECF6\", \"caxis\": {\"gridcolor\": \"white\", \"linecolor\": \"white\", \"ticks\": \"\"}}, \"title\": {\"x\": 0.05}, \"xaxis\": {\"automargin\": true, \"gridcolor\": \"white\", \"linecolor\": \"white\", \"ticks\": \"\", \"title\": {\"standoff\": 15}, \"zerolinecolor\": \"white\", \"zerolinewidth\": 2}, \"yaxis\": {\"automargin\": true, \"gridcolor\": \"white\", \"linecolor\": \"white\", \"ticks\": \"\", \"title\": {\"standoff\": 15}, \"zerolinecolor\": \"white\", \"zerolinewidth\": 2}}}, \"title\": {\"text\": \"Bristol - XGBoost price predictions\"}, \"xaxis\": {\"title\": {\"text\": \"Index\"}}, \"yaxis\": {\"title\": {\"text\": \"Price\"}}},                        {\"responsive\": true}                    ).then(function(){\n",
       "                            \n",
       "var gd = document.getElementById('1c78dbaf-50f6-40d0-be31-20360a6e9767');\n",
       "var x = new MutationObserver(function (mutations, observer) {{\n",
       "        var display = window.getComputedStyle(gd).display;\n",
       "        if (!display || display === 'none') {{\n",
       "            console.log([gd, 'removed!']);\n",
       "            Plotly.purge(gd);\n",
       "            observer.disconnect();\n",
       "        }}\n",
       "}});\n",
       "\n",
       "// Listen for the removal of the full notebook cells\n",
       "var notebookContainer = gd.closest('#notebook-container');\n",
       "if (notebookContainer) {{\n",
       "    x.observe(notebookContainer, {childList: true});\n",
       "}}\n",
       "\n",
       "// Listen for the clearing of the current output cell\n",
       "var outputEl = gd.closest('.output');\n",
       "if (outputEl) {{\n",
       "    x.observe(outputEl, {childList: true});\n",
       "}}\n",
       "\n",
       "                        })                };                });            </script>        </div>"
      ]
     },
     "metadata": {},
     "output_type": "display_data"
    }
   ],
   "source": [
    "error_diff = pd.DataFrame({'Actual Values': np.array(y_test).flatten(), 'Predicted Values': predictions.flatten()})\n",
    "error_diff1 = error_diff.head(20)\n",
    "error_diff1\n",
    "title=['Pred vs Actual']\n",
    "fig = go.Figure(data=[\n",
    "    go.Bar(name='Predicted', x=error_diff1.index, y=error_diff['Predicted Values']),\n",
    "    go.Bar(name='Actual', x=error_diff1.index, y=error_diff['Actual Values'])\n",
    "])\n",
    "\n",
    "fig.update_layout(barmode='group', title=\"Bristol - XGBoost price predictions\", yaxis = dict(title =\"Price\"), xaxis =dict(title=\"Index\"))\n",
    "fig.show()"
   ]
  },
  {
   "cell_type": "code",
   "execution_count": 62,
   "metadata": {},
   "outputs": [
    {
     "data": {
      "image/png": "[encoded data removed]",
      "text/plain": [
       "<Figure size 1152x576 with 1 Axes>"
      ]
     },
     "metadata": {
      "needs_background": "light"
     },
     "output_type": "display_data"
    }
   ],
   "source": [
    "plt.figure(figsize=(16,8))\n",
    "sns.regplot(predictions,y_test)\n",
    "plt.xlabel('Predictions')\n",
    "plt.ylabel('Actual')\n",
    "plt.title(\"Bristol - XGBoost price predictions\")\n",
    "plt.show()"
   ]
  },
  {
   "cell_type": "code",
   "execution_count": null,
   "metadata": {},
   "outputs": [],
   "source": []
  },
  {
   "cell_type": "code",
   "execution_count": 63,
   "metadata": {},
   "outputs": [],
   "source": [
    "#gboost rating predictions\n",
    "X = result.drop(['review_scores_rating'],axis = 1)\n",
    "y = result['review_scores_rating']\n",
    "X_train_r, X_test_r, y_train_r, y_test_r = train_test_split(X, y, test_size=0.2, random_state=101)"
   ]
  },
  {
   "cell_type": "code",
   "execution_count": 64,
   "metadata": {},
   "outputs": [],
   "source": [
    "GBoost = GradientBoostingRegressor(n_estimators=3000, learning_rate=0.01)\n",
    "GBoost.fit(X_train_r,y_train_r)\n",
    "predictions_r = GBoost.predict(X_test_r)"
   ]
  },
  {
   "cell_type": "code",
   "execution_count": 65,
   "metadata": {},
   "outputs": [
    {
     "name": "stdout",
     "output_type": "stream",
     "text": [
      "MAE: 2.099152005947384\n",
      "MSE: 10.863843283584734\n",
      "RMSE: 3.2960344785188056\n"
     ]
    }
   ],
   "source": [
    "print('MAE:', metrics.mean_absolute_error(y_test_r, predictions_r))\n",
    "print('MSE:', metrics.mean_squared_error(y_test_r, predictions_r))\n",
    "print('RMSE:', np.sqrt(metrics.mean_squared_error(y_test_r, predictions_r)))"
   ]
  },
  {
   "cell_type": "code",
   "execution_count": 66,
   "metadata": {},
   "outputs": [
    {
     "data": {
      "text/html": [
       "<div>\n",
       "<style scoped>\n",
       "    .dataframe tbody tr th:only-of-type {\n",
       "        vertical-align: middle;\n",
       "    }\n",
       "\n",
       "    .dataframe tbody tr th {\n",
       "        vertical-align: top;\n",
       "    }\n",
       "\n",
       "    .dataframe thead th {\n",
       "        text-align: right;\n",
       "    }\n",
       "</style>\n",
       "<table border=\"1\" class=\"dataframe\">\n",
       "  <thead>\n",
       "    <tr style=\"text-align: right;\">\n",
       "      <th></th>\n",
       "      <th>Actual Values</th>\n",
       "      <th>Predicted Values</th>\n",
       "    </tr>\n",
       "  </thead>\n",
       "  <tbody>\n",
       "    <tr>\n",
       "      <th>0</th>\n",
       "      <td>99.0</td>\n",
       "      <td>96.367200</td>\n",
       "    </tr>\n",
       "    <tr>\n",
       "      <th>1</th>\n",
       "      <td>97.0</td>\n",
       "      <td>97.326512</td>\n",
       "    </tr>\n",
       "    <tr>\n",
       "      <th>2</th>\n",
       "      <td>99.0</td>\n",
       "      <td>98.000176</td>\n",
       "    </tr>\n",
       "    <tr>\n",
       "      <th>3</th>\n",
       "      <td>95.0</td>\n",
       "      <td>90.279071</td>\n",
       "    </tr>\n",
       "    <tr>\n",
       "      <th>4</th>\n",
       "      <td>96.0</td>\n",
       "      <td>92.606431</td>\n",
       "    </tr>\n",
       "    <tr>\n",
       "      <th>5</th>\n",
       "      <td>78.0</td>\n",
       "      <td>69.215962</td>\n",
       "    </tr>\n",
       "    <tr>\n",
       "      <th>6</th>\n",
       "      <td>99.0</td>\n",
       "      <td>99.156427</td>\n",
       "    </tr>\n",
       "    <tr>\n",
       "      <th>7</th>\n",
       "      <td>96.0</td>\n",
       "      <td>97.590061</td>\n",
       "    </tr>\n",
       "    <tr>\n",
       "      <th>8</th>\n",
       "      <td>90.0</td>\n",
       "      <td>93.997637</td>\n",
       "    </tr>\n",
       "    <tr>\n",
       "      <th>9</th>\n",
       "      <td>100.0</td>\n",
       "      <td>97.852460</td>\n",
       "    </tr>\n",
       "    <tr>\n",
       "      <th>10</th>\n",
       "      <td>99.0</td>\n",
       "      <td>97.096049</td>\n",
       "    </tr>\n",
       "    <tr>\n",
       "      <th>11</th>\n",
       "      <td>86.0</td>\n",
       "      <td>86.804695</td>\n",
       "    </tr>\n",
       "    <tr>\n",
       "      <th>12</th>\n",
       "      <td>97.0</td>\n",
       "      <td>96.258093</td>\n",
       "    </tr>\n",
       "    <tr>\n",
       "      <th>13</th>\n",
       "      <td>85.0</td>\n",
       "      <td>96.654216</td>\n",
       "    </tr>\n",
       "    <tr>\n",
       "      <th>14</th>\n",
       "      <td>97.0</td>\n",
       "      <td>96.791460</td>\n",
       "    </tr>\n",
       "    <tr>\n",
       "      <th>15</th>\n",
       "      <td>100.0</td>\n",
       "      <td>99.348891</td>\n",
       "    </tr>\n",
       "    <tr>\n",
       "      <th>16</th>\n",
       "      <td>96.0</td>\n",
       "      <td>93.505795</td>\n",
       "    </tr>\n",
       "    <tr>\n",
       "      <th>17</th>\n",
       "      <td>95.0</td>\n",
       "      <td>96.997939</td>\n",
       "    </tr>\n",
       "    <tr>\n",
       "      <th>18</th>\n",
       "      <td>99.0</td>\n",
       "      <td>97.938141</td>\n",
       "    </tr>\n",
       "    <tr>\n",
       "      <th>19</th>\n",
       "      <td>97.0</td>\n",
       "      <td>98.140866</td>\n",
       "    </tr>\n",
       "  </tbody>\n",
       "</table>\n",
       "</div>"
      ],
      "text/plain": [
       "    Actual Values  Predicted Values\n",
       "0            99.0         96.367200\n",
       "1            97.0         97.326512\n",
       "2            99.0         98.000176\n",
       "3            95.0         90.279071\n",
       "4            96.0         92.606431\n",
       "5            78.0         69.215962\n",
       "6            99.0         99.156427\n",
       "7            96.0         97.590061\n",
       "8            90.0         93.997637\n",
       "9           100.0         97.852460\n",
       "10           99.0         97.096049\n",
       "11           86.0         86.804695\n",
       "12           97.0         96.258093\n",
       "13           85.0         96.654216\n",
       "14           97.0         96.791460\n",
       "15          100.0         99.348891\n",
       "16           96.0         93.505795\n",
       "17           95.0         96.997939\n",
       "18           99.0         97.938141\n",
       "19           97.0         98.140866"
      ]
     },
     "execution_count": 66,
     "metadata": {},
     "output_type": "execute_result"
    }
   ],
   "source": [
    "error_diff = pd.DataFrame({'Actual Values': np.array(y_test_r).flatten(), 'Predicted Values': predictions_r.flatten()})\n",
    "error_diff1 = error_diff.head(20)\n",
    "error_diff1"
   ]
  },
  {
   "cell_type": "code",
   "execution_count": 73,
   "metadata": {},
   "outputs": [
    {
     "data": {
      "application/vnd.plotly.v1+json": {
       "config": {
        "plotlyServerURL": "https://plot.ly"
       },
       "data": [
        {
         "name": "Predicted",
         "type": "bar",
         "x": [
          0,
          1,
          2,
          3,
          4,
          5,
          6,
          7,
          8,
          9,
          10,
          11,
          12,
          13,
          14,
          15,
          16,
          17,
          18,
          19
         ],
         "y": [
          96.36719997110401,
          97.32651150425089,
          98.00017603166299,
          90.27907103248211,
          92.6064309865567,
          69.21596186697668,
          99.15642669322585,
          97.5900610278838,
          93.99763673208146,
          97.85245987470545,
          97.0960487038122,
          86.80469495313952,
          96.25809297801386,
          96.65421560704452,
          96.79145978072955,
          99.34889102512494,
          93.50579549622832,
          96.99793873891885,
          97.93814051422935,
          98.14086589703584,
          97.72314728209388,
          90.28696672989,
          97.95193978469673,
          99.12665950117074,
          84.82715797160581,
          97.27088257974097,
          93.16738229101108,
          96.5056542878193,
          97.85063436563722,
          97.2425724122785,
          94.23265844935463,
          97.44847285658189,
          97.86835123654238,
          96.59547901959841,
          96.4275850285408,
          99.77371190380713,
          89.21553658028448,
          95.36745871387305,
          97.83385208714135,
          98.06227120116155,
          98.59274052135224,
          97.65066126479849,
          98.34649406402288,
          98.02873351886207,
          99.80865370197355,
          95.5326628142838,
          86.38398545013139,
          83.2324626276762,
          96.10986226059951,
          94.54222145148876,
          96.62395588970989,
          95.63071870045765,
          95.00987590499618,
          96.96483690745467,
          96.23256831468369,
          94.62189878104171,
          98.86945189865284,
          95.19835004323221,
          99.58972396415902,
          96.11309559198293,
          85.0409129064479,
          96.97652908312523,
          92.02325830009595,
          99.75057738050373,
          100.53163260809765,
          96.09630147010553,
          86.7317724390642,
          98.26317867904244,
          99.63531166993272,
          95.5860888964425,
          96.36806700982392,
          94.36465667417927,
          89.87077434535013,
          92.4554160723172,
          93.50053008843422,
          95.95769281448719,
          93.89300346514186,
          94.83225115796807,
          99.13166532666153,
          96.98349072133756,
          99.37372721123235,
          73.67287178784244,
          58.86363832835059,
          96.65577025851852,
          89.5343419386933,
          97.13079970811329,
          90.10153510639965,
          99.40522758850649,
          89.60180097953908,
          97.16318809474909,
          97.00781806354378,
          98.90432937641314,
          98.4009108066315,
          85.2725186643459,
          97.80837622965097,
          95.12631610922843,
          89.29269957144157,
          93.29971885939061,
          96.82695143375778,
          96.71893807610743,
          97.8180427530838,
          96.66167875467328,
          98.8382101196416,
          93.7772179510868,
          99.87696515777294,
          89.4345748784535,
          77.0019467887511,
          95.30126165090708,
          98.1079749698355,
          95.59475138814821,
          84.40062261906091,
          98.54031250162112,
          98.25146617239326,
          97.63531259892825,
          95.69693362315672,
          97.98657548330664,
          98.9869464963775,
          63.438400333765216,
          98.68406207814975,
          84.5182300825315,
          96.53854659570794,
          93.07561838780734,
          100.19453342353566,
          86.15517785882278,
          101.00877275552216,
          97.10450212538564,
          96.39140071872846,
          100.19087035568755,
          97.0592956252864,
          93.7465617907054,
          97.96326981381672,
          91.01170208344641,
          92.11280130899671,
          91.53361386547557,
          97.3247984835666,
          98.4294506487253,
          98.31461559208324,
          97.42999222949419,
          97.98874546401007,
          59.2977905971569,
          92.80273127479246,
          95.77307868483955,
          96.99840931464746,
          98.22827727691696,
          94.5600730822454,
          98.24243526691912,
          69.57373445067898,
          85.49818762994671,
          97.92258557963382,
          98.62561629616603,
          100.34223525164242,
          90.57912778423169,
          97.60256783791498,
          89.47242559041469,
          45.048779024642975,
          86.23812511619938,
          100.50467835877741,
          97.92406684036666,
          95.50249771600821,
          91.44374727564231,
          97.66562413944904,
          99.88285180575888,
          92.58731873044827,
          100.73327432018083,
          93.20812646575776,
          96.44395940743028,
          97.14841971667654,
          80.0808049695496,
          90.87899197327748,
          86.93913643621653,
          93.32675542505243,
          96.49137551863919,
          98.91325342188456,
          88.451098192254,
          99.22112287573248,
          98.19392767412998,
          99.10351665687222,
          97.79510888258407,
          93.79660474393528,
          88.74554755576064,
          81.04581675249072,
          98.98362851730703,
          91.57220057898934,
          85.77030812725025,
          97.05190283806347,
          95.19605072230412,
          92.90949730234631,
          90.75363469377629,
          98.4588463437931,
          97.39910803676445,
          98.69304419849338,
          94.95839178803077,
          97.0538292912919,
          89.31538789439774,
          100.60537610614377,
          92.6465726740614,
          98.5401556162061,
          93.36873444041194,
          86.76200551580956,
          97.40267468339799,
          92.5779902236801,
          98.72575714984205,
          96.83222817026572,
          95.31426606841383,
          79.48121406203562,
          97.07551071310151,
          96.4925524980474,
          95.65078244670848,
          95.69996140325533,
          98.94069328731594,
          99.23390889628135,
          91.86326292965256,
          97.24578247932263,
          91.56219568802265,
          88.38611870148434,
          96.59706610446482,
          98.96762828759513,
          90.49842591967295,
          90.66691143332676,
          97.04603201448617,
          98.0375644921365,
          89.78228793656658,
          95.33691868105065,
          96.85816385507844,
          95.57233924634028,
          96.73072220773638,
          100.2402253729138,
          92.95114316282661,
          96.87914069631961,
          96.88315380523868,
          94.540372534569,
          97.56669464086161,
          100.90267499804267,
          95.7721846618475,
          90.16195068597983,
          89.65057818764892,
          99.84079673419203,
          97.9586911036523,
          89.1114449479443,
          98.63676005089175,
          97.39583587290723,
          98.81619359042986,
          100.3781172236701,
          94.21850693619626,
          93.82435452353407,
          98.99890544716354,
          98.57378417943566,
          97.6170875675287
         ]
        },
        {
         "name": "Actual",
         "type": "bar",
         "x": [
          0,
          1,
          2,
          3,
          4,
          5,
          6,
          7,
          8,
          9,
          10,
          11,
          12,
          13,
          14,
          15,
          16,
          17,
          18,
          19
         ],
         "y": [
          99,
          97,
          99,
          95,
          96,
          78,
          99,
          96,
          90,
          100,
          99,
          86,
          97,
          85,
          97,
          100,
          96,
          95,
          99,
          97,
          99,
          88,
          98,
          94,
          82,
          100,
          94,
          92,
          98,
          96,
          93,
          98,
          100,
          95,
          94,
          100,
          86,
          94,
          95,
          98,
          100,
          99,
          98,
          97,
          99,
          95,
          84,
          86,
          96,
          93,
          90,
          96,
          100,
          97,
          95,
          93,
          100,
          95,
          100,
          96,
          80,
          97,
          95,
          100,
          100,
          96,
          86,
          97,
          100,
          98,
          95,
          94,
          93,
          89,
          92,
          93,
          92,
          93,
          99,
          100,
          100,
          67,
          50,
          93,
          93,
          98,
          93,
          100,
          90,
          96,
          97,
          98,
          100,
          83,
          97,
          93,
          90,
          93,
          100,
          98,
          98,
          100,
          100,
          92,
          100,
          84,
          80,
          99,
          100,
          96,
          87,
          97,
          100,
          100,
          96,
          99,
          100,
          70,
          100,
          87,
          100,
          95,
          100,
          89,
          100,
          97,
          96,
          100,
          99,
          90,
          98,
          90,
          96,
          91,
          100,
          99,
          100,
          100,
          98,
          80,
          93,
          93,
          97,
          100,
          96,
          100,
          50,
          90,
          100,
          100,
          100,
          88,
          99,
          89,
          57,
          89,
          100,
          98,
          100,
          88,
          98,
          96,
          92,
          100,
          93,
          96,
          93,
          84,
          89,
          80,
          94,
          93,
          99,
          89,
          96,
          98,
          98,
          100,
          97,
          88,
          70,
          98,
          96,
          80,
          97,
          93,
          96,
          92,
          98,
          96,
          100,
          92,
          100,
          90,
          100,
          92,
          93,
          92,
          80,
          100,
          92,
          100,
          98,
          91,
          82,
          98,
          100,
          96,
          94,
          93,
          100,
          95,
          97,
          89,
          90,
          97,
          100,
          94,
          91,
          96,
          96,
          89,
          99,
          98,
          94,
          96,
          100,
          90,
          96,
          94,
          96,
          98,
          100,
          93,
          91,
          91,
          95,
          97,
          89,
          98,
          95,
          100,
          100,
          96,
          95,
          99,
          98,
          95
         ]
        }
       ],
       "layout": {
        "barmode": "group",
        "template": {
         "data": {
          "bar": [
           {
            "error_x": {
             "color": "#2a3f5f"
            },
            "error_y": {
             "color": "#2a3f5f"
            },
            "marker": {
             "line": {
              "color": "#E5ECF6",
              "width": 0.5
             }
            },
            "type": "bar"
           }
          ],
          "barpolar": [
           {
            "marker": {
             "line": {
              "color": "#E5ECF6",
              "width": 0.5
             }
            },
            "type": "barpolar"
           }
          ],
          "carpet": [
           {
            "aaxis": {
             "endlinecolor": "#2a3f5f",
             "gridcolor": "white",
             "linecolor": "white",
             "minorgridcolor": "white",
             "startlinecolor": "#2a3f5f"
            },
            "baxis": {
             "endlinecolor": "#2a3f5f",
             "gridcolor": "white",
             "linecolor": "white",
             "minorgridcolor": "white",
             "startlinecolor": "#2a3f5f"
            },
            "type": "carpet"
           }
          ],
          "choropleth": [
           {
            "colorbar": {
             "outlinewidth": 0,
             "ticks": ""
            },
            "type": "choropleth"
           }
          ],
          "contour": [
           {
            "colorbar": {
             "outlinewidth": 0,
             "ticks": ""
            },
            "colorscale": [
             [
              0,
              "#0d0887"
             ],
             [
              0.1111111111111111,
              "#46039f"
             ],
             [
              0.2222222222222222,
              "#7201a8"
             ],
             [
              0.3333333333333333,
              "#9c179e"
             ],
             [
              0.4444444444444444,
              "#bd3786"
             ],
             [
              0.5555555555555556,
              "#d8576b"
             ],
             [
              0.6666666666666666,
              "#ed7953"
             ],
             [
              0.7777777777777778,
              "#fb9f3a"
             ],
             [
              0.8888888888888888,
              "#fdca26"
             ],
             [
              1,
              "#f0f921"
             ]
            ],
            "type": "contour"
           }
          ],
          "contourcarpet": [
           {
            "colorbar": {
             "outlinewidth": 0,
             "ticks": ""
            },
            "type": "contourcarpet"
           }
          ],
          "heatmap": [
           {
            "colorbar": {
             "outlinewidth": 0,
             "ticks": ""
            },
            "colorscale": [
             [
              0,
              "#0d0887"
             ],
             [
              0.1111111111111111,
              "#46039f"
             ],
             [
              0.2222222222222222,
              "#7201a8"
             ],
             [
              0.3333333333333333,
              "#9c179e"
             ],
             [
              0.4444444444444444,
              "#bd3786"
             ],
             [
              0.5555555555555556,
              "#d8576b"
             ],
             [
              0.6666666666666666,
              "#ed7953"
             ],
             [
              0.7777777777777778,
              "#fb9f3a"
             ],
             [
              0.8888888888888888,
              "#fdca26"
             ],
             [
              1,
              "#f0f921"
             ]
            ],
            "type": "heatmap"
           }
          ],
          "heatmapgl": [
           {
            "colorbar": {
             "outlinewidth": 0,
             "ticks": ""
            },
            "colorscale": [
             [
              0,
              "#0d0887"
             ],
             [
              0.1111111111111111,
              "#46039f"
             ],
             [
              0.2222222222222222,
              "#7201a8"
             ],
             [
              0.3333333333333333,
              "#9c179e"
             ],
             [
              0.4444444444444444,
              "#bd3786"
             ],
             [
              0.5555555555555556,
              "#d8576b"
             ],
             [
              0.6666666666666666,
              "#ed7953"
             ],
             [
              0.7777777777777778,
              "#fb9f3a"
             ],
             [
              0.8888888888888888,
              "#fdca26"
             ],
             [
              1,
              "#f0f921"
             ]
            ],
            "type": "heatmapgl"
           }
          ],
          "histogram": [
           {
            "marker": {
             "colorbar": {
              "outlinewidth": 0,
              "ticks": ""
             }
            },
            "type": "histogram"
           }
          ],
          "histogram2d": [
           {
            "colorbar": {
             "outlinewidth": 0,
             "ticks": ""
            },
            "colorscale": [
             [
              0,
              "#0d0887"
             ],
             [
              0.1111111111111111,
              "#46039f"
             ],
             [
              0.2222222222222222,
              "#7201a8"
             ],
             [
              0.3333333333333333,
              "#9c179e"
             ],
             [
              0.4444444444444444,
              "#bd3786"
             ],
             [
              0.5555555555555556,
              "#d8576b"
             ],
             [
              0.6666666666666666,
              "#ed7953"
             ],
             [
              0.7777777777777778,
              "#fb9f3a"
             ],
             [
              0.8888888888888888,
              "#fdca26"
             ],
             [
              1,
              "#f0f921"
             ]
            ],
            "type": "histogram2d"
           }
          ],
          "histogram2dcontour": [
           {
            "colorbar": {
             "outlinewidth": 0,
             "ticks": ""
            },
            "colorscale": [
             [
              0,
              "#0d0887"
             ],
             [
              0.1111111111111111,
              "#46039f"
             ],
             [
              0.2222222222222222,
              "#7201a8"
             ],
             [
              0.3333333333333333,
              "#9c179e"
             ],
             [
              0.4444444444444444,
              "#bd3786"
             ],
             [
              0.5555555555555556,
              "#d8576b"
             ],
             [
              0.6666666666666666,
              "#ed7953"
             ],
             [
              0.7777777777777778,
              "#fb9f3a"
             ],
             [
              0.8888888888888888,
              "#fdca26"
             ],
             [
              1,
              "#f0f921"
             ]
            ],
            "type": "histogram2dcontour"
           }
          ],
          "mesh3d": [
           {
            "colorbar": {
             "outlinewidth": 0,
             "ticks": ""
            },
            "type": "mesh3d"
           }
          ],
          "parcoords": [
           {
            "line": {
             "colorbar": {
              "outlinewidth": 0,
              "ticks": ""
             }
            },
            "type": "parcoords"
           }
          ],
          "pie": [
           {
            "automargin": true,
            "type": "pie"
           }
          ],
          "scatter": [
           {
            "marker": {
             "colorbar": {
              "outlinewidth": 0,
              "ticks": ""
             }
            },
            "type": "scatter"
           }
          ],
          "scatter3d": [
           {
            "line": {
             "colorbar": {
              "outlinewidth": 0,
              "ticks": ""
             }
            },
            "marker": {
             "colorbar": {
              "outlinewidth": 0,
              "ticks": ""
             }
            },
            "type": "scatter3d"
           }
          ],
          "scattercarpet": [
           {
            "marker": {
             "colorbar": {
              "outlinewidth": 0,
              "ticks": ""
             }
            },
            "type": "scattercarpet"
           }
          ],
          "scattergeo": [
           {
            "marker": {
             "colorbar": {
              "outlinewidth": 0,
              "ticks": ""
             }
            },
            "type": "scattergeo"
           }
          ],
          "scattergl": [
           {
            "marker": {
             "colorbar": {
              "outlinewidth": 0,
              "ticks": ""
             }
            },
            "type": "scattergl"
           }
          ],
          "scattermapbox": [
           {
            "marker": {
             "colorbar": {
              "outlinewidth": 0,
              "ticks": ""
             }
            },
            "type": "scattermapbox"
           }
          ],
          "scatterpolar": [
           {
            "marker": {
             "colorbar": {
              "outlinewidth": 0,
              "ticks": ""
             }
            },
            "type": "scatterpolar"
           }
          ],
          "scatterpolargl": [
           {
            "marker": {
             "colorbar": {
              "outlinewidth": 0,
              "ticks": ""
             }
            },
            "type": "scatterpolargl"
           }
          ],
          "scatterternary": [
           {
            "marker": {
             "colorbar": {
              "outlinewidth": 0,
              "ticks": ""
             }
            },
            "type": "scatterternary"
           }
          ],
          "surface": [
           {
            "colorbar": {
             "outlinewidth": 0,
             "ticks": ""
            },
            "colorscale": [
             [
              0,
              "#0d0887"
             ],
             [
              0.1111111111111111,
              "#46039f"
             ],
             [
              0.2222222222222222,
              "#7201a8"
             ],
             [
              0.3333333333333333,
              "#9c179e"
             ],
             [
              0.4444444444444444,
              "#bd3786"
             ],
             [
              0.5555555555555556,
              "#d8576b"
             ],
             [
              0.6666666666666666,
              "#ed7953"
             ],
             [
              0.7777777777777778,
              "#fb9f3a"
             ],
             [
              0.8888888888888888,
              "#fdca26"
             ],
             [
              1,
              "#f0f921"
             ]
            ],
            "type": "surface"
           }
          ],
          "table": [
           {
            "cells": {
             "fill": {
              "color": "#EBF0F8"
             },
             "line": {
              "color": "white"
             }
            },
            "header": {
             "fill": {
              "color": "#C8D4E3"
             },
             "line": {
              "color": "white"
             }
            },
            "type": "table"
           }
          ]
         },
         "layout": {
          "annotationdefaults": {
           "arrowcolor": "#2a3f5f",
           "arrowhead": 0,
           "arrowwidth": 1
          },
          "coloraxis": {
           "colorbar": {
            "outlinewidth": 0,
            "ticks": ""
           }
          },
          "colorscale": {
           "diverging": [
            [
             0,
             "#8e0152"
            ],
            [
             0.1,
             "#c51b7d"
            ],
            [
             0.2,
             "#de77ae"
            ],
            [
             0.3,
             "#f1b6da"
            ],
            [
             0.4,
             "#fde0ef"
            ],
            [
             0.5,
             "#f7f7f7"
            ],
            [
             0.6,
             "#e6f5d0"
            ],
            [
             0.7,
             "#b8e186"
            ],
            [
             0.8,
             "#7fbc41"
            ],
            [
             0.9,
             "#4d9221"
            ],
            [
             1,
             "#276419"
            ]
           ],
           "sequential": [
            [
             0,
             "#0d0887"
            ],
            [
             0.1111111111111111,
             "#46039f"
            ],
            [
             0.2222222222222222,
             "#7201a8"
            ],
            [
             0.3333333333333333,
             "#9c179e"
            ],
            [
             0.4444444444444444,
             "#bd3786"
            ],
            [
             0.5555555555555556,
             "#d8576b"
            ],
            [
             0.6666666666666666,
             "#ed7953"
            ],
            [
             0.7777777777777778,
             "#fb9f3a"
            ],
            [
             0.8888888888888888,
             "#fdca26"
            ],
            [
             1,
             "#f0f921"
            ]
           ],
           "sequentialminus": [
            [
             0,
             "#0d0887"
            ],
            [
             0.1111111111111111,
             "#46039f"
            ],
            [
             0.2222222222222222,
             "#7201a8"
            ],
            [
             0.3333333333333333,
             "#9c179e"
            ],
            [
             0.4444444444444444,
             "#bd3786"
            ],
            [
             0.5555555555555556,
             "#d8576b"
            ],
            [
             0.6666666666666666,
             "#ed7953"
            ],
            [
             0.7777777777777778,
             "#fb9f3a"
            ],
            [
             0.8888888888888888,
             "#fdca26"
            ],
            [
             1,
             "#f0f921"
            ]
           ]
          },
          "colorway": [
           "#636efa",
           "#EF553B",
           "#00cc96",
           "#ab63fa",
           "#FFA15A",
           "#19d3f3",
           "#FF6692",
           "#B6E880",
           "#FF97FF",
           "#FECB52"
          ],
          "font": {
           "color": "#2a3f5f"
          },
          "geo": {
           "bgcolor": "white",
           "lakecolor": "white",
           "landcolor": "#E5ECF6",
           "showlakes": true,
           "showland": true,
           "subunitcolor": "white"
          },
          "hoverlabel": {
           "align": "left"
          },
          "hovermode": "closest",
          "mapbox": {
           "style": "light"
          },
          "paper_bgcolor": "white",
          "plot_bgcolor": "#E5ECF6",
          "polar": {
           "angularaxis": {
            "gridcolor": "white",
            "linecolor": "white",
            "ticks": ""
           },
           "bgcolor": "#E5ECF6",
           "radialaxis": {
            "gridcolor": "white",
            "linecolor": "white",
            "ticks": ""
           }
          },
          "scene": {
           "xaxis": {
            "backgroundcolor": "#E5ECF6",
            "gridcolor": "white",
            "gridwidth": 2,
            "linecolor": "white",
            "showbackground": true,
            "ticks": "",
            "zerolinecolor": "white"
           },
           "yaxis": {
            "backgroundcolor": "#E5ECF6",
            "gridcolor": "white",
            "gridwidth": 2,
            "linecolor": "white",
            "showbackground": true,
            "ticks": "",
            "zerolinecolor": "white"
           },
           "zaxis": {
            "backgroundcolor": "#E5ECF6",
            "gridcolor": "white",
            "gridwidth": 2,
            "linecolor": "white",
            "showbackground": true,
            "ticks": "",
            "zerolinecolor": "white"
           }
          },
          "shapedefaults": {
           "line": {
            "color": "#2a3f5f"
           }
          },
          "ternary": {
           "aaxis": {
            "gridcolor": "white",
            "linecolor": "white",
            "ticks": ""
           },
           "baxis": {
            "gridcolor": "white",
            "linecolor": "white",
            "ticks": ""
           },
           "bgcolor": "#E5ECF6",
           "caxis": {
            "gridcolor": "white",
            "linecolor": "white",
            "ticks": ""
           }
          },
          "title": {
           "x": 0.05
          },
          "xaxis": {
           "automargin": true,
           "gridcolor": "white",
           "linecolor": "white",
           "ticks": "",
           "title": {
            "standoff": 15
           },
           "zerolinecolor": "white",
           "zerolinewidth": 2
          },
          "yaxis": {
           "automargin": true,
           "gridcolor": "white",
           "linecolor": "white",
           "ticks": "",
           "title": {
            "standoff": 15
           },
           "zerolinecolor": "white",
           "zerolinewidth": 2
          }
         }
        },
        "title": {
         "text": "Bristol - Gradient Boosting rating predictions"
        },
        "xaxis": {
         "title": {
          "text": "Index"
         }
        },
        "yaxis": {
         "title": {
          "text": "Rating"
         }
        }
       }
      },
      "text/html": [
       "<div>                            <div id=\"cd43266f-5663-4f01-a0f3-3f7b1dba7bf3\" class=\"plotly-graph-div\" style=\"height:525px; width:100%;\"></div>            <script type=\"text/javascript\">                require([\"plotly\"], function(Plotly) {                    window.PLOTLYENV=window.PLOTLYENV || {};                                    if (document.getElementById(\"cd43266f-5663-4f01-a0f3-3f7b1dba7bf3\")) {                    Plotly.newPlot(                        \"cd43266f-5663-4f01-a0f3-3f7b1dba7bf3\",                        [{\"name\": \"Predicted\", \"type\": \"bar\", \"x\": [0, 1, 2, 3, 4, 5, 6, 7, 8, 9, 10, 11, 12, 13, 14, 15, 16, 17, 18, 19], \"y\": [96.36719997110401, 97.32651150425089, 98.00017603166299, 90.27907103248211, 92.6064309865567, 69.21596186697668, 99.15642669322585, 97.5900610278838, 93.99763673208146, 97.85245987470545, 97.0960487038122, 86.80469495313952, 96.25809297801386, 96.65421560704452, 96.79145978072955, 99.34889102512494, 93.50579549622832, 96.99793873891885, 97.93814051422935, 98.14086589703584, 97.72314728209388, 90.28696672989, 97.95193978469673, 99.12665950117074, 84.82715797160581, 97.27088257974097, 93.16738229101108, 96.5056542878193, 97.85063436563722, 97.2425724122785, 94.23265844935463, 97.44847285658189, 97.86835123654238, 96.59547901959841, 96.4275850285408, 99.77371190380713, 89.21553658028448, 95.36745871387305, 97.83385208714135, 98.06227120116155, 98.59274052135224, 97.65066126479849, 98.34649406402288, 98.02873351886207, 99.80865370197355, 95.5326628142838, 86.38398545013139, 83.2324626276762, 96.10986226059951, 94.54222145148876, 96.62395588970989, 95.63071870045765, 95.00987590499618, 96.96483690745467, 96.23256831468369, 94.62189878104171, 98.86945189865284, 95.19835004323221, 99.58972396415902, 96.11309559198293, 85.0409129064479, 96.97652908312523, 92.02325830009595, 99.75057738050373, 100.53163260809765, 96.09630147010553, 86.7317724390642, 98.26317867904244, 99.63531166993272, 95.5860888964425, 96.36806700982392, 94.36465667417927, 89.87077434535013, 92.4554160723172, 93.50053008843422, 95.95769281448719, 93.89300346514186, 94.83225115796807, 99.13166532666153, 96.98349072133756, 99.37372721123235, 73.67287178784244, 58.86363832835059, 96.65577025851852, 89.5343419386933, 97.13079970811329, 90.10153510639965, 99.40522758850649, 89.60180097953908, 97.16318809474909, 97.00781806354378, 98.90432937641314, 98.4009108066315, 85.2725186643459, 97.80837622965097, 95.12631610922843, 89.29269957144157, 93.29971885939061, 96.82695143375778, 96.71893807610743, 97.8180427530838, 96.66167875467328, 98.8382101196416, 93.7772179510868, 99.87696515777294, 89.4345748784535, 77.0019467887511, 95.30126165090708, 98.1079749698355, 95.59475138814821, 84.40062261906091, 98.54031250162112, 98.25146617239326, 97.63531259892825, 95.69693362315672, 97.98657548330664, 98.9869464963775, 63.438400333765216, 98.68406207814975, 84.5182300825315, 96.53854659570794, 93.07561838780734, 100.19453342353566, 86.15517785882278, 101.00877275552216, 97.10450212538564, 96.39140071872846, 100.19087035568755, 97.0592956252864, 93.7465617907054, 97.96326981381672, 91.01170208344641, 92.11280130899671, 91.53361386547557, 97.3247984835666, 98.4294506487253, 98.31461559208324, 97.42999222949419, 97.98874546401007, 59.2977905971569, 92.80273127479246, 95.77307868483955, 96.99840931464746, 98.22827727691696, 94.5600730822454, 98.24243526691912, 69.57373445067898, 85.49818762994671, 97.92258557963382, 98.62561629616603, 100.34223525164242, 90.57912778423169, 97.60256783791498, 89.47242559041469, 45.048779024642975, 86.23812511619938, 100.50467835877741, 97.92406684036666, 95.50249771600821, 91.44374727564231, 97.66562413944904, 99.88285180575888, 92.58731873044827, 100.73327432018083, 93.20812646575776, 96.44395940743028, 97.14841971667654, 80.0808049695496, 90.87899197327748, 86.93913643621653, 93.32675542505243, 96.49137551863919, 98.91325342188456, 88.451098192254, 99.22112287573248, 98.19392767412998, 99.10351665687222, 97.79510888258407, 93.79660474393528, 88.74554755576064, 81.04581675249072, 98.98362851730703, 91.57220057898934, 85.77030812725025, 97.05190283806347, 95.19605072230412, 92.90949730234631, 90.75363469377629, 98.4588463437931, 97.39910803676445, 98.69304419849338, 94.95839178803077, 97.0538292912919, 89.31538789439774, 100.60537610614377, 92.6465726740614, 98.5401556162061, 93.36873444041194, 86.76200551580956, 97.40267468339799, 92.5779902236801, 98.72575714984205, 96.83222817026572, 95.31426606841383, 79.48121406203562, 97.07551071310151, 96.4925524980474, 95.65078244670848, 95.69996140325533, 98.94069328731594, 99.23390889628135, 91.86326292965256, 97.24578247932263, 91.56219568802265, 88.38611870148434, 96.59706610446482, 98.96762828759513, 90.49842591967295, 90.66691143332676, 97.04603201448617, 98.0375644921365, 89.78228793656658, 95.33691868105065, 96.85816385507844, 95.57233924634028, 96.73072220773638, 100.2402253729138, 92.95114316282661, 96.87914069631961, 96.88315380523868, 94.540372534569, 97.56669464086161, 100.90267499804267, 95.7721846618475, 90.16195068597983, 89.65057818764892, 99.84079673419203, 97.9586911036523, 89.1114449479443, 98.63676005089175, 97.39583587290723, 98.81619359042986, 100.3781172236701, 94.21850693619626, 93.82435452353407, 98.99890544716354, 98.57378417943566, 97.6170875675287]}, {\"name\": \"Actual\", \"type\": \"bar\", \"x\": [0, 1, 2, 3, 4, 5, 6, 7, 8, 9, 10, 11, 12, 13, 14, 15, 16, 17, 18, 19], \"y\": [99.0, 97.0, 99.0, 95.0, 96.0, 78.0, 99.0, 96.0, 90.0, 100.0, 99.0, 86.0, 97.0, 85.0, 97.0, 100.0, 96.0, 95.0, 99.0, 97.0, 99.0, 88.0, 98.0, 94.0, 82.0, 100.0, 94.0, 92.0, 98.0, 96.0, 93.0, 98.0, 100.0, 95.0, 94.0, 100.0, 86.0, 94.0, 95.0, 98.0, 100.0, 99.0, 98.0, 97.0, 99.0, 95.0, 84.0, 86.0, 96.0, 93.0, 90.0, 96.0, 100.0, 97.0, 95.0, 93.0, 100.0, 95.0, 100.0, 96.0, 80.0, 97.0, 95.0, 100.0, 100.0, 96.0, 86.0, 97.0, 100.0, 98.0, 95.0, 94.0, 93.0, 89.0, 92.0, 93.0, 92.0, 93.0, 99.0, 100.0, 100.0, 67.0, 50.0, 93.0, 93.0, 98.0, 93.0, 100.0, 90.0, 96.0, 97.0, 98.0, 100.0, 83.0, 97.0, 93.0, 90.0, 93.0, 100.0, 98.0, 98.0, 100.0, 100.0, 92.0, 100.0, 84.0, 80.0, 99.0, 100.0, 96.0, 87.0, 97.0, 100.0, 100.0, 96.0, 99.0, 100.0, 70.0, 100.0, 87.0, 100.0, 95.0, 100.0, 89.0, 100.0, 97.0, 96.0, 100.0, 99.0, 90.0, 98.0, 90.0, 96.0, 91.0, 100.0, 99.0, 100.0, 100.0, 98.0, 80.0, 93.0, 93.0, 97.0, 100.0, 96.0, 100.0, 50.0, 90.0, 100.0, 100.0, 100.0, 88.0, 99.0, 89.0, 57.0, 89.0, 100.0, 98.0, 100.0, 88.0, 98.0, 96.0, 92.0, 100.0, 93.0, 96.0, 93.0, 84.0, 89.0, 80.0, 94.0, 93.0, 99.0, 89.0, 96.0, 98.0, 98.0, 100.0, 97.0, 88.0, 70.0, 98.0, 96.0, 80.0, 97.0, 93.0, 96.0, 92.0, 98.0, 96.0, 100.0, 92.0, 100.0, 90.0, 100.0, 92.0, 93.0, 92.0, 80.0, 100.0, 92.0, 100.0, 98.0, 91.0, 82.0, 98.0, 100.0, 96.0, 94.0, 93.0, 100.0, 95.0, 97.0, 89.0, 90.0, 97.0, 100.0, 94.0, 91.0, 96.0, 96.0, 89.0, 99.0, 98.0, 94.0, 96.0, 100.0, 90.0, 96.0, 94.0, 96.0, 98.0, 100.0, 93.0, 91.0, 91.0, 95.0, 97.0, 89.0, 98.0, 95.0, 100.0, 100.0, 96.0, 95.0, 99.0, 98.0, 95.0]}],                        {\"barmode\": \"group\", \"template\": {\"data\": {\"bar\": [{\"error_x\": {\"color\": \"#2a3f5f\"}, \"error_y\": {\"color\": \"#2a3f5f\"}, \"marker\": {\"line\": {\"color\": \"#E5ECF6\", \"width\": 0.5}}, \"type\": \"bar\"}], \"barpolar\": [{\"marker\": {\"line\": {\"color\": \"#E5ECF6\", \"width\": 0.5}}, \"type\": \"barpolar\"}], \"carpet\": [{\"aaxis\": {\"endlinecolor\": \"#2a3f5f\", \"gridcolor\": \"white\", \"linecolor\": \"white\", \"minorgridcolor\": \"white\", \"startlinecolor\": \"#2a3f5f\"}, \"baxis\": {\"endlinecolor\": \"#2a3f5f\", \"gridcolor\": \"white\", \"linecolor\": \"white\", \"minorgridcolor\": \"white\", \"startlinecolor\": \"#2a3f5f\"}, \"type\": \"carpet\"}], \"choropleth\": [{\"colorbar\": {\"outlinewidth\": 0, \"ticks\": \"\"}, \"type\": \"choropleth\"}], \"contour\": [{\"colorbar\": {\"outlinewidth\": 0, \"ticks\": \"\"}, \"colorscale\": [[0.0, \"#0d0887\"], [0.1111111111111111, \"#46039f\"], [0.2222222222222222, \"#7201a8\"], [0.3333333333333333, \"#9c179e\"], [0.4444444444444444, \"#bd3786\"], [0.5555555555555556, \"#d8576b\"], [0.6666666666666666, \"#ed7953\"], [0.7777777777777778, \"#fb9f3a\"], [0.8888888888888888, \"#fdca26\"], [1.0, \"#f0f921\"]], \"type\": \"contour\"}], \"contourcarpet\": [{\"colorbar\": {\"outlinewidth\": 0, \"ticks\": \"\"}, \"type\": \"contourcarpet\"}], \"heatmap\": [{\"colorbar\": {\"outlinewidth\": 0, \"ticks\": \"\"}, \"colorscale\": [[0.0, \"#0d0887\"], [0.1111111111111111, \"#46039f\"], [0.2222222222222222, \"#7201a8\"], [0.3333333333333333, \"#9c179e\"], [0.4444444444444444, \"#bd3786\"], [0.5555555555555556, \"#d8576b\"], [0.6666666666666666, \"#ed7953\"], [0.7777777777777778, \"#fb9f3a\"], [0.8888888888888888, \"#fdca26\"], [1.0, \"#f0f921\"]], \"type\": \"heatmap\"}], \"heatmapgl\": [{\"colorbar\": {\"outlinewidth\": 0, \"ticks\": \"\"}, \"colorscale\": [[0.0, \"#0d0887\"], [0.1111111111111111, \"#46039f\"], [0.2222222222222222, \"#7201a8\"], [0.3333333333333333, \"#9c179e\"], [0.4444444444444444, \"#bd3786\"], [0.5555555555555556, \"#d8576b\"], [0.6666666666666666, \"#ed7953\"], [0.7777777777777778, \"#fb9f3a\"], [0.8888888888888888, \"#fdca26\"], [1.0, \"#f0f921\"]], \"type\": \"heatmapgl\"}], \"histogram\": [{\"marker\": {\"colorbar\": {\"outlinewidth\": 0, \"ticks\": \"\"}}, \"type\": \"histogram\"}], \"histogram2d\": [{\"colorbar\": {\"outlinewidth\": 0, \"ticks\": \"\"}, \"colorscale\": [[0.0, \"#0d0887\"], [0.1111111111111111, \"#46039f\"], [0.2222222222222222, \"#7201a8\"], [0.3333333333333333, \"#9c179e\"], [0.4444444444444444, \"#bd3786\"], [0.5555555555555556, \"#d8576b\"], [0.6666666666666666, \"#ed7953\"], [0.7777777777777778, \"#fb9f3a\"], [0.8888888888888888, \"#fdca26\"], [1.0, \"#f0f921\"]], \"type\": \"histogram2d\"}], \"histogram2dcontour\": [{\"colorbar\": {\"outlinewidth\": 0, \"ticks\": \"\"}, \"colorscale\": [[0.0, \"#0d0887\"], [0.1111111111111111, \"#46039f\"], [0.2222222222222222, \"#7201a8\"], [0.3333333333333333, \"#9c179e\"], [0.4444444444444444, \"#bd3786\"], [0.5555555555555556, \"#d8576b\"], [0.6666666666666666, \"#ed7953\"], [0.7777777777777778, \"#fb9f3a\"], [0.8888888888888888, \"#fdca26\"], [1.0, \"#f0f921\"]], \"type\": \"histogram2dcontour\"}], \"mesh3d\": [{\"colorbar\": {\"outlinewidth\": 0, \"ticks\": \"\"}, \"type\": \"mesh3d\"}], \"parcoords\": [{\"line\": {\"colorbar\": {\"outlinewidth\": 0, \"ticks\": \"\"}}, \"type\": \"parcoords\"}], \"pie\": [{\"automargin\": true, \"type\": \"pie\"}], \"scatter\": [{\"marker\": {\"colorbar\": {\"outlinewidth\": 0, \"ticks\": \"\"}}, \"type\": \"scatter\"}], \"scatter3d\": [{\"line\": {\"colorbar\": {\"outlinewidth\": 0, \"ticks\": \"\"}}, \"marker\": {\"colorbar\": {\"outlinewidth\": 0, \"ticks\": \"\"}}, \"type\": \"scatter3d\"}], \"scattercarpet\": [{\"marker\": {\"colorbar\": {\"outlinewidth\": 0, \"ticks\": \"\"}}, \"type\": \"scattercarpet\"}], \"scattergeo\": [{\"marker\": {\"colorbar\": {\"outlinewidth\": 0, \"ticks\": \"\"}}, \"type\": \"scattergeo\"}], \"scattergl\": [{\"marker\": {\"colorbar\": {\"outlinewidth\": 0, \"ticks\": \"\"}}, \"type\": \"scattergl\"}], \"scattermapbox\": [{\"marker\": {\"colorbar\": {\"outlinewidth\": 0, \"ticks\": \"\"}}, \"type\": \"scattermapbox\"}], \"scatterpolar\": [{\"marker\": {\"colorbar\": {\"outlinewidth\": 0, \"ticks\": \"\"}}, \"type\": \"scatterpolar\"}], \"scatterpolargl\": [{\"marker\": {\"colorbar\": {\"outlinewidth\": 0, \"ticks\": \"\"}}, \"type\": \"scatterpolargl\"}], \"scatterternary\": [{\"marker\": {\"colorbar\": {\"outlinewidth\": 0, \"ticks\": \"\"}}, \"type\": \"scatterternary\"}], \"surface\": [{\"colorbar\": {\"outlinewidth\": 0, \"ticks\": \"\"}, \"colorscale\": [[0.0, \"#0d0887\"], [0.1111111111111111, \"#46039f\"], [0.2222222222222222, \"#7201a8\"], [0.3333333333333333, \"#9c179e\"], [0.4444444444444444, \"#bd3786\"], [0.5555555555555556, \"#d8576b\"], [0.6666666666666666, \"#ed7953\"], [0.7777777777777778, \"#fb9f3a\"], [0.8888888888888888, \"#fdca26\"], [1.0, \"#f0f921\"]], \"type\": \"surface\"}], \"table\": [{\"cells\": {\"fill\": {\"color\": \"#EBF0F8\"}, \"line\": {\"color\": \"white\"}}, \"header\": {\"fill\": {\"color\": \"#C8D4E3\"}, \"line\": {\"color\": \"white\"}}, \"type\": \"table\"}]}, \"layout\": {\"annotationdefaults\": {\"arrowcolor\": \"#2a3f5f\", \"arrowhead\": 0, \"arrowwidth\": 1}, \"coloraxis\": {\"colorbar\": {\"outlinewidth\": 0, \"ticks\": \"\"}}, \"colorscale\": {\"diverging\": [[0, \"#8e0152\"], [0.1, \"#c51b7d\"], [0.2, \"#de77ae\"], [0.3, \"#f1b6da\"], [0.4, \"#fde0ef\"], [0.5, \"#f7f7f7\"], [0.6, \"#e6f5d0\"], [0.7, \"#b8e186\"], [0.8, \"#7fbc41\"], [0.9, \"#4d9221\"], [1, \"#276419\"]], \"sequential\": [[0.0, \"#0d0887\"], [0.1111111111111111, \"#46039f\"], [0.2222222222222222, \"#7201a8\"], [0.3333333333333333, \"#9c179e\"], [0.4444444444444444, \"#bd3786\"], [0.5555555555555556, \"#d8576b\"], [0.6666666666666666, \"#ed7953\"], [0.7777777777777778, \"#fb9f3a\"], [0.8888888888888888, \"#fdca26\"], [1.0, \"#f0f921\"]], \"sequentialminus\": [[0.0, \"#0d0887\"], [0.1111111111111111, \"#46039f\"], [0.2222222222222222, \"#7201a8\"], [0.3333333333333333, \"#9c179e\"], [0.4444444444444444, \"#bd3786\"], [0.5555555555555556, \"#d8576b\"], [0.6666666666666666, \"#ed7953\"], [0.7777777777777778, \"#fb9f3a\"], [0.8888888888888888, \"#fdca26\"], [1.0, \"#f0f921\"]]}, \"colorway\": [\"#636efa\", \"#EF553B\", \"#00cc96\", \"#ab63fa\", \"#FFA15A\", \"#19d3f3\", \"#FF6692\", \"#B6E880\", \"#FF97FF\", \"#FECB52\"], \"font\": {\"color\": \"#2a3f5f\"}, \"geo\": {\"bgcolor\": \"white\", \"lakecolor\": \"white\", \"landcolor\": \"#E5ECF6\", \"showlakes\": true, \"showland\": true, \"subunitcolor\": \"white\"}, \"hoverlabel\": {\"align\": \"left\"}, \"hovermode\": \"closest\", \"mapbox\": {\"style\": \"light\"}, \"paper_bgcolor\": \"white\", \"plot_bgcolor\": \"#E5ECF6\", \"polar\": {\"angularaxis\": {\"gridcolor\": \"white\", \"linecolor\": \"white\", \"ticks\": \"\"}, \"bgcolor\": \"#E5ECF6\", \"radialaxis\": {\"gridcolor\": \"white\", \"linecolor\": \"white\", \"ticks\": \"\"}}, \"scene\": {\"xaxis\": {\"backgroundcolor\": \"#E5ECF6\", \"gridcolor\": \"white\", \"gridwidth\": 2, \"linecolor\": \"white\", \"showbackground\": true, \"ticks\": \"\", \"zerolinecolor\": \"white\"}, \"yaxis\": {\"backgroundcolor\": \"#E5ECF6\", \"gridcolor\": \"white\", \"gridwidth\": 2, \"linecolor\": \"white\", \"showbackground\": true, \"ticks\": \"\", \"zerolinecolor\": \"white\"}, \"zaxis\": {\"backgroundcolor\": \"#E5ECF6\", \"gridcolor\": \"white\", \"gridwidth\": 2, \"linecolor\": \"white\", \"showbackground\": true, \"ticks\": \"\", \"zerolinecolor\": \"white\"}}, \"shapedefaults\": {\"line\": {\"color\": \"#2a3f5f\"}}, \"ternary\": {\"aaxis\": {\"gridcolor\": \"white\", \"linecolor\": \"white\", \"ticks\": \"\"}, \"baxis\": {\"gridcolor\": \"white\", \"linecolor\": \"white\", \"ticks\": \"\"}, \"bgcolor\": \"#E5ECF6\", \"caxis\": {\"gridcolor\": \"white\", \"linecolor\": \"white\", \"ticks\": \"\"}}, \"title\": {\"x\": 0.05}, \"xaxis\": {\"automargin\": true, \"gridcolor\": \"white\", \"linecolor\": \"white\", \"ticks\": \"\", \"title\": {\"standoff\": 15}, \"zerolinecolor\": \"white\", \"zerolinewidth\": 2}, \"yaxis\": {\"automargin\": true, \"gridcolor\": \"white\", \"linecolor\": \"white\", \"ticks\": \"\", \"title\": {\"standoff\": 15}, \"zerolinecolor\": \"white\", \"zerolinewidth\": 2}}}, \"title\": {\"text\": \"Bristol - Gradient Boosting rating predictions\"}, \"xaxis\": {\"title\": {\"text\": \"Index\"}}, \"yaxis\": {\"title\": {\"text\": \"Rating\"}}},                        {\"responsive\": true}                    ).then(function(){\n",
       "                            \n",
       "var gd = document.getElementById('cd43266f-5663-4f01-a0f3-3f7b1dba7bf3');\n",
       "var x = new MutationObserver(function (mutations, observer) {{\n",
       "        var display = window.getComputedStyle(gd).display;\n",
       "        if (!display || display === 'none') {{\n",
       "            console.log([gd, 'removed!']);\n",
       "            Plotly.purge(gd);\n",
       "            observer.disconnect();\n",
       "        }}\n",
       "}});\n",
       "\n",
       "// Listen for the removal of the full notebook cells\n",
       "var notebookContainer = gd.closest('#notebook-container');\n",
       "if (notebookContainer) {{\n",
       "    x.observe(notebookContainer, {childList: true});\n",
       "}}\n",
       "\n",
       "// Listen for the clearing of the current output cell\n",
       "var outputEl = gd.closest('.output');\n",
       "if (outputEl) {{\n",
       "    x.observe(outputEl, {childList: true});\n",
       "}}\n",
       "\n",
       "                        })                };                });            </script>        </div>"
      ]
     },
     "metadata": {},
     "output_type": "display_data"
    }
   ],
   "source": [
    "\n",
    "title=['Pred vs Actual']\n",
    "fig = go.Figure(data=[\n",
    "    go.Bar(name='Predicted', x=error_diff1.index, y=error_diff['Predicted Values']),\n",
    "    go.Bar(name='Actual', x=error_diff1.index, y=error_diff['Actual Values'])\n",
    "])\n",
    "\n",
    "fig.update_layout(barmode='group', title=\"Bristol - Gradient Boosting rating predictions\", yaxis = dict(title =\"Rating\"), xaxis =dict(title=\"Index\"))\n",
    "fig.show()"
   ]
  },
  {
   "cell_type": "code",
   "execution_count": 68,
   "metadata": {},
   "outputs": [
    {
     "data": {
      "image/png": "[encoded data removed]",
      "text/plain": [
       "<Figure size 1152x576 with 1 Axes>"
      ]
     },
     "metadata": {
      "needs_background": "light"
     },
     "output_type": "display_data"
    }
   ],
   "source": [
    "plt.figure(figsize=(16,8))\n",
    "sns.regplot(predictions_r,y_test_r)\n",
    "plt.xlabel('Predictions')\n",
    "plt.ylabel('Actual')\n",
    "plt.title(\"Bristol - Gradient Boosting Rating Predictions\")\n",
    "plt.show()"
   ]
  },
  {
   "cell_type": "code",
   "execution_count": 69,
   "metadata": {},
   "outputs": [],
   "source": [
    "#xgboost rating predictions\n",
    "xgb = xgboost.XGBRegressor(n_estimators=310,learning_rate=0.1,objective='reg:squarederror')\n",
    "xgb.fit(X_train_r,y_train_r)\n",
    "ypred_r = xgb.predict(X_test_r)"
   ]
  },
  {
   "cell_type": "code",
   "execution_count": 70,
   "metadata": {},
   "outputs": [
    {
     "name": "stdout",
     "output_type": "stream",
     "text": [
      "MAE: 2.2319093058186192\n",
      "MSE: 12.181607256575703\n",
      "RMSE: 3.49021593265742\n"
     ]
    }
   ],
   "source": [
    "print('MAE:', metrics.mean_absolute_error(y_test_r, ypred_r))\n",
    "print('MSE:', metrics.mean_squared_error(y_test_r, ypred_r))\n",
    "print('RMSE:', np.sqrt(metrics.mean_squared_error(y_test_r, ypred_r)))"
   ]
  },
  {
   "cell_type": "code",
   "execution_count": 74,
   "metadata": {},
   "outputs": [
    {
     "data": {
      "application/vnd.plotly.v1+json": {
       "config": {
        "plotlyServerURL": "https://plot.ly"
       },
       "data": [
        {
         "name": "Predicted",
         "type": "bar",
         "x": [
          0,
          1,
          2,
          3,
          4,
          5,
          6,
          7,
          8,
          9,
          10,
          11,
          12,
          13,
          14,
          15,
          16,
          17,
          18,
          19
         ],
         "y": [
          96.36719997110401,
          97.32651150425089,
          98.00017603166299,
          90.27907103248211,
          92.6064309865567,
          69.21596186697668,
          99.15642669322585,
          97.5900610278838,
          93.99763673208146,
          97.85245987470545,
          97.0960487038122,
          86.80469495313952,
          96.25809297801386,
          96.65421560704452,
          96.79145978072955,
          99.34889102512494,
          93.50579549622832,
          96.99793873891885,
          97.93814051422935,
          98.14086589703584,
          97.72314728209388,
          90.28696672989,
          97.95193978469673,
          99.12665950117074,
          84.82715797160581,
          97.27088257974097,
          93.16738229101108,
          96.5056542878193,
          97.85063436563722,
          97.2425724122785,
          94.23265844935463,
          97.44847285658189,
          97.86835123654238,
          96.59547901959841,
          96.4275850285408,
          99.77371190380713,
          89.21553658028448,
          95.36745871387305,
          97.83385208714135,
          98.06227120116155,
          98.59274052135224,
          97.65066126479849,
          98.34649406402288,
          98.02873351886207,
          99.80865370197355,
          95.5326628142838,
          86.38398545013139,
          83.2324626276762,
          96.10986226059951,
          94.54222145148876,
          96.62395588970989,
          95.63071870045765,
          95.00987590499618,
          96.96483690745467,
          96.23256831468369,
          94.62189878104171,
          98.86945189865284,
          95.19835004323221,
          99.58972396415902,
          96.11309559198293,
          85.0409129064479,
          96.97652908312523,
          92.02325830009595,
          99.75057738050373,
          100.53163260809765,
          96.09630147010553,
          86.7317724390642,
          98.26317867904244,
          99.63531166993272,
          95.5860888964425,
          96.36806700982392,
          94.36465667417927,
          89.87077434535013,
          92.4554160723172,
          93.50053008843422,
          95.95769281448719,
          93.89300346514186,
          94.83225115796807,
          99.13166532666153,
          96.98349072133756,
          99.37372721123235,
          73.67287178784244,
          58.86363832835059,
          96.65577025851852,
          89.5343419386933,
          97.13079970811329,
          90.10153510639965,
          99.40522758850649,
          89.60180097953908,
          97.16318809474909,
          97.00781806354378,
          98.90432937641314,
          98.4009108066315,
          85.2725186643459,
          97.80837622965097,
          95.12631610922843,
          89.29269957144157,
          93.29971885939061,
          96.82695143375778,
          96.71893807610743,
          97.8180427530838,
          96.66167875467328,
          98.8382101196416,
          93.7772179510868,
          99.87696515777294,
          89.4345748784535,
          77.0019467887511,
          95.30126165090708,
          98.1079749698355,
          95.59475138814821,
          84.40062261906091,
          98.54031250162112,
          98.25146617239326,
          97.63531259892825,
          95.69693362315672,
          97.98657548330664,
          98.9869464963775,
          63.438400333765216,
          98.68406207814975,
          84.5182300825315,
          96.53854659570794,
          93.07561838780734,
          100.19453342353566,
          86.15517785882278,
          101.00877275552216,
          97.10450212538564,
          96.39140071872846,
          100.19087035568755,
          97.0592956252864,
          93.7465617907054,
          97.96326981381672,
          91.01170208344641,
          92.11280130899671,
          91.53361386547557,
          97.3247984835666,
          98.4294506487253,
          98.31461559208324,
          97.42999222949419,
          97.98874546401007,
          59.2977905971569,
          92.80273127479246,
          95.77307868483955,
          96.99840931464746,
          98.22827727691696,
          94.5600730822454,
          98.24243526691912,
          69.57373445067898,
          85.49818762994671,
          97.92258557963382,
          98.62561629616603,
          100.34223525164242,
          90.57912778423169,
          97.60256783791498,
          89.47242559041469,
          45.048779024642975,
          86.23812511619938,
          100.50467835877741,
          97.92406684036666,
          95.50249771600821,
          91.44374727564231,
          97.66562413944904,
          99.88285180575888,
          92.58731873044827,
          100.73327432018083,
          93.20812646575776,
          96.44395940743028,
          97.14841971667654,
          80.0808049695496,
          90.87899197327748,
          86.93913643621653,
          93.32675542505243,
          96.49137551863919,
          98.91325342188456,
          88.451098192254,
          99.22112287573248,
          98.19392767412998,
          99.10351665687222,
          97.79510888258407,
          93.79660474393528,
          88.74554755576064,
          81.04581675249072,
          98.98362851730703,
          91.57220057898934,
          85.77030812725025,
          97.05190283806347,
          95.19605072230412,
          92.90949730234631,
          90.75363469377629,
          98.4588463437931,
          97.39910803676445,
          98.69304419849338,
          94.95839178803077,
          97.0538292912919,
          89.31538789439774,
          100.60537610614377,
          92.6465726740614,
          98.5401556162061,
          93.36873444041194,
          86.76200551580956,
          97.40267468339799,
          92.5779902236801,
          98.72575714984205,
          96.83222817026572,
          95.31426606841383,
          79.48121406203562,
          97.07551071310151,
          96.4925524980474,
          95.65078244670848,
          95.69996140325533,
          98.94069328731594,
          99.23390889628135,
          91.86326292965256,
          97.24578247932263,
          91.56219568802265,
          88.38611870148434,
          96.59706610446482,
          98.96762828759513,
          90.49842591967295,
          90.66691143332676,
          97.04603201448617,
          98.0375644921365,
          89.78228793656658,
          95.33691868105065,
          96.85816385507844,
          95.57233924634028,
          96.73072220773638,
          100.2402253729138,
          92.95114316282661,
          96.87914069631961,
          96.88315380523868,
          94.540372534569,
          97.56669464086161,
          100.90267499804267,
          95.7721846618475,
          90.16195068597983,
          89.65057818764892,
          99.84079673419203,
          97.9586911036523,
          89.1114449479443,
          98.63676005089175,
          97.39583587290723,
          98.81619359042986,
          100.3781172236701,
          94.21850693619626,
          93.82435452353407,
          98.99890544716354,
          98.57378417943566,
          97.6170875675287
         ]
        },
        {
         "name": "Actual",
         "type": "bar",
         "x": [
          0,
          1,
          2,
          3,
          4,
          5,
          6,
          7,
          8,
          9,
          10,
          11,
          12,
          13,
          14,
          15,
          16,
          17,
          18,
          19
         ],
         "y": [
          99,
          97,
          99,
          95,
          96,
          78,
          99,
          96,
          90,
          100,
          99,
          86,
          97,
          85,
          97,
          100,
          96,
          95,
          99,
          97,
          99,
          88,
          98,
          94,
          82,
          100,
          94,
          92,
          98,
          96,
          93,
          98,
          100,
          95,
          94,
          100,
          86,
          94,
          95,
          98,
          100,
          99,
          98,
          97,
          99,
          95,
          84,
          86,
          96,
          93,
          90,
          96,
          100,
          97,
          95,
          93,
          100,
          95,
          100,
          96,
          80,
          97,
          95,
          100,
          100,
          96,
          86,
          97,
          100,
          98,
          95,
          94,
          93,
          89,
          92,
          93,
          92,
          93,
          99,
          100,
          100,
          67,
          50,
          93,
          93,
          98,
          93,
          100,
          90,
          96,
          97,
          98,
          100,
          83,
          97,
          93,
          90,
          93,
          100,
          98,
          98,
          100,
          100,
          92,
          100,
          84,
          80,
          99,
          100,
          96,
          87,
          97,
          100,
          100,
          96,
          99,
          100,
          70,
          100,
          87,
          100,
          95,
          100,
          89,
          100,
          97,
          96,
          100,
          99,
          90,
          98,
          90,
          96,
          91,
          100,
          99,
          100,
          100,
          98,
          80,
          93,
          93,
          97,
          100,
          96,
          100,
          50,
          90,
          100,
          100,
          100,
          88,
          99,
          89,
          57,
          89,
          100,
          98,
          100,
          88,
          98,
          96,
          92,
          100,
          93,
          96,
          93,
          84,
          89,
          80,
          94,
          93,
          99,
          89,
          96,
          98,
          98,
          100,
          97,
          88,
          70,
          98,
          96,
          80,
          97,
          93,
          96,
          92,
          98,
          96,
          100,
          92,
          100,
          90,
          100,
          92,
          93,
          92,
          80,
          100,
          92,
          100,
          98,
          91,
          82,
          98,
          100,
          96,
          94,
          93,
          100,
          95,
          97,
          89,
          90,
          97,
          100,
          94,
          91,
          96,
          96,
          89,
          99,
          98,
          94,
          96,
          100,
          90,
          96,
          94,
          96,
          98,
          100,
          93,
          91,
          91,
          95,
          97,
          89,
          98,
          95,
          100,
          100,
          96,
          95,
          99,
          98,
          95
         ]
        }
       ],
       "layout": {
        "barmode": "group",
        "template": {
         "data": {
          "bar": [
           {
            "error_x": {
             "color": "#2a3f5f"
            },
            "error_y": {
             "color": "#2a3f5f"
            },
            "marker": {
             "line": {
              "color": "#E5ECF6",
              "width": 0.5
             }
            },
            "type": "bar"
           }
          ],
          "barpolar": [
           {
            "marker": {
             "line": {
              "color": "#E5ECF6",
              "width": 0.5
             }
            },
            "type": "barpolar"
           }
          ],
          "carpet": [
           {
            "aaxis": {
             "endlinecolor": "#2a3f5f",
             "gridcolor": "white",
             "linecolor": "white",
             "minorgridcolor": "white",
             "startlinecolor": "#2a3f5f"
            },
            "baxis": {
             "endlinecolor": "#2a3f5f",
             "gridcolor": "white",
             "linecolor": "white",
             "minorgridcolor": "white",
             "startlinecolor": "#2a3f5f"
            },
            "type": "carpet"
           }
          ],
          "choropleth": [
           {
            "colorbar": {
             "outlinewidth": 0,
             "ticks": ""
            },
            "type": "choropleth"
           }
          ],
          "contour": [
           {
            "colorbar": {
             "outlinewidth": 0,
             "ticks": ""
            },
            "colorscale": [
             [
              0,
              "#0d0887"
             ],
             [
              0.1111111111111111,
              "#46039f"
             ],
             [
              0.2222222222222222,
              "#7201a8"
             ],
             [
              0.3333333333333333,
              "#9c179e"
             ],
             [
              0.4444444444444444,
              "#bd3786"
             ],
             [
              0.5555555555555556,
              "#d8576b"
             ],
             [
              0.6666666666666666,
              "#ed7953"
             ],
             [
              0.7777777777777778,
              "#fb9f3a"
             ],
             [
              0.8888888888888888,
              "#fdca26"
             ],
             [
              1,
              "#f0f921"
             ]
            ],
            "type": "contour"
           }
          ],
          "contourcarpet": [
           {
            "colorbar": {
             "outlinewidth": 0,
             "ticks": ""
            },
            "type": "contourcarpet"
           }
          ],
          "heatmap": [
           {
            "colorbar": {
             "outlinewidth": 0,
             "ticks": ""
            },
            "colorscale": [
             [
              0,
              "#0d0887"
             ],
             [
              0.1111111111111111,
              "#46039f"
             ],
             [
              0.2222222222222222,
              "#7201a8"
             ],
             [
              0.3333333333333333,
              "#9c179e"
             ],
             [
              0.4444444444444444,
              "#bd3786"
             ],
             [
              0.5555555555555556,
              "#d8576b"
             ],
             [
              0.6666666666666666,
              "#ed7953"
             ],
             [
              0.7777777777777778,
              "#fb9f3a"
             ],
             [
              0.8888888888888888,
              "#fdca26"
             ],
             [
              1,
              "#f0f921"
             ]
            ],
            "type": "heatmap"
           }
          ],
          "heatmapgl": [
           {
            "colorbar": {
             "outlinewidth": 0,
             "ticks": ""
            },
            "colorscale": [
             [
              0,
              "#0d0887"
             ],
             [
              0.1111111111111111,
              "#46039f"
             ],
             [
              0.2222222222222222,
              "#7201a8"
             ],
             [
              0.3333333333333333,
              "#9c179e"
             ],
             [
              0.4444444444444444,
              "#bd3786"
             ],
             [
              0.5555555555555556,
              "#d8576b"
             ],
             [
              0.6666666666666666,
              "#ed7953"
             ],
             [
              0.7777777777777778,
              "#fb9f3a"
             ],
             [
              0.8888888888888888,
              "#fdca26"
             ],
             [
              1,
              "#f0f921"
             ]
            ],
            "type": "heatmapgl"
           }
          ],
          "histogram": [
           {
            "marker": {
             "colorbar": {
              "outlinewidth": 0,
              "ticks": ""
             }
            },
            "type": "histogram"
           }
          ],
          "histogram2d": [
           {
            "colorbar": {
             "outlinewidth": 0,
             "ticks": ""
            },
            "colorscale": [
             [
              0,
              "#0d0887"
             ],
             [
              0.1111111111111111,
              "#46039f"
             ],
             [
              0.2222222222222222,
              "#7201a8"
             ],
             [
              0.3333333333333333,
              "#9c179e"
             ],
             [
              0.4444444444444444,
              "#bd3786"
             ],
             [
              0.5555555555555556,
              "#d8576b"
             ],
             [
              0.6666666666666666,
              "#ed7953"
             ],
             [
              0.7777777777777778,
              "#fb9f3a"
             ],
             [
              0.8888888888888888,
              "#fdca26"
             ],
             [
              1,
              "#f0f921"
             ]
            ],
            "type": "histogram2d"
           }
          ],
          "histogram2dcontour": [
           {
            "colorbar": {
             "outlinewidth": 0,
             "ticks": ""
            },
            "colorscale": [
             [
              0,
              "#0d0887"
             ],
             [
              0.1111111111111111,
              "#46039f"
             ],
             [
              0.2222222222222222,
              "#7201a8"
             ],
             [
              0.3333333333333333,
              "#9c179e"
             ],
             [
              0.4444444444444444,
              "#bd3786"
             ],
             [
              0.5555555555555556,
              "#d8576b"
             ],
             [
              0.6666666666666666,
              "#ed7953"
             ],
             [
              0.7777777777777778,
              "#fb9f3a"
             ],
             [
              0.8888888888888888,
              "#fdca26"
             ],
             [
              1,
              "#f0f921"
             ]
            ],
            "type": "histogram2dcontour"
           }
          ],
          "mesh3d": [
           {
            "colorbar": {
             "outlinewidth": 0,
             "ticks": ""
            },
            "type": "mesh3d"
           }
          ],
          "parcoords": [
           {
            "line": {
             "colorbar": {
              "outlinewidth": 0,
              "ticks": ""
             }
            },
            "type": "parcoords"
           }
          ],
          "pie": [
           {
            "automargin": true,
            "type": "pie"
           }
          ],
          "scatter": [
           {
            "marker": {
             "colorbar": {
              "outlinewidth": 0,
              "ticks": ""
             }
            },
            "type": "scatter"
           }
          ],
          "scatter3d": [
           {
            "line": {
             "colorbar": {
              "outlinewidth": 0,
              "ticks": ""
             }
            },
            "marker": {
             "colorbar": {
              "outlinewidth": 0,
              "ticks": ""
             }
            },
            "type": "scatter3d"
           }
          ],
          "scattercarpet": [
           {
            "marker": {
             "colorbar": {
              "outlinewidth": 0,
              "ticks": ""
             }
            },
            "type": "scattercarpet"
           }
          ],
          "scattergeo": [
           {
            "marker": {
             "colorbar": {
              "outlinewidth": 0,
              "ticks": ""
             }
            },
            "type": "scattergeo"
           }
          ],
          "scattergl": [
           {
            "marker": {
             "colorbar": {
              "outlinewidth": 0,
              "ticks": ""
             }
            },
            "type": "scattergl"
           }
          ],
          "scattermapbox": [
           {
            "marker": {
             "colorbar": {
              "outlinewidth": 0,
              "ticks": ""
             }
            },
            "type": "scattermapbox"
           }
          ],
          "scatterpolar": [
           {
            "marker": {
             "colorbar": {
              "outlinewidth": 0,
              "ticks": ""
             }
            },
            "type": "scatterpolar"
           }
          ],
          "scatterpolargl": [
           {
            "marker": {
             "colorbar": {
              "outlinewidth": 0,
              "ticks": ""
             }
            },
            "type": "scatterpolargl"
           }
          ],
          "scatterternary": [
           {
            "marker": {
             "colorbar": {
              "outlinewidth": 0,
              "ticks": ""
             }
            },
            "type": "scatterternary"
           }
          ],
          "surface": [
           {
            "colorbar": {
             "outlinewidth": 0,
             "ticks": ""
            },
            "colorscale": [
             [
              0,
              "#0d0887"
             ],
             [
              0.1111111111111111,
              "#46039f"
             ],
             [
              0.2222222222222222,
              "#7201a8"
             ],
             [
              0.3333333333333333,
              "#9c179e"
             ],
             [
              0.4444444444444444,
              "#bd3786"
             ],
             [
              0.5555555555555556,
              "#d8576b"
             ],
             [
              0.6666666666666666,
              "#ed7953"
             ],
             [
              0.7777777777777778,
              "#fb9f3a"
             ],
             [
              0.8888888888888888,
              "#fdca26"
             ],
             [
              1,
              "#f0f921"
             ]
            ],
            "type": "surface"
           }
          ],
          "table": [
           {
            "cells": {
             "fill": {
              "color": "#EBF0F8"
             },
             "line": {
              "color": "white"
             }
            },
            "header": {
             "fill": {
              "color": "#C8D4E3"
             },
             "line": {
              "color": "white"
             }
            },
            "type": "table"
           }
          ]
         },
         "layout": {
          "annotationdefaults": {
           "arrowcolor": "#2a3f5f",
           "arrowhead": 0,
           "arrowwidth": 1
          },
          "coloraxis": {
           "colorbar": {
            "outlinewidth": 0,
            "ticks": ""
           }
          },
          "colorscale": {
           "diverging": [
            [
             0,
             "#8e0152"
            ],
            [
             0.1,
             "#c51b7d"
            ],
            [
             0.2,
             "#de77ae"
            ],
            [
             0.3,
             "#f1b6da"
            ],
            [
             0.4,
             "#fde0ef"
            ],
            [
             0.5,
             "#f7f7f7"
            ],
            [
             0.6,
             "#e6f5d0"
            ],
            [
             0.7,
             "#b8e186"
            ],
            [
             0.8,
             "#7fbc41"
            ],
            [
             0.9,
             "#4d9221"
            ],
            [
             1,
             "#276419"
            ]
           ],
           "sequential": [
            [
             0,
             "#0d0887"
            ],
            [
             0.1111111111111111,
             "#46039f"
            ],
            [
             0.2222222222222222,
             "#7201a8"
            ],
            [
             0.3333333333333333,
             "#9c179e"
            ],
            [
             0.4444444444444444,
             "#bd3786"
            ],
            [
             0.5555555555555556,
             "#d8576b"
            ],
            [
             0.6666666666666666,
             "#ed7953"
            ],
            [
             0.7777777777777778,
             "#fb9f3a"
            ],
            [
             0.8888888888888888,
             "#fdca26"
            ],
            [
             1,
             "#f0f921"
            ]
           ],
           "sequentialminus": [
            [
             0,
             "#0d0887"
            ],
            [
             0.1111111111111111,
             "#46039f"
            ],
            [
             0.2222222222222222,
             "#7201a8"
            ],
            [
             0.3333333333333333,
             "#9c179e"
            ],
            [
             0.4444444444444444,
             "#bd3786"
            ],
            [
             0.5555555555555556,
             "#d8576b"
            ],
            [
             0.6666666666666666,
             "#ed7953"
            ],
            [
             0.7777777777777778,
             "#fb9f3a"
            ],
            [
             0.8888888888888888,
             "#fdca26"
            ],
            [
             1,
             "#f0f921"
            ]
           ]
          },
          "colorway": [
           "#636efa",
           "#EF553B",
           "#00cc96",
           "#ab63fa",
           "#FFA15A",
           "#19d3f3",
           "#FF6692",
           "#B6E880",
           "#FF97FF",
           "#FECB52"
          ],
          "font": {
           "color": "#2a3f5f"
          },
          "geo": {
           "bgcolor": "white",
           "lakecolor": "white",
           "landcolor": "#E5ECF6",
           "showlakes": true,
           "showland": true,
           "subunitcolor": "white"
          },
          "hoverlabel": {
           "align": "left"
          },
          "hovermode": "closest",
          "mapbox": {
           "style": "light"
          },
          "paper_bgcolor": "white",
          "plot_bgcolor": "#E5ECF6",
          "polar": {
           "angularaxis": {
            "gridcolor": "white",
            "linecolor": "white",
            "ticks": ""
           },
           "bgcolor": "#E5ECF6",
           "radialaxis": {
            "gridcolor": "white",
            "linecolor": "white",
            "ticks": ""
           }
          },
          "scene": {
           "xaxis": {
            "backgroundcolor": "#E5ECF6",
            "gridcolor": "white",
            "gridwidth": 2,
            "linecolor": "white",
            "showbackground": true,
            "ticks": "",
            "zerolinecolor": "white"
           },
           "yaxis": {
            "backgroundcolor": "#E5ECF6",
            "gridcolor": "white",
            "gridwidth": 2,
            "linecolor": "white",
            "showbackground": true,
            "ticks": "",
            "zerolinecolor": "white"
           },
           "zaxis": {
            "backgroundcolor": "#E5ECF6",
            "gridcolor": "white",
            "gridwidth": 2,
            "linecolor": "white",
            "showbackground": true,
            "ticks": "",
            "zerolinecolor": "white"
           }
          },
          "shapedefaults": {
           "line": {
            "color": "#2a3f5f"
           }
          },
          "ternary": {
           "aaxis": {
            "gridcolor": "white",
            "linecolor": "white",
            "ticks": ""
           },
           "baxis": {
            "gridcolor": "white",
            "linecolor": "white",
            "ticks": ""
           },
           "bgcolor": "#E5ECF6",
           "caxis": {
            "gridcolor": "white",
            "linecolor": "white",
            "ticks": ""
           }
          },
          "title": {
           "x": 0.05
          },
          "xaxis": {
           "automargin": true,
           "gridcolor": "white",
           "linecolor": "white",
           "ticks": "",
           "title": {
            "standoff": 15
           },
           "zerolinecolor": "white",
           "zerolinewidth": 2
          },
          "yaxis": {
           "automargin": true,
           "gridcolor": "white",
           "linecolor": "white",
           "ticks": "",
           "title": {
            "standoff": 15
           },
           "zerolinecolor": "white",
           "zerolinewidth": 2
          }
         }
        },
        "title": {
         "text": "Bristol - XGBoost rating predictions"
        },
        "xaxis": {
         "title": {
          "text": "Index"
         }
        },
        "yaxis": {
         "title": {
          "text": "Rating"
         }
        }
       }
      },
      "text/html": [
       "<div>                            <div id=\"6a1f5616-bacd-4b89-87c6-4812258d363f\" class=\"plotly-graph-div\" style=\"height:525px; width:100%;\"></div>            <script type=\"text/javascript\">                require([\"plotly\"], function(Plotly) {                    window.PLOTLYENV=window.PLOTLYENV || {};                                    if (document.getElementById(\"6a1f5616-bacd-4b89-87c6-4812258d363f\")) {                    Plotly.newPlot(                        \"6a1f5616-bacd-4b89-87c6-4812258d363f\",                        [{\"name\": \"Predicted\", \"type\": \"bar\", \"x\": [0, 1, 2, 3, 4, 5, 6, 7, 8, 9, 10, 11, 12, 13, 14, 15, 16, 17, 18, 19], \"y\": [96.36719997110401, 97.32651150425089, 98.00017603166299, 90.27907103248211, 92.6064309865567, 69.21596186697668, 99.15642669322585, 97.5900610278838, 93.99763673208146, 97.85245987470545, 97.0960487038122, 86.80469495313952, 96.25809297801386, 96.65421560704452, 96.79145978072955, 99.34889102512494, 93.50579549622832, 96.99793873891885, 97.93814051422935, 98.14086589703584, 97.72314728209388, 90.28696672989, 97.95193978469673, 99.12665950117074, 84.82715797160581, 97.27088257974097, 93.16738229101108, 96.5056542878193, 97.85063436563722, 97.2425724122785, 94.23265844935463, 97.44847285658189, 97.86835123654238, 96.59547901959841, 96.4275850285408, 99.77371190380713, 89.21553658028448, 95.36745871387305, 97.83385208714135, 98.06227120116155, 98.59274052135224, 97.65066126479849, 98.34649406402288, 98.02873351886207, 99.80865370197355, 95.5326628142838, 86.38398545013139, 83.2324626276762, 96.10986226059951, 94.54222145148876, 96.62395588970989, 95.63071870045765, 95.00987590499618, 96.96483690745467, 96.23256831468369, 94.62189878104171, 98.86945189865284, 95.19835004323221, 99.58972396415902, 96.11309559198293, 85.0409129064479, 96.97652908312523, 92.02325830009595, 99.75057738050373, 100.53163260809765, 96.09630147010553, 86.7317724390642, 98.26317867904244, 99.63531166993272, 95.5860888964425, 96.36806700982392, 94.36465667417927, 89.87077434535013, 92.4554160723172, 93.50053008843422, 95.95769281448719, 93.89300346514186, 94.83225115796807, 99.13166532666153, 96.98349072133756, 99.37372721123235, 73.67287178784244, 58.86363832835059, 96.65577025851852, 89.5343419386933, 97.13079970811329, 90.10153510639965, 99.40522758850649, 89.60180097953908, 97.16318809474909, 97.00781806354378, 98.90432937641314, 98.4009108066315, 85.2725186643459, 97.80837622965097, 95.12631610922843, 89.29269957144157, 93.29971885939061, 96.82695143375778, 96.71893807610743, 97.8180427530838, 96.66167875467328, 98.8382101196416, 93.7772179510868, 99.87696515777294, 89.4345748784535, 77.0019467887511, 95.30126165090708, 98.1079749698355, 95.59475138814821, 84.40062261906091, 98.54031250162112, 98.25146617239326, 97.63531259892825, 95.69693362315672, 97.98657548330664, 98.9869464963775, 63.438400333765216, 98.68406207814975, 84.5182300825315, 96.53854659570794, 93.07561838780734, 100.19453342353566, 86.15517785882278, 101.00877275552216, 97.10450212538564, 96.39140071872846, 100.19087035568755, 97.0592956252864, 93.7465617907054, 97.96326981381672, 91.01170208344641, 92.11280130899671, 91.53361386547557, 97.3247984835666, 98.4294506487253, 98.31461559208324, 97.42999222949419, 97.98874546401007, 59.2977905971569, 92.80273127479246, 95.77307868483955, 96.99840931464746, 98.22827727691696, 94.5600730822454, 98.24243526691912, 69.57373445067898, 85.49818762994671, 97.92258557963382, 98.62561629616603, 100.34223525164242, 90.57912778423169, 97.60256783791498, 89.47242559041469, 45.048779024642975, 86.23812511619938, 100.50467835877741, 97.92406684036666, 95.50249771600821, 91.44374727564231, 97.66562413944904, 99.88285180575888, 92.58731873044827, 100.73327432018083, 93.20812646575776, 96.44395940743028, 97.14841971667654, 80.0808049695496, 90.87899197327748, 86.93913643621653, 93.32675542505243, 96.49137551863919, 98.91325342188456, 88.451098192254, 99.22112287573248, 98.19392767412998, 99.10351665687222, 97.79510888258407, 93.79660474393528, 88.74554755576064, 81.04581675249072, 98.98362851730703, 91.57220057898934, 85.77030812725025, 97.05190283806347, 95.19605072230412, 92.90949730234631, 90.75363469377629, 98.4588463437931, 97.39910803676445, 98.69304419849338, 94.95839178803077, 97.0538292912919, 89.31538789439774, 100.60537610614377, 92.6465726740614, 98.5401556162061, 93.36873444041194, 86.76200551580956, 97.40267468339799, 92.5779902236801, 98.72575714984205, 96.83222817026572, 95.31426606841383, 79.48121406203562, 97.07551071310151, 96.4925524980474, 95.65078244670848, 95.69996140325533, 98.94069328731594, 99.23390889628135, 91.86326292965256, 97.24578247932263, 91.56219568802265, 88.38611870148434, 96.59706610446482, 98.96762828759513, 90.49842591967295, 90.66691143332676, 97.04603201448617, 98.0375644921365, 89.78228793656658, 95.33691868105065, 96.85816385507844, 95.57233924634028, 96.73072220773638, 100.2402253729138, 92.95114316282661, 96.87914069631961, 96.88315380523868, 94.540372534569, 97.56669464086161, 100.90267499804267, 95.7721846618475, 90.16195068597983, 89.65057818764892, 99.84079673419203, 97.9586911036523, 89.1114449479443, 98.63676005089175, 97.39583587290723, 98.81619359042986, 100.3781172236701, 94.21850693619626, 93.82435452353407, 98.99890544716354, 98.57378417943566, 97.6170875675287]}, {\"name\": \"Actual\", \"type\": \"bar\", \"x\": [0, 1, 2, 3, 4, 5, 6, 7, 8, 9, 10, 11, 12, 13, 14, 15, 16, 17, 18, 19], \"y\": [99.0, 97.0, 99.0, 95.0, 96.0, 78.0, 99.0, 96.0, 90.0, 100.0, 99.0, 86.0, 97.0, 85.0, 97.0, 100.0, 96.0, 95.0, 99.0, 97.0, 99.0, 88.0, 98.0, 94.0, 82.0, 100.0, 94.0, 92.0, 98.0, 96.0, 93.0, 98.0, 100.0, 95.0, 94.0, 100.0, 86.0, 94.0, 95.0, 98.0, 100.0, 99.0, 98.0, 97.0, 99.0, 95.0, 84.0, 86.0, 96.0, 93.0, 90.0, 96.0, 100.0, 97.0, 95.0, 93.0, 100.0, 95.0, 100.0, 96.0, 80.0, 97.0, 95.0, 100.0, 100.0, 96.0, 86.0, 97.0, 100.0, 98.0, 95.0, 94.0, 93.0, 89.0, 92.0, 93.0, 92.0, 93.0, 99.0, 100.0, 100.0, 67.0, 50.0, 93.0, 93.0, 98.0, 93.0, 100.0, 90.0, 96.0, 97.0, 98.0, 100.0, 83.0, 97.0, 93.0, 90.0, 93.0, 100.0, 98.0, 98.0, 100.0, 100.0, 92.0, 100.0, 84.0, 80.0, 99.0, 100.0, 96.0, 87.0, 97.0, 100.0, 100.0, 96.0, 99.0, 100.0, 70.0, 100.0, 87.0, 100.0, 95.0, 100.0, 89.0, 100.0, 97.0, 96.0, 100.0, 99.0, 90.0, 98.0, 90.0, 96.0, 91.0, 100.0, 99.0, 100.0, 100.0, 98.0, 80.0, 93.0, 93.0, 97.0, 100.0, 96.0, 100.0, 50.0, 90.0, 100.0, 100.0, 100.0, 88.0, 99.0, 89.0, 57.0, 89.0, 100.0, 98.0, 100.0, 88.0, 98.0, 96.0, 92.0, 100.0, 93.0, 96.0, 93.0, 84.0, 89.0, 80.0, 94.0, 93.0, 99.0, 89.0, 96.0, 98.0, 98.0, 100.0, 97.0, 88.0, 70.0, 98.0, 96.0, 80.0, 97.0, 93.0, 96.0, 92.0, 98.0, 96.0, 100.0, 92.0, 100.0, 90.0, 100.0, 92.0, 93.0, 92.0, 80.0, 100.0, 92.0, 100.0, 98.0, 91.0, 82.0, 98.0, 100.0, 96.0, 94.0, 93.0, 100.0, 95.0, 97.0, 89.0, 90.0, 97.0, 100.0, 94.0, 91.0, 96.0, 96.0, 89.0, 99.0, 98.0, 94.0, 96.0, 100.0, 90.0, 96.0, 94.0, 96.0, 98.0, 100.0, 93.0, 91.0, 91.0, 95.0, 97.0, 89.0, 98.0, 95.0, 100.0, 100.0, 96.0, 95.0, 99.0, 98.0, 95.0]}],                        {\"barmode\": \"group\", \"template\": {\"data\": {\"bar\": [{\"error_x\": {\"color\": \"#2a3f5f\"}, \"error_y\": {\"color\": \"#2a3f5f\"}, \"marker\": {\"line\": {\"color\": \"#E5ECF6\", \"width\": 0.5}}, \"type\": \"bar\"}], \"barpolar\": [{\"marker\": {\"line\": {\"color\": \"#E5ECF6\", \"width\": 0.5}}, \"type\": \"barpolar\"}], \"carpet\": [{\"aaxis\": {\"endlinecolor\": \"#2a3f5f\", \"gridcolor\": \"white\", \"linecolor\": \"white\", \"minorgridcolor\": \"white\", \"startlinecolor\": \"#2a3f5f\"}, \"baxis\": {\"endlinecolor\": \"#2a3f5f\", \"gridcolor\": \"white\", \"linecolor\": \"white\", \"minorgridcolor\": \"white\", \"startlinecolor\": \"#2a3f5f\"}, \"type\": \"carpet\"}], \"choropleth\": [{\"colorbar\": {\"outlinewidth\": 0, \"ticks\": \"\"}, \"type\": \"choropleth\"}], \"contour\": [{\"colorbar\": {\"outlinewidth\": 0, \"ticks\": \"\"}, \"colorscale\": [[0.0, \"#0d0887\"], [0.1111111111111111, \"#46039f\"], [0.2222222222222222, \"#7201a8\"], [0.3333333333333333, \"#9c179e\"], [0.4444444444444444, \"#bd3786\"], [0.5555555555555556, \"#d8576b\"], [0.6666666666666666, \"#ed7953\"], [0.7777777777777778, \"#fb9f3a\"], [0.8888888888888888, \"#fdca26\"], [1.0, \"#f0f921\"]], \"type\": \"contour\"}], \"contourcarpet\": [{\"colorbar\": {\"outlinewidth\": 0, \"ticks\": \"\"}, \"type\": \"contourcarpet\"}], \"heatmap\": [{\"colorbar\": {\"outlinewidth\": 0, \"ticks\": \"\"}, \"colorscale\": [[0.0, \"#0d0887\"], [0.1111111111111111, \"#46039f\"], [0.2222222222222222, \"#7201a8\"], [0.3333333333333333, \"#9c179e\"], [0.4444444444444444, \"#bd3786\"], [0.5555555555555556, \"#d8576b\"], [0.6666666666666666, \"#ed7953\"], [0.7777777777777778, \"#fb9f3a\"], [0.8888888888888888, \"#fdca26\"], [1.0, \"#f0f921\"]], \"type\": \"heatmap\"}], \"heatmapgl\": [{\"colorbar\": {\"outlinewidth\": 0, \"ticks\": \"\"}, \"colorscale\": [[0.0, \"#0d0887\"], [0.1111111111111111, \"#46039f\"], [0.2222222222222222, \"#7201a8\"], [0.3333333333333333, \"#9c179e\"], [0.4444444444444444, \"#bd3786\"], [0.5555555555555556, \"#d8576b\"], [0.6666666666666666, \"#ed7953\"], [0.7777777777777778, \"#fb9f3a\"], [0.8888888888888888, \"#fdca26\"], [1.0, \"#f0f921\"]], \"type\": \"heatmapgl\"}], \"histogram\": [{\"marker\": {\"colorbar\": {\"outlinewidth\": 0, \"ticks\": \"\"}}, \"type\": \"histogram\"}], \"histogram2d\": [{\"colorbar\": {\"outlinewidth\": 0, \"ticks\": \"\"}, \"colorscale\": [[0.0, \"#0d0887\"], [0.1111111111111111, \"#46039f\"], [0.2222222222222222, \"#7201a8\"], [0.3333333333333333, \"#9c179e\"], [0.4444444444444444, \"#bd3786\"], [0.5555555555555556, \"#d8576b\"], [0.6666666666666666, \"#ed7953\"], [0.7777777777777778, \"#fb9f3a\"], [0.8888888888888888, \"#fdca26\"], [1.0, \"#f0f921\"]], \"type\": \"histogram2d\"}], \"histogram2dcontour\": [{\"colorbar\": {\"outlinewidth\": 0, \"ticks\": \"\"}, \"colorscale\": [[0.0, \"#0d0887\"], [0.1111111111111111, \"#46039f\"], [0.2222222222222222, \"#7201a8\"], [0.3333333333333333, \"#9c179e\"], [0.4444444444444444, \"#bd3786\"], [0.5555555555555556, \"#d8576b\"], [0.6666666666666666, \"#ed7953\"], [0.7777777777777778, \"#fb9f3a\"], [0.8888888888888888, \"#fdca26\"], [1.0, \"#f0f921\"]], \"type\": \"histogram2dcontour\"}], \"mesh3d\": [{\"colorbar\": {\"outlinewidth\": 0, \"ticks\": \"\"}, \"type\": \"mesh3d\"}], \"parcoords\": [{\"line\": {\"colorbar\": {\"outlinewidth\": 0, \"ticks\": \"\"}}, \"type\": \"parcoords\"}], \"pie\": [{\"automargin\": true, \"type\": \"pie\"}], \"scatter\": [{\"marker\": {\"colorbar\": {\"outlinewidth\": 0, \"ticks\": \"\"}}, \"type\": \"scatter\"}], \"scatter3d\": [{\"line\": {\"colorbar\": {\"outlinewidth\": 0, \"ticks\": \"\"}}, \"marker\": {\"colorbar\": {\"outlinewidth\": 0, \"ticks\": \"\"}}, \"type\": \"scatter3d\"}], \"scattercarpet\": [{\"marker\": {\"colorbar\": {\"outlinewidth\": 0, \"ticks\": \"\"}}, \"type\": \"scattercarpet\"}], \"scattergeo\": [{\"marker\": {\"colorbar\": {\"outlinewidth\": 0, \"ticks\": \"\"}}, \"type\": \"scattergeo\"}], \"scattergl\": [{\"marker\": {\"colorbar\": {\"outlinewidth\": 0, \"ticks\": \"\"}}, \"type\": \"scattergl\"}], \"scattermapbox\": [{\"marker\": {\"colorbar\": {\"outlinewidth\": 0, \"ticks\": \"\"}}, \"type\": \"scattermapbox\"}], \"scatterpolar\": [{\"marker\": {\"colorbar\": {\"outlinewidth\": 0, \"ticks\": \"\"}}, \"type\": \"scatterpolar\"}], \"scatterpolargl\": [{\"marker\": {\"colorbar\": {\"outlinewidth\": 0, \"ticks\": \"\"}}, \"type\": \"scatterpolargl\"}], \"scatterternary\": [{\"marker\": {\"colorbar\": {\"outlinewidth\": 0, \"ticks\": \"\"}}, \"type\": \"scatterternary\"}], \"surface\": [{\"colorbar\": {\"outlinewidth\": 0, \"ticks\": \"\"}, \"colorscale\": [[0.0, \"#0d0887\"], [0.1111111111111111, \"#46039f\"], [0.2222222222222222, \"#7201a8\"], [0.3333333333333333, \"#9c179e\"], [0.4444444444444444, \"#bd3786\"], [0.5555555555555556, \"#d8576b\"], [0.6666666666666666, \"#ed7953\"], [0.7777777777777778, \"#fb9f3a\"], [0.8888888888888888, \"#fdca26\"], [1.0, \"#f0f921\"]], \"type\": \"surface\"}], \"table\": [{\"cells\": {\"fill\": {\"color\": \"#EBF0F8\"}, \"line\": {\"color\": \"white\"}}, \"header\": {\"fill\": {\"color\": \"#C8D4E3\"}, \"line\": {\"color\": \"white\"}}, \"type\": \"table\"}]}, \"layout\": {\"annotationdefaults\": {\"arrowcolor\": \"#2a3f5f\", \"arrowhead\": 0, \"arrowwidth\": 1}, \"coloraxis\": {\"colorbar\": {\"outlinewidth\": 0, \"ticks\": \"\"}}, \"colorscale\": {\"diverging\": [[0, \"#8e0152\"], [0.1, \"#c51b7d\"], [0.2, \"#de77ae\"], [0.3, \"#f1b6da\"], [0.4, \"#fde0ef\"], [0.5, \"#f7f7f7\"], [0.6, \"#e6f5d0\"], [0.7, \"#b8e186\"], [0.8, \"#7fbc41\"], [0.9, \"#4d9221\"], [1, \"#276419\"]], \"sequential\": [[0.0, \"#0d0887\"], [0.1111111111111111, \"#46039f\"], [0.2222222222222222, \"#7201a8\"], [0.3333333333333333, \"#9c179e\"], [0.4444444444444444, \"#bd3786\"], [0.5555555555555556, \"#d8576b\"], [0.6666666666666666, \"#ed7953\"], [0.7777777777777778, \"#fb9f3a\"], [0.8888888888888888, \"#fdca26\"], [1.0, \"#f0f921\"]], \"sequentialminus\": [[0.0, \"#0d0887\"], [0.1111111111111111, \"#46039f\"], [0.2222222222222222, \"#7201a8\"], [0.3333333333333333, \"#9c179e\"], [0.4444444444444444, \"#bd3786\"], [0.5555555555555556, \"#d8576b\"], [0.6666666666666666, \"#ed7953\"], [0.7777777777777778, \"#fb9f3a\"], [0.8888888888888888, \"#fdca26\"], [1.0, \"#f0f921\"]]}, \"colorway\": [\"#636efa\", \"#EF553B\", \"#00cc96\", \"#ab63fa\", \"#FFA15A\", \"#19d3f3\", \"#FF6692\", \"#B6E880\", \"#FF97FF\", \"#FECB52\"], \"font\": {\"color\": \"#2a3f5f\"}, \"geo\": {\"bgcolor\": \"white\", \"lakecolor\": \"white\", \"landcolor\": \"#E5ECF6\", \"showlakes\": true, \"showland\": true, \"subunitcolor\": \"white\"}, \"hoverlabel\": {\"align\": \"left\"}, \"hovermode\": \"closest\", \"mapbox\": {\"style\": \"light\"}, \"paper_bgcolor\": \"white\", \"plot_bgcolor\": \"#E5ECF6\", \"polar\": {\"angularaxis\": {\"gridcolor\": \"white\", \"linecolor\": \"white\", \"ticks\": \"\"}, \"bgcolor\": \"#E5ECF6\", \"radialaxis\": {\"gridcolor\": \"white\", \"linecolor\": \"white\", \"ticks\": \"\"}}, \"scene\": {\"xaxis\": {\"backgroundcolor\": \"#E5ECF6\", \"gridcolor\": \"white\", \"gridwidth\": 2, \"linecolor\": \"white\", \"showbackground\": true, \"ticks\": \"\", \"zerolinecolor\": \"white\"}, \"yaxis\": {\"backgroundcolor\": \"#E5ECF6\", \"gridcolor\": \"white\", \"gridwidth\": 2, \"linecolor\": \"white\", \"showbackground\": true, \"ticks\": \"\", \"zerolinecolor\": \"white\"}, \"zaxis\": {\"backgroundcolor\": \"#E5ECF6\", \"gridcolor\": \"white\", \"gridwidth\": 2, \"linecolor\": \"white\", \"showbackground\": true, \"ticks\": \"\", \"zerolinecolor\": \"white\"}}, \"shapedefaults\": {\"line\": {\"color\": \"#2a3f5f\"}}, \"ternary\": {\"aaxis\": {\"gridcolor\": \"white\", \"linecolor\": \"white\", \"ticks\": \"\"}, \"baxis\": {\"gridcolor\": \"white\", \"linecolor\": \"white\", \"ticks\": \"\"}, \"bgcolor\": \"#E5ECF6\", \"caxis\": {\"gridcolor\": \"white\", \"linecolor\": \"white\", \"ticks\": \"\"}}, \"title\": {\"x\": 0.05}, \"xaxis\": {\"automargin\": true, \"gridcolor\": \"white\", \"linecolor\": \"white\", \"ticks\": \"\", \"title\": {\"standoff\": 15}, \"zerolinecolor\": \"white\", \"zerolinewidth\": 2}, \"yaxis\": {\"automargin\": true, \"gridcolor\": \"white\", \"linecolor\": \"white\", \"ticks\": \"\", \"title\": {\"standoff\": 15}, \"zerolinecolor\": \"white\", \"zerolinewidth\": 2}}}, \"title\": {\"text\": \"Bristol - XGBoost rating predictions\"}, \"xaxis\": {\"title\": {\"text\": \"Index\"}}, \"yaxis\": {\"title\": {\"text\": \"Rating\"}}},                        {\"responsive\": true}                    ).then(function(){\n",
       "                            \n",
       "var gd = document.getElementById('6a1f5616-bacd-4b89-87c6-4812258d363f');\n",
       "var x = new MutationObserver(function (mutations, observer) {{\n",
       "        var display = window.getComputedStyle(gd).display;\n",
       "        if (!display || display === 'none') {{\n",
       "            console.log([gd, 'removed!']);\n",
       "            Plotly.purge(gd);\n",
       "            observer.disconnect();\n",
       "        }}\n",
       "}});\n",
       "\n",
       "// Listen for the removal of the full notebook cells\n",
       "var notebookContainer = gd.closest('#notebook-container');\n",
       "if (notebookContainer) {{\n",
       "    x.observe(notebookContainer, {childList: true});\n",
       "}}\n",
       "\n",
       "// Listen for the clearing of the current output cell\n",
       "var outputEl = gd.closest('.output');\n",
       "if (outputEl) {{\n",
       "    x.observe(outputEl, {childList: true});\n",
       "}}\n",
       "\n",
       "                        })                };                });            </script>        </div>"
      ]
     },
     "metadata": {},
     "output_type": "display_data"
    }
   ],
   "source": [
    "error_diff = pd.DataFrame({'Actual Values': np.array(y_test_r).flatten(), 'Predicted Values': predictions_r.flatten()})\n",
    "error_diff1 = error_diff.head(20)\n",
    "error_diff1\n",
    "title=['Pred vs Actual']\n",
    "fig = go.Figure(data=[\n",
    "    go.Bar(name='Predicted', x=error_diff1.index, y=error_diff['Predicted Values']),\n",
    "    go.Bar(name='Actual', x=error_diff1.index, y=error_diff['Actual Values'])\n",
    "])\n",
    "\n",
    "fig.update_layout(barmode='group', title=\"Bristol - XGBoost rating predictions\", yaxis = dict(title =\"Rating\"), xaxis =dict(title=\"Index\"))\n",
    "fig.show()"
   ]
  },
  {
   "cell_type": "code",
   "execution_count": 72,
   "metadata": {},
   "outputs": [
    {
     "data": {
      "image/png": "[encoded data removed]",
      "text/plain": [
       "<Figure size 1152x576 with 1 Axes>"
      ]
     },
     "metadata": {
      "needs_background": "light"
     },
     "output_type": "display_data"
    }
   ],
   "source": [
    "plt.figure(figsize=(16,8))\n",
    "sns.regplot(ypred_r,y_test_r)\n",
    "plt.xlabel('Predictions')\n",
    "plt.ylabel('Actual')\n",
    "plt.title(\"Bristol - XGBoost Rating Predictions\")\n",
    "plt.show()"
   ]
  }
 ],
 "metadata": {
  "kernelspec": {
   "display_name": "Python 3",
   "language": "python",
   "name": "python3"
  },
  "language_info": {
   "codemirror_mode": {
    "name": "ipython",
    "version": 3
   },
   "file_extension": ".py",
   "mimetype": "text/x-python",
   "name": "python",
   "nbconvert_exporter": "python",
   "pygments_lexer": "ipython3",
   "version": "3.7.4"
  }
 },
 "nbformat": 4,
 "nbformat_minor": 2
}
